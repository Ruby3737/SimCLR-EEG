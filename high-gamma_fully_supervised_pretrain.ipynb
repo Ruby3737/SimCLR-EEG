{
  "nbformat": 4,
  "nbformat_minor": 0,
  "metadata": {
    "colab": {
      "name": "fully-supervised-pretrain.ipynb",
      "provenance": [],
      "collapsed_sections": []
    },
    "kernelspec": {
      "display_name": "Python 3",
      "name": "python3"
    },
    "language_info": {
      "name": "python"
    }
  },
  "cells": [
    {
      "cell_type": "code",
      "metadata": {
        "colab": {
          "base_uri": "https://localhost:8080/"
        },
        "id": "a6Dtyiz127H2",
        "outputId": "5e1d3652-b1b8-4725-e6c2-0e0adcee7271"
      },
      "source": [
        "from google.colab import drive\n",
        "drive.mount('/content/drive')"
      ],
      "execution_count": 1,
      "outputs": [
        {
          "output_type": "stream",
          "name": "stdout",
          "text": [
            "Mounted at /content/drive\n"
          ]
        }
      ]
    },
    {
      "cell_type": "code",
      "metadata": {
        "id": "_uX4-RkZSV3O"
      },
      "source": [
        "# !pip uninstall braindecode"
      ],
      "execution_count": null,
      "outputs": []
    },
    {
      "cell_type": "markdown",
      "metadata": {
        "id": "rhGnKSy7rWVL"
      },
      "source": [
        ""
      ]
    },
    {
      "cell_type": "code",
      "metadata": {
        "colab": {
          "base_uri": "https://localhost:8080/"
        },
        "id": "0jF7sv4j3mIi",
        "outputId": "dfd7954c-ca59-417d-c160-8b559b141c01"
      },
      "source": [
        "!pip install braindecode==0.4.85\n",
        "!pip install eeglib"
      ],
      "execution_count": 2,
      "outputs": [
        {
          "output_type": "stream",
          "name": "stdout",
          "text": [
            "Collecting braindecode==0.4.85\n",
            "  Downloading Braindecode-0.4.85.tar.gz (324 kB)\n",
            "\u001b[K     |████████████████████████████████| 324 kB 4.3 MB/s \n",
            "\u001b[?25hCollecting mne\n",
            "  Downloading mne-0.24.0-py3-none-any.whl (7.4 MB)\n",
            "\u001b[K     |████████████████████████████████| 7.4 MB 20.7 MB/s \n",
            "\u001b[?25hRequirement already satisfied: numpy in /usr/local/lib/python3.7/dist-packages (from braindecode==0.4.85) (1.19.5)\n",
            "Requirement already satisfied: pandas in /usr/local/lib/python3.7/dist-packages (from braindecode==0.4.85) (1.1.5)\n",
            "Requirement already satisfied: scipy in /usr/local/lib/python3.7/dist-packages (from braindecode==0.4.85) (1.4.1)\n",
            "Requirement already satisfied: resampy in /usr/local/lib/python3.7/dist-packages (from braindecode==0.4.85) (0.2.2)\n",
            "Requirement already satisfied: matplotlib in /usr/local/lib/python3.7/dist-packages (from braindecode==0.4.85) (3.2.2)\n",
            "Requirement already satisfied: h5py in /usr/local/lib/python3.7/dist-packages (from braindecode==0.4.85) (3.1.0)\n",
            "Requirement already satisfied: cached-property in /usr/local/lib/python3.7/dist-packages (from h5py->braindecode==0.4.85) (1.5.2)\n",
            "Requirement already satisfied: python-dateutil>=2.1 in /usr/local/lib/python3.7/dist-packages (from matplotlib->braindecode==0.4.85) (2.8.2)\n",
            "Requirement already satisfied: pyparsing!=2.0.4,!=2.1.2,!=2.1.6,>=2.0.1 in /usr/local/lib/python3.7/dist-packages (from matplotlib->braindecode==0.4.85) (3.0.6)\n",
            "Requirement already satisfied: cycler>=0.10 in /usr/local/lib/python3.7/dist-packages (from matplotlib->braindecode==0.4.85) (0.11.0)\n",
            "Requirement already satisfied: kiwisolver>=1.0.1 in /usr/local/lib/python3.7/dist-packages (from matplotlib->braindecode==0.4.85) (1.3.2)\n",
            "Requirement already satisfied: six>=1.5 in /usr/local/lib/python3.7/dist-packages (from python-dateutil>=2.1->matplotlib->braindecode==0.4.85) (1.15.0)\n",
            "Requirement already satisfied: pytz>=2017.2 in /usr/local/lib/python3.7/dist-packages (from pandas->braindecode==0.4.85) (2018.9)\n",
            "Requirement already satisfied: numba>=0.32 in /usr/local/lib/python3.7/dist-packages (from resampy->braindecode==0.4.85) (0.51.2)\n",
            "Requirement already satisfied: setuptools in /usr/local/lib/python3.7/dist-packages (from numba>=0.32->resampy->braindecode==0.4.85) (57.4.0)\n",
            "Requirement already satisfied: llvmlite<0.35,>=0.34.0.dev0 in /usr/local/lib/python3.7/dist-packages (from numba>=0.32->resampy->braindecode==0.4.85) (0.34.0)\n",
            "Building wheels for collected packages: braindecode\n",
            "  Building wheel for braindecode (setup.py) ... \u001b[?25l\u001b[?25hdone\n",
            "  Created wheel for braindecode: filename=Braindecode-0.4.85-py3-none-any.whl size=71094 sha256=21718ccd24d36aef537f230925c1d0193cc5d06a9f9150231b15b5d2bee86427\n",
            "  Stored in directory: /root/.cache/pip/wheels/eb/67/4c/81ad85409f913dd7e3ebb4fb5896839680c5627c04d91e3b78\n",
            "Successfully built braindecode\n",
            "Installing collected packages: mne, braindecode\n",
            "Successfully installed braindecode-0.4.85 mne-0.24.0\n",
            "Collecting eeglib\n",
            "  Downloading eeglib-0.4.1-py3-none-any.whl (25 kB)\n",
            "Requirement already satisfied: scipy in /usr/local/lib/python3.7/dist-packages (from eeglib) (1.4.1)\n",
            "Collecting pyedflib\n",
            "  Downloading pyEDFlib-0.1.23-cp37-cp37m-manylinux_2_5_x86_64.manylinux1_x86_64.manylinux_2_12_x86_64.manylinux2010_x86_64.whl (1.7 MB)\n",
            "\u001b[K     |████████████████████████████████| 1.7 MB 5.3 MB/s \n",
            "\u001b[?25hRequirement already satisfied: fastdtw in /usr/local/lib/python3.7/dist-packages (from eeglib) (0.3.4)\n",
            "Requirement already satisfied: progressbar2 in /usr/local/lib/python3.7/dist-packages (from eeglib) (3.38.0)\n",
            "Requirement already satisfied: numba in /usr/local/lib/python3.7/dist-packages (from eeglib) (0.51.2)\n",
            "Requirement already satisfied: pandas in /usr/local/lib/python3.7/dist-packages (from eeglib) (1.1.5)\n",
            "Requirement already satisfied: numpy in /usr/local/lib/python3.7/dist-packages (from eeglib) (1.19.5)\n",
            "Requirement already satisfied: sklearn in /usr/local/lib/python3.7/dist-packages (from eeglib) (0.0)\n",
            "Requirement already satisfied: setuptools in /usr/local/lib/python3.7/dist-packages (from numba->eeglib) (57.4.0)\n",
            "Requirement already satisfied: llvmlite<0.35,>=0.34.0.dev0 in /usr/local/lib/python3.7/dist-packages (from numba->eeglib) (0.34.0)\n",
            "Requirement already satisfied: python-dateutil>=2.7.3 in /usr/local/lib/python3.7/dist-packages (from pandas->eeglib) (2.8.2)\n",
            "Requirement already satisfied: pytz>=2017.2 in /usr/local/lib/python3.7/dist-packages (from pandas->eeglib) (2018.9)\n",
            "Requirement already satisfied: six>=1.5 in /usr/local/lib/python3.7/dist-packages (from python-dateutil>=2.7.3->pandas->eeglib) (1.15.0)\n",
            "Requirement already satisfied: python-utils>=2.3.0 in /usr/local/lib/python3.7/dist-packages (from progressbar2->eeglib) (2.5.6)\n",
            "Requirement already satisfied: scikit-learn in /usr/local/lib/python3.7/dist-packages (from sklearn->eeglib) (1.0.1)\n",
            "Requirement already satisfied: joblib>=0.11 in /usr/local/lib/python3.7/dist-packages (from scikit-learn->sklearn->eeglib) (1.1.0)\n",
            "Requirement already satisfied: threadpoolctl>=2.0.0 in /usr/local/lib/python3.7/dist-packages (from scikit-learn->sklearn->eeglib) (3.0.0)\n",
            "Installing collected packages: pyedflib, eeglib\n",
            "Successfully installed eeglib-0.4.1 pyedflib-0.1.23\n"
          ]
        }
      ]
    },
    {
      "cell_type": "code",
      "metadata": {
        "id": "Rd-SyvGRkJc5"
      },
      "source": [
        "# #读取test1.mat文件用mne\n",
        "# import mne\n",
        "# from braindecode.datasets.bbci import  BBCIDataset\n",
        "# cnt1 = BBCIDataset(filename='/content/drive/MyDrive/EEG-dataset/high-gamma-dataset/a1.mat', load_sensor_names=None).load()\n",
        "# # cnt1.plot()"
      ],
      "execution_count": null,
      "outputs": []
    },
    {
      "cell_type": "code",
      "metadata": {
        "id": "ft--Yk6p2Fug"
      },
      "source": [
        "# cnt = BBCIDataset(filename='/content/drive/MyDrive/EEG-dataset/high-gamma-dataset/a1.mat', load_sensor_names=['C3', 'C4', 'Cz']).load()\n",
        "# print(cnt)\n",
        "# cnt.plot()"
      ],
      "execution_count": null,
      "outputs": []
    },
    {
      "cell_type": "code",
      "metadata": {
        "colab": {
          "base_uri": "https://localhost:8080/"
        },
        "id": "NCNz7pdXSrfQ",
        "outputId": "dd8616c0-21d8-4262-a043-b7691c65d3a9"
      },
      "source": [
        "import logging\n",
        "import sys\n",
        "import os.path\n",
        "from collections import OrderedDict\n",
        "import numpy as np\n",
        "\n",
        "from braindecode.datasets.bbci import  BBCIDataset\n",
        "from braindecode.datautil.signalproc import highpass_cnt\n",
        "from braindecode.datautil.trial_segment import create_signal_target_from_raw_mne\n",
        "from braindecode.mne_ext.signalproc import mne_apply, resample_cnt\n",
        "from braindecode.datautil.signalproc import exponential_running_standardize\n",
        "\n",
        "def load_bbci_data(filename, low_cut_hz):\n",
        "    load_sensor_names = ['C3', 'C4', 'Cz']\n",
        "    loader = BBCIDataset(filename, load_sensor_names=load_sensor_names)\n",
        "\n",
        "    cnt = loader.load()\n",
        "\n",
        "    # Cleaning: First find all trials that have absolute microvolt values\n",
        "    # larger than +- 800 inside them and remember them for removal later\n",
        "\n",
        "    marker_def = OrderedDict([('Right Hand', [1]), ('Left Hand', [2],),\n",
        "                              ('Rest', [3]), ('Feet', [4])])\n",
        "    clean_ival = [0, 4000]\n",
        "\n",
        "    set_for_cleaning = create_signal_target_from_raw_mne(cnt, marker_def,\n",
        "                                                  clean_ival)\n",
        "\n",
        "    clean_trial_mask = np.max(np.abs(set_for_cleaning.X), axis=(1, 2)) < 800\n",
        "\n",
        "    # now pick only sensors with C in their name\n",
        "    # as they cover motor cortex\n",
        "    C_sensors = load_sensor_names\n",
        "    cnt = cnt.pick_channels(C_sensors)\n",
        "\n",
        "    # Further preprocessings as descibed in paper\n",
        "    cnt = resample_cnt(cnt, 250.0)\n",
        "    cnt = mne_apply(\n",
        "        lambda a: highpass_cnt(\n",
        "            a, low_cut_hz, cnt.info['sfreq'], filt_order=3, axis=1),\n",
        "        cnt)\n",
        "    cnt = mne_apply(\n",
        "        lambda a: exponential_running_standardize(a.T, factor_new=1e-3,\n",
        "                                                  init_block_size=1000,\n",
        "                                                  eps=1e-4).T,\n",
        "        cnt)\n",
        "\n",
        "    # Trial interval, start at -500 already, since improved decoding for networks\n",
        "    ival = [0, 2000]\n",
        "\n",
        "    dataset = create_signal_target_from_raw_mne(cnt, marker_def, ival)\n",
        "    dataset.X = dataset.X[clean_trial_mask]\n",
        "    dataset.y = dataset.y[clean_trial_mask]\n",
        "    return dataset\n",
        "\n",
        "list_a = [] #存放所有.mat文件的路径\n",
        "dir_str = '/content/drive/MyDrive/EEG-dataset/high-gamma-dataset'\n",
        "for i in range(1, 29):\n",
        "  list_a.append(os.path.join(dir_str, \"a\"+str(i)+\".mat\"))\n",
        "\n",
        "datasets = []\n",
        "for mat_path in list_a:\n",
        "  datasets.append(load_bbci_data(mat_path, 0))\n",
        "\n"
      ],
      "execution_count": 3,
      "outputs": [
        {
          "output_type": "stream",
          "name": "stdout",
          "text": [
            "Creating RawArray with float64 data, n_channels=3, n_times=1225545\n",
            "    Range : 0 ... 1225544 =      0.000 ...  2451.088 secs\n",
            "Ready.\n"
          ]
        },
        {
          "output_type": "stream",
          "name": "stderr",
          "text": [
            "/usr/local/lib/python3.7/dist-packages/braindecode/datasets/bbci.py:210: DeprecationWarning: events cannot be set directly. This warning will turn into an error after 0.24\n",
            "  cnt.info[\"events\"] = np.array(event_arr).T\n",
            "This is not causal, uses future data....\n"
          ]
        },
        {
          "output_type": "stream",
          "name": "stdout",
          "text": [
            "Creating RawArray with float64 data, n_channels=3, n_times=612772\n",
            "    Range : 0 ... 612771 =      0.000 ...  2451.084 secs\n",
            "Ready.\n"
          ]
        },
        {
          "output_type": "stream",
          "name": "stderr",
          "text": [
            "/usr/local/lib/python3.7/dist-packages/braindecode/mne_ext/signalproc.py:67: DeprecationWarning: sfreq cannot be set directly. Please use method inst.resample() instead. This warning will turn into an error after 0.24\n",
            "  new_info[\"sfreq\"] = new_fs\n"
          ]
        },
        {
          "output_type": "stream",
          "name": "stdout",
          "text": [
            "Creating RawArray with float64 data, n_channels=3, n_times=3131420\n",
            "    Range : 0 ... 3131419 =      0.000 ...  6262.838 secs\n",
            "Ready.\n"
          ]
        },
        {
          "output_type": "stream",
          "name": "stderr",
          "text": [
            "/usr/local/lib/python3.7/dist-packages/braindecode/datasets/bbci.py:210: DeprecationWarning: events cannot be set directly. This warning will turn into an error after 0.24\n",
            "  cnt.info[\"events\"] = np.array(event_arr).T\n",
            "This is not causal, uses future data....\n"
          ]
        },
        {
          "output_type": "stream",
          "name": "stdout",
          "text": [
            "Creating RawArray with float64 data, n_channels=3, n_times=1565710\n",
            "    Range : 0 ... 1565709 =      0.000 ...  6262.836 secs\n",
            "Ready.\n"
          ]
        },
        {
          "output_type": "stream",
          "name": "stderr",
          "text": [
            "/usr/local/lib/python3.7/dist-packages/braindecode/mne_ext/signalproc.py:67: DeprecationWarning: sfreq cannot be set directly. Please use method inst.resample() instead. This warning will turn into an error after 0.24\n",
            "  new_info[\"sfreq\"] = new_fs\n"
          ]
        },
        {
          "output_type": "stream",
          "name": "stdout",
          "text": [
            "Creating RawArray with float64 data, n_channels=3, n_times=3347155\n",
            "    Range : 0 ... 3347154 =      0.000 ...  6694.308 secs\n",
            "Ready.\n"
          ]
        },
        {
          "output_type": "stream",
          "name": "stderr",
          "text": [
            "/usr/local/lib/python3.7/dist-packages/braindecode/datasets/bbci.py:210: DeprecationWarning: events cannot be set directly. This warning will turn into an error after 0.24\n",
            "  cnt.info[\"events\"] = np.array(event_arr).T\n",
            "This is not causal, uses future data....\n"
          ]
        },
        {
          "output_type": "stream",
          "name": "stdout",
          "text": [
            "Creating RawArray with float64 data, n_channels=3, n_times=1673577\n",
            "    Range : 0 ... 1673576 =      0.000 ...  6694.304 secs\n",
            "Ready.\n"
          ]
        },
        {
          "output_type": "stream",
          "name": "stderr",
          "text": [
            "/usr/local/lib/python3.7/dist-packages/braindecode/mne_ext/signalproc.py:67: DeprecationWarning: sfreq cannot be set directly. Please use method inst.resample() instead. This warning will turn into an error after 0.24\n",
            "  new_info[\"sfreq\"] = new_fs\n"
          ]
        },
        {
          "output_type": "stream",
          "name": "stdout",
          "text": [
            "Creating RawArray with float64 data, n_channels=3, n_times=3451320\n",
            "    Range : 0 ... 3451319 =      0.000 ...  6902.638 secs\n",
            "Ready.\n"
          ]
        },
        {
          "output_type": "stream",
          "name": "stderr",
          "text": [
            "/usr/local/lib/python3.7/dist-packages/braindecode/datasets/bbci.py:210: DeprecationWarning: events cannot be set directly. This warning will turn into an error after 0.24\n",
            "  cnt.info[\"events\"] = np.array(event_arr).T\n",
            "This is not causal, uses future data....\n"
          ]
        },
        {
          "output_type": "stream",
          "name": "stdout",
          "text": [
            "Creating RawArray with float64 data, n_channels=3, n_times=1725660\n",
            "    Range : 0 ... 1725659 =      0.000 ...  6902.636 secs\n",
            "Ready.\n"
          ]
        },
        {
          "output_type": "stream",
          "name": "stderr",
          "text": [
            "/usr/local/lib/python3.7/dist-packages/braindecode/mne_ext/signalproc.py:67: DeprecationWarning: sfreq cannot be set directly. Please use method inst.resample() instead. This warning will turn into an error after 0.24\n",
            "  new_info[\"sfreq\"] = new_fs\n"
          ]
        },
        {
          "output_type": "stream",
          "name": "stdout",
          "text": [
            "Creating RawArray with float64 data, n_channels=3, n_times=2736300\n",
            "    Range : 0 ... 2736299 =      0.000 ...  5472.598 secs\n",
            "Ready.\n"
          ]
        },
        {
          "output_type": "stream",
          "name": "stderr",
          "text": [
            "/usr/local/lib/python3.7/dist-packages/braindecode/datasets/bbci.py:210: DeprecationWarning: events cannot be set directly. This warning will turn into an error after 0.24\n",
            "  cnt.info[\"events\"] = np.array(event_arr).T\n",
            "This is not causal, uses future data....\n"
          ]
        },
        {
          "output_type": "stream",
          "name": "stdout",
          "text": [
            "Creating RawArray with float64 data, n_channels=3, n_times=1368150\n",
            "    Range : 0 ... 1368149 =      0.000 ...  5472.596 secs\n",
            "Ready.\n"
          ]
        },
        {
          "output_type": "stream",
          "name": "stderr",
          "text": [
            "/usr/local/lib/python3.7/dist-packages/braindecode/mne_ext/signalproc.py:67: DeprecationWarning: sfreq cannot be set directly. Please use method inst.resample() instead. This warning will turn into an error after 0.24\n",
            "  new_info[\"sfreq\"] = new_fs\n"
          ]
        },
        {
          "output_type": "stream",
          "name": "stdout",
          "text": [
            "Creating RawArray with float64 data, n_channels=3, n_times=3387290\n",
            "    Range : 0 ... 3387289 =      0.000 ...  6774.578 secs\n",
            "Ready.\n"
          ]
        },
        {
          "output_type": "stream",
          "name": "stderr",
          "text": [
            "/usr/local/lib/python3.7/dist-packages/braindecode/datasets/bbci.py:210: DeprecationWarning: events cannot be set directly. This warning will turn into an error after 0.24\n",
            "  cnt.info[\"events\"] = np.array(event_arr).T\n",
            "This is not causal, uses future data....\n"
          ]
        },
        {
          "output_type": "stream",
          "name": "stdout",
          "text": [
            "Creating RawArray with float64 data, n_channels=3, n_times=1693645\n",
            "    Range : 0 ... 1693644 =      0.000 ...  6774.576 secs\n",
            "Ready.\n"
          ]
        },
        {
          "output_type": "stream",
          "name": "stderr",
          "text": [
            "/usr/local/lib/python3.7/dist-packages/braindecode/mne_ext/signalproc.py:67: DeprecationWarning: sfreq cannot be set directly. Please use method inst.resample() instead. This warning will turn into an error after 0.24\n",
            "  new_info[\"sfreq\"] = new_fs\n"
          ]
        },
        {
          "output_type": "stream",
          "name": "stdout",
          "text": [
            "Creating RawArray with float64 data, n_channels=3, n_times=3354460\n",
            "    Range : 0 ... 3354459 =      0.000 ...  6708.918 secs\n",
            "Ready.\n"
          ]
        },
        {
          "output_type": "stream",
          "name": "stderr",
          "text": [
            "/usr/local/lib/python3.7/dist-packages/braindecode/datasets/bbci.py:210: DeprecationWarning: events cannot be set directly. This warning will turn into an error after 0.24\n",
            "  cnt.info[\"events\"] = np.array(event_arr).T\n",
            "This is not causal, uses future data....\n"
          ]
        },
        {
          "output_type": "stream",
          "name": "stdout",
          "text": [
            "Creating RawArray with float64 data, n_channels=3, n_times=1677230\n",
            "    Range : 0 ... 1677229 =      0.000 ...  6708.916 secs\n",
            "Ready.\n"
          ]
        },
        {
          "output_type": "stream",
          "name": "stderr",
          "text": [
            "/usr/local/lib/python3.7/dist-packages/braindecode/mne_ext/signalproc.py:67: DeprecationWarning: sfreq cannot be set directly. Please use method inst.resample() instead. This warning will turn into an error after 0.24\n",
            "  new_info[\"sfreq\"] = new_fs\n"
          ]
        },
        {
          "output_type": "stream",
          "name": "stdout",
          "text": [
            "Creating RawArray with float64 data, n_channels=3, n_times=2511860\n",
            "    Range : 0 ... 2511859 =      0.000 ...  5023.718 secs\n",
            "Ready.\n"
          ]
        },
        {
          "output_type": "stream",
          "name": "stderr",
          "text": [
            "/usr/local/lib/python3.7/dist-packages/braindecode/datasets/bbci.py:210: DeprecationWarning: events cannot be set directly. This warning will turn into an error after 0.24\n",
            "  cnt.info[\"events\"] = np.array(event_arr).T\n",
            "This is not causal, uses future data....\n"
          ]
        },
        {
          "output_type": "stream",
          "name": "stdout",
          "text": [
            "Creating RawArray with float64 data, n_channels=3, n_times=1255930\n",
            "    Range : 0 ... 1255929 =      0.000 ...  5023.716 secs\n",
            "Ready.\n"
          ]
        },
        {
          "output_type": "stream",
          "name": "stderr",
          "text": [
            "/usr/local/lib/python3.7/dist-packages/braindecode/mne_ext/signalproc.py:67: DeprecationWarning: sfreq cannot be set directly. Please use method inst.resample() instead. This warning will turn into an error after 0.24\n",
            "  new_info[\"sfreq\"] = new_fs\n"
          ]
        },
        {
          "output_type": "stream",
          "name": "stdout",
          "text": [
            "Creating RawArray with float64 data, n_channels=3, n_times=3383655\n",
            "    Range : 0 ... 3383654 =      0.000 ...  6767.308 secs\n",
            "Ready.\n"
          ]
        },
        {
          "output_type": "stream",
          "name": "stderr",
          "text": [
            "/usr/local/lib/python3.7/dist-packages/braindecode/datasets/bbci.py:210: DeprecationWarning: events cannot be set directly. This warning will turn into an error after 0.24\n",
            "  cnt.info[\"events\"] = np.array(event_arr).T\n",
            "This is not causal, uses future data....\n"
          ]
        },
        {
          "output_type": "stream",
          "name": "stdout",
          "text": [
            "Creating RawArray with float64 data, n_channels=3, n_times=1691827\n",
            "    Range : 0 ... 1691826 =      0.000 ...  6767.304 secs\n",
            "Ready.\n"
          ]
        },
        {
          "output_type": "stream",
          "name": "stderr",
          "text": [
            "/usr/local/lib/python3.7/dist-packages/braindecode/mne_ext/signalproc.py:67: DeprecationWarning: sfreq cannot be set directly. Please use method inst.resample() instead. This warning will turn into an error after 0.24\n",
            "  new_info[\"sfreq\"] = new_fs\n"
          ]
        },
        {
          "output_type": "stream",
          "name": "stdout",
          "text": [
            "Creating RawArray with float64 data, n_channels=3, n_times=3386150\n",
            "    Range : 0 ... 3386149 =      0.000 ...  6772.298 secs\n",
            "Ready.\n"
          ]
        },
        {
          "output_type": "stream",
          "name": "stderr",
          "text": [
            "/usr/local/lib/python3.7/dist-packages/braindecode/datasets/bbci.py:210: DeprecationWarning: events cannot be set directly. This warning will turn into an error after 0.24\n",
            "  cnt.info[\"events\"] = np.array(event_arr).T\n",
            "This is not causal, uses future data....\n"
          ]
        },
        {
          "output_type": "stream",
          "name": "stdout",
          "text": [
            "Creating RawArray with float64 data, n_channels=3, n_times=1693075\n",
            "    Range : 0 ... 1693074 =      0.000 ...  6772.296 secs\n",
            "Ready.\n"
          ]
        },
        {
          "output_type": "stream",
          "name": "stderr",
          "text": [
            "/usr/local/lib/python3.7/dist-packages/braindecode/mne_ext/signalproc.py:67: DeprecationWarning: sfreq cannot be set directly. Please use method inst.resample() instead. This warning will turn into an error after 0.24\n",
            "  new_info[\"sfreq\"] = new_fs\n"
          ]
        },
        {
          "output_type": "stream",
          "name": "stdout",
          "text": [
            "Creating RawArray with float64 data, n_channels=3, n_times=3386765\n",
            "    Range : 0 ... 3386764 =      0.000 ...  6773.528 secs\n",
            "Ready.\n"
          ]
        },
        {
          "output_type": "stream",
          "name": "stderr",
          "text": [
            "/usr/local/lib/python3.7/dist-packages/braindecode/datasets/bbci.py:210: DeprecationWarning: events cannot be set directly. This warning will turn into an error after 0.24\n",
            "  cnt.info[\"events\"] = np.array(event_arr).T\n",
            "This is not causal, uses future data....\n"
          ]
        },
        {
          "output_type": "stream",
          "name": "stdout",
          "text": [
            "Creating RawArray with float64 data, n_channels=3, n_times=1693382\n",
            "    Range : 0 ... 1693381 =      0.000 ...  6773.524 secs\n",
            "Ready.\n"
          ]
        },
        {
          "output_type": "stream",
          "name": "stderr",
          "text": [
            "/usr/local/lib/python3.7/dist-packages/braindecode/mne_ext/signalproc.py:67: DeprecationWarning: sfreq cannot be set directly. Please use method inst.resample() instead. This warning will turn into an error after 0.24\n",
            "  new_info[\"sfreq\"] = new_fs\n"
          ]
        },
        {
          "output_type": "stream",
          "name": "stdout",
          "text": [
            "Creating RawArray with float64 data, n_channels=3, n_times=3385750\n",
            "    Range : 0 ... 3385749 =      0.000 ...  6771.498 secs\n",
            "Ready.\n"
          ]
        },
        {
          "output_type": "stream",
          "name": "stderr",
          "text": [
            "/usr/local/lib/python3.7/dist-packages/braindecode/datasets/bbci.py:210: DeprecationWarning: events cannot be set directly. This warning will turn into an error after 0.24\n",
            "  cnt.info[\"events\"] = np.array(event_arr).T\n",
            "This is not causal, uses future data....\n"
          ]
        },
        {
          "output_type": "stream",
          "name": "stdout",
          "text": [
            "Creating RawArray with float64 data, n_channels=3, n_times=1692875\n",
            "    Range : 0 ... 1692874 =      0.000 ...  6771.496 secs\n",
            "Ready.\n"
          ]
        },
        {
          "output_type": "stream",
          "name": "stderr",
          "text": [
            "/usr/local/lib/python3.7/dist-packages/braindecode/mne_ext/signalproc.py:67: DeprecationWarning: sfreq cannot be set directly. Please use method inst.resample() instead. This warning will turn into an error after 0.24\n",
            "  new_info[\"sfreq\"] = new_fs\n"
          ]
        },
        {
          "output_type": "stream",
          "name": "stdout",
          "text": [
            "Creating RawArray with float64 data, n_channels=3, n_times=3032845\n",
            "    Range : 0 ... 3032844 =      0.000 ...  6065.688 secs\n",
            "Ready.\n"
          ]
        },
        {
          "output_type": "stream",
          "name": "stderr",
          "text": [
            "/usr/local/lib/python3.7/dist-packages/braindecode/datasets/bbci.py:210: DeprecationWarning: events cannot be set directly. This warning will turn into an error after 0.24\n",
            "  cnt.info[\"events\"] = np.array(event_arr).T\n",
            "This is not causal, uses future data....\n"
          ]
        },
        {
          "output_type": "stream",
          "name": "stdout",
          "text": [
            "Creating RawArray with float64 data, n_channels=3, n_times=1516422\n",
            "    Range : 0 ... 1516421 =      0.000 ...  6065.684 secs\n",
            "Ready.\n"
          ]
        },
        {
          "output_type": "stream",
          "name": "stderr",
          "text": [
            "/usr/local/lib/python3.7/dist-packages/braindecode/mne_ext/signalproc.py:67: DeprecationWarning: sfreq cannot be set directly. Please use method inst.resample() instead. This warning will turn into an error after 0.24\n",
            "  new_info[\"sfreq\"] = new_fs\n"
          ]
        },
        {
          "output_type": "stream",
          "name": "stdout",
          "text": [
            "Creating RawArray with float64 data, n_channels=3, n_times=3345425\n",
            "    Range : 0 ... 3345424 =      0.000 ...  6690.848 secs\n",
            "Ready.\n"
          ]
        },
        {
          "output_type": "stream",
          "name": "stderr",
          "text": [
            "/usr/local/lib/python3.7/dist-packages/braindecode/datasets/bbci.py:210: DeprecationWarning: events cannot be set directly. This warning will turn into an error after 0.24\n",
            "  cnt.info[\"events\"] = np.array(event_arr).T\n",
            "This is not causal, uses future data....\n"
          ]
        },
        {
          "output_type": "stream",
          "name": "stdout",
          "text": [
            "Creating RawArray with float64 data, n_channels=3, n_times=1672712\n",
            "    Range : 0 ... 1672711 =      0.000 ...  6690.844 secs\n",
            "Ready.\n"
          ]
        },
        {
          "output_type": "stream",
          "name": "stderr",
          "text": [
            "/usr/local/lib/python3.7/dist-packages/braindecode/mne_ext/signalproc.py:67: DeprecationWarning: sfreq cannot be set directly. Please use method inst.resample() instead. This warning will turn into an error after 0.24\n",
            "  new_info[\"sfreq\"] = new_fs\n"
          ]
        },
        {
          "output_type": "stream",
          "name": "stdout",
          "text": [
            "Creating RawArray with float64 data, n_channels=3, n_times=616535\n",
            "    Range : 0 ... 616534 =      0.000 ...  1233.068 secs\n",
            "Ready.\n"
          ]
        },
        {
          "output_type": "stream",
          "name": "stderr",
          "text": [
            "/usr/local/lib/python3.7/dist-packages/braindecode/datasets/bbci.py:210: DeprecationWarning: events cannot be set directly. This warning will turn into an error after 0.24\n",
            "  cnt.info[\"events\"] = np.array(event_arr).T\n",
            "This is not causal, uses future data....\n"
          ]
        },
        {
          "output_type": "stream",
          "name": "stdout",
          "text": [
            "Creating RawArray with float64 data, n_channels=3, n_times=308267\n",
            "    Range : 0 ... 308266 =      0.000 ...  1233.064 secs\n",
            "Ready.\n"
          ]
        },
        {
          "output_type": "stream",
          "name": "stderr",
          "text": [
            "/usr/local/lib/python3.7/dist-packages/braindecode/mne_ext/signalproc.py:67: DeprecationWarning: sfreq cannot be set directly. Please use method inst.resample() instead. This warning will turn into an error after 0.24\n",
            "  new_info[\"sfreq\"] = new_fs\n"
          ]
        },
        {
          "output_type": "stream",
          "name": "stdout",
          "text": [
            "Creating RawArray with float64 data, n_channels=3, n_times=617735\n",
            "    Range : 0 ... 617734 =      0.000 ...  1235.468 secs\n",
            "Ready.\n"
          ]
        },
        {
          "output_type": "stream",
          "name": "stderr",
          "text": [
            "/usr/local/lib/python3.7/dist-packages/braindecode/datasets/bbci.py:210: DeprecationWarning: events cannot be set directly. This warning will turn into an error after 0.24\n",
            "  cnt.info[\"events\"] = np.array(event_arr).T\n",
            "This is not causal, uses future data....\n"
          ]
        },
        {
          "output_type": "stream",
          "name": "stdout",
          "text": [
            "Creating RawArray with float64 data, n_channels=3, n_times=308867\n",
            "    Range : 0 ... 308866 =      0.000 ...  1235.464 secs\n",
            "Ready.\n"
          ]
        },
        {
          "output_type": "stream",
          "name": "stderr",
          "text": [
            "/usr/local/lib/python3.7/dist-packages/braindecode/mne_ext/signalproc.py:67: DeprecationWarning: sfreq cannot be set directly. Please use method inst.resample() instead. This warning will turn into an error after 0.24\n",
            "  new_info[\"sfreq\"] = new_fs\n"
          ]
        },
        {
          "output_type": "stream",
          "name": "stdout",
          "text": [
            "Creating RawArray with float64 data, n_channels=3, n_times=609030\n",
            "    Range : 0 ... 609029 =      0.000 ...  1218.058 secs\n",
            "Ready.\n"
          ]
        },
        {
          "output_type": "stream",
          "name": "stderr",
          "text": [
            "/usr/local/lib/python3.7/dist-packages/braindecode/datasets/bbci.py:210: DeprecationWarning: events cannot be set directly. This warning will turn into an error after 0.24\n",
            "  cnt.info[\"events\"] = np.array(event_arr).T\n",
            "This is not causal, uses future data....\n"
          ]
        },
        {
          "output_type": "stream",
          "name": "stdout",
          "text": [
            "Creating RawArray with float64 data, n_channels=3, n_times=304515\n",
            "    Range : 0 ... 304514 =      0.000 ...  1218.056 secs\n",
            "Ready.\n"
          ]
        },
        {
          "output_type": "stream",
          "name": "stderr",
          "text": [
            "/usr/local/lib/python3.7/dist-packages/braindecode/mne_ext/signalproc.py:67: DeprecationWarning: sfreq cannot be set directly. Please use method inst.resample() instead. This warning will turn into an error after 0.24\n",
            "  new_info[\"sfreq\"] = new_fs\n"
          ]
        },
        {
          "output_type": "stream",
          "name": "stdout",
          "text": [
            "Creating RawArray with float64 data, n_channels=3, n_times=617090\n",
            "    Range : 0 ... 617089 =      0.000 ...  1234.178 secs\n",
            "Ready.\n"
          ]
        },
        {
          "output_type": "stream",
          "name": "stderr",
          "text": [
            "/usr/local/lib/python3.7/dist-packages/braindecode/datasets/bbci.py:210: DeprecationWarning: events cannot be set directly. This warning will turn into an error after 0.24\n",
            "  cnt.info[\"events\"] = np.array(event_arr).T\n",
            "This is not causal, uses future data....\n"
          ]
        },
        {
          "output_type": "stream",
          "name": "stdout",
          "text": [
            "Creating RawArray with float64 data, n_channels=3, n_times=308545\n",
            "    Range : 0 ... 308544 =      0.000 ...  1234.176 secs\n",
            "Ready.\n"
          ]
        },
        {
          "output_type": "stream",
          "name": "stderr",
          "text": [
            "/usr/local/lib/python3.7/dist-packages/braindecode/mne_ext/signalproc.py:67: DeprecationWarning: sfreq cannot be set directly. Please use method inst.resample() instead. This warning will turn into an error after 0.24\n",
            "  new_info[\"sfreq\"] = new_fs\n"
          ]
        },
        {
          "output_type": "stream",
          "name": "stdout",
          "text": [
            "Creating RawArray with float64 data, n_channels=3, n_times=607250\n",
            "    Range : 0 ... 607249 =      0.000 ...  1214.498 secs\n",
            "Ready.\n"
          ]
        },
        {
          "output_type": "stream",
          "name": "stderr",
          "text": [
            "/usr/local/lib/python3.7/dist-packages/braindecode/datasets/bbci.py:210: DeprecationWarning: events cannot be set directly. This warning will turn into an error after 0.24\n",
            "  cnt.info[\"events\"] = np.array(event_arr).T\n",
            "This is not causal, uses future data....\n"
          ]
        },
        {
          "output_type": "stream",
          "name": "stdout",
          "text": [
            "Creating RawArray with float64 data, n_channels=3, n_times=303625\n",
            "    Range : 0 ... 303624 =      0.000 ...  1214.496 secs\n",
            "Ready.\n"
          ]
        },
        {
          "output_type": "stream",
          "name": "stderr",
          "text": [
            "/usr/local/lib/python3.7/dist-packages/braindecode/mne_ext/signalproc.py:67: DeprecationWarning: sfreq cannot be set directly. Please use method inst.resample() instead. This warning will turn into an error after 0.24\n",
            "  new_info[\"sfreq\"] = new_fs\n"
          ]
        },
        {
          "output_type": "stream",
          "name": "stdout",
          "text": [
            "Creating RawArray with float64 data, n_channels=3, n_times=615705\n",
            "    Range : 0 ... 615704 =      0.000 ...  1231.408 secs\n",
            "Ready.\n"
          ]
        },
        {
          "output_type": "stream",
          "name": "stderr",
          "text": [
            "/usr/local/lib/python3.7/dist-packages/braindecode/datasets/bbci.py:210: DeprecationWarning: events cannot be set directly. This warning will turn into an error after 0.24\n",
            "  cnt.info[\"events\"] = np.array(event_arr).T\n",
            "This is not causal, uses future data....\n"
          ]
        },
        {
          "output_type": "stream",
          "name": "stdout",
          "text": [
            "Creating RawArray with float64 data, n_channels=3, n_times=307852\n",
            "    Range : 0 ... 307851 =      0.000 ...  1231.404 secs\n",
            "Ready.\n"
          ]
        },
        {
          "output_type": "stream",
          "name": "stderr",
          "text": [
            "/usr/local/lib/python3.7/dist-packages/braindecode/mne_ext/signalproc.py:67: DeprecationWarning: sfreq cannot be set directly. Please use method inst.resample() instead. This warning will turn into an error after 0.24\n",
            "  new_info[\"sfreq\"] = new_fs\n"
          ]
        },
        {
          "output_type": "stream",
          "name": "stdout",
          "text": [
            "Creating RawArray with float64 data, n_channels=3, n_times=608850\n",
            "    Range : 0 ... 608849 =      0.000 ...  1217.698 secs\n",
            "Ready.\n"
          ]
        },
        {
          "output_type": "stream",
          "name": "stderr",
          "text": [
            "/usr/local/lib/python3.7/dist-packages/braindecode/datasets/bbci.py:210: DeprecationWarning: events cannot be set directly. This warning will turn into an error after 0.24\n",
            "  cnt.info[\"events\"] = np.array(event_arr).T\n",
            "This is not causal, uses future data....\n"
          ]
        },
        {
          "output_type": "stream",
          "name": "stdout",
          "text": [
            "Creating RawArray with float64 data, n_channels=3, n_times=304425\n",
            "    Range : 0 ... 304424 =      0.000 ...  1217.696 secs\n",
            "Ready.\n"
          ]
        },
        {
          "output_type": "stream",
          "name": "stderr",
          "text": [
            "/usr/local/lib/python3.7/dist-packages/braindecode/mne_ext/signalproc.py:67: DeprecationWarning: sfreq cannot be set directly. Please use method inst.resample() instead. This warning will turn into an error after 0.24\n",
            "  new_info[\"sfreq\"] = new_fs\n"
          ]
        },
        {
          "output_type": "stream",
          "name": "stdout",
          "text": [
            "Creating RawArray with float64 data, n_channels=3, n_times=616070\n",
            "    Range : 0 ... 616069 =      0.000 ...  1232.138 secs\n",
            "Ready.\n"
          ]
        },
        {
          "output_type": "stream",
          "name": "stderr",
          "text": [
            "/usr/local/lib/python3.7/dist-packages/braindecode/datasets/bbci.py:210: DeprecationWarning: events cannot be set directly. This warning will turn into an error after 0.24\n",
            "  cnt.info[\"events\"] = np.array(event_arr).T\n",
            "This is not causal, uses future data....\n"
          ]
        },
        {
          "output_type": "stream",
          "name": "stdout",
          "text": [
            "Creating RawArray with float64 data, n_channels=3, n_times=308035\n",
            "    Range : 0 ... 308034 =      0.000 ...  1232.136 secs\n",
            "Ready.\n"
          ]
        },
        {
          "output_type": "stream",
          "name": "stderr",
          "text": [
            "/usr/local/lib/python3.7/dist-packages/braindecode/mne_ext/signalproc.py:67: DeprecationWarning: sfreq cannot be set directly. Please use method inst.resample() instead. This warning will turn into an error after 0.24\n",
            "  new_info[\"sfreq\"] = new_fs\n"
          ]
        },
        {
          "output_type": "stream",
          "name": "stdout",
          "text": [
            "Creating RawArray with float64 data, n_channels=3, n_times=614600\n",
            "    Range : 0 ... 614599 =      0.000 ...  1229.198 secs\n",
            "Ready.\n"
          ]
        },
        {
          "output_type": "stream",
          "name": "stderr",
          "text": [
            "/usr/local/lib/python3.7/dist-packages/braindecode/datasets/bbci.py:210: DeprecationWarning: events cannot be set directly. This warning will turn into an error after 0.24\n",
            "  cnt.info[\"events\"] = np.array(event_arr).T\n",
            "This is not causal, uses future data....\n"
          ]
        },
        {
          "output_type": "stream",
          "name": "stdout",
          "text": [
            "Creating RawArray with float64 data, n_channels=3, n_times=307300\n",
            "    Range : 0 ... 307299 =      0.000 ...  1229.196 secs\n",
            "Ready.\n"
          ]
        },
        {
          "output_type": "stream",
          "name": "stderr",
          "text": [
            "/usr/local/lib/python3.7/dist-packages/braindecode/mne_ext/signalproc.py:67: DeprecationWarning: sfreq cannot be set directly. Please use method inst.resample() instead. This warning will turn into an error after 0.24\n",
            "  new_info[\"sfreq\"] = new_fs\n"
          ]
        },
        {
          "output_type": "stream",
          "name": "stdout",
          "text": [
            "Creating RawArray with float64 data, n_channels=3, n_times=614555\n",
            "    Range : 0 ... 614554 =      0.000 ...  1229.108 secs\n",
            "Ready.\n"
          ]
        },
        {
          "output_type": "stream",
          "name": "stderr",
          "text": [
            "/usr/local/lib/python3.7/dist-packages/braindecode/datasets/bbci.py:210: DeprecationWarning: events cannot be set directly. This warning will turn into an error after 0.24\n",
            "  cnt.info[\"events\"] = np.array(event_arr).T\n",
            "This is not causal, uses future data....\n"
          ]
        },
        {
          "output_type": "stream",
          "name": "stdout",
          "text": [
            "Creating RawArray with float64 data, n_channels=3, n_times=307277\n",
            "    Range : 0 ... 307276 =      0.000 ...  1229.104 secs\n",
            "Ready.\n"
          ]
        },
        {
          "output_type": "stream",
          "name": "stderr",
          "text": [
            "/usr/local/lib/python3.7/dist-packages/braindecode/mne_ext/signalproc.py:67: DeprecationWarning: sfreq cannot be set directly. Please use method inst.resample() instead. This warning will turn into an error after 0.24\n",
            "  new_info[\"sfreq\"] = new_fs\n"
          ]
        },
        {
          "output_type": "stream",
          "name": "stdout",
          "text": [
            "Creating RawArray with float64 data, n_channels=3, n_times=610820\n",
            "    Range : 0 ... 610819 =      0.000 ...  1221.638 secs\n",
            "Ready.\n"
          ]
        },
        {
          "output_type": "stream",
          "name": "stderr",
          "text": [
            "/usr/local/lib/python3.7/dist-packages/braindecode/datasets/bbci.py:210: DeprecationWarning: events cannot be set directly. This warning will turn into an error after 0.24\n",
            "  cnt.info[\"events\"] = np.array(event_arr).T\n",
            "This is not causal, uses future data....\n"
          ]
        },
        {
          "output_type": "stream",
          "name": "stdout",
          "text": [
            "Creating RawArray with float64 data, n_channels=3, n_times=305410\n",
            "    Range : 0 ... 305409 =      0.000 ...  1221.636 secs\n",
            "Ready.\n"
          ]
        },
        {
          "output_type": "stream",
          "name": "stderr",
          "text": [
            "/usr/local/lib/python3.7/dist-packages/braindecode/mne_ext/signalproc.py:67: DeprecationWarning: sfreq cannot be set directly. Please use method inst.resample() instead. This warning will turn into an error after 0.24\n",
            "  new_info[\"sfreq\"] = new_fs\n"
          ]
        },
        {
          "output_type": "stream",
          "name": "stdout",
          "text": [
            "Creating RawArray with float64 data, n_channels=3, n_times=614290\n",
            "    Range : 0 ... 614289 =      0.000 ...  1228.578 secs\n",
            "Ready.\n"
          ]
        },
        {
          "output_type": "stream",
          "name": "stderr",
          "text": [
            "/usr/local/lib/python3.7/dist-packages/braindecode/datasets/bbci.py:210: DeprecationWarning: events cannot be set directly. This warning will turn into an error after 0.24\n",
            "  cnt.info[\"events\"] = np.array(event_arr).T\n",
            "This is not causal, uses future data....\n"
          ]
        },
        {
          "output_type": "stream",
          "name": "stdout",
          "text": [
            "Creating RawArray with float64 data, n_channels=3, n_times=307145\n",
            "    Range : 0 ... 307144 =      0.000 ...  1228.576 secs\n",
            "Ready.\n"
          ]
        },
        {
          "output_type": "stream",
          "name": "stderr",
          "text": [
            "/usr/local/lib/python3.7/dist-packages/braindecode/mne_ext/signalproc.py:67: DeprecationWarning: sfreq cannot be set directly. Please use method inst.resample() instead. This warning will turn into an error after 0.24\n",
            "  new_info[\"sfreq\"] = new_fs\n"
          ]
        },
        {
          "output_type": "stream",
          "name": "stdout",
          "text": [
            "Creating RawArray with float64 data, n_channels=3, n_times=607735\n",
            "    Range : 0 ... 607734 =      0.000 ...  1215.468 secs\n",
            "Ready.\n"
          ]
        },
        {
          "output_type": "stream",
          "name": "stderr",
          "text": [
            "/usr/local/lib/python3.7/dist-packages/braindecode/datasets/bbci.py:210: DeprecationWarning: events cannot be set directly. This warning will turn into an error after 0.24\n",
            "  cnt.info[\"events\"] = np.array(event_arr).T\n",
            "This is not causal, uses future data....\n"
          ]
        },
        {
          "output_type": "stream",
          "name": "stdout",
          "text": [
            "Creating RawArray with float64 data, n_channels=3, n_times=303867\n",
            "    Range : 0 ... 303866 =      0.000 ...  1215.464 secs\n",
            "Ready.\n"
          ]
        },
        {
          "output_type": "stream",
          "name": "stderr",
          "text": [
            "/usr/local/lib/python3.7/dist-packages/braindecode/mne_ext/signalproc.py:67: DeprecationWarning: sfreq cannot be set directly. Please use method inst.resample() instead. This warning will turn into an error after 0.24\n",
            "  new_info[\"sfreq\"] = new_fs\n"
          ]
        },
        {
          "output_type": "stream",
          "name": "stdout",
          "text": [
            "Creating RawArray with float64 data, n_channels=3, n_times=608505\n",
            "    Range : 0 ... 608504 =      0.000 ...  1217.008 secs\n",
            "Ready.\n"
          ]
        },
        {
          "output_type": "stream",
          "name": "stderr",
          "text": [
            "/usr/local/lib/python3.7/dist-packages/braindecode/datasets/bbci.py:210: DeprecationWarning: events cannot be set directly. This warning will turn into an error after 0.24\n",
            "  cnt.info[\"events\"] = np.array(event_arr).T\n",
            "This is not causal, uses future data....\n"
          ]
        },
        {
          "output_type": "stream",
          "name": "stdout",
          "text": [
            "Creating RawArray with float64 data, n_channels=3, n_times=304252\n",
            "    Range : 0 ... 304251 =      0.000 ...  1217.004 secs\n",
            "Ready.\n"
          ]
        },
        {
          "output_type": "stream",
          "name": "stderr",
          "text": [
            "/usr/local/lib/python3.7/dist-packages/braindecode/mne_ext/signalproc.py:67: DeprecationWarning: sfreq cannot be set directly. Please use method inst.resample() instead. This warning will turn into an error after 0.24\n",
            "  new_info[\"sfreq\"] = new_fs\n"
          ]
        }
      ]
    },
    {
      "cell_type": "code",
      "metadata": {
        "colab": {
          "base_uri": "https://localhost:8080/"
        },
        "id": "mdTGNKeJ2vHc",
        "outputId": "c39c3d8f-1690-4ab2-def2-c867f8226515"
      },
      "source": [
        "import numpy as np\n",
        "train_X, train_y = [], []\n",
        "for D in datasets:\n",
        "  train_X.append(np.transpose(np.asarray(D.X), [0, 2, 1]).reshape([-1, 25, 20, 3]))\n",
        "  train_y.append(np.asarray(D.y))\n",
        "train_X = np.concatenate(train_X, axis=0)\n",
        "train_y = np.concatenate(train_y, axis=0)\n",
        "train_X.shape"
      ],
      "execution_count": 4,
      "outputs": [
        {
          "output_type": "execute_result",
          "data": {
            "text/plain": [
              "(13480, 25, 20, 3)"
            ]
          },
          "metadata": {},
          "execution_count": 4
        }
      ]
    },
    {
      "cell_type": "code",
      "metadata": {
        "id": "OwC_h8eb85F1"
      },
      "source": [
        "import random\n",
        "sample_len = train_X.shape[0]\n",
        "splite_ratio = 0.1\n",
        "valid_num = int(sample_len*splite_ratio)\n",
        "valid_idx = random.sample(list(range(sample_len)), valid_num)  #生成随机数，validation的下标们\n",
        "train_idx = np.asarray(list(set(list(range(sample_len))) - set(list(valid_idx)))) #set集合可以来做减法，交并集\n",
        "\n",
        "valid_X = train_X[valid_idx, :, :, :]\n",
        "valid_y = train_y[valid_idx]\n",
        "train_X = train_X[train_idx, :, :, :]\n",
        "train_y = train_y[train_idx]"
      ],
      "execution_count": 6,
      "outputs": []
    },
    {
      "cell_type": "markdown",
      "metadata": {
        "id": "5vkHV4yboIWl"
      },
      "source": [
        "process data"
      ]
    },
    {
      "cell_type": "markdown",
      "metadata": {
        "id": "ympRzrwctcsb"
      },
      "source": [
        "baseline\n"
      ]
    },
    {
      "cell_type": "code",
      "metadata": {
        "id": "nEeWXYxntR6F",
        "colab": {
          "base_uri": "https://localhost:8080/"
        },
        "outputId": "7bdf18dc-601d-4696-bfca-553949bd92d4"
      },
      "source": [
        "## import tf and check gpu is_available\n",
        "import tensorflow as tf\n",
        "assert tf.test.is_gpu_available()"
      ],
      "execution_count": 7,
      "outputs": [
        {
          "output_type": "stream",
          "name": "stdout",
          "text": [
            "WARNING:tensorflow:From <ipython-input-7-e57ab6db00b4>:3: is_gpu_available (from tensorflow.python.framework.test_util) is deprecated and will be removed in a future version.\n",
            "Instructions for updating:\n",
            "Use `tf.config.list_physical_devices('GPU')` instead.\n"
          ]
        }
      ]
    },
    {
      "cell_type": "code",
      "metadata": {
        "colab": {
          "base_uri": "https://localhost:8080/"
        },
        "id": "qAsZ81FqywyP",
        "outputId": "5a9b5517-2436-47cd-d12d-3f9d448552bc"
      },
      "source": [
        "## build model\n",
        "def build_model(inputs):\n",
        "\n",
        "   # CONV_1\n",
        "  C_1 = tf.keras.layers.Conv2D(32, (3, 3), padding=\"SAME\", name=\"C_1\")(inputs)\n",
        "  B_1 = tf.keras.layers.BatchNormalization(name=\"B_1\")(C_1)\n",
        "  L_1 = tf.keras.layers.LeakyReLU()(B_1)\n",
        "  # D_1 = tf.keras.layers.Dropout(rate=0.1)(L_1)\n",
        "\n",
        "  # CONV_2\n",
        "  C_2 = tf.keras.layers.Conv2D(32, (3, 3), padding=\"SAME\", name=\"C_2\")(L_1)\n",
        "  B_2 = tf.keras.layers.BatchNormalization(name=\"B_2\")(C_2)\n",
        "  L_2 = tf.keras.layers.LeakyReLU()(B_2)\n",
        "  \n",
        "  # MAX_POOLING_1\n",
        "  M_1 = tf.keras.layers.MaxPool2D(pool_size=(2, 2), strides=(2, 2), padding=\"SAME\")(L_2) \n",
        "  print(M_1.shape) #13, 10, 32\n",
        "\n",
        "  # CONV_3\n",
        "  # C_3_IN = tf.concat((L_2, L_1), axis=3) \n",
        "  C_3 = tf.keras.layers.Conv2D(64, (3, 3), padding=\"SAME\", name=\"C_3\")(M_1)\n",
        "  B_3 = tf.keras.layers.BatchNormalization(name=\"B_3\")(C_3)\n",
        "  L_3 = tf.keras.layers.LeakyReLU()(B_3)\n",
        "  # D_3 = tf.keras.layers.Dropout(rate=0.1)(L_3)\n",
        "\n",
        "\n",
        "\n",
        "  # CONV_4\n",
        "  C_4 = tf.keras.layers.Conv2D(64, (3, 3), padding=\"SAME\", name=\"C_4\")(L_3)\n",
        "  B_4 = tf.keras.layers.BatchNormalization(name=\"B_4\")(C_4)\n",
        "  L_4 = tf.keras.layers.LeakyReLU()(B_4)\n",
        "  # D_4 = tf.keras.layers.Dropout(rate=0.1)(L_4)\n",
        "\n",
        "  # MAX_POOLING_2\n",
        "  M_2 = tf.keras.layers.MaxPool2D(pool_size=(2, 2), strides=(2, 2), padding=\"SAME\")(L_4) \n",
        "  print(M_2.shape)\n",
        "\n",
        "  # FC\n",
        "  F_IN = tf.reshape(M_2, [-1, 7 * 5 * 64])\n",
        "  F_1 = tf.keras.layers.Dense(64, name=\"CNN_F_1\")(F_IN)\n",
        "  F_1_B = tf.keras.layers.BatchNormalization(name=\"CNN_F_1_B\")(F_1)\n",
        "  F_1_L = tf.keras.layers.LeakyReLU()(F_1_B) \n",
        "  F_1_D = tf.keras.layers.Dropout(rate=0.5)(F_1_L) \n",
        "\n",
        "  F_2 = tf.keras.layers.Dense(32, name=\"CNN_F_2\")(F_1_D)\n",
        "  F_2_B = tf.keras.layers.BatchNormalization(name=\"CNN_F_2_B\")(F_2)\n",
        "  F_2_L = tf.keras.layers.LeakyReLU()(F_2_B) \n",
        "  F_2_D = tf.keras.layers.Dropout(rate=0.5)(F_2_L) \n",
        "\n",
        "  F_3 = tf.keras.layers.Dense(4, name=\"CNN_F_3\")(F_2_D)\n",
        "  logits = tf.nn.softmax(F_3) #激活函数\n",
        "  \n",
        "  return logits\n",
        "inputs = tf.keras.Input(shape=[25, 20, 3])\n",
        "outputs = build_model(inputs)\n",
        "model = tf.keras.Model(inputs, outputs)\n",
        "model.compile(\n",
        "  optimizer=tf.keras.optimizers.Adam(learning_rate=0.001),\n",
        "  loss=tf.keras.losses.SparseCategoricalCrossentropy(),  #将数字编码转化成one-hot编码格式，然后对one-hot编码格式的数据（真实标签值）与预测出的标签值使用交叉熵损失函数\n",
        "  metrics=[tf.keras.metrics.SparseCategoricalAccuracy()] #检查y_true中的值（本身就是index）与y_pred中的最大值对应的index是否相等，针对稀疏情况的多分类\n",
        ")"
      ],
      "execution_count": 8,
      "outputs": [
        {
          "output_type": "stream",
          "name": "stdout",
          "text": [
            "(None, 13, 10, 32)\n",
            "(None, 7, 5, 64)\n"
          ]
        }
      ]
    },
    {
      "cell_type": "code",
      "metadata": {
        "colab": {
          "base_uri": "https://localhost:8080/"
        },
        "id": "ZyL8_IjB56xk",
        "outputId": "30bec520-136a-48d3-c97f-9ffaba66254b"
      },
      "source": [
        " ckpt = tf.keras.callbacks.ModelCheckpoint(\n",
        "    filepath=\"/content/drive/MyDrive/ckpt/high_gamma_pretrain_baseline/conv6net.h5\",\n",
        "    mointor=\"val_acc\",\n",
        "    save_best_only=True,\n",
        "    save_weights_only=True,\n",
        "    mode=\"max\"\n",
        ")\n",
        "model.fit(\n",
        "    x=train_X,\n",
        "    y=train_y, \n",
        "    batch_size=16, #4.8.16.32\n",
        "    epochs=50,  #20,30,,\n",
        "    verbose=\"auto\",\n",
        "    validation_data=(valid_X, valid_y),\n",
        "    callbacks=[ckpt],\n",
        "    shuffle=True \n",
        ")"
      ],
      "execution_count": 9,
      "outputs": [
        {
          "output_type": "stream",
          "name": "stdout",
          "text": [
            "Epoch 1/50\n",
            "759/759 [==============================] - 23s 12ms/step - loss: 1.2090 - sparse_categorical_accuracy: 0.4810 - val_loss: 0.9972 - val_sparse_categorical_accuracy: 0.5994\n",
            "Epoch 2/50\n",
            "759/759 [==============================] - 8s 10ms/step - loss: 1.0563 - sparse_categorical_accuracy: 0.5447 - val_loss: 0.9472 - val_sparse_categorical_accuracy: 0.5920\n",
            "Epoch 3/50\n",
            "759/759 [==============================] - 7s 10ms/step - loss: 1.0013 - sparse_categorical_accuracy: 0.5789 - val_loss: 0.8888 - val_sparse_categorical_accuracy: 0.6350\n",
            "Epoch 4/50\n",
            "759/759 [==============================] - 8s 11ms/step - loss: 0.9659 - sparse_categorical_accuracy: 0.5959 - val_loss: 0.8629 - val_sparse_categorical_accuracy: 0.6580\n",
            "Epoch 5/50\n",
            "759/759 [==============================] - 8s 10ms/step - loss: 0.9284 - sparse_categorical_accuracy: 0.6201 - val_loss: 0.8639 - val_sparse_categorical_accuracy: 0.6328\n",
            "Epoch 6/50\n",
            "759/759 [==============================] - 8s 10ms/step - loss: 0.8973 - sparse_categorical_accuracy: 0.6291 - val_loss: 0.8146 - val_sparse_categorical_accuracy: 0.6580\n",
            "Epoch 7/50\n",
            "759/759 [==============================] - 8s 10ms/step - loss: 0.8661 - sparse_categorical_accuracy: 0.6442 - val_loss: 0.9775 - val_sparse_categorical_accuracy: 0.5705\n",
            "Epoch 8/50\n",
            "759/759 [==============================] - 8s 11ms/step - loss: 0.8313 - sparse_categorical_accuracy: 0.6637 - val_loss: 0.7974 - val_sparse_categorical_accuracy: 0.6728\n",
            "Epoch 9/50\n",
            "759/759 [==============================] - 8s 11ms/step - loss: 0.8144 - sparse_categorical_accuracy: 0.6724 - val_loss: 0.8013 - val_sparse_categorical_accuracy: 0.6654\n",
            "Epoch 10/50\n",
            "759/759 [==============================] - 8s 10ms/step - loss: 0.7828 - sparse_categorical_accuracy: 0.6911 - val_loss: 0.8139 - val_sparse_categorical_accuracy: 0.6647\n",
            "Epoch 11/50\n",
            "759/759 [==============================] - 8s 10ms/step - loss: 0.7404 - sparse_categorical_accuracy: 0.7022 - val_loss: 0.8485 - val_sparse_categorical_accuracy: 0.6625\n",
            "Epoch 12/50\n",
            "759/759 [==============================] - 8s 11ms/step - loss: 0.7076 - sparse_categorical_accuracy: 0.7206 - val_loss: 0.8761 - val_sparse_categorical_accuracy: 0.6395\n",
            "Epoch 13/50\n",
            "759/759 [==============================] - 9s 12ms/step - loss: 0.6781 - sparse_categorical_accuracy: 0.7384 - val_loss: 1.1534 - val_sparse_categorical_accuracy: 0.5623\n",
            "Epoch 14/50\n",
            "759/759 [==============================] - 8s 10ms/step - loss: 0.6479 - sparse_categorical_accuracy: 0.7441 - val_loss: 0.8887 - val_sparse_categorical_accuracy: 0.6447\n",
            "Epoch 15/50\n",
            "759/759 [==============================] - 8s 11ms/step - loss: 0.5879 - sparse_categorical_accuracy: 0.7753 - val_loss: 0.9913 - val_sparse_categorical_accuracy: 0.6387\n",
            "Epoch 16/50\n",
            "759/759 [==============================] - 8s 11ms/step - loss: 0.5534 - sparse_categorical_accuracy: 0.7885 - val_loss: 0.9945 - val_sparse_categorical_accuracy: 0.6469\n",
            "Epoch 17/50\n",
            "759/759 [==============================] - 8s 10ms/step - loss: 0.5267 - sparse_categorical_accuracy: 0.8039 - val_loss: 0.9916 - val_sparse_categorical_accuracy: 0.6313\n",
            "Epoch 18/50\n",
            "759/759 [==============================] - 8s 11ms/step - loss: 0.4852 - sparse_categorical_accuracy: 0.8177 - val_loss: 1.0796 - val_sparse_categorical_accuracy: 0.6343\n",
            "Epoch 19/50\n",
            "759/759 [==============================] - 8s 11ms/step - loss: 0.4380 - sparse_categorical_accuracy: 0.8367 - val_loss: 1.3748 - val_sparse_categorical_accuracy: 0.6083\n",
            "Epoch 20/50\n",
            "759/759 [==============================] - 8s 11ms/step - loss: 0.4379 - sparse_categorical_accuracy: 0.8384 - val_loss: 1.0911 - val_sparse_categorical_accuracy: 0.6439\n",
            "Epoch 21/50\n",
            "759/759 [==============================] - 8s 11ms/step - loss: 0.3877 - sparse_categorical_accuracy: 0.8574 - val_loss: 1.2821 - val_sparse_categorical_accuracy: 0.6135\n",
            "Epoch 22/50\n",
            "759/759 [==============================] - 8s 11ms/step - loss: 0.3795 - sparse_categorical_accuracy: 0.8620 - val_loss: 1.1928 - val_sparse_categorical_accuracy: 0.6365\n",
            "Epoch 23/50\n",
            "759/759 [==============================] - 8s 10ms/step - loss: 0.3513 - sparse_categorical_accuracy: 0.8782 - val_loss: 1.2812 - val_sparse_categorical_accuracy: 0.6328\n",
            "Epoch 24/50\n",
            "759/759 [==============================] - 8s 10ms/step - loss: 0.3316 - sparse_categorical_accuracy: 0.8854 - val_loss: 1.2864 - val_sparse_categorical_accuracy: 0.6180\n",
            "Epoch 25/50\n",
            "759/759 [==============================] - 9s 12ms/step - loss: 0.3087 - sparse_categorical_accuracy: 0.8900 - val_loss: 1.3919 - val_sparse_categorical_accuracy: 0.6165\n",
            "Epoch 26/50\n",
            "759/759 [==============================] - 9s 12ms/step - loss: 0.3052 - sparse_categorical_accuracy: 0.8925 - val_loss: 1.4357 - val_sparse_categorical_accuracy: 0.6165\n",
            "Epoch 27/50\n",
            "759/759 [==============================] - 9s 11ms/step - loss: 0.2993 - sparse_categorical_accuracy: 0.8974 - val_loss: 1.4796 - val_sparse_categorical_accuracy: 0.6187\n",
            "Epoch 28/50\n",
            "759/759 [==============================] - 9s 11ms/step - loss: 0.2637 - sparse_categorical_accuracy: 0.9070 - val_loss: 1.5701 - val_sparse_categorical_accuracy: 0.5942\n",
            "Epoch 29/50\n",
            "759/759 [==============================] - 8s 11ms/step - loss: 0.2737 - sparse_categorical_accuracy: 0.9043 - val_loss: 1.4121 - val_sparse_categorical_accuracy: 0.6335\n",
            "Epoch 30/50\n",
            "759/759 [==============================] - 8s 11ms/step - loss: 0.2548 - sparse_categorical_accuracy: 0.9112 - val_loss: 1.6725 - val_sparse_categorical_accuracy: 0.6091\n",
            "Epoch 31/50\n",
            "759/759 [==============================] - 8s 11ms/step - loss: 0.2362 - sparse_categorical_accuracy: 0.9181 - val_loss: 1.5748 - val_sparse_categorical_accuracy: 0.6313\n",
            "Epoch 32/50\n",
            "759/759 [==============================] - 8s 11ms/step - loss: 0.2359 - sparse_categorical_accuracy: 0.9197 - val_loss: 1.6714 - val_sparse_categorical_accuracy: 0.6083\n",
            "Epoch 33/50\n",
            "759/759 [==============================] - 9s 12ms/step - loss: 0.2304 - sparse_categorical_accuracy: 0.9199 - val_loss: 1.6961 - val_sparse_categorical_accuracy: 0.6009\n",
            "Epoch 34/50\n",
            "759/759 [==============================] - 9s 12ms/step - loss: 0.2116 - sparse_categorical_accuracy: 0.9282 - val_loss: 1.8071 - val_sparse_categorical_accuracy: 0.6128\n",
            "Epoch 35/50\n",
            "759/759 [==============================] - 9s 12ms/step - loss: 0.2093 - sparse_categorical_accuracy: 0.9299 - val_loss: 1.8079 - val_sparse_categorical_accuracy: 0.6165\n",
            "Epoch 36/50\n",
            "759/759 [==============================] - 8s 11ms/step - loss: 0.2183 - sparse_categorical_accuracy: 0.9269 - val_loss: 1.6866 - val_sparse_categorical_accuracy: 0.6276\n",
            "Epoch 37/50\n",
            "759/759 [==============================] - 9s 12ms/step - loss: 0.2062 - sparse_categorical_accuracy: 0.9301 - val_loss: 2.0565 - val_sparse_categorical_accuracy: 0.6068\n",
            "Epoch 38/50\n",
            "759/759 [==============================] - 8s 11ms/step - loss: 0.2467 - sparse_categorical_accuracy: 0.9192 - val_loss: 1.7176 - val_sparse_categorical_accuracy: 0.5898\n",
            "Epoch 39/50\n",
            "759/759 [==============================] - 8s 11ms/step - loss: 0.1913 - sparse_categorical_accuracy: 0.9393 - val_loss: 1.7417 - val_sparse_categorical_accuracy: 0.6120\n",
            "Epoch 40/50\n",
            "759/759 [==============================] - 8s 11ms/step - loss: 0.1733 - sparse_categorical_accuracy: 0.9442 - val_loss: 1.7784 - val_sparse_categorical_accuracy: 0.6165\n",
            "Epoch 41/50\n",
            "759/759 [==============================] - 8s 10ms/step - loss: 0.1751 - sparse_categorical_accuracy: 0.9416 - val_loss: 1.8682 - val_sparse_categorical_accuracy: 0.6091\n",
            "Epoch 42/50\n",
            "759/759 [==============================] - 8s 10ms/step - loss: 0.1978 - sparse_categorical_accuracy: 0.9343 - val_loss: 1.8082 - val_sparse_categorical_accuracy: 0.6209\n",
            "Epoch 43/50\n",
            "759/759 [==============================] - 8s 11ms/step - loss: 0.1750 - sparse_categorical_accuracy: 0.9395 - val_loss: 1.8514 - val_sparse_categorical_accuracy: 0.6098\n",
            "Epoch 44/50\n",
            "759/759 [==============================] - 8s 11ms/step - loss: 0.1547 - sparse_categorical_accuracy: 0.9472 - val_loss: 1.9490 - val_sparse_categorical_accuracy: 0.6313\n",
            "Epoch 45/50\n",
            "759/759 [==============================] - 8s 11ms/step - loss: 0.1828 - sparse_categorical_accuracy: 0.9381 - val_loss: 1.8967 - val_sparse_categorical_accuracy: 0.6031\n",
            "Epoch 46/50\n",
            "759/759 [==============================] - 8s 10ms/step - loss: 0.1902 - sparse_categorical_accuracy: 0.9362 - val_loss: 1.7584 - val_sparse_categorical_accuracy: 0.6239\n",
            "Epoch 47/50\n",
            "759/759 [==============================] - 8s 11ms/step - loss: 0.1579 - sparse_categorical_accuracy: 0.9486 - val_loss: 1.9440 - val_sparse_categorical_accuracy: 0.6009\n",
            "Epoch 48/50\n",
            "759/759 [==============================] - 8s 10ms/step - loss: 0.1484 - sparse_categorical_accuracy: 0.9516 - val_loss: 1.8805 - val_sparse_categorical_accuracy: 0.6276\n",
            "Epoch 49/50\n",
            "759/759 [==============================] - 8s 10ms/step - loss: 0.1644 - sparse_categorical_accuracy: 0.9492 - val_loss: 1.9184 - val_sparse_categorical_accuracy: 0.6113\n",
            "Epoch 50/50\n",
            "759/759 [==============================] - 8s 11ms/step - loss: 0.1628 - sparse_categorical_accuracy: 0.9463 - val_loss: 1.9042 - val_sparse_categorical_accuracy: 0.6217\n"
          ]
        },
        {
          "output_type": "execute_result",
          "data": {
            "text/plain": [
              "<keras.callbacks.History at 0x7fdd10143910>"
            ]
          },
          "metadata": {},
          "execution_count": 9
        }
      ]
    }
  ]
}