{
  "nbformat": 4,
  "nbformat_minor": 0,
  "metadata": {
    "colab": {
      "name": "simCLR.ipynb",
      "provenance": [],
      "collapsed_sections": []
    },
    "kernelspec": {
      "display_name": "Python 3",
      "name": "python3"
    },
    "language_info": {
      "name": "python"
    },
    "accelerator": "GPU"
  },
  "cells": [
    {
      "cell_type": "code",
      "metadata": {
        "colab": {
          "base_uri": "https://localhost:8080/"
        },
        "id": "smFrq75Q1AQe",
        "outputId": "8bcc58a4-e468-442a-badb-87fe2c9b8e98"
      },
      "source": [
        "from google.colab import drive\n",
        "drive.mount('/content/drive')"
      ],
      "execution_count": 1,
      "outputs": [
        {
          "output_type": "stream",
          "name": "stdout",
          "text": [
            "Mounted at /content/drive\n"
          ]
        }
      ]
    },
    {
      "cell_type": "code",
      "metadata": {
        "colab": {
          "base_uri": "https://localhost:8080/"
        },
        "id": "2_Ysclsq1P34",
        "outputId": "4a450e97-850e-42fc-f64e-8175cc6c5f29"
      },
      "source": [
        "!pip install braindecode==0.4.85\n",
        "!pip install eeglib"
      ],
      "execution_count": 2,
      "outputs": [
        {
          "output_type": "stream",
          "name": "stdout",
          "text": [
            "Collecting braindecode==0.4.85\n",
            "  Downloading Braindecode-0.4.85.tar.gz (324 kB)\n",
            "\u001b[K     |████████████████████████████████| 324 kB 5.2 MB/s \n",
            "\u001b[?25hCollecting mne\n",
            "  Downloading mne-0.24.0-py3-none-any.whl (7.4 MB)\n",
            "\u001b[K     |████████████████████████████████| 7.4 MB 34.7 MB/s \n",
            "\u001b[?25hRequirement already satisfied: numpy in /usr/local/lib/python3.7/dist-packages (from braindecode==0.4.85) (1.19.5)\n",
            "Requirement already satisfied: pandas in /usr/local/lib/python3.7/dist-packages (from braindecode==0.4.85) (1.1.5)\n",
            "Requirement already satisfied: scipy in /usr/local/lib/python3.7/dist-packages (from braindecode==0.4.85) (1.4.1)\n",
            "Requirement already satisfied: resampy in /usr/local/lib/python3.7/dist-packages (from braindecode==0.4.85) (0.2.2)\n",
            "Requirement already satisfied: matplotlib in /usr/local/lib/python3.7/dist-packages (from braindecode==0.4.85) (3.2.2)\n",
            "Requirement already satisfied: h5py in /usr/local/lib/python3.7/dist-packages (from braindecode==0.4.85) (3.1.0)\n",
            "Requirement already satisfied: cached-property in /usr/local/lib/python3.7/dist-packages (from h5py->braindecode==0.4.85) (1.5.2)\n",
            "Requirement already satisfied: cycler>=0.10 in /usr/local/lib/python3.7/dist-packages (from matplotlib->braindecode==0.4.85) (0.11.0)\n",
            "Requirement already satisfied: kiwisolver>=1.0.1 in /usr/local/lib/python3.7/dist-packages (from matplotlib->braindecode==0.4.85) (1.3.2)\n",
            "Requirement already satisfied: python-dateutil>=2.1 in /usr/local/lib/python3.7/dist-packages (from matplotlib->braindecode==0.4.85) (2.8.2)\n",
            "Requirement already satisfied: pyparsing!=2.0.4,!=2.1.2,!=2.1.6,>=2.0.1 in /usr/local/lib/python3.7/dist-packages (from matplotlib->braindecode==0.4.85) (3.0.6)\n",
            "Requirement already satisfied: six>=1.5 in /usr/local/lib/python3.7/dist-packages (from python-dateutil>=2.1->matplotlib->braindecode==0.4.85) (1.15.0)\n",
            "Requirement already satisfied: pytz>=2017.2 in /usr/local/lib/python3.7/dist-packages (from pandas->braindecode==0.4.85) (2018.9)\n",
            "Requirement already satisfied: numba>=0.32 in /usr/local/lib/python3.7/dist-packages (from resampy->braindecode==0.4.85) (0.51.2)\n",
            "Requirement already satisfied: setuptools in /usr/local/lib/python3.7/dist-packages (from numba>=0.32->resampy->braindecode==0.4.85) (57.4.0)\n",
            "Requirement already satisfied: llvmlite<0.35,>=0.34.0.dev0 in /usr/local/lib/python3.7/dist-packages (from numba>=0.32->resampy->braindecode==0.4.85) (0.34.0)\n",
            "Building wheels for collected packages: braindecode\n",
            "  Building wheel for braindecode (setup.py) ... \u001b[?25l\u001b[?25hdone\n",
            "  Created wheel for braindecode: filename=Braindecode-0.4.85-py3-none-any.whl size=71094 sha256=7137d19e26f63319378c15067b095b50f817bd46b45a204ebc1b38f665ec8adf\n",
            "  Stored in directory: /root/.cache/pip/wheels/eb/67/4c/81ad85409f913dd7e3ebb4fb5896839680c5627c04d91e3b78\n",
            "Successfully built braindecode\n",
            "Installing collected packages: mne, braindecode\n",
            "Successfully installed braindecode-0.4.85 mne-0.24.0\n",
            "Collecting eeglib\n",
            "  Downloading eeglib-0.4.1-py3-none-any.whl (25 kB)\n",
            "Requirement already satisfied: numba in /usr/local/lib/python3.7/dist-packages (from eeglib) (0.51.2)\n",
            "Collecting pyedflib\n",
            "  Downloading pyEDFlib-0.1.23-cp37-cp37m-manylinux_2_5_x86_64.manylinux1_x86_64.manylinux_2_12_x86_64.manylinux2010_x86_64.whl (1.7 MB)\n",
            "\u001b[K     |████████████████████████████████| 1.7 MB 8.2 MB/s \n",
            "\u001b[?25hRequirement already satisfied: pandas in /usr/local/lib/python3.7/dist-packages (from eeglib) (1.1.5)\n",
            "Requirement already satisfied: numpy in /usr/local/lib/python3.7/dist-packages (from eeglib) (1.19.5)\n",
            "Requirement already satisfied: progressbar2 in /usr/local/lib/python3.7/dist-packages (from eeglib) (3.38.0)\n",
            "Requirement already satisfied: scipy in /usr/local/lib/python3.7/dist-packages (from eeglib) (1.4.1)\n",
            "Requirement already satisfied: sklearn in /usr/local/lib/python3.7/dist-packages (from eeglib) (0.0)\n",
            "Requirement already satisfied: fastdtw in /usr/local/lib/python3.7/dist-packages (from eeglib) (0.3.4)\n",
            "Requirement already satisfied: llvmlite<0.35,>=0.34.0.dev0 in /usr/local/lib/python3.7/dist-packages (from numba->eeglib) (0.34.0)\n",
            "Requirement already satisfied: setuptools in /usr/local/lib/python3.7/dist-packages (from numba->eeglib) (57.4.0)\n",
            "Requirement already satisfied: python-dateutil>=2.7.3 in /usr/local/lib/python3.7/dist-packages (from pandas->eeglib) (2.8.2)\n",
            "Requirement already satisfied: pytz>=2017.2 in /usr/local/lib/python3.7/dist-packages (from pandas->eeglib) (2018.9)\n",
            "Requirement already satisfied: six>=1.5 in /usr/local/lib/python3.7/dist-packages (from python-dateutil>=2.7.3->pandas->eeglib) (1.15.0)\n",
            "Requirement already satisfied: python-utils>=2.3.0 in /usr/local/lib/python3.7/dist-packages (from progressbar2->eeglib) (2.5.6)\n",
            "Requirement already satisfied: scikit-learn in /usr/local/lib/python3.7/dist-packages (from sklearn->eeglib) (1.0.1)\n",
            "Requirement already satisfied: threadpoolctl>=2.0.0 in /usr/local/lib/python3.7/dist-packages (from scikit-learn->sklearn->eeglib) (3.0.0)\n",
            "Requirement already satisfied: joblib>=0.11 in /usr/local/lib/python3.7/dist-packages (from scikit-learn->sklearn->eeglib) (1.1.0)\n",
            "Installing collected packages: pyedflib, eeglib\n",
            "Successfully installed eeglib-0.4.1 pyedflib-0.1.23\n"
          ]
        }
      ]
    },
    {
      "cell_type": "code",
      "metadata": {
        "colab": {
          "base_uri": "https://localhost:8080/"
        },
        "id": "mOl_g40j1dlk",
        "outputId": "67808ebf-fb59-4e2f-95a7-775568a3cc6f"
      },
      "source": [
        "import mne\n",
        "from braindecode.datasets.bbci import  BBCIDataset\n",
        "import logging\n",
        "import sys\n",
        "import os.path\n",
        "from collections import OrderedDict\n",
        "import numpy as np\n",
        "\n",
        "from braindecode.datasets.bbci import  BBCIDataset\n",
        "from braindecode.datautil.signalproc import highpass_cnt\n",
        "from braindecode.datautil.trial_segment import create_signal_target_from_raw_mne\n",
        "from braindecode.mne_ext.signalproc import mne_apply, resample_cnt\n",
        "from braindecode.datautil.signalproc import exponential_running_standardize\n",
        "\n",
        "def load_bbci_data(filename, low_cut_hz):\n",
        "    load_sensor_names = ['C3', 'C4', 'Cz']\n",
        "    loader = BBCIDataset(filename, load_sensor_names=load_sensor_names)\n",
        "\n",
        "    cnt = loader.load()\n",
        "\n",
        "    # Cleaning: First find all trials that have absolute microvolt values\n",
        "    # larger than +- 800 inside them and remember them for removal later\n",
        "\n",
        "    marker_def = OrderedDict([('Right Hand', [1]), ('Left Hand', [2],),\n",
        "                              ('Rest', [3]), ('Feet', [4])])\n",
        "    clean_ival = [0, 4000]\n",
        "\n",
        "    set_for_cleaning = create_signal_target_from_raw_mne(cnt, marker_def,\n",
        "                                                  clean_ival)\n",
        "\n",
        "    clean_trial_mask = np.max(np.abs(set_for_cleaning.X), axis=(1, 2)) < 800\n",
        "\n",
        "    # now pick only sensors with C in their name\n",
        "    # as they cover motor cortex\n",
        "    C_sensors = load_sensor_names\n",
        "    cnt = cnt.pick_channels(C_sensors)\n",
        "\n",
        "    # Further preprocessings as descibed in paper\n",
        "    cnt = resample_cnt(cnt, 250.0)\n",
        "    cnt = mne_apply(\n",
        "        lambda a: highpass_cnt(\n",
        "            a, low_cut_hz, cnt.info['sfreq'], filt_order=3, axis=1),\n",
        "        cnt)\n",
        "    cnt = mne_apply(\n",
        "        lambda a: exponential_running_standardize(a.T, factor_new=1e-3,\n",
        "                                                  init_block_size=1000,\n",
        "                                                  eps=1e-4).T,\n",
        "        cnt)\n",
        "\n",
        "    # Trial interval, start at -500 already, since improved decoding for networks\n",
        "    ival = [0, 2000]\n",
        "\n",
        "    dataset = create_signal_target_from_raw_mne(cnt, marker_def, ival)\n",
        "    dataset.X = dataset.X[clean_trial_mask]\n",
        "    dataset.y = dataset.y[clean_trial_mask]\n",
        "    return dataset\n",
        "\n",
        "list_a = [] #存放所有.mat文件的路径\n",
        "dir_str = '/content/drive/MyDrive/EEG-dataset/high-gamma-dataset'\n",
        "for i in range(1, 29):\n",
        "  list_a.append(os.path.join(dir_str, \"a\"+str(i)+\".mat\"))\n",
        "\n",
        "datasets = []\n",
        "for mat_path in list_a:\n",
        "  datasets.append(load_bbci_data(mat_path, 0))"
      ],
      "execution_count": 3,
      "outputs": [
        {
          "output_type": "stream",
          "name": "stdout",
          "text": [
            "Creating RawArray with float64 data, n_channels=3, n_times=1225545\n",
            "    Range : 0 ... 1225544 =      0.000 ...  2451.088 secs\n",
            "Ready.\n"
          ]
        },
        {
          "output_type": "stream",
          "name": "stderr",
          "text": [
            "/usr/local/lib/python3.7/dist-packages/braindecode/datasets/bbci.py:210: DeprecationWarning: events cannot be set directly. This warning will turn into an error after 0.24\n",
            "  cnt.info[\"events\"] = np.array(event_arr).T\n",
            "This is not causal, uses future data....\n"
          ]
        },
        {
          "output_type": "stream",
          "name": "stdout",
          "text": [
            "Creating RawArray with float64 data, n_channels=3, n_times=612772\n",
            "    Range : 0 ... 612771 =      0.000 ...  2451.084 secs\n",
            "Ready.\n"
          ]
        },
        {
          "output_type": "stream",
          "name": "stderr",
          "text": [
            "/usr/local/lib/python3.7/dist-packages/braindecode/mne_ext/signalproc.py:67: DeprecationWarning: sfreq cannot be set directly. Please use method inst.resample() instead. This warning will turn into an error after 0.24\n",
            "  new_info[\"sfreq\"] = new_fs\n"
          ]
        },
        {
          "output_type": "stream",
          "name": "stdout",
          "text": [
            "Creating RawArray with float64 data, n_channels=3, n_times=3131420\n",
            "    Range : 0 ... 3131419 =      0.000 ...  6262.838 secs\n",
            "Ready.\n"
          ]
        },
        {
          "output_type": "stream",
          "name": "stderr",
          "text": [
            "/usr/local/lib/python3.7/dist-packages/braindecode/datasets/bbci.py:210: DeprecationWarning: events cannot be set directly. This warning will turn into an error after 0.24\n",
            "  cnt.info[\"events\"] = np.array(event_arr).T\n",
            "This is not causal, uses future data....\n"
          ]
        },
        {
          "output_type": "stream",
          "name": "stdout",
          "text": [
            "Creating RawArray with float64 data, n_channels=3, n_times=1565710\n",
            "    Range : 0 ... 1565709 =      0.000 ...  6262.836 secs\n",
            "Ready.\n"
          ]
        },
        {
          "output_type": "stream",
          "name": "stderr",
          "text": [
            "/usr/local/lib/python3.7/dist-packages/braindecode/mne_ext/signalproc.py:67: DeprecationWarning: sfreq cannot be set directly. Please use method inst.resample() instead. This warning will turn into an error after 0.24\n",
            "  new_info[\"sfreq\"] = new_fs\n"
          ]
        },
        {
          "output_type": "stream",
          "name": "stdout",
          "text": [
            "Creating RawArray with float64 data, n_channels=3, n_times=3347155\n",
            "    Range : 0 ... 3347154 =      0.000 ...  6694.308 secs\n",
            "Ready.\n"
          ]
        },
        {
          "output_type": "stream",
          "name": "stderr",
          "text": [
            "/usr/local/lib/python3.7/dist-packages/braindecode/datasets/bbci.py:210: DeprecationWarning: events cannot be set directly. This warning will turn into an error after 0.24\n",
            "  cnt.info[\"events\"] = np.array(event_arr).T\n",
            "This is not causal, uses future data....\n"
          ]
        },
        {
          "output_type": "stream",
          "name": "stdout",
          "text": [
            "Creating RawArray with float64 data, n_channels=3, n_times=1673577\n",
            "    Range : 0 ... 1673576 =      0.000 ...  6694.304 secs\n",
            "Ready.\n"
          ]
        },
        {
          "output_type": "stream",
          "name": "stderr",
          "text": [
            "/usr/local/lib/python3.7/dist-packages/braindecode/mne_ext/signalproc.py:67: DeprecationWarning: sfreq cannot be set directly. Please use method inst.resample() instead. This warning will turn into an error after 0.24\n",
            "  new_info[\"sfreq\"] = new_fs\n"
          ]
        },
        {
          "output_type": "stream",
          "name": "stdout",
          "text": [
            "Creating RawArray with float64 data, n_channels=3, n_times=3451320\n",
            "    Range : 0 ... 3451319 =      0.000 ...  6902.638 secs\n",
            "Ready.\n"
          ]
        },
        {
          "output_type": "stream",
          "name": "stderr",
          "text": [
            "/usr/local/lib/python3.7/dist-packages/braindecode/datasets/bbci.py:210: DeprecationWarning: events cannot be set directly. This warning will turn into an error after 0.24\n",
            "  cnt.info[\"events\"] = np.array(event_arr).T\n",
            "This is not causal, uses future data....\n"
          ]
        },
        {
          "output_type": "stream",
          "name": "stdout",
          "text": [
            "Creating RawArray with float64 data, n_channels=3, n_times=1725660\n",
            "    Range : 0 ... 1725659 =      0.000 ...  6902.636 secs\n",
            "Ready.\n"
          ]
        },
        {
          "output_type": "stream",
          "name": "stderr",
          "text": [
            "/usr/local/lib/python3.7/dist-packages/braindecode/mne_ext/signalproc.py:67: DeprecationWarning: sfreq cannot be set directly. Please use method inst.resample() instead. This warning will turn into an error after 0.24\n",
            "  new_info[\"sfreq\"] = new_fs\n"
          ]
        },
        {
          "output_type": "stream",
          "name": "stdout",
          "text": [
            "Creating RawArray with float64 data, n_channels=3, n_times=2736300\n",
            "    Range : 0 ... 2736299 =      0.000 ...  5472.598 secs\n",
            "Ready.\n"
          ]
        },
        {
          "output_type": "stream",
          "name": "stderr",
          "text": [
            "/usr/local/lib/python3.7/dist-packages/braindecode/datasets/bbci.py:210: DeprecationWarning: events cannot be set directly. This warning will turn into an error after 0.24\n",
            "  cnt.info[\"events\"] = np.array(event_arr).T\n",
            "This is not causal, uses future data....\n"
          ]
        },
        {
          "output_type": "stream",
          "name": "stdout",
          "text": [
            "Creating RawArray with float64 data, n_channels=3, n_times=1368150\n",
            "    Range : 0 ... 1368149 =      0.000 ...  5472.596 secs\n",
            "Ready.\n"
          ]
        },
        {
          "output_type": "stream",
          "name": "stderr",
          "text": [
            "/usr/local/lib/python3.7/dist-packages/braindecode/mne_ext/signalproc.py:67: DeprecationWarning: sfreq cannot be set directly. Please use method inst.resample() instead. This warning will turn into an error after 0.24\n",
            "  new_info[\"sfreq\"] = new_fs\n"
          ]
        },
        {
          "output_type": "stream",
          "name": "stdout",
          "text": [
            "Creating RawArray with float64 data, n_channels=3, n_times=3387290\n",
            "    Range : 0 ... 3387289 =      0.000 ...  6774.578 secs\n",
            "Ready.\n"
          ]
        },
        {
          "output_type": "stream",
          "name": "stderr",
          "text": [
            "/usr/local/lib/python3.7/dist-packages/braindecode/datasets/bbci.py:210: DeprecationWarning: events cannot be set directly. This warning will turn into an error after 0.24\n",
            "  cnt.info[\"events\"] = np.array(event_arr).T\n",
            "This is not causal, uses future data....\n"
          ]
        },
        {
          "output_type": "stream",
          "name": "stdout",
          "text": [
            "Creating RawArray with float64 data, n_channels=3, n_times=1693645\n",
            "    Range : 0 ... 1693644 =      0.000 ...  6774.576 secs\n",
            "Ready.\n"
          ]
        },
        {
          "output_type": "stream",
          "name": "stderr",
          "text": [
            "/usr/local/lib/python3.7/dist-packages/braindecode/mne_ext/signalproc.py:67: DeprecationWarning: sfreq cannot be set directly. Please use method inst.resample() instead. This warning will turn into an error after 0.24\n",
            "  new_info[\"sfreq\"] = new_fs\n"
          ]
        },
        {
          "output_type": "stream",
          "name": "stdout",
          "text": [
            "Creating RawArray with float64 data, n_channels=3, n_times=3354460\n",
            "    Range : 0 ... 3354459 =      0.000 ...  6708.918 secs\n",
            "Ready.\n"
          ]
        },
        {
          "output_type": "stream",
          "name": "stderr",
          "text": [
            "/usr/local/lib/python3.7/dist-packages/braindecode/datasets/bbci.py:210: DeprecationWarning: events cannot be set directly. This warning will turn into an error after 0.24\n",
            "  cnt.info[\"events\"] = np.array(event_arr).T\n",
            "This is not causal, uses future data....\n"
          ]
        },
        {
          "output_type": "stream",
          "name": "stdout",
          "text": [
            "Creating RawArray with float64 data, n_channels=3, n_times=1677230\n",
            "    Range : 0 ... 1677229 =      0.000 ...  6708.916 secs\n",
            "Ready.\n"
          ]
        },
        {
          "output_type": "stream",
          "name": "stderr",
          "text": [
            "/usr/local/lib/python3.7/dist-packages/braindecode/mne_ext/signalproc.py:67: DeprecationWarning: sfreq cannot be set directly. Please use method inst.resample() instead. This warning will turn into an error after 0.24\n",
            "  new_info[\"sfreq\"] = new_fs\n"
          ]
        },
        {
          "output_type": "stream",
          "name": "stdout",
          "text": [
            "Creating RawArray with float64 data, n_channels=3, n_times=2511860\n",
            "    Range : 0 ... 2511859 =      0.000 ...  5023.718 secs\n",
            "Ready.\n"
          ]
        },
        {
          "output_type": "stream",
          "name": "stderr",
          "text": [
            "/usr/local/lib/python3.7/dist-packages/braindecode/datasets/bbci.py:210: DeprecationWarning: events cannot be set directly. This warning will turn into an error after 0.24\n",
            "  cnt.info[\"events\"] = np.array(event_arr).T\n",
            "This is not causal, uses future data....\n"
          ]
        },
        {
          "output_type": "stream",
          "name": "stdout",
          "text": [
            "Creating RawArray with float64 data, n_channels=3, n_times=1255930\n",
            "    Range : 0 ... 1255929 =      0.000 ...  5023.716 secs\n",
            "Ready.\n"
          ]
        },
        {
          "output_type": "stream",
          "name": "stderr",
          "text": [
            "/usr/local/lib/python3.7/dist-packages/braindecode/mne_ext/signalproc.py:67: DeprecationWarning: sfreq cannot be set directly. Please use method inst.resample() instead. This warning will turn into an error after 0.24\n",
            "  new_info[\"sfreq\"] = new_fs\n"
          ]
        },
        {
          "output_type": "stream",
          "name": "stdout",
          "text": [
            "Creating RawArray with float64 data, n_channels=3, n_times=3383655\n",
            "    Range : 0 ... 3383654 =      0.000 ...  6767.308 secs\n",
            "Ready.\n"
          ]
        },
        {
          "output_type": "stream",
          "name": "stderr",
          "text": [
            "/usr/local/lib/python3.7/dist-packages/braindecode/datasets/bbci.py:210: DeprecationWarning: events cannot be set directly. This warning will turn into an error after 0.24\n",
            "  cnt.info[\"events\"] = np.array(event_arr).T\n",
            "This is not causal, uses future data....\n"
          ]
        },
        {
          "output_type": "stream",
          "name": "stdout",
          "text": [
            "Creating RawArray with float64 data, n_channels=3, n_times=1691827\n",
            "    Range : 0 ... 1691826 =      0.000 ...  6767.304 secs\n",
            "Ready.\n"
          ]
        },
        {
          "output_type": "stream",
          "name": "stderr",
          "text": [
            "/usr/local/lib/python3.7/dist-packages/braindecode/mne_ext/signalproc.py:67: DeprecationWarning: sfreq cannot be set directly. Please use method inst.resample() instead. This warning will turn into an error after 0.24\n",
            "  new_info[\"sfreq\"] = new_fs\n"
          ]
        },
        {
          "output_type": "stream",
          "name": "stdout",
          "text": [
            "Creating RawArray with float64 data, n_channels=3, n_times=3386150\n",
            "    Range : 0 ... 3386149 =      0.000 ...  6772.298 secs\n",
            "Ready.\n"
          ]
        },
        {
          "output_type": "stream",
          "name": "stderr",
          "text": [
            "/usr/local/lib/python3.7/dist-packages/braindecode/datasets/bbci.py:210: DeprecationWarning: events cannot be set directly. This warning will turn into an error after 0.24\n",
            "  cnt.info[\"events\"] = np.array(event_arr).T\n",
            "This is not causal, uses future data....\n"
          ]
        },
        {
          "output_type": "stream",
          "name": "stdout",
          "text": [
            "Creating RawArray with float64 data, n_channels=3, n_times=1693075\n",
            "    Range : 0 ... 1693074 =      0.000 ...  6772.296 secs\n",
            "Ready.\n"
          ]
        },
        {
          "output_type": "stream",
          "name": "stderr",
          "text": [
            "/usr/local/lib/python3.7/dist-packages/braindecode/mne_ext/signalproc.py:67: DeprecationWarning: sfreq cannot be set directly. Please use method inst.resample() instead. This warning will turn into an error after 0.24\n",
            "  new_info[\"sfreq\"] = new_fs\n"
          ]
        },
        {
          "output_type": "stream",
          "name": "stdout",
          "text": [
            "Creating RawArray with float64 data, n_channels=3, n_times=3386765\n",
            "    Range : 0 ... 3386764 =      0.000 ...  6773.528 secs\n",
            "Ready.\n"
          ]
        },
        {
          "output_type": "stream",
          "name": "stderr",
          "text": [
            "/usr/local/lib/python3.7/dist-packages/braindecode/datasets/bbci.py:210: DeprecationWarning: events cannot be set directly. This warning will turn into an error after 0.24\n",
            "  cnt.info[\"events\"] = np.array(event_arr).T\n",
            "This is not causal, uses future data....\n"
          ]
        },
        {
          "output_type": "stream",
          "name": "stdout",
          "text": [
            "Creating RawArray with float64 data, n_channels=3, n_times=1693382\n",
            "    Range : 0 ... 1693381 =      0.000 ...  6773.524 secs\n",
            "Ready.\n"
          ]
        },
        {
          "output_type": "stream",
          "name": "stderr",
          "text": [
            "/usr/local/lib/python3.7/dist-packages/braindecode/mne_ext/signalproc.py:67: DeprecationWarning: sfreq cannot be set directly. Please use method inst.resample() instead. This warning will turn into an error after 0.24\n",
            "  new_info[\"sfreq\"] = new_fs\n"
          ]
        },
        {
          "output_type": "stream",
          "name": "stdout",
          "text": [
            "Creating RawArray with float64 data, n_channels=3, n_times=3385750\n",
            "    Range : 0 ... 3385749 =      0.000 ...  6771.498 secs\n",
            "Ready.\n"
          ]
        },
        {
          "output_type": "stream",
          "name": "stderr",
          "text": [
            "/usr/local/lib/python3.7/dist-packages/braindecode/datasets/bbci.py:210: DeprecationWarning: events cannot be set directly. This warning will turn into an error after 0.24\n",
            "  cnt.info[\"events\"] = np.array(event_arr).T\n",
            "This is not causal, uses future data....\n"
          ]
        },
        {
          "output_type": "stream",
          "name": "stdout",
          "text": [
            "Creating RawArray with float64 data, n_channels=3, n_times=1692875\n",
            "    Range : 0 ... 1692874 =      0.000 ...  6771.496 secs\n",
            "Ready.\n"
          ]
        },
        {
          "output_type": "stream",
          "name": "stderr",
          "text": [
            "/usr/local/lib/python3.7/dist-packages/braindecode/mne_ext/signalproc.py:67: DeprecationWarning: sfreq cannot be set directly. Please use method inst.resample() instead. This warning will turn into an error after 0.24\n",
            "  new_info[\"sfreq\"] = new_fs\n"
          ]
        },
        {
          "output_type": "stream",
          "name": "stdout",
          "text": [
            "Creating RawArray with float64 data, n_channels=3, n_times=3032845\n",
            "    Range : 0 ... 3032844 =      0.000 ...  6065.688 secs\n",
            "Ready.\n"
          ]
        },
        {
          "output_type": "stream",
          "name": "stderr",
          "text": [
            "/usr/local/lib/python3.7/dist-packages/braindecode/datasets/bbci.py:210: DeprecationWarning: events cannot be set directly. This warning will turn into an error after 0.24\n",
            "  cnt.info[\"events\"] = np.array(event_arr).T\n",
            "This is not causal, uses future data....\n"
          ]
        },
        {
          "output_type": "stream",
          "name": "stdout",
          "text": [
            "Creating RawArray with float64 data, n_channels=3, n_times=1516422\n",
            "    Range : 0 ... 1516421 =      0.000 ...  6065.684 secs\n",
            "Ready.\n"
          ]
        },
        {
          "output_type": "stream",
          "name": "stderr",
          "text": [
            "/usr/local/lib/python3.7/dist-packages/braindecode/mne_ext/signalproc.py:67: DeprecationWarning: sfreq cannot be set directly. Please use method inst.resample() instead. This warning will turn into an error after 0.24\n",
            "  new_info[\"sfreq\"] = new_fs\n"
          ]
        },
        {
          "output_type": "stream",
          "name": "stdout",
          "text": [
            "Creating RawArray with float64 data, n_channels=3, n_times=3345425\n",
            "    Range : 0 ... 3345424 =      0.000 ...  6690.848 secs\n",
            "Ready.\n"
          ]
        },
        {
          "output_type": "stream",
          "name": "stderr",
          "text": [
            "/usr/local/lib/python3.7/dist-packages/braindecode/datasets/bbci.py:210: DeprecationWarning: events cannot be set directly. This warning will turn into an error after 0.24\n",
            "  cnt.info[\"events\"] = np.array(event_arr).T\n",
            "This is not causal, uses future data....\n"
          ]
        },
        {
          "output_type": "stream",
          "name": "stdout",
          "text": [
            "Creating RawArray with float64 data, n_channels=3, n_times=1672712\n",
            "    Range : 0 ... 1672711 =      0.000 ...  6690.844 secs\n",
            "Ready.\n"
          ]
        },
        {
          "output_type": "stream",
          "name": "stderr",
          "text": [
            "/usr/local/lib/python3.7/dist-packages/braindecode/mne_ext/signalproc.py:67: DeprecationWarning: sfreq cannot be set directly. Please use method inst.resample() instead. This warning will turn into an error after 0.24\n",
            "  new_info[\"sfreq\"] = new_fs\n"
          ]
        },
        {
          "output_type": "stream",
          "name": "stdout",
          "text": [
            "Creating RawArray with float64 data, n_channels=3, n_times=616535\n",
            "    Range : 0 ... 616534 =      0.000 ...  1233.068 secs\n",
            "Ready.\n"
          ]
        },
        {
          "output_type": "stream",
          "name": "stderr",
          "text": [
            "/usr/local/lib/python3.7/dist-packages/braindecode/datasets/bbci.py:210: DeprecationWarning: events cannot be set directly. This warning will turn into an error after 0.24\n",
            "  cnt.info[\"events\"] = np.array(event_arr).T\n",
            "This is not causal, uses future data....\n",
            "/usr/local/lib/python3.7/dist-packages/braindecode/mne_ext/signalproc.py:67: DeprecationWarning: sfreq cannot be set directly. Please use method inst.resample() instead. This warning will turn into an error after 0.24\n",
            "  new_info[\"sfreq\"] = new_fs\n"
          ]
        },
        {
          "output_type": "stream",
          "name": "stdout",
          "text": [
            "Creating RawArray with float64 data, n_channels=3, n_times=308267\n",
            "    Range : 0 ... 308266 =      0.000 ...  1233.064 secs\n",
            "Ready.\n",
            "Creating RawArray with float64 data, n_channels=3, n_times=617735\n",
            "    Range : 0 ... 617734 =      0.000 ...  1235.468 secs\n",
            "Ready.\n"
          ]
        },
        {
          "output_type": "stream",
          "name": "stderr",
          "text": [
            "/usr/local/lib/python3.7/dist-packages/braindecode/datasets/bbci.py:210: DeprecationWarning: events cannot be set directly. This warning will turn into an error after 0.24\n",
            "  cnt.info[\"events\"] = np.array(event_arr).T\n",
            "This is not causal, uses future data....\n"
          ]
        },
        {
          "output_type": "stream",
          "name": "stdout",
          "text": [
            "Creating RawArray with float64 data, n_channels=3, n_times=308867\n",
            "    Range : 0 ... 308866 =      0.000 ...  1235.464 secs\n",
            "Ready.\n"
          ]
        },
        {
          "output_type": "stream",
          "name": "stderr",
          "text": [
            "/usr/local/lib/python3.7/dist-packages/braindecode/mne_ext/signalproc.py:67: DeprecationWarning: sfreq cannot be set directly. Please use method inst.resample() instead. This warning will turn into an error after 0.24\n",
            "  new_info[\"sfreq\"] = new_fs\n"
          ]
        },
        {
          "output_type": "stream",
          "name": "stdout",
          "text": [
            "Creating RawArray with float64 data, n_channels=3, n_times=609030\n",
            "    Range : 0 ... 609029 =      0.000 ...  1218.058 secs\n",
            "Ready.\n"
          ]
        },
        {
          "output_type": "stream",
          "name": "stderr",
          "text": [
            "/usr/local/lib/python3.7/dist-packages/braindecode/datasets/bbci.py:210: DeprecationWarning: events cannot be set directly. This warning will turn into an error after 0.24\n",
            "  cnt.info[\"events\"] = np.array(event_arr).T\n",
            "This is not causal, uses future data....\n"
          ]
        },
        {
          "output_type": "stream",
          "name": "stdout",
          "text": [
            "Creating RawArray with float64 data, n_channels=3, n_times=304515\n",
            "    Range : 0 ... 304514 =      0.000 ...  1218.056 secs\n"
          ]
        },
        {
          "output_type": "stream",
          "name": "stderr",
          "text": [
            "/usr/local/lib/python3.7/dist-packages/braindecode/mne_ext/signalproc.py:67: DeprecationWarning: sfreq cannot be set directly. Please use method inst.resample() instead. This warning will turn into an error after 0.24\n",
            "  new_info[\"sfreq\"] = new_fs\n"
          ]
        },
        {
          "output_type": "stream",
          "name": "stdout",
          "text": [
            "Ready.\n",
            "Creating RawArray with float64 data, n_channels=3, n_times=617090\n",
            "    Range : 0 ... 617089 =      0.000 ...  1234.178 secs\n",
            "Ready.\n"
          ]
        },
        {
          "output_type": "stream",
          "name": "stderr",
          "text": [
            "/usr/local/lib/python3.7/dist-packages/braindecode/datasets/bbci.py:210: DeprecationWarning: events cannot be set directly. This warning will turn into an error after 0.24\n",
            "  cnt.info[\"events\"] = np.array(event_arr).T\n",
            "This is not causal, uses future data....\n"
          ]
        },
        {
          "output_type": "stream",
          "name": "stdout",
          "text": [
            "Creating RawArray with float64 data, n_channels=3, n_times=308545\n",
            "    Range : 0 ... 308544 =      0.000 ...  1234.176 secs\n",
            "Ready.\n"
          ]
        },
        {
          "output_type": "stream",
          "name": "stderr",
          "text": [
            "/usr/local/lib/python3.7/dist-packages/braindecode/mne_ext/signalproc.py:67: DeprecationWarning: sfreq cannot be set directly. Please use method inst.resample() instead. This warning will turn into an error after 0.24\n",
            "  new_info[\"sfreq\"] = new_fs\n"
          ]
        },
        {
          "output_type": "stream",
          "name": "stdout",
          "text": [
            "Creating RawArray with float64 data, n_channels=3, n_times=607250\n",
            "    Range : 0 ... 607249 =      0.000 ...  1214.498 secs\n",
            "Ready.\n"
          ]
        },
        {
          "output_type": "stream",
          "name": "stderr",
          "text": [
            "/usr/local/lib/python3.7/dist-packages/braindecode/datasets/bbci.py:210: DeprecationWarning: events cannot be set directly. This warning will turn into an error after 0.24\n",
            "  cnt.info[\"events\"] = np.array(event_arr).T\n",
            "This is not causal, uses future data....\n"
          ]
        },
        {
          "output_type": "stream",
          "name": "stdout",
          "text": [
            "Creating RawArray with float64 data, n_channels=3, n_times=303625\n"
          ]
        },
        {
          "output_type": "stream",
          "name": "stderr",
          "text": [
            "/usr/local/lib/python3.7/dist-packages/braindecode/mne_ext/signalproc.py:67: DeprecationWarning: sfreq cannot be set directly. Please use method inst.resample() instead. This warning will turn into an error after 0.24\n",
            "  new_info[\"sfreq\"] = new_fs\n"
          ]
        },
        {
          "output_type": "stream",
          "name": "stdout",
          "text": [
            "    Range : 0 ... 303624 =      0.000 ...  1214.496 secs\n",
            "Ready.\n",
            "Creating RawArray with float64 data, n_channels=3, n_times=615705\n",
            "    Range : 0 ... 615704 =      0.000 ...  1231.408 secs\n",
            "Ready.\n"
          ]
        },
        {
          "output_type": "stream",
          "name": "stderr",
          "text": [
            "/usr/local/lib/python3.7/dist-packages/braindecode/datasets/bbci.py:210: DeprecationWarning: events cannot be set directly. This warning will turn into an error after 0.24\n",
            "  cnt.info[\"events\"] = np.array(event_arr).T\n",
            "This is not causal, uses future data....\n"
          ]
        },
        {
          "output_type": "stream",
          "name": "stdout",
          "text": [
            "Creating RawArray with float64 data, n_channels=3, n_times=307852\n",
            "    Range : 0 ... 307851 =      0.000 ...  1231.404 secs\n"
          ]
        },
        {
          "output_type": "stream",
          "name": "stderr",
          "text": [
            "/usr/local/lib/python3.7/dist-packages/braindecode/mne_ext/signalproc.py:67: DeprecationWarning: sfreq cannot be set directly. Please use method inst.resample() instead. This warning will turn into an error after 0.24\n",
            "  new_info[\"sfreq\"] = new_fs\n"
          ]
        },
        {
          "output_type": "stream",
          "name": "stdout",
          "text": [
            "Ready.\n",
            "Creating RawArray with float64 data, n_channels=3, n_times=608850\n",
            "    Range : 0 ... 608849 =      0.000 ...  1217.698 secs\n",
            "Ready.\n"
          ]
        },
        {
          "output_type": "stream",
          "name": "stderr",
          "text": [
            "/usr/local/lib/python3.7/dist-packages/braindecode/datasets/bbci.py:210: DeprecationWarning: events cannot be set directly. This warning will turn into an error after 0.24\n",
            "  cnt.info[\"events\"] = np.array(event_arr).T\n",
            "This is not causal, uses future data....\n"
          ]
        },
        {
          "output_type": "stream",
          "name": "stdout",
          "text": [
            "Creating RawArray with float64 data, n_channels=3, n_times=304425\n",
            "    Range : 0 ... 304424 =      0.000 ...  1217.696 secs\n",
            "Ready.\n"
          ]
        },
        {
          "output_type": "stream",
          "name": "stderr",
          "text": [
            "/usr/local/lib/python3.7/dist-packages/braindecode/mne_ext/signalproc.py:67: DeprecationWarning: sfreq cannot be set directly. Please use method inst.resample() instead. This warning will turn into an error after 0.24\n",
            "  new_info[\"sfreq\"] = new_fs\n"
          ]
        },
        {
          "output_type": "stream",
          "name": "stdout",
          "text": [
            "Creating RawArray with float64 data, n_channels=3, n_times=616070\n",
            "    Range : 0 ... 616069 =      0.000 ...  1232.138 secs\n",
            "Ready.\n"
          ]
        },
        {
          "output_type": "stream",
          "name": "stderr",
          "text": [
            "/usr/local/lib/python3.7/dist-packages/braindecode/datasets/bbci.py:210: DeprecationWarning: events cannot be set directly. This warning will turn into an error after 0.24\n",
            "  cnt.info[\"events\"] = np.array(event_arr).T\n",
            "This is not causal, uses future data....\n"
          ]
        },
        {
          "output_type": "stream",
          "name": "stdout",
          "text": [
            "Creating RawArray with float64 data, n_channels=3, n_times=308035\n",
            "    Range : 0 ... 308034 =      0.000 ...  1232.136 secs\n"
          ]
        },
        {
          "output_type": "stream",
          "name": "stderr",
          "text": [
            "/usr/local/lib/python3.7/dist-packages/braindecode/mne_ext/signalproc.py:67: DeprecationWarning: sfreq cannot be set directly. Please use method inst.resample() instead. This warning will turn into an error after 0.24\n",
            "  new_info[\"sfreq\"] = new_fs\n"
          ]
        },
        {
          "output_type": "stream",
          "name": "stdout",
          "text": [
            "Ready.\n",
            "Creating RawArray with float64 data, n_channels=3, n_times=614600\n",
            "    Range : 0 ... 614599 =      0.000 ...  1229.198 secs\n",
            "Ready.\n"
          ]
        },
        {
          "output_type": "stream",
          "name": "stderr",
          "text": [
            "/usr/local/lib/python3.7/dist-packages/braindecode/datasets/bbci.py:210: DeprecationWarning: events cannot be set directly. This warning will turn into an error after 0.24\n",
            "  cnt.info[\"events\"] = np.array(event_arr).T\n",
            "This is not causal, uses future data....\n"
          ]
        },
        {
          "output_type": "stream",
          "name": "stdout",
          "text": [
            "Creating RawArray with float64 data, n_channels=3, n_times=307300\n",
            "    Range : 0 ... 307299 =      0.000 ...  1229.196 secs\n",
            "Ready.\n"
          ]
        },
        {
          "output_type": "stream",
          "name": "stderr",
          "text": [
            "/usr/local/lib/python3.7/dist-packages/braindecode/mne_ext/signalproc.py:67: DeprecationWarning: sfreq cannot be set directly. Please use method inst.resample() instead. This warning will turn into an error after 0.24\n",
            "  new_info[\"sfreq\"] = new_fs\n"
          ]
        },
        {
          "output_type": "stream",
          "name": "stdout",
          "text": [
            "Creating RawArray with float64 data, n_channels=3, n_times=614555\n",
            "    Range : 0 ... 614554 =      0.000 ...  1229.108 secs\n",
            "Ready.\n"
          ]
        },
        {
          "output_type": "stream",
          "name": "stderr",
          "text": [
            "/usr/local/lib/python3.7/dist-packages/braindecode/datasets/bbci.py:210: DeprecationWarning: events cannot be set directly. This warning will turn into an error after 0.24\n",
            "  cnt.info[\"events\"] = np.array(event_arr).T\n",
            "This is not causal, uses future data....\n"
          ]
        },
        {
          "output_type": "stream",
          "name": "stdout",
          "text": [
            "Creating RawArray with float64 data, n_channels=3, n_times=307277\n",
            "    Range : 0 ... 307276 =      0.000 ...  1229.104 secs\n",
            "Ready.\n"
          ]
        },
        {
          "output_type": "stream",
          "name": "stderr",
          "text": [
            "/usr/local/lib/python3.7/dist-packages/braindecode/mne_ext/signalproc.py:67: DeprecationWarning: sfreq cannot be set directly. Please use method inst.resample() instead. This warning will turn into an error after 0.24\n",
            "  new_info[\"sfreq\"] = new_fs\n"
          ]
        },
        {
          "output_type": "stream",
          "name": "stdout",
          "text": [
            "Creating RawArray with float64 data, n_channels=3, n_times=610820\n",
            "    Range : 0 ... 610819 =      0.000 ...  1221.638 secs\n",
            "Ready.\n"
          ]
        },
        {
          "output_type": "stream",
          "name": "stderr",
          "text": [
            "/usr/local/lib/python3.7/dist-packages/braindecode/datasets/bbci.py:210: DeprecationWarning: events cannot be set directly. This warning will turn into an error after 0.24\n",
            "  cnt.info[\"events\"] = np.array(event_arr).T\n",
            "This is not causal, uses future data....\n"
          ]
        },
        {
          "output_type": "stream",
          "name": "stdout",
          "text": [
            "Creating RawArray with float64 data, n_channels=3, n_times=305410\n",
            "    Range : 0 ... 305409 =      0.000 ...  1221.636 secs\n",
            "Ready.\n"
          ]
        },
        {
          "output_type": "stream",
          "name": "stderr",
          "text": [
            "/usr/local/lib/python3.7/dist-packages/braindecode/mne_ext/signalproc.py:67: DeprecationWarning: sfreq cannot be set directly. Please use method inst.resample() instead. This warning will turn into an error after 0.24\n",
            "  new_info[\"sfreq\"] = new_fs\n"
          ]
        },
        {
          "output_type": "stream",
          "name": "stdout",
          "text": [
            "Creating RawArray with float64 data, n_channels=3, n_times=614290\n",
            "    Range : 0 ... 614289 =      0.000 ...  1228.578 secs\n",
            "Ready.\n"
          ]
        },
        {
          "output_type": "stream",
          "name": "stderr",
          "text": [
            "/usr/local/lib/python3.7/dist-packages/braindecode/datasets/bbci.py:210: DeprecationWarning: events cannot be set directly. This warning will turn into an error after 0.24\n",
            "  cnt.info[\"events\"] = np.array(event_arr).T\n",
            "This is not causal, uses future data....\n"
          ]
        },
        {
          "output_type": "stream",
          "name": "stdout",
          "text": [
            "Creating RawArray with float64 data, n_channels=3, n_times=307145\n",
            "    Range : 0 ... 307144 =      0.000 ...  1228.576 secs\n",
            "Ready.\n"
          ]
        },
        {
          "output_type": "stream",
          "name": "stderr",
          "text": [
            "/usr/local/lib/python3.7/dist-packages/braindecode/mne_ext/signalproc.py:67: DeprecationWarning: sfreq cannot be set directly. Please use method inst.resample() instead. This warning will turn into an error after 0.24\n",
            "  new_info[\"sfreq\"] = new_fs\n"
          ]
        },
        {
          "output_type": "stream",
          "name": "stdout",
          "text": [
            "Creating RawArray with float64 data, n_channels=3, n_times=607735\n",
            "    Range : 0 ... 607734 =      0.000 ...  1215.468 secs\n",
            "Ready.\n"
          ]
        },
        {
          "output_type": "stream",
          "name": "stderr",
          "text": [
            "/usr/local/lib/python3.7/dist-packages/braindecode/datasets/bbci.py:210: DeprecationWarning: events cannot be set directly. This warning will turn into an error after 0.24\n",
            "  cnt.info[\"events\"] = np.array(event_arr).T\n",
            "This is not causal, uses future data....\n"
          ]
        },
        {
          "output_type": "stream",
          "name": "stdout",
          "text": [
            "Creating RawArray with float64 data, n_channels=3, n_times=303867\n",
            "    Range : 0 ... 303866 =      0.000 ...  1215.464 secs\n",
            "Ready.\n"
          ]
        },
        {
          "output_type": "stream",
          "name": "stderr",
          "text": [
            "/usr/local/lib/python3.7/dist-packages/braindecode/mne_ext/signalproc.py:67: DeprecationWarning: sfreq cannot be set directly. Please use method inst.resample() instead. This warning will turn into an error after 0.24\n",
            "  new_info[\"sfreq\"] = new_fs\n"
          ]
        },
        {
          "output_type": "stream",
          "name": "stdout",
          "text": [
            "Creating RawArray with float64 data, n_channels=3, n_times=608505\n",
            "    Range : 0 ... 608504 =      0.000 ...  1217.008 secs\n",
            "Ready.\n"
          ]
        },
        {
          "output_type": "stream",
          "name": "stderr",
          "text": [
            "/usr/local/lib/python3.7/dist-packages/braindecode/datasets/bbci.py:210: DeprecationWarning: events cannot be set directly. This warning will turn into an error after 0.24\n",
            "  cnt.info[\"events\"] = np.array(event_arr).T\n",
            "This is not causal, uses future data....\n"
          ]
        },
        {
          "output_type": "stream",
          "name": "stdout",
          "text": [
            "Creating RawArray with float64 data, n_channels=3, n_times=304252\n",
            "    Range : 0 ... 304251 =      0.000 ...  1217.004 secs\n",
            "Ready.\n"
          ]
        },
        {
          "output_type": "stream",
          "name": "stderr",
          "text": [
            "/usr/local/lib/python3.7/dist-packages/braindecode/mne_ext/signalproc.py:67: DeprecationWarning: sfreq cannot be set directly. Please use method inst.resample() instead. This warning will turn into an error after 0.24\n",
            "  new_info[\"sfreq\"] = new_fs\n"
          ]
        }
      ]
    },
    {
      "cell_type": "code",
      "metadata": {
        "colab": {
          "base_uri": "https://localhost:8080/"
        },
        "id": "bBxrb5ex1ouq",
        "outputId": "d02eb939-64b1-4d45-f82f-18ffb1839f7c"
      },
      "source": [
        "import numpy as np\n",
        "train_X, train_y = [], []\n",
        "for D in datasets:\n",
        "  train_X.append(np.transpose(np.asarray(D.X), [0, 2, 1]).reshape([-1, 25, 20, 3]))\n",
        "  train_y.append(np.asarray(D.y))\n",
        "train_X = np.concatenate(train_X, axis=0)\n",
        "train_y = np.concatenate(train_y, axis=0)\n",
        "train_X.shape"
      ],
      "execution_count": 4,
      "outputs": [
        {
          "output_type": "execute_result",
          "data": {
            "text/plain": [
              "(13480, 25, 20, 3)"
            ]
          },
          "metadata": {},
          "execution_count": 4
        }
      ]
    },
    {
      "cell_type": "code",
      "metadata": {
        "id": "kRSybGqAEd0I"
      },
      "source": [
        "#split validation dataset\n",
        "import random\n",
        "sample_len = train_X.shape[0]\n",
        "splite_ratio = 0.1\n",
        "valid_num = int(sample_len*splite_ratio)\n",
        "valid_idx = random.sample(list(range(sample_len)), valid_num) #生成随机数，validation的下标们\n",
        "train_idx = np.asarray(list(set(list(range(sample_len))) - set(list(valid_idx)))) #set集合可以来做减法，交并集\n",
        "\n",
        "valid_X = train_X[valid_idx, :, :, :]\n",
        "valid_y = train_y[valid_idx]\n",
        "train_X = train_X[train_idx, :, :, :]\n",
        "train_y = train_y[train_idx]\n",
        "\n",
        "# aug_valid_X1 = aug_X_1[valid_idx, :, :, :]\n",
        "# aug_valid_X2 = aug_X_2[valid_idx, :, :, :]\n",
        "# aug_train_X1 = aug_X_1[train_idx, :, :, :]\n",
        "# aug_train_X2 = aug_X_2[train_idx, :, :, :]"
      ],
      "execution_count": 5,
      "outputs": []
    },
    {
      "cell_type": "code",
      "metadata": {
        "id": "BciGLaBM1tIm",
        "colab": {
          "base_uri": "https://localhost:8080/"
        },
        "outputId": "c909269a-43f6-407d-e770-1d6b9d4b8694"
      },
      "source": [
        "## import tf and check gpu is_available\n",
        "import tensorflow as tf\n",
        "assert tf.test.is_gpu_available()"
      ],
      "execution_count": 6,
      "outputs": [
        {
          "output_type": "stream",
          "name": "stdout",
          "text": [
            "WARNING:tensorflow:From <ipython-input-6-e57ab6db00b4>:3: is_gpu_available (from tensorflow.python.framework.test_util) is deprecated and will be removed in a future version.\n",
            "Instructions for updating:\n",
            "Use `tf.config.list_physical_devices('GPU')` instead.\n"
          ]
        }
      ]
    },
    {
      "cell_type": "code",
      "metadata": {
        "id": "dPFAbZFx1x_N"
      },
      "source": [
        "## build model\n",
        "batch_size = 64\n",
        "views = 2\n",
        "assert views == 2\n",
        "temperature = 0.2\n",
        "\n",
        "def get_model(input_):\n",
        "  inputs = input_\n",
        "\n",
        "  # CONV_1\n",
        "  C_1 = tf.keras.layers.Conv2D(32, (3, 3), padding=\"SAME\", name=\"C_1\")(inputs)\n",
        "  B_1 = tf.keras.layers.BatchNormalization(name=\"B_1\")(C_1)\n",
        "  L_1 = tf.keras.layers.LeakyReLU()(B_1)\n",
        "  # D_1 = tf.keras.layers.Dropout(rate=0.1)(L_1)\n",
        "\n",
        "  # CONV_2\n",
        "  C_2 = tf.keras.layers.Conv2D(32, (3, 3), padding=\"SAME\", name=\"C_2\")(L_1)\n",
        "  B_2 = tf.keras.layers.BatchNormalization(name=\"B_2\")(C_2)\n",
        "  L_2 = tf.keras.layers.LeakyReLU()(B_2)\n",
        "  \n",
        "  # MAX_POOLING_1\n",
        "  M_1 = tf.keras.layers.MaxPool2D(pool_size=(2, 2), strides=(2, 2), padding=\"SAME\")(L_2) \n",
        "  print(M_1.shape) #13, 10, 32\n",
        "\n",
        "  # CONV_3\n",
        "  # C_3_IN = tf.concat((L_2, L_1), axis=3) \n",
        "  C_3 = tf.keras.layers.Conv2D(64, (3, 3), padding=\"SAME\", name=\"C_3\")(M_1)\n",
        "  B_3 = tf.keras.layers.BatchNormalization(name=\"B_3\")(C_3)\n",
        "  L_3 = tf.keras.layers.LeakyReLU()(B_3)\n",
        "  # D_3 = tf.keras.layers.Dropout(rate=0.1)(L_3)\n",
        "\n",
        "\n",
        "  # CONV_4\n",
        "  C_4 = tf.keras.layers.Conv2D(64, (3, 3), padding=\"SAME\", name=\"C_4\")(L_3)\n",
        "  B_4 = tf.keras.layers.BatchNormalization(name=\"B_4\")(C_4)\n",
        "  L_4 = tf.keras.layers.LeakyReLU()(B_4)\n",
        "  # D_4 = tf.keras.layers.Dropout(rate=0.1)(L_4)\n",
        "\n",
        "  # MAX_POOLING_2\n",
        "  M_2 = tf.keras.layers.MaxPool2D(pool_size=(2, 2), strides=(2, 2), padding=\"SAME\")(L_4) \n",
        "  print(M_2.shape)\n",
        "\n",
        "  # FC\n",
        "  F_IN = tf.reshape(M_2, [-1, 7 * 5 * 64])\n",
        "  F_1 = tf.keras.layers.Dense(256, name=\"simCLR_F_1\")(F_IN)#非线性分类器\n",
        "  F_1_L = tf.keras.layers.ReLU()(F_1)\n",
        "  F_2 = tf.keras.layers.Dense(128, name=\"simCLR_F_2\")(F_1_L)\n",
        "  F_2_L = tf.keras.layers.ReLU()(F_2)\n",
        "  features = tf.keras.layers.Dense(50, name=\"simCLR_F_3\")(F_2_L)\n",
        "  return features"
      ],
      "execution_count": 8,
      "outputs": []
    },
    {
      "cell_type": "code",
      "metadata": {
        "id": "QAM4D2WHQXQr"
      },
      "source": [
        "negative_mask = np.ones((batch_size, 2 * batch_size), dtype=bool)\n",
        "for i in range(batch_size):\n",
        "    negative_mask[i, i] = 0\n",
        "    negative_mask[i, i + batch_size] = 0\n",
        "negative_mask = tf.constant(negative_mask) #生成一个常量张量\n",
        "\n",
        "@tf.function\n",
        "def train_step(xis, xjs, model, optimizer, criterion, temperature):\n",
        "    with tf.GradientTape() as tape:\n",
        "      zis = model(xis)\n",
        "      zjs = model(xjs)\n",
        "\n",
        "      # normalize projection feature vectors\n",
        "      zis = tf.math.l2_normalize(zis, axis=1)\n",
        "      zjs = tf.math.l2_normalize(zjs, axis=1)\n",
        "\n",
        "      l_pos = tf.matmul(tf.expand_dims(zis, 1), tf.expand_dims(zjs, 2)) #两个矩阵的乘积\n",
        "      l_pos = tf.reshape(l_pos, (batch_size, 1))\n",
        "      l_pos /= temperature\n",
        "\n",
        "      negatives = tf.concat([zjs, zis], axis=0)\n",
        "\n",
        "      loss = 0\n",
        "\n",
        "      for positives in [zis, zjs]:\n",
        "        # l_neg = sim_func_dim2(positives, negatives)\n",
        "        l_neg = tf.tensordot(tf.expand_dims(positives, 1), tf.expand_dims(tf.transpose(negatives), 0), axes=2)#矩阵相乘\n",
        "\n",
        "        labels = tf.zeros(batch_size, dtype=tf.int32)\n",
        "\n",
        "        l_neg = tf.boolean_mask(l_neg, negative_mask)#返回negative_mask为true对应的l_neg的元素\n",
        "        l_neg = tf.reshape(l_neg, (batch_size, -1))\n",
        "        l_neg /= temperature\n",
        "\n",
        "        logits = tf.concat([l_pos, l_neg], axis=1) \n",
        "        loss += criterion(y_pred=logits, y_true=labels)\n",
        "\n",
        "      loss = loss / (2 * batch_size)\n",
        "\n",
        "    gradients = tape.gradient(loss, model.trainable_variables) #梯度返传，更新参数\n",
        "    optimizer.apply_gradients(zip(gradients, model.trainable_variables))\n",
        "\n",
        "    return loss"
      ],
      "execution_count": 9,
      "outputs": []
    },
    {
      "cell_type": "code",
      "metadata": {
        "id": "Sd4eaF3xpVAJ"
      },
      "source": [
        "def valid_step(xis, xjs, model,temperature):\n",
        "  zis = model(xis)\n",
        "  zjs = model(xjs)\n",
        "\n",
        "  # normalize projection feature vectors\n",
        "  zis = tf.math.l2_normalize(zis, axis=1)\n",
        "  zjs = tf.math.l2_normalize(zjs, axis=1)\n",
        "\n",
        "  l_pos = tf.matmul(tf.expand_dims(zis, 1), tf.expand_dims(zjs, 2)) #两个矩阵的乘积\n",
        "  l_pos = tf.reshape(l_pos, (batch_size, 1))\n",
        "  l_pos /= temperature\n",
        "\n",
        "  negatives = tf.concat([zjs, zis], axis=0)\n",
        "\n",
        "  logits = []\n",
        "\n",
        "  for positives in [zis, zjs]:\n",
        "    # l_neg = sim_func_dim2(positives, negatives)\n",
        "    l_neg = tf.tensordot(tf.expand_dims(positives, 1), tf.expand_dims(tf.transpose(negatives), 0), axes=2)#矩阵相乘\n",
        "\n",
        "    labels = tf.zeros(batch_size, dtype=tf.int32)\n",
        "\n",
        "    l_neg = tf.boolean_mask(l_neg, negative_mask)#返回negative_mask为true对应的l_neg的元素\n",
        "    l_neg = tf.reshape(l_neg, (batch_size, -1))\n",
        "    l_neg /= temperature\n",
        "\n",
        "    logits.append(tf.concat([l_pos, l_neg], axis=1))\n",
        "\n",
        "  return logits"
      ],
      "execution_count": 10,
      "outputs": []
    },
    {
      "cell_type": "code",
      "metadata": {
        "id": "i7UsbhWFRH6F"
      },
      "source": [
        "from tqdm import tqdm\n",
        "mu, sigma =0, 1\n",
        "def data_augmentation(batch, mu = mu, sigma = sigma):\n",
        "  return np.random.normal(0, 1, size=batch.shape) + batch\n",
        "\n",
        "def get_ds(dataset):\n",
        "  train_ds = []\n",
        "  start = 0\n",
        "  while True:\n",
        "    end = start + batch_size\n",
        "    if end < dataset.shape[0]:\n",
        "      train_ds.append(dataset[start:end])\n",
        "      start = end\n",
        "    else:\n",
        "      break\n",
        "  return train_ds\n",
        "\n",
        "def valid_simclr(model, dataset, temperature=0.1):\n",
        "  positive_num = 0\n",
        "  sample_num = 0\n",
        "  for eeg_batch in dataset:\n",
        "    a = data_augmentation(eeg_batch)\n",
        "    b = data_augmentation(eeg_batch)\n",
        "\n",
        "    logit1, logit2 = valid_step(a, b, model, temperature)\n",
        "    sample_num += (logit1.shape[0]+logit2.shape[0])\n",
        "    positive_num += (tf.reduce_sum(tf.cast(tf.argmax(logit1, axis=-1) == 0, tf.int32)) + tf.reduce_sum(tf.cast(tf.argmax(logit1, axis=-1) == 0, tf.int32)))\n",
        "  return positive_num / sample_num\n",
        "\n",
        "def train_simclr(model, train_dataset, valid_dataset, optimizer, criterion,\n",
        "                 temperature=0.1, epochs=100):\n",
        "    step_wise_loss = []\n",
        "    epoch_wise_loss = []\n",
        "\n",
        "    for epoch in tqdm(range(epochs)):\n",
        "      for eeg_batch in train_dataset:\n",
        "        a = data_augmentation(eeg_batch)\n",
        "        b = data_augmentation(eeg_batch)\n",
        "\n",
        "        loss = train_step(a, b, model, optimizer, criterion, temperature)\n",
        "        step_wise_loss.append(loss)\n",
        "\n",
        "      epoch_wise_loss.append(np.mean(step_wise_loss))\n",
        "      # wandb.log({\"nt_xentloss\": np.mean(step_wise_loss)}) \n",
        "      top1_acc = valid_simclr(model, valid_dataset, temperature)\n",
        "      print(\"epoch: {} loss: {:.3f} tpo1_acc{}%\".format(epoch + 1, np.mean(step_wise_loss), top1_acc*100))\n",
        "\n",
        "    return epoch_wise_loss, model\n",
        "\n"
      ],
      "execution_count": 11,
      "outputs": []
    },
    {
      "cell_type": "code",
      "metadata": {
        "colab": {
          "base_uri": "https://localhost:8080/"
        },
        "id": "W8q7v4y5Rm25",
        "outputId": "673a0b83-affe-4a7e-c074-18b6f023819e"
      },
      "source": [
        "criterion = tf.keras.losses.SparseCategoricalCrossentropy(from_logits=True, \n",
        "                                                          reduction=tf.keras.losses.Reduction.SUM)\n",
        "decay_steps = 1000\n",
        "learning_rate = 0.001\n",
        "lr_decayed_fn = tf.keras.experimental.CosineDecay(\n",
        "    initial_learning_rate=learning_rate, decay_steps=decay_steps)\n",
        "optimizer = tf.keras.optimizers.SGD(lr_decayed_fn)\n",
        "\n",
        "input_eeg = tf.keras.Input(shape=[25, 20, 3])\n",
        "simclr_2 = tf.keras.Model(input_eeg, get_model(input_eeg))\n",
        "train_ds = get_ds(train_X)\n",
        "valid_ds = get_ds(valid_X)\n",
        "\n",
        "epoch_wise_loss, resnet_simclr  = train_simclr(simclr_2, train_ds, valid_ds, optimizer, criterion,\n",
        "                 temperature=temperature, epochs=200)\n",
        "simclr_2.save_weights(\"/content/drive/MyDrive/ckpt/high_gamma_pretrain_simclr/conv6net.h5\")"
      ],
      "execution_count": 12,
      "outputs": [
        {
          "output_type": "stream",
          "name": "stdout",
          "text": [
            "(None, 13, 10, 32)\n",
            "(None, 7, 5, 64)\n"
          ]
        },
        {
          "output_type": "stream",
          "name": "stderr",
          "text": [
            "  0%|          | 1/200 [00:16<54:22, 16.39s/it]"
          ]
        },
        {
          "output_type": "stream",
          "name": "stdout",
          "text": [
            "epoch: 1 loss: 3.002 tpo1_acc90.77380952380952%\n"
          ]
        },
        {
          "output_type": "stream",
          "name": "stderr",
          "text": [
            "\r  1%|          | 2/200 [00:21<32:08,  9.74s/it]"
          ]
        },
        {
          "output_type": "stream",
          "name": "stdout",
          "text": [
            "epoch: 2 loss: 2.481 tpo1_acc97.69345238095238%\n"
          ]
        },
        {
          "output_type": "stream",
          "name": "stderr",
          "text": [
            "\r  2%|▏         | 3/200 [00:26<24:57,  7.60s/it]"
          ]
        },
        {
          "output_type": "stream",
          "name": "stdout",
          "text": [
            "epoch: 3 loss: 2.258 tpo1_acc97.99107142857143%\n"
          ]
        },
        {
          "output_type": "stream",
          "name": "stderr",
          "text": [
            "\r  2%|▏         | 4/200 [00:31<21:31,  6.59s/it]"
          ]
        },
        {
          "output_type": "stream",
          "name": "stdout",
          "text": [
            "epoch: 4 loss: 2.135 tpo1_acc98.36309523809523%\n"
          ]
        },
        {
          "output_type": "stream",
          "name": "stderr",
          "text": [
            "\r  2%|▎         | 5/200 [00:36<19:48,  6.10s/it]"
          ]
        },
        {
          "output_type": "stream",
          "name": "stdout",
          "text": [
            "epoch: 5 loss: 2.061 tpo1_acc98.66071428571429%\n"
          ]
        },
        {
          "output_type": "stream",
          "name": "stderr",
          "text": [
            "\r  3%|▎         | 6/200 [00:41<18:34,  5.75s/it]"
          ]
        },
        {
          "output_type": "stream",
          "name": "stdout",
          "text": [
            "epoch: 6 loss: 2.011 tpo1_acc98.66071428571429%\n"
          ]
        },
        {
          "output_type": "stream",
          "name": "stderr",
          "text": [
            "\r  4%|▎         | 7/200 [00:46<17:44,  5.52s/it]"
          ]
        },
        {
          "output_type": "stream",
          "name": "stdout",
          "text": [
            "epoch: 7 loss: 1.975 tpo1_acc98.36309523809523%\n"
          ]
        },
        {
          "output_type": "stream",
          "name": "stderr",
          "text": [
            "\r  4%|▍         | 8/200 [00:51<17:08,  5.36s/it]"
          ]
        },
        {
          "output_type": "stream",
          "name": "stdout",
          "text": [
            "epoch: 8 loss: 1.948 tpo1_acc98.58630952380952%\n"
          ]
        },
        {
          "output_type": "stream",
          "name": "stderr",
          "text": [
            "\r  4%|▍         | 9/200 [00:56<16:42,  5.25s/it]"
          ]
        },
        {
          "output_type": "stream",
          "name": "stdout",
          "text": [
            "epoch: 9 loss: 1.927 tpo1_acc97.69345238095238%\n"
          ]
        },
        {
          "output_type": "stream",
          "name": "stderr",
          "text": [
            "\r  5%|▌         | 10/200 [01:01<16:25,  5.19s/it]"
          ]
        },
        {
          "output_type": "stream",
          "name": "stdout",
          "text": [
            "epoch: 10 loss: 1.911 tpo1_acc98.21428571428571%\n"
          ]
        },
        {
          "output_type": "stream",
          "name": "stderr",
          "text": [
            "\r  6%|▌         | 11/200 [01:07<16:12,  5.14s/it]"
          ]
        },
        {
          "output_type": "stream",
          "name": "stdout",
          "text": [
            "epoch: 11 loss: 1.897 tpo1_acc98.66071428571429%\n"
          ]
        },
        {
          "output_type": "stream",
          "name": "stderr",
          "text": [
            "\r  6%|▌         | 12/200 [01:12<16:02,  5.12s/it]"
          ]
        },
        {
          "output_type": "stream",
          "name": "stdout",
          "text": [
            "epoch: 12 loss: 1.885 tpo1_acc98.80952380952381%\n"
          ]
        },
        {
          "output_type": "stream",
          "name": "stderr",
          "text": [
            "\r  6%|▋         | 13/200 [01:17<15:55,  5.11s/it]"
          ]
        },
        {
          "output_type": "stream",
          "name": "stdout",
          "text": [
            "epoch: 13 loss: 1.876 tpo1_acc98.36309523809523%\n"
          ]
        },
        {
          "output_type": "stream",
          "name": "stderr",
          "text": [
            "\r  7%|▋         | 14/200 [01:22<15:45,  5.08s/it]"
          ]
        },
        {
          "output_type": "stream",
          "name": "stdout",
          "text": [
            "epoch: 14 loss: 1.867 tpo1_acc98.36309523809523%\n"
          ]
        },
        {
          "output_type": "stream",
          "name": "stderr",
          "text": [
            "\r  8%|▊         | 15/200 [01:27<15:40,  5.08s/it]"
          ]
        },
        {
          "output_type": "stream",
          "name": "stdout",
          "text": [
            "epoch: 15 loss: 1.860 tpo1_acc98.13988095238095%\n"
          ]
        },
        {
          "output_type": "stream",
          "name": "stderr",
          "text": [
            "\r  8%|▊         | 16/200 [01:32<15:33,  5.07s/it]"
          ]
        },
        {
          "output_type": "stream",
          "name": "stdout",
          "text": [
            "epoch: 16 loss: 1.854 tpo1_acc98.21428571428571%\n"
          ]
        },
        {
          "output_type": "stream",
          "name": "stderr",
          "text": [
            "\r  8%|▊         | 17/200 [01:37<15:26,  5.06s/it]"
          ]
        },
        {
          "output_type": "stream",
          "name": "stdout",
          "text": [
            "epoch: 17 loss: 1.849 tpo1_acc98.21428571428571%\n"
          ]
        },
        {
          "output_type": "stream",
          "name": "stderr",
          "text": [
            "\r  9%|▉         | 18/200 [01:42<15:20,  5.06s/it]"
          ]
        },
        {
          "output_type": "stream",
          "name": "stdout",
          "text": [
            "epoch: 18 loss: 1.844 tpo1_acc98.4375%\n"
          ]
        },
        {
          "output_type": "stream",
          "name": "stderr",
          "text": [
            "\r 10%|▉         | 19/200 [01:47<15:17,  5.07s/it]"
          ]
        },
        {
          "output_type": "stream",
          "name": "stdout",
          "text": [
            "epoch: 19 loss: 1.839 tpo1_acc98.13988095238095%\n"
          ]
        },
        {
          "output_type": "stream",
          "name": "stderr",
          "text": [
            "\r 10%|█         | 20/200 [01:52<15:11,  5.07s/it]"
          ]
        },
        {
          "output_type": "stream",
          "name": "stdout",
          "text": [
            "epoch: 20 loss: 1.836 tpo1_acc98.13988095238095%\n"
          ]
        },
        {
          "output_type": "stream",
          "name": "stderr",
          "text": [
            "\r 10%|█         | 21/200 [01:57<15:05,  5.06s/it]"
          ]
        },
        {
          "output_type": "stream",
          "name": "stdout",
          "text": [
            "epoch: 21 loss: 1.832 tpo1_acc98.95833333333334%\n"
          ]
        },
        {
          "output_type": "stream",
          "name": "stderr",
          "text": [
            "\r 11%|█         | 22/200 [02:02<15:01,  5.07s/it]"
          ]
        },
        {
          "output_type": "stream",
          "name": "stdout",
          "text": [
            "epoch: 22 loss: 1.829 tpo1_acc98.51190476190477%\n"
          ]
        },
        {
          "output_type": "stream",
          "name": "stderr",
          "text": [
            "\r 12%|█▏        | 23/200 [02:07<14:52,  5.04s/it]"
          ]
        },
        {
          "output_type": "stream",
          "name": "stdout",
          "text": [
            "epoch: 23 loss: 1.826 tpo1_acc98.66071428571429%\n"
          ]
        },
        {
          "output_type": "stream",
          "name": "stderr",
          "text": [
            "\r 12%|█▏        | 24/200 [02:12<14:46,  5.04s/it]"
          ]
        },
        {
          "output_type": "stream",
          "name": "stdout",
          "text": [
            "epoch: 24 loss: 1.823 tpo1_acc98.21428571428571%\n"
          ]
        },
        {
          "output_type": "stream",
          "name": "stderr",
          "text": [
            "\r 12%|█▎        | 25/200 [02:17<14:44,  5.05s/it]"
          ]
        },
        {
          "output_type": "stream",
          "name": "stdout",
          "text": [
            "epoch: 25 loss: 1.821 tpo1_acc98.28869047619048%\n"
          ]
        },
        {
          "output_type": "stream",
          "name": "stderr",
          "text": [
            "\r 13%|█▎        | 26/200 [02:22<14:41,  5.07s/it]"
          ]
        },
        {
          "output_type": "stream",
          "name": "stdout",
          "text": [
            "epoch: 26 loss: 1.818 tpo1_acc98.51190476190477%\n"
          ]
        },
        {
          "output_type": "stream",
          "name": "stderr",
          "text": [
            "\r 14%|█▎        | 27/200 [02:28<14:39,  5.08s/it]"
          ]
        },
        {
          "output_type": "stream",
          "name": "stdout",
          "text": [
            "epoch: 27 loss: 1.816 tpo1_acc98.88392857142857%\n"
          ]
        },
        {
          "output_type": "stream",
          "name": "stderr",
          "text": [
            "\r 14%|█▍        | 28/200 [02:33<14:34,  5.08s/it]"
          ]
        },
        {
          "output_type": "stream",
          "name": "stdout",
          "text": [
            "epoch: 28 loss: 1.814 tpo1_acc98.58630952380952%\n"
          ]
        },
        {
          "output_type": "stream",
          "name": "stderr",
          "text": [
            "\r 14%|█▍        | 29/200 [02:38<14:30,  5.09s/it]"
          ]
        },
        {
          "output_type": "stream",
          "name": "stdout",
          "text": [
            "epoch: 29 loss: 1.812 tpo1_acc98.06547619047619%\n"
          ]
        },
        {
          "output_type": "stream",
          "name": "stderr",
          "text": [
            "\r 15%|█▌        | 30/200 [02:43<14:24,  5.09s/it]"
          ]
        },
        {
          "output_type": "stream",
          "name": "stdout",
          "text": [
            "epoch: 30 loss: 1.811 tpo1_acc98.66071428571429%\n"
          ]
        },
        {
          "output_type": "stream",
          "name": "stderr",
          "text": [
            "\r 16%|█▌        | 31/200 [02:48<14:19,  5.09s/it]"
          ]
        },
        {
          "output_type": "stream",
          "name": "stdout",
          "text": [
            "epoch: 31 loss: 1.809 tpo1_acc98.13988095238095%\n"
          ]
        },
        {
          "output_type": "stream",
          "name": "stderr",
          "text": [
            "\r 16%|█▌        | 32/200 [02:53<14:15,  5.09s/it]"
          ]
        },
        {
          "output_type": "stream",
          "name": "stdout",
          "text": [
            "epoch: 32 loss: 1.808 tpo1_acc98.36309523809523%\n"
          ]
        },
        {
          "output_type": "stream",
          "name": "stderr",
          "text": [
            "\r 16%|█▋        | 33/200 [02:58<14:08,  5.08s/it]"
          ]
        },
        {
          "output_type": "stream",
          "name": "stdout",
          "text": [
            "epoch: 33 loss: 1.806 tpo1_acc98.58630952380952%\n"
          ]
        },
        {
          "output_type": "stream",
          "name": "stderr",
          "text": [
            "\r 17%|█▋        | 34/200 [03:03<14:04,  5.09s/it]"
          ]
        },
        {
          "output_type": "stream",
          "name": "stdout",
          "text": [
            "epoch: 34 loss: 1.805 tpo1_acc98.58630952380952%\n"
          ]
        },
        {
          "output_type": "stream",
          "name": "stderr",
          "text": [
            "\r 18%|█▊        | 35/200 [03:08<13:58,  5.08s/it]"
          ]
        },
        {
          "output_type": "stream",
          "name": "stdout",
          "text": [
            "epoch: 35 loss: 1.804 tpo1_acc98.73511904761905%\n"
          ]
        },
        {
          "output_type": "stream",
          "name": "stderr",
          "text": [
            "\r 18%|█▊        | 36/200 [03:13<13:54,  5.09s/it]"
          ]
        },
        {
          "output_type": "stream",
          "name": "stdout",
          "text": [
            "epoch: 36 loss: 1.802 tpo1_acc98.88392857142857%\n"
          ]
        },
        {
          "output_type": "stream",
          "name": "stderr",
          "text": [
            "\r 18%|█▊        | 37/200 [03:18<13:50,  5.09s/it]"
          ]
        },
        {
          "output_type": "stream",
          "name": "stdout",
          "text": [
            "epoch: 37 loss: 1.801 tpo1_acc97.91666666666666%\n"
          ]
        },
        {
          "output_type": "stream",
          "name": "stderr",
          "text": [
            "\r 19%|█▉        | 38/200 [03:23<13:44,  5.09s/it]"
          ]
        },
        {
          "output_type": "stream",
          "name": "stdout",
          "text": [
            "epoch: 38 loss: 1.800 tpo1_acc98.36309523809523%\n"
          ]
        },
        {
          "output_type": "stream",
          "name": "stderr",
          "text": [
            "\r 20%|█▉        | 39/200 [03:29<13:40,  5.09s/it]"
          ]
        },
        {
          "output_type": "stream",
          "name": "stdout",
          "text": [
            "epoch: 39 loss: 1.799 tpo1_acc98.51190476190477%\n"
          ]
        },
        {
          "output_type": "stream",
          "name": "stderr",
          "text": [
            "\r 20%|██        | 40/200 [03:34<13:34,  5.09s/it]"
          ]
        },
        {
          "output_type": "stream",
          "name": "stdout",
          "text": [
            "epoch: 40 loss: 1.798 tpo1_acc98.4375%\n"
          ]
        },
        {
          "output_type": "stream",
          "name": "stderr",
          "text": [
            "\r 20%|██        | 41/200 [03:39<13:29,  5.09s/it]"
          ]
        },
        {
          "output_type": "stream",
          "name": "stdout",
          "text": [
            "epoch: 41 loss: 1.797 tpo1_acc97.54464285714286%\n"
          ]
        },
        {
          "output_type": "stream",
          "name": "stderr",
          "text": [
            "\r 21%|██        | 42/200 [03:44<13:24,  5.09s/it]"
          ]
        },
        {
          "output_type": "stream",
          "name": "stdout",
          "text": [
            "epoch: 42 loss: 1.796 tpo1_acc98.06547619047619%\n"
          ]
        },
        {
          "output_type": "stream",
          "name": "stderr",
          "text": [
            "\r 22%|██▏       | 43/200 [03:49<13:19,  5.09s/it]"
          ]
        },
        {
          "output_type": "stream",
          "name": "stdout",
          "text": [
            "epoch: 43 loss: 1.795 tpo1_acc98.4375%\n"
          ]
        },
        {
          "output_type": "stream",
          "name": "stderr",
          "text": [
            "\r 22%|██▏       | 44/200 [03:54<13:14,  5.09s/it]"
          ]
        },
        {
          "output_type": "stream",
          "name": "stdout",
          "text": [
            "epoch: 44 loss: 1.795 tpo1_acc98.4375%\n"
          ]
        },
        {
          "output_type": "stream",
          "name": "stderr",
          "text": [
            "\r 22%|██▎       | 45/200 [03:59<13:10,  5.10s/it]"
          ]
        },
        {
          "output_type": "stream",
          "name": "stdout",
          "text": [
            "epoch: 45 loss: 1.794 tpo1_acc99.10714285714286%\n"
          ]
        },
        {
          "output_type": "stream",
          "name": "stderr",
          "text": [
            "\r 23%|██▎       | 46/200 [04:04<13:06,  5.11s/it]"
          ]
        },
        {
          "output_type": "stream",
          "name": "stdout",
          "text": [
            "epoch: 46 loss: 1.793 tpo1_acc98.28869047619048%\n"
          ]
        },
        {
          "output_type": "stream",
          "name": "stderr",
          "text": [
            "\r 24%|██▎       | 47/200 [04:09<12:59,  5.10s/it]"
          ]
        },
        {
          "output_type": "stream",
          "name": "stdout",
          "text": [
            "epoch: 47 loss: 1.792 tpo1_acc99.10714285714286%\n"
          ]
        },
        {
          "output_type": "stream",
          "name": "stderr",
          "text": [
            "\r 24%|██▍       | 48/200 [04:14<12:56,  5.11s/it]"
          ]
        },
        {
          "output_type": "stream",
          "name": "stdout",
          "text": [
            "epoch: 48 loss: 1.792 tpo1_acc98.36309523809523%\n"
          ]
        },
        {
          "output_type": "stream",
          "name": "stderr",
          "text": [
            "\r 24%|██▍       | 49/200 [04:20<12:52,  5.12s/it]"
          ]
        },
        {
          "output_type": "stream",
          "name": "stdout",
          "text": [
            "epoch: 49 loss: 1.791 tpo1_acc98.06547619047619%\n"
          ]
        },
        {
          "output_type": "stream",
          "name": "stderr",
          "text": [
            "\r 25%|██▌       | 50/200 [04:25<12:46,  5.11s/it]"
          ]
        },
        {
          "output_type": "stream",
          "name": "stdout",
          "text": [
            "epoch: 50 loss: 1.791 tpo1_acc98.36309523809523%\n"
          ]
        },
        {
          "output_type": "stream",
          "name": "stderr",
          "text": [
            "\r 26%|██▌       | 51/200 [04:30<12:42,  5.11s/it]"
          ]
        },
        {
          "output_type": "stream",
          "name": "stdout",
          "text": [
            "epoch: 51 loss: 1.790 tpo1_acc98.73511904761905%\n"
          ]
        },
        {
          "output_type": "stream",
          "name": "stderr",
          "text": [
            "\r 26%|██▌       | 52/200 [04:35<12:36,  5.11s/it]"
          ]
        },
        {
          "output_type": "stream",
          "name": "stdout",
          "text": [
            "epoch: 52 loss: 1.790 tpo1_acc98.73511904761905%\n"
          ]
        },
        {
          "output_type": "stream",
          "name": "stderr",
          "text": [
            "\r 26%|██▋       | 53/200 [04:40<12:29,  5.10s/it]"
          ]
        },
        {
          "output_type": "stream",
          "name": "stdout",
          "text": [
            "epoch: 53 loss: 1.789 tpo1_acc98.4375%\n"
          ]
        },
        {
          "output_type": "stream",
          "name": "stderr",
          "text": [
            "\r 27%|██▋       | 54/200 [04:45<12:26,  5.11s/it]"
          ]
        },
        {
          "output_type": "stream",
          "name": "stdout",
          "text": [
            "epoch: 54 loss: 1.788 tpo1_acc98.80952380952381%\n"
          ]
        },
        {
          "output_type": "stream",
          "name": "stderr",
          "text": [
            "\r 28%|██▊       | 55/200 [04:50<12:17,  5.09s/it]"
          ]
        },
        {
          "output_type": "stream",
          "name": "stdout",
          "text": [
            "epoch: 55 loss: 1.788 tpo1_acc98.80952380952381%\n"
          ]
        },
        {
          "output_type": "stream",
          "name": "stderr",
          "text": [
            "\r 28%|██▊       | 56/200 [04:55<12:14,  5.10s/it]"
          ]
        },
        {
          "output_type": "stream",
          "name": "stdout",
          "text": [
            "epoch: 56 loss: 1.787 tpo1_acc98.28869047619048%\n"
          ]
        },
        {
          "output_type": "stream",
          "name": "stderr",
          "text": [
            "\r 28%|██▊       | 57/200 [05:00<12:06,  5.08s/it]"
          ]
        },
        {
          "output_type": "stream",
          "name": "stdout",
          "text": [
            "epoch: 57 loss: 1.787 tpo1_acc98.13988095238095%\n"
          ]
        },
        {
          "output_type": "stream",
          "name": "stderr",
          "text": [
            "\r 29%|██▉       | 58/200 [05:05<12:00,  5.08s/it]"
          ]
        },
        {
          "output_type": "stream",
          "name": "stdout",
          "text": [
            "epoch: 58 loss: 1.786 tpo1_acc98.4375%\n"
          ]
        },
        {
          "output_type": "stream",
          "name": "stderr",
          "text": [
            "\r 30%|██▉       | 59/200 [05:11<11:57,  5.09s/it]"
          ]
        },
        {
          "output_type": "stream",
          "name": "stdout",
          "text": [
            "epoch: 59 loss: 1.786 tpo1_acc98.73511904761905%\n"
          ]
        },
        {
          "output_type": "stream",
          "name": "stderr",
          "text": [
            "\r 30%|███       | 60/200 [05:16<11:51,  5.08s/it]"
          ]
        },
        {
          "output_type": "stream",
          "name": "stdout",
          "text": [
            "epoch: 60 loss: 1.786 tpo1_acc98.36309523809523%\n"
          ]
        },
        {
          "output_type": "stream",
          "name": "stderr",
          "text": [
            "\r 30%|███       | 61/200 [05:21<11:47,  5.09s/it]"
          ]
        },
        {
          "output_type": "stream",
          "name": "stdout",
          "text": [
            "epoch: 61 loss: 1.785 tpo1_acc97.99107142857143%\n"
          ]
        },
        {
          "output_type": "stream",
          "name": "stderr",
          "text": [
            "\r 31%|███       | 62/200 [05:26<11:42,  5.09s/it]"
          ]
        },
        {
          "output_type": "stream",
          "name": "stdout",
          "text": [
            "epoch: 62 loss: 1.785 tpo1_acc98.36309523809523%\n"
          ]
        },
        {
          "output_type": "stream",
          "name": "stderr",
          "text": [
            "\r 32%|███▏      | 63/200 [05:31<11:37,  5.09s/it]"
          ]
        },
        {
          "output_type": "stream",
          "name": "stdout",
          "text": [
            "epoch: 63 loss: 1.784 tpo1_acc98.36309523809523%\n"
          ]
        },
        {
          "output_type": "stream",
          "name": "stderr",
          "text": [
            "\r 32%|███▏      | 64/200 [05:36<11:32,  5.09s/it]"
          ]
        },
        {
          "output_type": "stream",
          "name": "stdout",
          "text": [
            "epoch: 64 loss: 1.784 tpo1_acc98.28869047619048%\n"
          ]
        },
        {
          "output_type": "stream",
          "name": "stderr",
          "text": [
            "\r 32%|███▎      | 65/200 [05:41<11:28,  5.10s/it]"
          ]
        },
        {
          "output_type": "stream",
          "name": "stdout",
          "text": [
            "epoch: 65 loss: 1.784 tpo1_acc98.51190476190477%\n"
          ]
        },
        {
          "output_type": "stream",
          "name": "stderr",
          "text": [
            "\r 33%|███▎      | 66/200 [05:46<11:25,  5.11s/it]"
          ]
        },
        {
          "output_type": "stream",
          "name": "stdout",
          "text": [
            "epoch: 66 loss: 1.783 tpo1_acc98.13988095238095%\n"
          ]
        },
        {
          "output_type": "stream",
          "name": "stderr",
          "text": [
            "\r 34%|███▎      | 67/200 [05:51<11:18,  5.10s/it]"
          ]
        },
        {
          "output_type": "stream",
          "name": "stdout",
          "text": [
            "epoch: 67 loss: 1.783 tpo1_acc98.88392857142857%\n"
          ]
        },
        {
          "output_type": "stream",
          "name": "stderr",
          "text": [
            "\r 34%|███▍      | 68/200 [05:56<11:15,  5.12s/it]"
          ]
        },
        {
          "output_type": "stream",
          "name": "stdout",
          "text": [
            "epoch: 68 loss: 1.783 tpo1_acc98.66071428571429%\n"
          ]
        },
        {
          "output_type": "stream",
          "name": "stderr",
          "text": [
            "\r 34%|███▍      | 69/200 [06:02<11:08,  5.11s/it]"
          ]
        },
        {
          "output_type": "stream",
          "name": "stdout",
          "text": [
            "epoch: 69 loss: 1.782 tpo1_acc98.58630952380952%\n"
          ]
        },
        {
          "output_type": "stream",
          "name": "stderr",
          "text": [
            "\r 35%|███▌      | 70/200 [06:07<11:06,  5.12s/it]"
          ]
        },
        {
          "output_type": "stream",
          "name": "stdout",
          "text": [
            "epoch: 70 loss: 1.782 tpo1_acc98.4375%\n"
          ]
        },
        {
          "output_type": "stream",
          "name": "stderr",
          "text": [
            "\r 36%|███▌      | 71/200 [06:12<11:01,  5.13s/it]"
          ]
        },
        {
          "output_type": "stream",
          "name": "stdout",
          "text": [
            "epoch: 71 loss: 1.782 tpo1_acc98.66071428571429%\n"
          ]
        },
        {
          "output_type": "stream",
          "name": "stderr",
          "text": [
            "\r 36%|███▌      | 72/200 [06:17<10:57,  5.14s/it]"
          ]
        },
        {
          "output_type": "stream",
          "name": "stdout",
          "text": [
            "epoch: 72 loss: 1.781 tpo1_acc98.36309523809523%\n"
          ]
        },
        {
          "output_type": "stream",
          "name": "stderr",
          "text": [
            "\r 36%|███▋      | 73/200 [06:22<10:53,  5.14s/it]"
          ]
        },
        {
          "output_type": "stream",
          "name": "stdout",
          "text": [
            "epoch: 73 loss: 1.781 tpo1_acc98.80952380952381%\n"
          ]
        },
        {
          "output_type": "stream",
          "name": "stderr",
          "text": [
            "\r 37%|███▋      | 74/200 [06:27<10:48,  5.15s/it]"
          ]
        },
        {
          "output_type": "stream",
          "name": "stdout",
          "text": [
            "epoch: 74 loss: 1.781 tpo1_acc98.28869047619048%\n"
          ]
        },
        {
          "output_type": "stream",
          "name": "stderr",
          "text": [
            "\r 38%|███▊      | 75/200 [06:32<10:42,  5.14s/it]"
          ]
        },
        {
          "output_type": "stream",
          "name": "stdout",
          "text": [
            "epoch: 75 loss: 1.780 tpo1_acc98.4375%\n"
          ]
        },
        {
          "output_type": "stream",
          "name": "stderr",
          "text": [
            "\r 38%|███▊      | 76/200 [06:38<10:36,  5.13s/it]"
          ]
        },
        {
          "output_type": "stream",
          "name": "stdout",
          "text": [
            "epoch: 76 loss: 1.780 tpo1_acc98.36309523809523%\n"
          ]
        },
        {
          "output_type": "stream",
          "name": "stderr",
          "text": [
            "\r 38%|███▊      | 77/200 [06:43<10:29,  5.12s/it]"
          ]
        },
        {
          "output_type": "stream",
          "name": "stdout",
          "text": [
            "epoch: 77 loss: 1.780 tpo1_acc98.66071428571429%\n"
          ]
        },
        {
          "output_type": "stream",
          "name": "stderr",
          "text": [
            "\r 39%|███▉      | 78/200 [06:48<10:25,  5.12s/it]"
          ]
        },
        {
          "output_type": "stream",
          "name": "stdout",
          "text": [
            "epoch: 78 loss: 1.780 tpo1_acc98.36309523809523%\n"
          ]
        },
        {
          "output_type": "stream",
          "name": "stderr",
          "text": [
            "\r 40%|███▉      | 79/200 [06:53<10:21,  5.14s/it]"
          ]
        },
        {
          "output_type": "stream",
          "name": "stdout",
          "text": [
            "epoch: 79 loss: 1.779 tpo1_acc97.84226190476191%\n"
          ]
        },
        {
          "output_type": "stream",
          "name": "stderr",
          "text": [
            "\r 40%|████      | 80/200 [06:58<10:17,  5.14s/it]"
          ]
        },
        {
          "output_type": "stream",
          "name": "stdout",
          "text": [
            "epoch: 80 loss: 1.779 tpo1_acc98.51190476190477%\n"
          ]
        },
        {
          "output_type": "stream",
          "name": "stderr",
          "text": [
            "\r 40%|████      | 81/200 [07:03<10:11,  5.14s/it]"
          ]
        },
        {
          "output_type": "stream",
          "name": "stdout",
          "text": [
            "epoch: 81 loss: 1.779 tpo1_acc98.21428571428571%\n"
          ]
        },
        {
          "output_type": "stream",
          "name": "stderr",
          "text": [
            "\r 41%|████      | 82/200 [07:08<10:08,  5.16s/it]"
          ]
        },
        {
          "output_type": "stream",
          "name": "stdout",
          "text": [
            "epoch: 82 loss: 1.779 tpo1_acc97.99107142857143%\n"
          ]
        },
        {
          "output_type": "stream",
          "name": "stderr",
          "text": [
            "\r 42%|████▏     | 83/200 [07:14<10:02,  5.15s/it]"
          ]
        },
        {
          "output_type": "stream",
          "name": "stdout",
          "text": [
            "epoch: 83 loss: 1.778 tpo1_acc98.4375%\n"
          ]
        },
        {
          "output_type": "stream",
          "name": "stderr",
          "text": [
            "\r 42%|████▏     | 84/200 [07:19<09:56,  5.14s/it]"
          ]
        },
        {
          "output_type": "stream",
          "name": "stdout",
          "text": [
            "epoch: 84 loss: 1.778 tpo1_acc98.4375%\n"
          ]
        },
        {
          "output_type": "stream",
          "name": "stderr",
          "text": [
            "\r 42%|████▎     | 85/200 [07:24<09:51,  5.14s/it]"
          ]
        },
        {
          "output_type": "stream",
          "name": "stdout",
          "text": [
            "epoch: 85 loss: 1.778 tpo1_acc97.99107142857143%\n"
          ]
        },
        {
          "output_type": "stream",
          "name": "stderr",
          "text": [
            "\r 43%|████▎     | 86/200 [07:29<09:46,  5.14s/it]"
          ]
        },
        {
          "output_type": "stream",
          "name": "stdout",
          "text": [
            "epoch: 86 loss: 1.778 tpo1_acc98.21428571428571%\n"
          ]
        },
        {
          "output_type": "stream",
          "name": "stderr",
          "text": [
            "\r 44%|████▎     | 87/200 [07:34<09:42,  5.15s/it]"
          ]
        },
        {
          "output_type": "stream",
          "name": "stdout",
          "text": [
            "epoch: 87 loss: 1.778 tpo1_acc98.51190476190477%\n"
          ]
        },
        {
          "output_type": "stream",
          "name": "stderr",
          "text": [
            "\r 44%|████▍     | 88/200 [07:39<09:36,  5.14s/it]"
          ]
        },
        {
          "output_type": "stream",
          "name": "stdout",
          "text": [
            "epoch: 88 loss: 1.777 tpo1_acc98.51190476190477%\n"
          ]
        },
        {
          "output_type": "stream",
          "name": "stderr",
          "text": [
            "\r 44%|████▍     | 89/200 [07:44<09:30,  5.14s/it]"
          ]
        },
        {
          "output_type": "stream",
          "name": "stdout",
          "text": [
            "epoch: 89 loss: 1.777 tpo1_acc98.58630952380952%\n"
          ]
        },
        {
          "output_type": "stream",
          "name": "stderr",
          "text": [
            "\r 45%|████▌     | 90/200 [07:50<09:26,  5.15s/it]"
          ]
        },
        {
          "output_type": "stream",
          "name": "stdout",
          "text": [
            "epoch: 90 loss: 1.777 tpo1_acc98.73511904761905%\n"
          ]
        },
        {
          "output_type": "stream",
          "name": "stderr",
          "text": [
            "\r 46%|████▌     | 91/200 [07:55<09:21,  5.15s/it]"
          ]
        },
        {
          "output_type": "stream",
          "name": "stdout",
          "text": [
            "epoch: 91 loss: 1.777 tpo1_acc98.58630952380952%\n"
          ]
        },
        {
          "output_type": "stream",
          "name": "stderr",
          "text": [
            "\r 46%|████▌     | 92/200 [08:00<09:17,  5.16s/it]"
          ]
        },
        {
          "output_type": "stream",
          "name": "stdout",
          "text": [
            "epoch: 92 loss: 1.777 tpo1_acc98.80952380952381%\n"
          ]
        },
        {
          "output_type": "stream",
          "name": "stderr",
          "text": [
            "\r 46%|████▋     | 93/200 [08:05<09:11,  5.15s/it]"
          ]
        },
        {
          "output_type": "stream",
          "name": "stdout",
          "text": [
            "epoch: 93 loss: 1.777 tpo1_acc99.10714285714286%\n"
          ]
        },
        {
          "output_type": "stream",
          "name": "stderr",
          "text": [
            "\r 47%|████▋     | 94/200 [08:10<09:07,  5.17s/it]"
          ]
        },
        {
          "output_type": "stream",
          "name": "stdout",
          "text": [
            "epoch: 94 loss: 1.776 tpo1_acc98.28869047619048%\n"
          ]
        },
        {
          "output_type": "stream",
          "name": "stderr",
          "text": [
            "\r 48%|████▊     | 95/200 [08:15<09:01,  5.16s/it]"
          ]
        },
        {
          "output_type": "stream",
          "name": "stdout",
          "text": [
            "epoch: 95 loss: 1.776 tpo1_acc97.91666666666666%\n"
          ]
        },
        {
          "output_type": "stream",
          "name": "stderr",
          "text": [
            "\r 48%|████▊     | 96/200 [08:21<08:57,  5.17s/it]"
          ]
        },
        {
          "output_type": "stream",
          "name": "stdout",
          "text": [
            "epoch: 96 loss: 1.776 tpo1_acc98.66071428571429%\n"
          ]
        },
        {
          "output_type": "stream",
          "name": "stderr",
          "text": [
            "\r 48%|████▊     | 97/200 [08:26<08:51,  5.16s/it]"
          ]
        },
        {
          "output_type": "stream",
          "name": "stdout",
          "text": [
            "epoch: 97 loss: 1.776 tpo1_acc98.73511904761905%\n"
          ]
        },
        {
          "output_type": "stream",
          "name": "stderr",
          "text": [
            "\r 49%|████▉     | 98/200 [08:31<08:46,  5.16s/it]"
          ]
        },
        {
          "output_type": "stream",
          "name": "stdout",
          "text": [
            "epoch: 98 loss: 1.776 tpo1_acc98.4375%\n"
          ]
        },
        {
          "output_type": "stream",
          "name": "stderr",
          "text": [
            "\r 50%|████▉     | 99/200 [08:36<08:41,  5.17s/it]"
          ]
        },
        {
          "output_type": "stream",
          "name": "stdout",
          "text": [
            "epoch: 99 loss: 1.776 tpo1_acc98.58630952380952%\n"
          ]
        },
        {
          "output_type": "stream",
          "name": "stderr",
          "text": [
            "\r 50%|█████     | 100/200 [08:41<08:36,  5.16s/it]"
          ]
        },
        {
          "output_type": "stream",
          "name": "stdout",
          "text": [
            "epoch: 100 loss: 1.775 tpo1_acc98.80952380952381%\n"
          ]
        },
        {
          "output_type": "stream",
          "name": "stderr",
          "text": [
            "\r 50%|█████     | 101/200 [08:46<08:29,  5.15s/it]"
          ]
        },
        {
          "output_type": "stream",
          "name": "stdout",
          "text": [
            "epoch: 101 loss: 1.775 tpo1_acc98.58630952380952%\n"
          ]
        },
        {
          "output_type": "stream",
          "name": "stderr",
          "text": [
            "\r 51%|█████     | 102/200 [08:51<08:23,  5.14s/it]"
          ]
        },
        {
          "output_type": "stream",
          "name": "stdout",
          "text": [
            "epoch: 102 loss: 1.775 tpo1_acc98.58630952380952%\n"
          ]
        },
        {
          "output_type": "stream",
          "name": "stderr",
          "text": [
            "\r 52%|█████▏    | 103/200 [08:57<08:19,  5.15s/it]"
          ]
        },
        {
          "output_type": "stream",
          "name": "stdout",
          "text": [
            "epoch: 103 loss: 1.775 tpo1_acc98.73511904761905%\n"
          ]
        },
        {
          "output_type": "stream",
          "name": "stderr",
          "text": [
            "\r 52%|█████▏    | 104/200 [09:02<08:15,  5.16s/it]"
          ]
        },
        {
          "output_type": "stream",
          "name": "stdout",
          "text": [
            "epoch: 104 loss: 1.775 tpo1_acc97.84226190476191%\n"
          ]
        },
        {
          "output_type": "stream",
          "name": "stderr",
          "text": [
            "\r 52%|█████▎    | 105/200 [09:07<08:09,  5.15s/it]"
          ]
        },
        {
          "output_type": "stream",
          "name": "stdout",
          "text": [
            "epoch: 105 loss: 1.775 tpo1_acc97.69345238095238%\n"
          ]
        },
        {
          "output_type": "stream",
          "name": "stderr",
          "text": [
            "\r 53%|█████▎    | 106/200 [09:12<08:05,  5.17s/it]"
          ]
        },
        {
          "output_type": "stream",
          "name": "stdout",
          "text": [
            "epoch: 106 loss: 1.775 tpo1_acc98.51190476190477%\n"
          ]
        },
        {
          "output_type": "stream",
          "name": "stderr",
          "text": [
            "\r 54%|█████▎    | 107/200 [09:17<08:00,  5.17s/it]"
          ]
        },
        {
          "output_type": "stream",
          "name": "stdout",
          "text": [
            "epoch: 107 loss: 1.774 tpo1_acc98.36309523809523%\n"
          ]
        },
        {
          "output_type": "stream",
          "name": "stderr",
          "text": [
            "\r 54%|█████▍    | 108/200 [09:23<07:56,  5.18s/it]"
          ]
        },
        {
          "output_type": "stream",
          "name": "stdout",
          "text": [
            "epoch: 108 loss: 1.774 tpo1_acc98.58630952380952%\n"
          ]
        },
        {
          "output_type": "stream",
          "name": "stderr",
          "text": [
            "\r 55%|█████▍    | 109/200 [09:28<07:50,  5.17s/it]"
          ]
        },
        {
          "output_type": "stream",
          "name": "stdout",
          "text": [
            "epoch: 109 loss: 1.774 tpo1_acc98.80952380952381%\n"
          ]
        },
        {
          "output_type": "stream",
          "name": "stderr",
          "text": [
            "\r 55%|█████▌    | 110/200 [09:33<07:45,  5.17s/it]"
          ]
        },
        {
          "output_type": "stream",
          "name": "stdout",
          "text": [
            "epoch: 110 loss: 1.774 tpo1_acc98.66071428571429%\n"
          ]
        },
        {
          "output_type": "stream",
          "name": "stderr",
          "text": [
            "\r 56%|█████▌    | 111/200 [09:38<07:40,  5.18s/it]"
          ]
        },
        {
          "output_type": "stream",
          "name": "stdout",
          "text": [
            "epoch: 111 loss: 1.774 tpo1_acc98.4375%\n"
          ]
        },
        {
          "output_type": "stream",
          "name": "stderr",
          "text": [
            "\r 56%|█████▌    | 112/200 [09:43<07:36,  5.19s/it]"
          ]
        },
        {
          "output_type": "stream",
          "name": "stdout",
          "text": [
            "epoch: 112 loss: 1.774 tpo1_acc98.21428571428571%\n"
          ]
        },
        {
          "output_type": "stream",
          "name": "stderr",
          "text": [
            "\r 56%|█████▋    | 113/200 [09:48<07:31,  5.18s/it]"
          ]
        },
        {
          "output_type": "stream",
          "name": "stdout",
          "text": [
            "epoch: 113 loss: 1.774 tpo1_acc98.66071428571429%\n"
          ]
        },
        {
          "output_type": "stream",
          "name": "stderr",
          "text": [
            "\r 57%|█████▋    | 114/200 [09:54<07:26,  5.19s/it]"
          ]
        },
        {
          "output_type": "stream",
          "name": "stdout",
          "text": [
            "epoch: 114 loss: 1.773 tpo1_acc98.4375%\n"
          ]
        },
        {
          "output_type": "stream",
          "name": "stderr",
          "text": [
            "\r 57%|█████▊    | 115/200 [09:59<07:23,  5.22s/it]"
          ]
        },
        {
          "output_type": "stream",
          "name": "stdout",
          "text": [
            "epoch: 115 loss: 1.773 tpo1_acc98.36309523809523%\n"
          ]
        },
        {
          "output_type": "stream",
          "name": "stderr",
          "text": [
            "\r 58%|█████▊    | 116/200 [10:04<07:19,  5.23s/it]"
          ]
        },
        {
          "output_type": "stream",
          "name": "stdout",
          "text": [
            "epoch: 116 loss: 1.773 tpo1_acc99.03273809523809%\n"
          ]
        },
        {
          "output_type": "stream",
          "name": "stderr",
          "text": [
            "\r 58%|█████▊    | 117/200 [10:09<07:14,  5.23s/it]"
          ]
        },
        {
          "output_type": "stream",
          "name": "stdout",
          "text": [
            "epoch: 117 loss: 1.773 tpo1_acc98.06547619047619%\n"
          ]
        },
        {
          "output_type": "stream",
          "name": "stderr",
          "text": [
            "\r 59%|█████▉    | 118/200 [10:15<07:08,  5.23s/it]"
          ]
        },
        {
          "output_type": "stream",
          "name": "stdout",
          "text": [
            "epoch: 118 loss: 1.773 tpo1_acc98.95833333333334%\n"
          ]
        },
        {
          "output_type": "stream",
          "name": "stderr",
          "text": [
            "\r 60%|█████▉    | 119/200 [10:20<07:02,  5.22s/it]"
          ]
        },
        {
          "output_type": "stream",
          "name": "stdout",
          "text": [
            "epoch: 119 loss: 1.773 tpo1_acc98.13988095238095%\n"
          ]
        },
        {
          "output_type": "stream",
          "name": "stderr",
          "text": [
            "\r 60%|██████    | 120/200 [10:25<06:55,  5.20s/it]"
          ]
        },
        {
          "output_type": "stream",
          "name": "stdout",
          "text": [
            "epoch: 120 loss: 1.773 tpo1_acc98.4375%\n"
          ]
        },
        {
          "output_type": "stream",
          "name": "stderr",
          "text": [
            "\r 60%|██████    | 121/200 [10:30<06:50,  5.20s/it]"
          ]
        },
        {
          "output_type": "stream",
          "name": "stdout",
          "text": [
            "epoch: 121 loss: 1.773 tpo1_acc98.36309523809523%\n"
          ]
        },
        {
          "output_type": "stream",
          "name": "stderr",
          "text": [
            "\r 61%|██████    | 122/200 [10:35<06:45,  5.20s/it]"
          ]
        },
        {
          "output_type": "stream",
          "name": "stdout",
          "text": [
            "epoch: 122 loss: 1.773 tpo1_acc98.21428571428571%\n"
          ]
        },
        {
          "output_type": "stream",
          "name": "stderr",
          "text": [
            "\r 62%|██████▏   | 123/200 [10:41<06:41,  5.21s/it]"
          ]
        },
        {
          "output_type": "stream",
          "name": "stdout",
          "text": [
            "epoch: 123 loss: 1.772 tpo1_acc98.36309523809523%\n"
          ]
        },
        {
          "output_type": "stream",
          "name": "stderr",
          "text": [
            "\r 62%|██████▏   | 124/200 [10:46<06:36,  5.22s/it]"
          ]
        },
        {
          "output_type": "stream",
          "name": "stdout",
          "text": [
            "epoch: 124 loss: 1.772 tpo1_acc98.13988095238095%\n"
          ]
        },
        {
          "output_type": "stream",
          "name": "stderr",
          "text": [
            "\r 62%|██████▎   | 125/200 [10:51<06:31,  5.23s/it]"
          ]
        },
        {
          "output_type": "stream",
          "name": "stdout",
          "text": [
            "epoch: 125 loss: 1.772 tpo1_acc98.06547619047619%\n"
          ]
        },
        {
          "output_type": "stream",
          "name": "stderr",
          "text": [
            "\r 63%|██████▎   | 126/200 [10:56<06:26,  5.22s/it]"
          ]
        },
        {
          "output_type": "stream",
          "name": "stdout",
          "text": [
            "epoch: 126 loss: 1.772 tpo1_acc98.66071428571429%\n"
          ]
        },
        {
          "output_type": "stream",
          "name": "stderr",
          "text": [
            "\r 64%|██████▎   | 127/200 [11:02<06:21,  5.23s/it]"
          ]
        },
        {
          "output_type": "stream",
          "name": "stdout",
          "text": [
            "epoch: 127 loss: 1.772 tpo1_acc98.06547619047619%\n"
          ]
        },
        {
          "output_type": "stream",
          "name": "stderr",
          "text": [
            "\r 64%|██████▍   | 128/200 [11:07<06:15,  5.22s/it]"
          ]
        },
        {
          "output_type": "stream",
          "name": "stdout",
          "text": [
            "epoch: 128 loss: 1.772 tpo1_acc97.99107142857143%\n"
          ]
        },
        {
          "output_type": "stream",
          "name": "stderr",
          "text": [
            "\r 64%|██████▍   | 129/200 [11:12<06:11,  5.23s/it]"
          ]
        },
        {
          "output_type": "stream",
          "name": "stdout",
          "text": [
            "epoch: 129 loss: 1.772 tpo1_acc98.88392857142857%\n"
          ]
        },
        {
          "output_type": "stream",
          "name": "stderr",
          "text": [
            "\r 65%|██████▌   | 130/200 [11:17<06:05,  5.22s/it]"
          ]
        },
        {
          "output_type": "stream",
          "name": "stdout",
          "text": [
            "epoch: 130 loss: 1.772 tpo1_acc98.58630952380952%\n"
          ]
        },
        {
          "output_type": "stream",
          "name": "stderr",
          "text": [
            "\r 66%|██████▌   | 131/200 [11:22<05:59,  5.21s/it]"
          ]
        },
        {
          "output_type": "stream",
          "name": "stdout",
          "text": [
            "epoch: 131 loss: 1.772 tpo1_acc97.69345238095238%\n"
          ]
        },
        {
          "output_type": "stream",
          "name": "stderr",
          "text": [
            "\r 66%|██████▌   | 132/200 [11:28<05:54,  5.21s/it]"
          ]
        },
        {
          "output_type": "stream",
          "name": "stdout",
          "text": [
            "epoch: 132 loss: 1.772 tpo1_acc98.36309523809523%\n"
          ]
        },
        {
          "output_type": "stream",
          "name": "stderr",
          "text": [
            "\r 66%|██████▋   | 133/200 [11:33<05:48,  5.20s/it]"
          ]
        },
        {
          "output_type": "stream",
          "name": "stdout",
          "text": [
            "epoch: 133 loss: 1.771 tpo1_acc98.80952380952381%\n"
          ]
        },
        {
          "output_type": "stream",
          "name": "stderr",
          "text": [
            "\r 67%|██████▋   | 134/200 [11:38<05:43,  5.21s/it]"
          ]
        },
        {
          "output_type": "stream",
          "name": "stdout",
          "text": [
            "epoch: 134 loss: 1.771 tpo1_acc99.25595238095238%\n"
          ]
        },
        {
          "output_type": "stream",
          "name": "stderr",
          "text": [
            "\r 68%|██████▊   | 135/200 [11:43<05:39,  5.22s/it]"
          ]
        },
        {
          "output_type": "stream",
          "name": "stdout",
          "text": [
            "epoch: 135 loss: 1.771 tpo1_acc98.73511904761905%\n"
          ]
        },
        {
          "output_type": "stream",
          "name": "stderr",
          "text": [
            "\r 68%|██████▊   | 136/200 [11:49<05:34,  5.23s/it]"
          ]
        },
        {
          "output_type": "stream",
          "name": "stdout",
          "text": [
            "epoch: 136 loss: 1.771 tpo1_acc98.73511904761905%\n"
          ]
        },
        {
          "output_type": "stream",
          "name": "stderr",
          "text": [
            "\r 68%|██████▊   | 137/200 [11:54<05:29,  5.23s/it]"
          ]
        },
        {
          "output_type": "stream",
          "name": "stdout",
          "text": [
            "epoch: 137 loss: 1.771 tpo1_acc98.36309523809523%\n"
          ]
        },
        {
          "output_type": "stream",
          "name": "stderr",
          "text": [
            "\r 69%|██████▉   | 138/200 [11:59<05:24,  5.23s/it]"
          ]
        },
        {
          "output_type": "stream",
          "name": "stdout",
          "text": [
            "epoch: 138 loss: 1.771 tpo1_acc98.36309523809523%\n"
          ]
        },
        {
          "output_type": "stream",
          "name": "stderr",
          "text": [
            "\r 70%|██████▉   | 139/200 [12:04<05:19,  5.23s/it]"
          ]
        },
        {
          "output_type": "stream",
          "name": "stdout",
          "text": [
            "epoch: 139 loss: 1.771 tpo1_acc98.21428571428571%\n"
          ]
        },
        {
          "output_type": "stream",
          "name": "stderr",
          "text": [
            "\r 70%|███████   | 140/200 [12:09<05:14,  5.24s/it]"
          ]
        },
        {
          "output_type": "stream",
          "name": "stdout",
          "text": [
            "epoch: 140 loss: 1.771 tpo1_acc98.21428571428571%\n"
          ]
        },
        {
          "output_type": "stream",
          "name": "stderr",
          "text": [
            "\r 70%|███████   | 141/200 [12:15<05:09,  5.25s/it]"
          ]
        },
        {
          "output_type": "stream",
          "name": "stdout",
          "text": [
            "epoch: 141 loss: 1.771 tpo1_acc98.73511904761905%\n"
          ]
        },
        {
          "output_type": "stream",
          "name": "stderr",
          "text": [
            "\r 71%|███████   | 142/200 [12:20<05:03,  5.24s/it]"
          ]
        },
        {
          "output_type": "stream",
          "name": "stdout",
          "text": [
            "epoch: 142 loss: 1.771 tpo1_acc98.36309523809523%\n"
          ]
        },
        {
          "output_type": "stream",
          "name": "stderr",
          "text": [
            "\r 72%|███████▏  | 143/200 [12:25<04:58,  5.24s/it]"
          ]
        },
        {
          "output_type": "stream",
          "name": "stdout",
          "text": [
            "epoch: 143 loss: 1.771 tpo1_acc98.73511904761905%\n"
          ]
        },
        {
          "output_type": "stream",
          "name": "stderr",
          "text": [
            "\r 72%|███████▏  | 144/200 [12:30<04:53,  5.24s/it]"
          ]
        },
        {
          "output_type": "stream",
          "name": "stdout",
          "text": [
            "epoch: 144 loss: 1.771 tpo1_acc97.76785714285714%\n"
          ]
        },
        {
          "output_type": "stream",
          "name": "stderr",
          "text": [
            "\r 72%|███████▎  | 145/200 [12:36<04:48,  5.24s/it]"
          ]
        },
        {
          "output_type": "stream",
          "name": "stdout",
          "text": [
            "epoch: 145 loss: 1.771 tpo1_acc98.21428571428571%\n"
          ]
        },
        {
          "output_type": "stream",
          "name": "stderr",
          "text": [
            "\r 73%|███████▎  | 146/200 [12:41<04:42,  5.23s/it]"
          ]
        },
        {
          "output_type": "stream",
          "name": "stdout",
          "text": [
            "epoch: 146 loss: 1.770 tpo1_acc98.21428571428571%\n"
          ]
        },
        {
          "output_type": "stream",
          "name": "stderr",
          "text": [
            "\r 74%|███████▎  | 147/200 [12:46<04:37,  5.24s/it]"
          ]
        },
        {
          "output_type": "stream",
          "name": "stdout",
          "text": [
            "epoch: 147 loss: 1.770 tpo1_acc98.36309523809523%\n"
          ]
        },
        {
          "output_type": "stream",
          "name": "stderr",
          "text": [
            "\r 74%|███████▍  | 148/200 [12:51<04:32,  5.24s/it]"
          ]
        },
        {
          "output_type": "stream",
          "name": "stdout",
          "text": [
            "epoch: 148 loss: 1.770 tpo1_acc98.4375%\n"
          ]
        },
        {
          "output_type": "stream",
          "name": "stderr",
          "text": [
            "\r 74%|███████▍  | 149/200 [12:57<04:27,  5.24s/it]"
          ]
        },
        {
          "output_type": "stream",
          "name": "stdout",
          "text": [
            "epoch: 149 loss: 1.770 tpo1_acc98.66071428571429%\n"
          ]
        },
        {
          "output_type": "stream",
          "name": "stderr",
          "text": [
            "\r 75%|███████▌  | 150/200 [13:02<04:21,  5.24s/it]"
          ]
        },
        {
          "output_type": "stream",
          "name": "stdout",
          "text": [
            "epoch: 150 loss: 1.770 tpo1_acc97.91666666666666%\n"
          ]
        },
        {
          "output_type": "stream",
          "name": "stderr",
          "text": [
            "\r 76%|███████▌  | 151/200 [13:07<04:16,  5.24s/it]"
          ]
        },
        {
          "output_type": "stream",
          "name": "stdout",
          "text": [
            "epoch: 151 loss: 1.770 tpo1_acc98.21428571428571%\n"
          ]
        },
        {
          "output_type": "stream",
          "name": "stderr",
          "text": [
            "\r 76%|███████▌  | 152/200 [13:12<04:11,  5.23s/it]"
          ]
        },
        {
          "output_type": "stream",
          "name": "stdout",
          "text": [
            "epoch: 152 loss: 1.770 tpo1_acc98.28869047619048%\n"
          ]
        },
        {
          "output_type": "stream",
          "name": "stderr",
          "text": [
            "\r 76%|███████▋  | 153/200 [13:18<04:06,  5.24s/it]"
          ]
        },
        {
          "output_type": "stream",
          "name": "stdout",
          "text": [
            "epoch: 153 loss: 1.770 tpo1_acc98.21428571428571%\n"
          ]
        },
        {
          "output_type": "stream",
          "name": "stderr",
          "text": [
            "\r 77%|███████▋  | 154/200 [13:23<04:01,  5.24s/it]"
          ]
        },
        {
          "output_type": "stream",
          "name": "stdout",
          "text": [
            "epoch: 154 loss: 1.770 tpo1_acc98.88392857142857%\n"
          ]
        },
        {
          "output_type": "stream",
          "name": "stderr",
          "text": [
            "\r 78%|███████▊  | 155/200 [13:28<03:56,  5.25s/it]"
          ]
        },
        {
          "output_type": "stream",
          "name": "stdout",
          "text": [
            "epoch: 155 loss: 1.770 tpo1_acc98.13988095238095%\n"
          ]
        },
        {
          "output_type": "stream",
          "name": "stderr",
          "text": [
            "\r 78%|███████▊  | 156/200 [13:33<03:51,  5.25s/it]"
          ]
        },
        {
          "output_type": "stream",
          "name": "stdout",
          "text": [
            "epoch: 156 loss: 1.770 tpo1_acc98.4375%\n"
          ]
        },
        {
          "output_type": "stream",
          "name": "stderr",
          "text": [
            "\r 78%|███████▊  | 157/200 [13:39<03:45,  5.24s/it]"
          ]
        },
        {
          "output_type": "stream",
          "name": "stdout",
          "text": [
            "epoch: 157 loss: 1.770 tpo1_acc98.95833333333334%\n"
          ]
        },
        {
          "output_type": "stream",
          "name": "stderr",
          "text": [
            "\r 79%|███████▉  | 158/200 [13:44<03:40,  5.24s/it]"
          ]
        },
        {
          "output_type": "stream",
          "name": "stdout",
          "text": [
            "epoch: 158 loss: 1.770 tpo1_acc98.4375%\n"
          ]
        },
        {
          "output_type": "stream",
          "name": "stderr",
          "text": [
            "\r 80%|███████▉  | 159/200 [13:49<03:35,  5.25s/it]"
          ]
        },
        {
          "output_type": "stream",
          "name": "stdout",
          "text": [
            "epoch: 159 loss: 1.770 tpo1_acc98.80952380952381%\n"
          ]
        },
        {
          "output_type": "stream",
          "name": "stderr",
          "text": [
            "\r 80%|████████  | 160/200 [13:54<03:29,  5.25s/it]"
          ]
        },
        {
          "output_type": "stream",
          "name": "stdout",
          "text": [
            "epoch: 160 loss: 1.770 tpo1_acc98.13988095238095%\n"
          ]
        },
        {
          "output_type": "stream",
          "name": "stderr",
          "text": [
            "\r 80%|████████  | 161/200 [14:00<03:24,  5.24s/it]"
          ]
        },
        {
          "output_type": "stream",
          "name": "stdout",
          "text": [
            "epoch: 161 loss: 1.770 tpo1_acc99.18154761904762%\n"
          ]
        },
        {
          "output_type": "stream",
          "name": "stderr",
          "text": [
            "\r 81%|████████  | 162/200 [14:05<03:19,  5.24s/it]"
          ]
        },
        {
          "output_type": "stream",
          "name": "stdout",
          "text": [
            "epoch: 162 loss: 1.769 tpo1_acc98.21428571428571%\n"
          ]
        },
        {
          "output_type": "stream",
          "name": "stderr",
          "text": [
            "\r 82%|████████▏ | 163/200 [14:10<03:14,  5.25s/it]"
          ]
        },
        {
          "output_type": "stream",
          "name": "stdout",
          "text": [
            "epoch: 163 loss: 1.769 tpo1_acc98.13988095238095%\n"
          ]
        },
        {
          "output_type": "stream",
          "name": "stderr",
          "text": [
            "\r 82%|████████▏ | 164/200 [14:15<03:08,  5.24s/it]"
          ]
        },
        {
          "output_type": "stream",
          "name": "stdout",
          "text": [
            "epoch: 164 loss: 1.769 tpo1_acc98.66071428571429%\n"
          ]
        },
        {
          "output_type": "stream",
          "name": "stderr",
          "text": [
            "\r 82%|████████▎ | 165/200 [14:21<03:03,  5.24s/it]"
          ]
        },
        {
          "output_type": "stream",
          "name": "stdout",
          "text": [
            "epoch: 165 loss: 1.769 tpo1_acc98.13988095238095%\n"
          ]
        },
        {
          "output_type": "stream",
          "name": "stderr",
          "text": [
            "\r 83%|████████▎ | 166/200 [14:26<02:58,  5.24s/it]"
          ]
        },
        {
          "output_type": "stream",
          "name": "stdout",
          "text": [
            "epoch: 166 loss: 1.769 tpo1_acc98.80952380952381%\n"
          ]
        },
        {
          "output_type": "stream",
          "name": "stderr",
          "text": [
            "\r 84%|████████▎ | 167/200 [14:31<02:52,  5.24s/it]"
          ]
        },
        {
          "output_type": "stream",
          "name": "stdout",
          "text": [
            "epoch: 167 loss: 1.769 tpo1_acc98.58630952380952%\n"
          ]
        },
        {
          "output_type": "stream",
          "name": "stderr",
          "text": [
            "\r 84%|████████▍ | 168/200 [14:36<02:47,  5.24s/it]"
          ]
        },
        {
          "output_type": "stream",
          "name": "stdout",
          "text": [
            "epoch: 168 loss: 1.769 tpo1_acc98.36309523809523%\n"
          ]
        },
        {
          "output_type": "stream",
          "name": "stderr",
          "text": [
            "\r 84%|████████▍ | 169/200 [14:42<02:42,  5.25s/it]"
          ]
        },
        {
          "output_type": "stream",
          "name": "stdout",
          "text": [
            "epoch: 169 loss: 1.769 tpo1_acc99.10714285714286%\n"
          ]
        },
        {
          "output_type": "stream",
          "name": "stderr",
          "text": [
            "\r 85%|████████▌ | 170/200 [14:47<02:37,  5.25s/it]"
          ]
        },
        {
          "output_type": "stream",
          "name": "stdout",
          "text": [
            "epoch: 170 loss: 1.769 tpo1_acc98.4375%\n"
          ]
        },
        {
          "output_type": "stream",
          "name": "stderr",
          "text": [
            "\r 86%|████████▌ | 171/200 [14:52<02:32,  5.24s/it]"
          ]
        },
        {
          "output_type": "stream",
          "name": "stdout",
          "text": [
            "epoch: 171 loss: 1.769 tpo1_acc98.4375%\n"
          ]
        },
        {
          "output_type": "stream",
          "name": "stderr",
          "text": [
            "\r 86%|████████▌ | 172/200 [14:57<02:26,  5.24s/it]"
          ]
        },
        {
          "output_type": "stream",
          "name": "stdout",
          "text": [
            "epoch: 172 loss: 1.769 tpo1_acc98.28869047619048%\n"
          ]
        },
        {
          "output_type": "stream",
          "name": "stderr",
          "text": [
            "\r 86%|████████▋ | 173/200 [15:02<02:20,  5.22s/it]"
          ]
        },
        {
          "output_type": "stream",
          "name": "stdout",
          "text": [
            "epoch: 173 loss: 1.769 tpo1_acc98.36309523809523%\n"
          ]
        },
        {
          "output_type": "stream",
          "name": "stderr",
          "text": [
            "\r 87%|████████▋ | 174/200 [15:08<02:15,  5.23s/it]"
          ]
        },
        {
          "output_type": "stream",
          "name": "stdout",
          "text": [
            "epoch: 174 loss: 1.769 tpo1_acc98.58630952380952%\n"
          ]
        },
        {
          "output_type": "stream",
          "name": "stderr",
          "text": [
            "\r 88%|████████▊ | 175/200 [15:13<02:10,  5.24s/it]"
          ]
        },
        {
          "output_type": "stream",
          "name": "stdout",
          "text": [
            "epoch: 175 loss: 1.769 tpo1_acc98.4375%\n"
          ]
        },
        {
          "output_type": "stream",
          "name": "stderr",
          "text": [
            "\r 88%|████████▊ | 176/200 [15:18<02:05,  5.25s/it]"
          ]
        },
        {
          "output_type": "stream",
          "name": "stdout",
          "text": [
            "epoch: 176 loss: 1.769 tpo1_acc98.73511904761905%\n"
          ]
        },
        {
          "output_type": "stream",
          "name": "stderr",
          "text": [
            "\r 88%|████████▊ | 177/200 [15:23<02:00,  5.26s/it]"
          ]
        },
        {
          "output_type": "stream",
          "name": "stdout",
          "text": [
            "epoch: 177 loss: 1.769 tpo1_acc98.36309523809523%\n"
          ]
        },
        {
          "output_type": "stream",
          "name": "stderr",
          "text": [
            "\r 89%|████████▉ | 178/200 [15:29<01:55,  5.25s/it]"
          ]
        },
        {
          "output_type": "stream",
          "name": "stdout",
          "text": [
            "epoch: 178 loss: 1.769 tpo1_acc98.95833333333334%\n"
          ]
        },
        {
          "output_type": "stream",
          "name": "stderr",
          "text": [
            "\r 90%|████████▉ | 179/200 [15:34<01:50,  5.25s/it]"
          ]
        },
        {
          "output_type": "stream",
          "name": "stdout",
          "text": [
            "epoch: 179 loss: 1.769 tpo1_acc98.80952380952381%\n"
          ]
        },
        {
          "output_type": "stream",
          "name": "stderr",
          "text": [
            "\r 90%|█████████ | 180/200 [15:39<01:45,  5.26s/it]"
          ]
        },
        {
          "output_type": "stream",
          "name": "stdout",
          "text": [
            "epoch: 180 loss: 1.769 tpo1_acc98.36309523809523%\n"
          ]
        },
        {
          "output_type": "stream",
          "name": "stderr",
          "text": [
            "\r 90%|█████████ | 181/200 [15:44<01:39,  5.25s/it]"
          ]
        },
        {
          "output_type": "stream",
          "name": "stdout",
          "text": [
            "epoch: 181 loss: 1.769 tpo1_acc98.73511904761905%\n"
          ]
        },
        {
          "output_type": "stream",
          "name": "stderr",
          "text": [
            "\r 91%|█████████ | 182/200 [15:50<01:34,  5.26s/it]"
          ]
        },
        {
          "output_type": "stream",
          "name": "stdout",
          "text": [
            "epoch: 182 loss: 1.768 tpo1_acc98.58630952380952%\n"
          ]
        },
        {
          "output_type": "stream",
          "name": "stderr",
          "text": [
            "\r 92%|█████████▏| 183/200 [15:55<01:29,  5.26s/it]"
          ]
        },
        {
          "output_type": "stream",
          "name": "stdout",
          "text": [
            "epoch: 183 loss: 1.768 tpo1_acc98.21428571428571%\n"
          ]
        },
        {
          "output_type": "stream",
          "name": "stderr",
          "text": [
            "\r 92%|█████████▏| 184/200 [16:00<01:24,  5.27s/it]"
          ]
        },
        {
          "output_type": "stream",
          "name": "stdout",
          "text": [
            "epoch: 184 loss: 1.768 tpo1_acc98.51190476190477%\n"
          ]
        },
        {
          "output_type": "stream",
          "name": "stderr",
          "text": [
            "\r 92%|█████████▎| 185/200 [16:06<01:18,  5.27s/it]"
          ]
        },
        {
          "output_type": "stream",
          "name": "stdout",
          "text": [
            "epoch: 185 loss: 1.768 tpo1_acc98.80952380952381%\n"
          ]
        },
        {
          "output_type": "stream",
          "name": "stderr",
          "text": [
            "\r 93%|█████████▎| 186/200 [16:11<01:13,  5.27s/it]"
          ]
        },
        {
          "output_type": "stream",
          "name": "stdout",
          "text": [
            "epoch: 186 loss: 1.768 tpo1_acc98.36309523809523%\n"
          ]
        },
        {
          "output_type": "stream",
          "name": "stderr",
          "text": [
            "\r 94%|█████████▎| 187/200 [16:16<01:08,  5.27s/it]"
          ]
        },
        {
          "output_type": "stream",
          "name": "stdout",
          "text": [
            "epoch: 187 loss: 1.768 tpo1_acc98.51190476190477%\n"
          ]
        },
        {
          "output_type": "stream",
          "name": "stderr",
          "text": [
            "\r 94%|█████████▍| 188/200 [16:21<01:03,  5.26s/it]"
          ]
        },
        {
          "output_type": "stream",
          "name": "stdout",
          "text": [
            "epoch: 188 loss: 1.768 tpo1_acc97.76785714285714%\n"
          ]
        },
        {
          "output_type": "stream",
          "name": "stderr",
          "text": [
            "\r 94%|█████████▍| 189/200 [16:27<00:57,  5.27s/it]"
          ]
        },
        {
          "output_type": "stream",
          "name": "stdout",
          "text": [
            "epoch: 189 loss: 1.768 tpo1_acc98.66071428571429%\n"
          ]
        },
        {
          "output_type": "stream",
          "name": "stderr",
          "text": [
            "\r 95%|█████████▌| 190/200 [16:32<00:52,  5.26s/it]"
          ]
        },
        {
          "output_type": "stream",
          "name": "stdout",
          "text": [
            "epoch: 190 loss: 1.768 tpo1_acc97.84226190476191%\n"
          ]
        },
        {
          "output_type": "stream",
          "name": "stderr",
          "text": [
            "\r 96%|█████████▌| 191/200 [16:37<00:47,  5.27s/it]"
          ]
        },
        {
          "output_type": "stream",
          "name": "stdout",
          "text": [
            "epoch: 191 loss: 1.768 tpo1_acc99.18154761904762%\n"
          ]
        },
        {
          "output_type": "stream",
          "name": "stderr",
          "text": [
            "\r 96%|█████████▌| 192/200 [16:42<00:42,  5.26s/it]"
          ]
        },
        {
          "output_type": "stream",
          "name": "stdout",
          "text": [
            "epoch: 192 loss: 1.768 tpo1_acc98.13988095238095%\n"
          ]
        },
        {
          "output_type": "stream",
          "name": "stderr",
          "text": [
            "\r 96%|█████████▋| 193/200 [16:48<00:37,  5.32s/it]"
          ]
        },
        {
          "output_type": "stream",
          "name": "stdout",
          "text": [
            "epoch: 193 loss: 1.768 tpo1_acc98.66071428571429%\n"
          ]
        },
        {
          "output_type": "stream",
          "name": "stderr",
          "text": [
            "\r 97%|█████████▋| 194/200 [16:53<00:31,  5.33s/it]"
          ]
        },
        {
          "output_type": "stream",
          "name": "stdout",
          "text": [
            "epoch: 194 loss: 1.768 tpo1_acc98.13988095238095%\n"
          ]
        },
        {
          "output_type": "stream",
          "name": "stderr",
          "text": [
            "\r 98%|█████████▊| 195/200 [16:59<00:26,  5.37s/it]"
          ]
        },
        {
          "output_type": "stream",
          "name": "stdout",
          "text": [
            "epoch: 195 loss: 1.768 tpo1_acc98.28869047619048%\n"
          ]
        },
        {
          "output_type": "stream",
          "name": "stderr",
          "text": [
            "\r 98%|█████████▊| 196/200 [17:04<00:21,  5.35s/it]"
          ]
        },
        {
          "output_type": "stream",
          "name": "stdout",
          "text": [
            "epoch: 196 loss: 1.768 tpo1_acc98.51190476190477%\n"
          ]
        },
        {
          "output_type": "stream",
          "name": "stderr",
          "text": [
            "\r 98%|█████████▊| 197/200 [17:09<00:16,  5.35s/it]"
          ]
        },
        {
          "output_type": "stream",
          "name": "stdout",
          "text": [
            "epoch: 197 loss: 1.768 tpo1_acc98.28869047619048%\n"
          ]
        },
        {
          "output_type": "stream",
          "name": "stderr",
          "text": [
            "\r 99%|█████████▉| 198/200 [17:15<00:10,  5.32s/it]"
          ]
        },
        {
          "output_type": "stream",
          "name": "stdout",
          "text": [
            "epoch: 198 loss: 1.768 tpo1_acc98.58630952380952%\n"
          ]
        },
        {
          "output_type": "stream",
          "name": "stderr",
          "text": [
            "\r100%|█████████▉| 199/200 [17:20<00:05,  5.33s/it]"
          ]
        },
        {
          "output_type": "stream",
          "name": "stdout",
          "text": [
            "epoch: 199 loss: 1.768 tpo1_acc98.28869047619048%\n"
          ]
        },
        {
          "output_type": "stream",
          "name": "stderr",
          "text": [
            "100%|██████████| 200/200 [17:25<00:00,  5.23s/it]"
          ]
        },
        {
          "output_type": "stream",
          "name": "stdout",
          "text": [
            "epoch: 200 loss: 1.768 tpo1_acc98.58630952380952%\n"
          ]
        },
        {
          "output_type": "stream",
          "name": "stderr",
          "text": [
            "\n"
          ]
        }
      ]
    },
    {
      "cell_type": "code",
      "metadata": {
        "colab": {
          "base_uri": "https://localhost:8080/",
          "height": 281
        },
        "id": "q7GE1NGUeXGn",
        "outputId": "efd97f3f-44f0-4478-b6ad-935fc1322a6f"
      },
      "source": [
        "import matplotlib.pyplot as plt\n",
        "# with plt.xkcd():\n",
        "plt.plot(epoch_wise_loss)\n",
        "plt.title(\"temperature = {0}, batch_size = {1}, mu = {2}, sigma = {3}, learning_rate = {4}\".format(temperature, batch_size, mu, sigma, learning_rate))\n",
        "plt.savefig('4')\n",
        "plt.show()\n",
        "    "
      ],
      "execution_count": 13,
      "outputs": [
        {
          "output_type": "display_data",
          "data": {
            "image/png": "[encoded data removed]",
            "text/plain": [
              "<Figure size 432x288 with 1 Axes>"
            ]
          },
          "metadata": {
            "needs_background": "light"
          }
        }
      ]
    },
    {
      "cell_type": "code",
      "metadata": {
        "id": "xY9EYR6zPrG1"
      },
      "source": [
        "# input_shape = tf.keras.Input(shape=[25, 20, 3])\n",
        "# model = tf.keras.model(input_shape, get_model(input_shape))\n",
        "\n",
        "\n",
        "# def train_step()\n",
        "#   # reconstruct logits\n",
        "#   labels = tf.concat([tf.range(start=0, limit=batch_size) for _ in range(views)], axis=0) #连接在一个维度的张量，range是创造一系列数字，labels现在的维度 128\n",
        "#   labels = tf.cast(tf.expand_dims(labels, axis=0) == tf.expand_dims(labels, axis=1), dtype=tf.float32) #更改维度，行维度变成和列维度一样，变换类型,128*128\n",
        "\n",
        "\n",
        "#   zis = tf.math.l2_normalize(features, axis=1)\n",
        "#   zjs = tf.math.l2_normalize(features, axis=1)\n",
        "#   # features = features / tf.math.reduce_euclidean_norm(features, axis=1, keepdims=True) #模为1\n",
        "#   # x_x = tf.matmul(features, features, transpose_b=True)\n",
        "#   similarity_matrix = tf.matmul(zis, zjs, transpose_b=True)\n",
        "#   print(similarity_matrix.shape)\n",
        "\n",
        "#   mask = tf.linalg.eye(labels.shape[0], dtype=tf.bool)\n",
        "#   labels = tf.reshape(labels[~mask], [labels.shape[0], -1])\n",
        "#   similarity_matrix = tf.reshape(similarity_matrix[~mask], [labels.shape[0], -1])#？\n",
        "#   positives = tf.reshape(similarity_matrix[tf.cast(labels, dtype=tf.bool)], [labels.shape[0], -1])#？\n",
        "#   negatives = tf.reshape(similarity_matrix[~tf.cast(labels, dtype=tf.bool)], [similarity_matrix.shape[0], -1])#？\n",
        "#   print(positives.shape, negatives.shape)\n",
        "#   logits = tf.concat([positives, negatives], axis=1)#？\n",
        "#   logits = logits / temperature\n",
        "\n",
        "#   labels = labels = tf.zeros(BATCH_SIZE * views, dtype=tf.int32)\n",
        "#   loss = criterion(y_pred=logits, y_true=labels)\n",
        "#   loss = loss / (views * batch_size)\n",
        "#   # print(logits.shape[0])\n",
        "#   # labels = tf.zeros(logits.shape[0], dtype=tf.float32)\n",
        "#   return logits\n",
        "\n",
        "# input_1 = tf.keras.Input(shape=[25, 20, 3])\n",
        "# input_2 = tf.keras.Input(shape=[25, 20, 3])\n",
        "# outputs = build_model(input_1, input_2)\n",
        "# model = tf.keras.Model((input_1, input_2), outputs)\n",
        "# model.compile(\n",
        "#   optimizer=tf.keras.optimizers.Adam(learning_rate=0.001),\n",
        "#   loss=tf.keras.losses.SparseCategoricalCrossentropy(from_logits=True, reduction='sum_over_batch_size'),  #将数字编码转化成one-hot编码格式，然后对one-hot编码格式的数据（真实标签值）与预测出的标签值使用交叉熵损失函数\n",
        "#   metrics=[tf.keras.metrics.SparseCategoricalAccuracy()] #检查y_true中的值（本身就是index）与y_pred中的最大值对应的index是否相等，针对稀疏情况的多分类\n",
        "# )"
      ],
      "execution_count": null,
      "outputs": []
    },
    {
      "cell_type": "code",
      "metadata": {
        "id": "ED6W98QP11J2"
      },
      "source": [
        "# def data_generator(X_t, X_t_a):\n",
        "#   while True:\n",
        "#     random_idx = np.random.randint(0, high=X_t.shape[0], size=batch_size)\n",
        "#     input_1 = X_t[random_idx]\n",
        "#     input_2 = X_t_a[random_idx]\n",
        "#     target = np.zeros(batch_size*views, dtype=int)#？\n",
        "#     yield ((input_1, input_2), target)\n",
        "\n",
        "\n",
        "\n",
        "# ckpt = tf.keras.callbacks.ModelCheckpoint(\n",
        "#     filepath=\"/content/drive/MyDrive/ckpt/high_gamma_pretrain_simclr/conv6net.h5\",\n",
        "#     mointor=\"val_acc\",\n",
        "#     save_best_only=True,\n",
        "#     save_weights_only=True,\n",
        "#     mode=\"max\"  #val_acc最大的\n",
        "# )\n",
        "\n",
        "# model.fit(\n",
        "#     x=data_generator(aug_train_X2, train_X), \n",
        "#     epochs=100,  #20,30,\n",
        "#     steps_per_epoch=int(train_X.shape[0]//batch_size*2), #？\n",
        "#     verbose=\"auto\",\n",
        "#     validation_data=data_generator(aug_valid_X2, valid_X),\n",
        "#     validation_steps=int(valid_X.shape[0]//batch_size*2), #？\n",
        "#     callbacks=[ckpt]\n",
        "# )"
      ],
      "execution_count": null,
      "outputs": []
    }
  ]
}