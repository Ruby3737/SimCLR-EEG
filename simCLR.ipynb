{
  "nbformat": 4,
  "nbformat_minor": 0,
  "metadata": {
    "colab": {
      "name": "simCLR.ipynb",
      "provenance": []
    },
    "kernelspec": {
      "name": "python3",
      "display_name": "Python 3"
    },
    "language_info": {
      "name": "python"
    }
  },
  "cells": [
    {
      "cell_type": "code",
      "metadata": {
        "colab": {
          "base_uri": "https://localhost:8080/"
        },
        "id": "smFrq75Q1AQe",
        "outputId": "6e3aa271-3efa-447e-e5f7-75e07eec7604"
      },
      "source": [
        "from google.colab import drive\n",
        "drive.mount('/content/drive')"
      ],
      "execution_count": null,
      "outputs": [
        {
          "output_type": "stream",
          "name": "stdout",
          "text": [
            "Mounted at /content/drive\n"
          ]
        }
      ]
    },
    {
      "cell_type": "code",
      "metadata": {
        "colab": {
          "base_uri": "https://localhost:8080/"
        },
        "id": "2_Ysclsq1P34",
        "outputId": "c0df53d9-6a1b-496a-c1ba-c5cc5f3fa518"
      },
      "source": [
        "!pip install braindecode==0.4.85\n",
        "!pip install eeglib"
      ],
      "execution_count": null,
      "outputs": [
        {
          "output_type": "stream",
          "name": "stdout",
          "text": [
            "Collecting braindecode==0.4.85\n",
            "  Downloading Braindecode-0.4.85.tar.gz (324 kB)\n",
            "\u001b[K     |████████████████████████████████| 324 kB 7.2 MB/s \n",
            "\u001b[?25hCollecting mne\n",
            "  Downloading mne-0.24.0-py3-none-any.whl (7.4 MB)\n",
            "\u001b[K     |████████████████████████████████| 7.4 MB 21.9 MB/s \n",
            "\u001b[?25hRequirement already satisfied: numpy in /usr/local/lib/python3.7/dist-packages (from braindecode==0.4.85) (1.19.5)\n",
            "Requirement already satisfied: pandas in /usr/local/lib/python3.7/dist-packages (from braindecode==0.4.85) (1.1.5)\n",
            "Requirement already satisfied: scipy in /usr/local/lib/python3.7/dist-packages (from braindecode==0.4.85) (1.4.1)\n",
            "Requirement already satisfied: resampy in /usr/local/lib/python3.7/dist-packages (from braindecode==0.4.85) (0.2.2)\n",
            "Requirement already satisfied: matplotlib in /usr/local/lib/python3.7/dist-packages (from braindecode==0.4.85) (3.2.2)\n",
            "Requirement already satisfied: h5py in /usr/local/lib/python3.7/dist-packages (from braindecode==0.4.85) (3.1.0)\n",
            "Requirement already satisfied: cached-property in /usr/local/lib/python3.7/dist-packages (from h5py->braindecode==0.4.85) (1.5.2)\n",
            "Requirement already satisfied: pyparsing!=2.0.4,!=2.1.2,!=2.1.6,>=2.0.1 in /usr/local/lib/python3.7/dist-packages (from matplotlib->braindecode==0.4.85) (2.4.7)\n",
            "Requirement already satisfied: python-dateutil>=2.1 in /usr/local/lib/python3.7/dist-packages (from matplotlib->braindecode==0.4.85) (2.8.2)\n",
            "Requirement already satisfied: cycler>=0.10 in /usr/local/lib/python3.7/dist-packages (from matplotlib->braindecode==0.4.85) (0.10.0)\n",
            "Requirement already satisfied: kiwisolver>=1.0.1 in /usr/local/lib/python3.7/dist-packages (from matplotlib->braindecode==0.4.85) (1.3.2)\n",
            "Requirement already satisfied: six in /usr/local/lib/python3.7/dist-packages (from cycler>=0.10->matplotlib->braindecode==0.4.85) (1.15.0)\n",
            "Requirement already satisfied: pytz>=2017.2 in /usr/local/lib/python3.7/dist-packages (from pandas->braindecode==0.4.85) (2018.9)\n",
            "Requirement already satisfied: numba>=0.32 in /usr/local/lib/python3.7/dist-packages (from resampy->braindecode==0.4.85) (0.51.2)\n",
            "Requirement already satisfied: llvmlite<0.35,>=0.34.0.dev0 in /usr/local/lib/python3.7/dist-packages (from numba>=0.32->resampy->braindecode==0.4.85) (0.34.0)\n",
            "Requirement already satisfied: setuptools in /usr/local/lib/python3.7/dist-packages (from numba>=0.32->resampy->braindecode==0.4.85) (57.4.0)\n",
            "Building wheels for collected packages: braindecode\n",
            "  Building wheel for braindecode (setup.py) ... \u001b[?25l\u001b[?25hdone\n",
            "  Created wheel for braindecode: filename=Braindecode-0.4.85-py3-none-any.whl size=71094 sha256=10bf843c070b0e368210b6ba00986d1db49b648c36a0c1e30e2853b0eb9ac24c\n",
            "  Stored in directory: /root/.cache/pip/wheels/eb/67/4c/81ad85409f913dd7e3ebb4fb5896839680c5627c04d91e3b78\n",
            "Successfully built braindecode\n",
            "Installing collected packages: mne, braindecode\n",
            "Successfully installed braindecode-0.4.85 mne-0.24.0\n",
            "Collecting eeglib\n",
            "  Downloading eeglib-0.4.1-py3-none-any.whl (25 kB)\n",
            "Collecting pyedflib\n",
            "  Downloading pyEDFlib-0.1.22.tar.gz (1.3 MB)\n",
            "\u001b[K     |████████████████████████████████| 1.3 MB 11.1 MB/s \n",
            "\u001b[?25h  Installing build dependencies ... \u001b[?25l\u001b[?25hdone\n",
            "  Getting requirements to build wheel ... \u001b[?25l\u001b[?25hdone\n",
            "    Preparing wheel metadata ... \u001b[?25l\u001b[?25hdone\n",
            "Requirement already satisfied: numba in /usr/local/lib/python3.7/dist-packages (from eeglib) (0.51.2)\n",
            "Requirement already satisfied: progressbar2 in /usr/local/lib/python3.7/dist-packages (from eeglib) (3.38.0)\n",
            "Requirement already satisfied: scipy in /usr/local/lib/python3.7/dist-packages (from eeglib) (1.4.1)\n",
            "Requirement already satisfied: fastdtw in /usr/local/lib/python3.7/dist-packages (from eeglib) (0.3.4)\n",
            "Requirement already satisfied: numpy in /usr/local/lib/python3.7/dist-packages (from eeglib) (1.19.5)\n",
            "Requirement already satisfied: pandas in /usr/local/lib/python3.7/dist-packages (from eeglib) (1.1.5)\n",
            "Requirement already satisfied: sklearn in /usr/local/lib/python3.7/dist-packages (from eeglib) (0.0)\n",
            "Requirement already satisfied: setuptools in /usr/local/lib/python3.7/dist-packages (from numba->eeglib) (57.4.0)\n",
            "Requirement already satisfied: llvmlite<0.35,>=0.34.0.dev0 in /usr/local/lib/python3.7/dist-packages (from numba->eeglib) (0.34.0)\n",
            "Requirement already satisfied: pytz>=2017.2 in /usr/local/lib/python3.7/dist-packages (from pandas->eeglib) (2018.9)\n",
            "Requirement already satisfied: python-dateutil>=2.7.3 in /usr/local/lib/python3.7/dist-packages (from pandas->eeglib) (2.8.2)\n",
            "Requirement already satisfied: six>=1.5 in /usr/local/lib/python3.7/dist-packages (from python-dateutil>=2.7.3->pandas->eeglib) (1.15.0)\n",
            "Requirement already satisfied: python-utils>=2.3.0 in /usr/local/lib/python3.7/dist-packages (from progressbar2->eeglib) (2.5.6)\n",
            "Requirement already satisfied: scikit-learn in /usr/local/lib/python3.7/dist-packages (from sklearn->eeglib) (0.22.2.post1)\n",
            "Requirement already satisfied: joblib>=0.11 in /usr/local/lib/python3.7/dist-packages (from scikit-learn->sklearn->eeglib) (1.0.1)\n",
            "Building wheels for collected packages: pyedflib\n",
            "  Building wheel for pyedflib (PEP 517) ... \u001b[?25l\u001b[?25hdone\n",
            "  Created wheel for pyedflib: filename=pyEDFlib-0.1.22-cp37-cp37m-linux_x86_64.whl size=1520589 sha256=b408077176fd1d1f02c0683f93b155718ff42e323440ef349c808ecc343403e8\n",
            "  Stored in directory: /root/.cache/pip/wheels/14/80/1f/e0e403cc35286c74f1d29f55bb5e304d030fb2f560ba7c979f\n",
            "Successfully built pyedflib\n",
            "Installing collected packages: pyedflib, eeglib\n",
            "Successfully installed eeglib-0.4.1 pyedflib-0.1.22\n"
          ]
        }
      ]
    },
    {
      "cell_type": "code",
      "metadata": {
        "colab": {
          "base_uri": "https://localhost:8080/"
        },
        "id": "mOl_g40j1dlk",
        "outputId": "f28e4b11-fed9-4390-88c2-58666a63063d"
      },
      "source": [
        "import mne\n",
        "from braindecode.datasets.bbci import  BBCIDataset\n",
        "import logging\n",
        "import sys\n",
        "import os.path\n",
        "from collections import OrderedDict\n",
        "import numpy as np\n",
        "\n",
        "from braindecode.datasets.bbci import  BBCIDataset\n",
        "from braindecode.datautil.signalproc import highpass_cnt\n",
        "from braindecode.datautil.trial_segment import create_signal_target_from_raw_mne\n",
        "from braindecode.mne_ext.signalproc import mne_apply, resample_cnt\n",
        "from braindecode.datautil.signalproc import exponential_running_standardize\n",
        "\n",
        "def load_bbci_data(filename, low_cut_hz):\n",
        "    load_sensor_names = ['C3', 'C4', 'Cz']\n",
        "    loader = BBCIDataset(filename, load_sensor_names=load_sensor_names)\n",
        "\n",
        "    cnt = loader.load()\n",
        "\n",
        "    # Cleaning: First find all trials that have absolute microvolt values\n",
        "    # larger than +- 800 inside them and remember them for removal later\n",
        "\n",
        "    marker_def = OrderedDict([('Right Hand', [1]), ('Left Hand', [2],),\n",
        "                              ('Rest', [3]), ('Feet', [4])])\n",
        "    clean_ival = [0, 4000]\n",
        "\n",
        "    set_for_cleaning = create_signal_target_from_raw_mne(cnt, marker_def,\n",
        "                                                  clean_ival)\n",
        "\n",
        "    clean_trial_mask = np.max(np.abs(set_for_cleaning.X), axis=(1, 2)) < 800\n",
        "\n",
        "    # now pick only sensors with C in their name\n",
        "    # as they cover motor cortex\n",
        "    C_sensors = load_sensor_names\n",
        "    cnt = cnt.pick_channels(C_sensors)\n",
        "\n",
        "    # Further preprocessings as descibed in paper\n",
        "    cnt = resample_cnt(cnt, 250.0)\n",
        "    cnt = mne_apply(\n",
        "        lambda a: highpass_cnt(\n",
        "            a, low_cut_hz, cnt.info['sfreq'], filt_order=3, axis=1),\n",
        "        cnt)\n",
        "    cnt = mne_apply(\n",
        "        lambda a: exponential_running_standardize(a.T, factor_new=1e-3,\n",
        "                                                  init_block_size=1000,\n",
        "                                                  eps=1e-4).T,\n",
        "        cnt)\n",
        "\n",
        "    # Trial interval, start at -500 already, since improved decoding for networks\n",
        "    ival = [-500, 4000]\n",
        "\n",
        "    dataset = create_signal_target_from_raw_mne(cnt, marker_def, ival)\n",
        "    dataset.X = dataset.X[clean_trial_mask]\n",
        "    dataset.y = dataset.y[clean_trial_mask]\n",
        "    return dataset\n",
        "\n",
        "list_a = [] #存放所有.mat文件的路径\n",
        "dir_str = '/content/drive/MyDrive/EEG-dataset/high-gamma-dataset'\n",
        "for i in range(1, 29):\n",
        "  list_a.append(os.path.join(dir_str, \"a\"+str(i)+\".mat\"))\n",
        "\n",
        "datasets = []\n",
        "for mat_path in list_a:\n",
        "  datasets.append(load_bbci_data(mat_path, 0))"
      ],
      "execution_count": null,
      "outputs": [
        {
          "output_type": "stream",
          "name": "stdout",
          "text": [
            "Creating RawArray with float64 data, n_channels=3, n_times=1225545\n",
            "    Range : 0 ... 1225544 =      0.000 ...  2451.088 secs\n",
            "Ready.\n"
          ]
        },
        {
          "output_type": "stream",
          "name": "stderr",
          "text": [
            "/usr/local/lib/python3.7/dist-packages/braindecode/datasets/bbci.py:210: DeprecationWarning: events cannot be set directly. This warning will turn into an error after 0.24\n",
            "  cnt.info[\"events\"] = np.array(event_arr).T\n",
            "This is not causal, uses future data....\n"
          ]
        },
        {
          "output_type": "stream",
          "name": "stdout",
          "text": [
            "Creating RawArray with float64 data, n_channels=3, n_times=612772\n",
            "    Range : 0 ... 612771 =      0.000 ...  2451.084 secs\n",
            "Ready.\n"
          ]
        },
        {
          "output_type": "stream",
          "name": "stderr",
          "text": [
            "/usr/local/lib/python3.7/dist-packages/braindecode/mne_ext/signalproc.py:67: DeprecationWarning: sfreq cannot be set directly. Please use method inst.resample() instead. This warning will turn into an error after 0.24\n",
            "  new_info[\"sfreq\"] = new_fs\n"
          ]
        },
        {
          "output_type": "stream",
          "name": "stdout",
          "text": [
            "Creating RawArray with float64 data, n_channels=3, n_times=3131420\n",
            "    Range : 0 ... 3131419 =      0.000 ...  6262.838 secs\n",
            "Ready.\n"
          ]
        },
        {
          "output_type": "stream",
          "name": "stderr",
          "text": [
            "/usr/local/lib/python3.7/dist-packages/braindecode/datasets/bbci.py:210: DeprecationWarning: events cannot be set directly. This warning will turn into an error after 0.24\n",
            "  cnt.info[\"events\"] = np.array(event_arr).T\n",
            "This is not causal, uses future data....\n"
          ]
        },
        {
          "output_type": "stream",
          "name": "stdout",
          "text": [
            "Creating RawArray with float64 data, n_channels=3, n_times=1565710\n",
            "    Range : 0 ... 1565709 =      0.000 ...  6262.836 secs\n",
            "Ready.\n"
          ]
        },
        {
          "output_type": "stream",
          "name": "stderr",
          "text": [
            "/usr/local/lib/python3.7/dist-packages/braindecode/mne_ext/signalproc.py:67: DeprecationWarning: sfreq cannot be set directly. Please use method inst.resample() instead. This warning will turn into an error after 0.24\n",
            "  new_info[\"sfreq\"] = new_fs\n"
          ]
        },
        {
          "output_type": "stream",
          "name": "stdout",
          "text": [
            "Creating RawArray with float64 data, n_channels=3, n_times=3347155\n",
            "    Range : 0 ... 3347154 =      0.000 ...  6694.308 secs\n",
            "Ready.\n"
          ]
        },
        {
          "output_type": "stream",
          "name": "stderr",
          "text": [
            "/usr/local/lib/python3.7/dist-packages/braindecode/datasets/bbci.py:210: DeprecationWarning: events cannot be set directly. This warning will turn into an error after 0.24\n",
            "  cnt.info[\"events\"] = np.array(event_arr).T\n",
            "This is not causal, uses future data....\n"
          ]
        },
        {
          "output_type": "stream",
          "name": "stdout",
          "text": [
            "Creating RawArray with float64 data, n_channels=3, n_times=1673577\n",
            "    Range : 0 ... 1673576 =      0.000 ...  6694.304 secs\n",
            "Ready.\n"
          ]
        },
        {
          "output_type": "stream",
          "name": "stderr",
          "text": [
            "/usr/local/lib/python3.7/dist-packages/braindecode/mne_ext/signalproc.py:67: DeprecationWarning: sfreq cannot be set directly. Please use method inst.resample() instead. This warning will turn into an error after 0.24\n",
            "  new_info[\"sfreq\"] = new_fs\n"
          ]
        },
        {
          "output_type": "stream",
          "name": "stdout",
          "text": [
            "Creating RawArray with float64 data, n_channels=3, n_times=3451320\n",
            "    Range : 0 ... 3451319 =      0.000 ...  6902.638 secs\n",
            "Ready.\n"
          ]
        },
        {
          "output_type": "stream",
          "name": "stderr",
          "text": [
            "/usr/local/lib/python3.7/dist-packages/braindecode/datasets/bbci.py:210: DeprecationWarning: events cannot be set directly. This warning will turn into an error after 0.24\n",
            "  cnt.info[\"events\"] = np.array(event_arr).T\n",
            "This is not causal, uses future data....\n"
          ]
        },
        {
          "output_type": "stream",
          "name": "stdout",
          "text": [
            "Creating RawArray with float64 data, n_channels=3, n_times=1725660\n",
            "    Range : 0 ... 1725659 =      0.000 ...  6902.636 secs\n",
            "Ready.\n"
          ]
        },
        {
          "output_type": "stream",
          "name": "stderr",
          "text": [
            "/usr/local/lib/python3.7/dist-packages/braindecode/mne_ext/signalproc.py:67: DeprecationWarning: sfreq cannot be set directly. Please use method inst.resample() instead. This warning will turn into an error after 0.24\n",
            "  new_info[\"sfreq\"] = new_fs\n"
          ]
        },
        {
          "output_type": "stream",
          "name": "stdout",
          "text": [
            "Creating RawArray with float64 data, n_channels=3, n_times=2736300\n",
            "    Range : 0 ... 2736299 =      0.000 ...  5472.598 secs\n",
            "Ready.\n"
          ]
        },
        {
          "output_type": "stream",
          "name": "stderr",
          "text": [
            "/usr/local/lib/python3.7/dist-packages/braindecode/datasets/bbci.py:210: DeprecationWarning: events cannot be set directly. This warning will turn into an error after 0.24\n",
            "  cnt.info[\"events\"] = np.array(event_arr).T\n",
            "This is not causal, uses future data....\n"
          ]
        },
        {
          "output_type": "stream",
          "name": "stdout",
          "text": [
            "Creating RawArray with float64 data, n_channels=3, n_times=1368150\n",
            "    Range : 0 ... 1368149 =      0.000 ...  5472.596 secs\n",
            "Ready.\n"
          ]
        },
        {
          "output_type": "stream",
          "name": "stderr",
          "text": [
            "/usr/local/lib/python3.7/dist-packages/braindecode/mne_ext/signalproc.py:67: DeprecationWarning: sfreq cannot be set directly. Please use method inst.resample() instead. This warning will turn into an error after 0.24\n",
            "  new_info[\"sfreq\"] = new_fs\n"
          ]
        },
        {
          "output_type": "stream",
          "name": "stdout",
          "text": [
            "Creating RawArray with float64 data, n_channels=3, n_times=3387290\n",
            "    Range : 0 ... 3387289 =      0.000 ...  6774.578 secs\n",
            "Ready.\n"
          ]
        },
        {
          "output_type": "stream",
          "name": "stderr",
          "text": [
            "/usr/local/lib/python3.7/dist-packages/braindecode/datasets/bbci.py:210: DeprecationWarning: events cannot be set directly. This warning will turn into an error after 0.24\n",
            "  cnt.info[\"events\"] = np.array(event_arr).T\n",
            "This is not causal, uses future data....\n"
          ]
        },
        {
          "output_type": "stream",
          "name": "stdout",
          "text": [
            "Creating RawArray with float64 data, n_channels=3, n_times=1693645\n",
            "    Range : 0 ... 1693644 =      0.000 ...  6774.576 secs\n",
            "Ready.\n"
          ]
        },
        {
          "output_type": "stream",
          "name": "stderr",
          "text": [
            "/usr/local/lib/python3.7/dist-packages/braindecode/mne_ext/signalproc.py:67: DeprecationWarning: sfreq cannot be set directly. Please use method inst.resample() instead. This warning will turn into an error after 0.24\n",
            "  new_info[\"sfreq\"] = new_fs\n"
          ]
        },
        {
          "output_type": "stream",
          "name": "stdout",
          "text": [
            "Creating RawArray with float64 data, n_channels=3, n_times=3354460\n",
            "    Range : 0 ... 3354459 =      0.000 ...  6708.918 secs\n",
            "Ready.\n"
          ]
        },
        {
          "output_type": "stream",
          "name": "stderr",
          "text": [
            "/usr/local/lib/python3.7/dist-packages/braindecode/datasets/bbci.py:210: DeprecationWarning: events cannot be set directly. This warning will turn into an error after 0.24\n",
            "  cnt.info[\"events\"] = np.array(event_arr).T\n",
            "This is not causal, uses future data....\n"
          ]
        },
        {
          "output_type": "stream",
          "name": "stdout",
          "text": [
            "Creating RawArray with float64 data, n_channels=3, n_times=1677230\n",
            "    Range : 0 ... 1677229 =      0.000 ...  6708.916 secs\n",
            "Ready.\n"
          ]
        },
        {
          "output_type": "stream",
          "name": "stderr",
          "text": [
            "/usr/local/lib/python3.7/dist-packages/braindecode/mne_ext/signalproc.py:67: DeprecationWarning: sfreq cannot be set directly. Please use method inst.resample() instead. This warning will turn into an error after 0.24\n",
            "  new_info[\"sfreq\"] = new_fs\n"
          ]
        },
        {
          "output_type": "stream",
          "name": "stdout",
          "text": [
            "Creating RawArray with float64 data, n_channels=3, n_times=2511860\n",
            "    Range : 0 ... 2511859 =      0.000 ...  5023.718 secs\n",
            "Ready.\n"
          ]
        },
        {
          "output_type": "stream",
          "name": "stderr",
          "text": [
            "/usr/local/lib/python3.7/dist-packages/braindecode/datasets/bbci.py:210: DeprecationWarning: events cannot be set directly. This warning will turn into an error after 0.24\n",
            "  cnt.info[\"events\"] = np.array(event_arr).T\n",
            "This is not causal, uses future data....\n"
          ]
        },
        {
          "output_type": "stream",
          "name": "stdout",
          "text": [
            "Creating RawArray with float64 data, n_channels=3, n_times=1255930\n",
            "    Range : 0 ... 1255929 =      0.000 ...  5023.716 secs\n",
            "Ready.\n"
          ]
        },
        {
          "output_type": "stream",
          "name": "stderr",
          "text": [
            "/usr/local/lib/python3.7/dist-packages/braindecode/mne_ext/signalproc.py:67: DeprecationWarning: sfreq cannot be set directly. Please use method inst.resample() instead. This warning will turn into an error after 0.24\n",
            "  new_info[\"sfreq\"] = new_fs\n"
          ]
        },
        {
          "output_type": "stream",
          "name": "stdout",
          "text": [
            "Creating RawArray with float64 data, n_channels=3, n_times=3383655\n",
            "    Range : 0 ... 3383654 =      0.000 ...  6767.308 secs\n",
            "Ready.\n"
          ]
        },
        {
          "output_type": "stream",
          "name": "stderr",
          "text": [
            "/usr/local/lib/python3.7/dist-packages/braindecode/datasets/bbci.py:210: DeprecationWarning: events cannot be set directly. This warning will turn into an error after 0.24\n",
            "  cnt.info[\"events\"] = np.array(event_arr).T\n",
            "This is not causal, uses future data....\n"
          ]
        },
        {
          "output_type": "stream",
          "name": "stdout",
          "text": [
            "Creating RawArray with float64 data, n_channels=3, n_times=1691827\n",
            "    Range : 0 ... 1691826 =      0.000 ...  6767.304 secs\n",
            "Ready.\n"
          ]
        },
        {
          "output_type": "stream",
          "name": "stderr",
          "text": [
            "/usr/local/lib/python3.7/dist-packages/braindecode/mne_ext/signalproc.py:67: DeprecationWarning: sfreq cannot be set directly. Please use method inst.resample() instead. This warning will turn into an error after 0.24\n",
            "  new_info[\"sfreq\"] = new_fs\n"
          ]
        },
        {
          "output_type": "stream",
          "name": "stdout",
          "text": [
            "Creating RawArray with float64 data, n_channels=3, n_times=3386150\n",
            "    Range : 0 ... 3386149 =      0.000 ...  6772.298 secs\n",
            "Ready.\n"
          ]
        },
        {
          "output_type": "stream",
          "name": "stderr",
          "text": [
            "/usr/local/lib/python3.7/dist-packages/braindecode/datasets/bbci.py:210: DeprecationWarning: events cannot be set directly. This warning will turn into an error after 0.24\n",
            "  cnt.info[\"events\"] = np.array(event_arr).T\n",
            "This is not causal, uses future data....\n"
          ]
        },
        {
          "output_type": "stream",
          "name": "stdout",
          "text": [
            "Creating RawArray with float64 data, n_channels=3, n_times=1693075\n",
            "    Range : 0 ... 1693074 =      0.000 ...  6772.296 secs\n",
            "Ready.\n"
          ]
        },
        {
          "output_type": "stream",
          "name": "stderr",
          "text": [
            "/usr/local/lib/python3.7/dist-packages/braindecode/mne_ext/signalproc.py:67: DeprecationWarning: sfreq cannot be set directly. Please use method inst.resample() instead. This warning will turn into an error after 0.24\n",
            "  new_info[\"sfreq\"] = new_fs\n"
          ]
        },
        {
          "output_type": "stream",
          "name": "stdout",
          "text": [
            "Creating RawArray with float64 data, n_channels=3, n_times=3386765\n",
            "    Range : 0 ... 3386764 =      0.000 ...  6773.528 secs\n",
            "Ready.\n"
          ]
        },
        {
          "output_type": "stream",
          "name": "stderr",
          "text": [
            "/usr/local/lib/python3.7/dist-packages/braindecode/datasets/bbci.py:210: DeprecationWarning: events cannot be set directly. This warning will turn into an error after 0.24\n",
            "  cnt.info[\"events\"] = np.array(event_arr).T\n",
            "This is not causal, uses future data....\n"
          ]
        },
        {
          "output_type": "stream",
          "name": "stdout",
          "text": [
            "Creating RawArray with float64 data, n_channels=3, n_times=1693382\n",
            "    Range : 0 ... 1693381 =      0.000 ...  6773.524 secs\n",
            "Ready.\n"
          ]
        },
        {
          "output_type": "stream",
          "name": "stderr",
          "text": [
            "/usr/local/lib/python3.7/dist-packages/braindecode/mne_ext/signalproc.py:67: DeprecationWarning: sfreq cannot be set directly. Please use method inst.resample() instead. This warning will turn into an error after 0.24\n",
            "  new_info[\"sfreq\"] = new_fs\n"
          ]
        },
        {
          "output_type": "stream",
          "name": "stdout",
          "text": [
            "Creating RawArray with float64 data, n_channels=3, n_times=3385750\n",
            "    Range : 0 ... 3385749 =      0.000 ...  6771.498 secs\n",
            "Ready.\n"
          ]
        },
        {
          "output_type": "stream",
          "name": "stderr",
          "text": [
            "/usr/local/lib/python3.7/dist-packages/braindecode/datasets/bbci.py:210: DeprecationWarning: events cannot be set directly. This warning will turn into an error after 0.24\n",
            "  cnt.info[\"events\"] = np.array(event_arr).T\n",
            "This is not causal, uses future data....\n"
          ]
        },
        {
          "output_type": "stream",
          "name": "stdout",
          "text": [
            "Creating RawArray with float64 data, n_channels=3, n_times=1692875\n",
            "    Range : 0 ... 1692874 =      0.000 ...  6771.496 secs\n",
            "Ready.\n"
          ]
        },
        {
          "output_type": "stream",
          "name": "stderr",
          "text": [
            "/usr/local/lib/python3.7/dist-packages/braindecode/mne_ext/signalproc.py:67: DeprecationWarning: sfreq cannot be set directly. Please use method inst.resample() instead. This warning will turn into an error after 0.24\n",
            "  new_info[\"sfreq\"] = new_fs\n"
          ]
        },
        {
          "output_type": "stream",
          "name": "stdout",
          "text": [
            "Creating RawArray with float64 data, n_channels=3, n_times=3032845\n",
            "    Range : 0 ... 3032844 =      0.000 ...  6065.688 secs\n",
            "Ready.\n"
          ]
        },
        {
          "output_type": "stream",
          "name": "stderr",
          "text": [
            "/usr/local/lib/python3.7/dist-packages/braindecode/datasets/bbci.py:210: DeprecationWarning: events cannot be set directly. This warning will turn into an error after 0.24\n",
            "  cnt.info[\"events\"] = np.array(event_arr).T\n",
            "This is not causal, uses future data....\n"
          ]
        },
        {
          "output_type": "stream",
          "name": "stdout",
          "text": [
            "Creating RawArray with float64 data, n_channels=3, n_times=1516422\n",
            "    Range : 0 ... 1516421 =      0.000 ...  6065.684 secs\n",
            "Ready.\n"
          ]
        },
        {
          "output_type": "stream",
          "name": "stderr",
          "text": [
            "/usr/local/lib/python3.7/dist-packages/braindecode/mne_ext/signalproc.py:67: DeprecationWarning: sfreq cannot be set directly. Please use method inst.resample() instead. This warning will turn into an error after 0.24\n",
            "  new_info[\"sfreq\"] = new_fs\n"
          ]
        },
        {
          "output_type": "stream",
          "name": "stdout",
          "text": [
            "Creating RawArray with float64 data, n_channels=3, n_times=3345425\n",
            "    Range : 0 ... 3345424 =      0.000 ...  6690.848 secs\n",
            "Ready.\n"
          ]
        },
        {
          "output_type": "stream",
          "name": "stderr",
          "text": [
            "/usr/local/lib/python3.7/dist-packages/braindecode/datasets/bbci.py:210: DeprecationWarning: events cannot be set directly. This warning will turn into an error after 0.24\n",
            "  cnt.info[\"events\"] = np.array(event_arr).T\n",
            "This is not causal, uses future data....\n"
          ]
        },
        {
          "output_type": "stream",
          "name": "stdout",
          "text": [
            "Creating RawArray with float64 data, n_channels=3, n_times=1672712\n",
            "    Range : 0 ... 1672711 =      0.000 ...  6690.844 secs\n",
            "Ready.\n"
          ]
        },
        {
          "output_type": "stream",
          "name": "stderr",
          "text": [
            "/usr/local/lib/python3.7/dist-packages/braindecode/mne_ext/signalproc.py:67: DeprecationWarning: sfreq cannot be set directly. Please use method inst.resample() instead. This warning will turn into an error after 0.24\n",
            "  new_info[\"sfreq\"] = new_fs\n"
          ]
        },
        {
          "output_type": "stream",
          "name": "stdout",
          "text": [
            "Creating RawArray with float64 data, n_channels=3, n_times=616535\n",
            "    Range : 0 ... 616534 =      0.000 ...  1233.068 secs\n",
            "Ready.\n"
          ]
        },
        {
          "output_type": "stream",
          "name": "stderr",
          "text": [
            "/usr/local/lib/python3.7/dist-packages/braindecode/datasets/bbci.py:210: DeprecationWarning: events cannot be set directly. This warning will turn into an error after 0.24\n",
            "  cnt.info[\"events\"] = np.array(event_arr).T\n",
            "This is not causal, uses future data....\n"
          ]
        },
        {
          "output_type": "stream",
          "name": "stdout",
          "text": [
            "Creating RawArray with float64 data, n_channels=3, n_times=308267\n",
            "    Range : 0 ... 308266 =      0.000 ...  1233.064 secs\n",
            "Ready.\n"
          ]
        },
        {
          "output_type": "stream",
          "name": "stderr",
          "text": [
            "/usr/local/lib/python3.7/dist-packages/braindecode/mne_ext/signalproc.py:67: DeprecationWarning: sfreq cannot be set directly. Please use method inst.resample() instead. This warning will turn into an error after 0.24\n",
            "  new_info[\"sfreq\"] = new_fs\n"
          ]
        },
        {
          "output_type": "stream",
          "name": "stdout",
          "text": [
            "Creating RawArray with float64 data, n_channels=3, n_times=617735\n",
            "    Range : 0 ... 617734 =      0.000 ...  1235.468 secs\n",
            "Ready.\n"
          ]
        },
        {
          "output_type": "stream",
          "name": "stderr",
          "text": [
            "/usr/local/lib/python3.7/dist-packages/braindecode/datasets/bbci.py:210: DeprecationWarning: events cannot be set directly. This warning will turn into an error after 0.24\n",
            "  cnt.info[\"events\"] = np.array(event_arr).T\n",
            "This is not causal, uses future data....\n"
          ]
        },
        {
          "output_type": "stream",
          "name": "stdout",
          "text": [
            "Creating RawArray with float64 data, n_channels=3, n_times=308867\n",
            "    Range : 0 ... 308866 =      0.000 ...  1235.464 secs\n",
            "Ready.\n"
          ]
        },
        {
          "output_type": "stream",
          "name": "stderr",
          "text": [
            "/usr/local/lib/python3.7/dist-packages/braindecode/mne_ext/signalproc.py:67: DeprecationWarning: sfreq cannot be set directly. Please use method inst.resample() instead. This warning will turn into an error after 0.24\n",
            "  new_info[\"sfreq\"] = new_fs\n"
          ]
        },
        {
          "output_type": "stream",
          "name": "stdout",
          "text": [
            "Creating RawArray with float64 data, n_channels=3, n_times=609030\n",
            "    Range : 0 ... 609029 =      0.000 ...  1218.058 secs\n",
            "Ready.\n"
          ]
        },
        {
          "output_type": "stream",
          "name": "stderr",
          "text": [
            "/usr/local/lib/python3.7/dist-packages/braindecode/datasets/bbci.py:210: DeprecationWarning: events cannot be set directly. This warning will turn into an error after 0.24\n",
            "  cnt.info[\"events\"] = np.array(event_arr).T\n",
            "This is not causal, uses future data....\n"
          ]
        },
        {
          "output_type": "stream",
          "name": "stdout",
          "text": [
            "Creating RawArray with float64 data, n_channels=3, n_times=304515\n",
            "    Range : 0 ... 304514 =      0.000 ...  1218.056 secs\n",
            "Ready.\n"
          ]
        },
        {
          "output_type": "stream",
          "name": "stderr",
          "text": [
            "/usr/local/lib/python3.7/dist-packages/braindecode/mne_ext/signalproc.py:67: DeprecationWarning: sfreq cannot be set directly. Please use method inst.resample() instead. This warning will turn into an error after 0.24\n",
            "  new_info[\"sfreq\"] = new_fs\n"
          ]
        },
        {
          "output_type": "stream",
          "name": "stdout",
          "text": [
            "Creating RawArray with float64 data, n_channels=3, n_times=617090\n",
            "    Range : 0 ... 617089 =      0.000 ...  1234.178 secs\n",
            "Ready.\n"
          ]
        },
        {
          "output_type": "stream",
          "name": "stderr",
          "text": [
            "/usr/local/lib/python3.7/dist-packages/braindecode/datasets/bbci.py:210: DeprecationWarning: events cannot be set directly. This warning will turn into an error after 0.24\n",
            "  cnt.info[\"events\"] = np.array(event_arr).T\n",
            "This is not causal, uses future data....\n"
          ]
        },
        {
          "output_type": "stream",
          "name": "stdout",
          "text": [
            "Creating RawArray with float64 data, n_channels=3, n_times=308545\n",
            "    Range : 0 ... 308544 =      0.000 ...  1234.176 secs\n",
            "Ready.\n"
          ]
        },
        {
          "output_type": "stream",
          "name": "stderr",
          "text": [
            "/usr/local/lib/python3.7/dist-packages/braindecode/mne_ext/signalproc.py:67: DeprecationWarning: sfreq cannot be set directly. Please use method inst.resample() instead. This warning will turn into an error after 0.24\n",
            "  new_info[\"sfreq\"] = new_fs\n"
          ]
        },
        {
          "output_type": "stream",
          "name": "stdout",
          "text": [
            "Creating RawArray with float64 data, n_channels=3, n_times=607250\n",
            "    Range : 0 ... 607249 =      0.000 ...  1214.498 secs\n",
            "Ready.\n"
          ]
        },
        {
          "output_type": "stream",
          "name": "stderr",
          "text": [
            "/usr/local/lib/python3.7/dist-packages/braindecode/datasets/bbci.py:210: DeprecationWarning: events cannot be set directly. This warning will turn into an error after 0.24\n",
            "  cnt.info[\"events\"] = np.array(event_arr).T\n",
            "This is not causal, uses future data....\n"
          ]
        },
        {
          "output_type": "stream",
          "name": "stdout",
          "text": [
            "Creating RawArray with float64 data, n_channels=3, n_times=303625\n",
            "    Range : 0 ... 303624 =      0.000 ...  1214.496 secs\n",
            "Ready.\n"
          ]
        },
        {
          "output_type": "stream",
          "name": "stderr",
          "text": [
            "/usr/local/lib/python3.7/dist-packages/braindecode/mne_ext/signalproc.py:67: DeprecationWarning: sfreq cannot be set directly. Please use method inst.resample() instead. This warning will turn into an error after 0.24\n",
            "  new_info[\"sfreq\"] = new_fs\n"
          ]
        },
        {
          "output_type": "stream",
          "name": "stdout",
          "text": [
            "Creating RawArray with float64 data, n_channels=3, n_times=615705\n",
            "    Range : 0 ... 615704 =      0.000 ...  1231.408 secs\n",
            "Ready.\n"
          ]
        },
        {
          "output_type": "stream",
          "name": "stderr",
          "text": [
            "/usr/local/lib/python3.7/dist-packages/braindecode/datasets/bbci.py:210: DeprecationWarning: events cannot be set directly. This warning will turn into an error after 0.24\n",
            "  cnt.info[\"events\"] = np.array(event_arr).T\n",
            "This is not causal, uses future data....\n"
          ]
        },
        {
          "output_type": "stream",
          "name": "stdout",
          "text": [
            "Creating RawArray with float64 data, n_channels=3, n_times=307852\n",
            "    Range : 0 ... 307851 =      0.000 ...  1231.404 secs\n",
            "Ready.\n"
          ]
        },
        {
          "output_type": "stream",
          "name": "stderr",
          "text": [
            "/usr/local/lib/python3.7/dist-packages/braindecode/mne_ext/signalproc.py:67: DeprecationWarning: sfreq cannot be set directly. Please use method inst.resample() instead. This warning will turn into an error after 0.24\n",
            "  new_info[\"sfreq\"] = new_fs\n"
          ]
        },
        {
          "output_type": "stream",
          "name": "stdout",
          "text": [
            "Creating RawArray with float64 data, n_channels=3, n_times=608850\n",
            "    Range : 0 ... 608849 =      0.000 ...  1217.698 secs\n",
            "Ready.\n"
          ]
        },
        {
          "output_type": "stream",
          "name": "stderr",
          "text": [
            "/usr/local/lib/python3.7/dist-packages/braindecode/datasets/bbci.py:210: DeprecationWarning: events cannot be set directly. This warning will turn into an error after 0.24\n",
            "  cnt.info[\"events\"] = np.array(event_arr).T\n",
            "This is not causal, uses future data....\n"
          ]
        },
        {
          "output_type": "stream",
          "name": "stdout",
          "text": [
            "Creating RawArray with float64 data, n_channels=3, n_times=304425\n",
            "    Range : 0 ... 304424 =      0.000 ...  1217.696 secs\n",
            "Ready.\n"
          ]
        },
        {
          "output_type": "stream",
          "name": "stderr",
          "text": [
            "/usr/local/lib/python3.7/dist-packages/braindecode/mne_ext/signalproc.py:67: DeprecationWarning: sfreq cannot be set directly. Please use method inst.resample() instead. This warning will turn into an error after 0.24\n",
            "  new_info[\"sfreq\"] = new_fs\n"
          ]
        },
        {
          "output_type": "stream",
          "name": "stdout",
          "text": [
            "Creating RawArray with float64 data, n_channels=3, n_times=616070\n",
            "    Range : 0 ... 616069 =      0.000 ...  1232.138 secs\n",
            "Ready.\n"
          ]
        },
        {
          "output_type": "stream",
          "name": "stderr",
          "text": [
            "/usr/local/lib/python3.7/dist-packages/braindecode/datasets/bbci.py:210: DeprecationWarning: events cannot be set directly. This warning will turn into an error after 0.24\n",
            "  cnt.info[\"events\"] = np.array(event_arr).T\n",
            "This is not causal, uses future data....\n"
          ]
        },
        {
          "output_type": "stream",
          "name": "stdout",
          "text": [
            "Creating RawArray with float64 data, n_channels=3, n_times=308035\n",
            "    Range : 0 ... 308034 =      0.000 ...  1232.136 secs\n",
            "Ready.\n"
          ]
        },
        {
          "output_type": "stream",
          "name": "stderr",
          "text": [
            "/usr/local/lib/python3.7/dist-packages/braindecode/mne_ext/signalproc.py:67: DeprecationWarning: sfreq cannot be set directly. Please use method inst.resample() instead. This warning will turn into an error after 0.24\n",
            "  new_info[\"sfreq\"] = new_fs\n"
          ]
        },
        {
          "output_type": "stream",
          "name": "stdout",
          "text": [
            "Creating RawArray with float64 data, n_channels=3, n_times=614600\n",
            "    Range : 0 ... 614599 =      0.000 ...  1229.198 secs\n",
            "Ready.\n"
          ]
        },
        {
          "output_type": "stream",
          "name": "stderr",
          "text": [
            "/usr/local/lib/python3.7/dist-packages/braindecode/datasets/bbci.py:210: DeprecationWarning: events cannot be set directly. This warning will turn into an error after 0.24\n",
            "  cnt.info[\"events\"] = np.array(event_arr).T\n",
            "This is not causal, uses future data....\n"
          ]
        },
        {
          "output_type": "stream",
          "name": "stdout",
          "text": [
            "Creating RawArray with float64 data, n_channels=3, n_times=307300\n",
            "    Range : 0 ... 307299 =      0.000 ...  1229.196 secs\n",
            "Ready.\n"
          ]
        },
        {
          "output_type": "stream",
          "name": "stderr",
          "text": [
            "/usr/local/lib/python3.7/dist-packages/braindecode/mne_ext/signalproc.py:67: DeprecationWarning: sfreq cannot be set directly. Please use method inst.resample() instead. This warning will turn into an error after 0.24\n",
            "  new_info[\"sfreq\"] = new_fs\n"
          ]
        },
        {
          "output_type": "stream",
          "name": "stdout",
          "text": [
            "Creating RawArray with float64 data, n_channels=3, n_times=614555\n",
            "    Range : 0 ... 614554 =      0.000 ...  1229.108 secs\n",
            "Ready.\n"
          ]
        },
        {
          "output_type": "stream",
          "name": "stderr",
          "text": [
            "/usr/local/lib/python3.7/dist-packages/braindecode/datasets/bbci.py:210: DeprecationWarning: events cannot be set directly. This warning will turn into an error after 0.24\n",
            "  cnt.info[\"events\"] = np.array(event_arr).T\n",
            "This is not causal, uses future data....\n"
          ]
        },
        {
          "output_type": "stream",
          "name": "stdout",
          "text": [
            "Creating RawArray with float64 data, n_channels=3, n_times=307277\n",
            "    Range : 0 ... 307276 =      0.000 ...  1229.104 secs\n",
            "Ready.\n"
          ]
        },
        {
          "output_type": "stream",
          "name": "stderr",
          "text": [
            "/usr/local/lib/python3.7/dist-packages/braindecode/mne_ext/signalproc.py:67: DeprecationWarning: sfreq cannot be set directly. Please use method inst.resample() instead. This warning will turn into an error after 0.24\n",
            "  new_info[\"sfreq\"] = new_fs\n"
          ]
        },
        {
          "output_type": "stream",
          "name": "stdout",
          "text": [
            "Creating RawArray with float64 data, n_channels=3, n_times=610820\n",
            "    Range : 0 ... 610819 =      0.000 ...  1221.638 secs\n",
            "Ready.\n"
          ]
        },
        {
          "output_type": "stream",
          "name": "stderr",
          "text": [
            "/usr/local/lib/python3.7/dist-packages/braindecode/datasets/bbci.py:210: DeprecationWarning: events cannot be set directly. This warning will turn into an error after 0.24\n",
            "  cnt.info[\"events\"] = np.array(event_arr).T\n",
            "This is not causal, uses future data....\n"
          ]
        },
        {
          "output_type": "stream",
          "name": "stdout",
          "text": [
            "Creating RawArray with float64 data, n_channels=3, n_times=305410\n",
            "    Range : 0 ... 305409 =      0.000 ...  1221.636 secs\n",
            "Ready.\n"
          ]
        },
        {
          "output_type": "stream",
          "name": "stderr",
          "text": [
            "/usr/local/lib/python3.7/dist-packages/braindecode/mne_ext/signalproc.py:67: DeprecationWarning: sfreq cannot be set directly. Please use method inst.resample() instead. This warning will turn into an error after 0.24\n",
            "  new_info[\"sfreq\"] = new_fs\n"
          ]
        },
        {
          "output_type": "stream",
          "name": "stdout",
          "text": [
            "Creating RawArray with float64 data, n_channels=3, n_times=614290\n",
            "    Range : 0 ... 614289 =      0.000 ...  1228.578 secs\n",
            "Ready.\n"
          ]
        },
        {
          "output_type": "stream",
          "name": "stderr",
          "text": [
            "/usr/local/lib/python3.7/dist-packages/braindecode/datasets/bbci.py:210: DeprecationWarning: events cannot be set directly. This warning will turn into an error after 0.24\n",
            "  cnt.info[\"events\"] = np.array(event_arr).T\n",
            "This is not causal, uses future data....\n"
          ]
        },
        {
          "output_type": "stream",
          "name": "stdout",
          "text": [
            "Creating RawArray with float64 data, n_channels=3, n_times=307145\n",
            "    Range : 0 ... 307144 =      0.000 ...  1228.576 secs\n",
            "Ready.\n"
          ]
        },
        {
          "output_type": "stream",
          "name": "stderr",
          "text": [
            "/usr/local/lib/python3.7/dist-packages/braindecode/mne_ext/signalproc.py:67: DeprecationWarning: sfreq cannot be set directly. Please use method inst.resample() instead. This warning will turn into an error after 0.24\n",
            "  new_info[\"sfreq\"] = new_fs\n"
          ]
        },
        {
          "output_type": "stream",
          "name": "stdout",
          "text": [
            "Creating RawArray with float64 data, n_channels=3, n_times=607735\n",
            "    Range : 0 ... 607734 =      0.000 ...  1215.468 secs\n",
            "Ready.\n"
          ]
        },
        {
          "output_type": "stream",
          "name": "stderr",
          "text": [
            "/usr/local/lib/python3.7/dist-packages/braindecode/datasets/bbci.py:210: DeprecationWarning: events cannot be set directly. This warning will turn into an error after 0.24\n",
            "  cnt.info[\"events\"] = np.array(event_arr).T\n",
            "This is not causal, uses future data....\n"
          ]
        },
        {
          "output_type": "stream",
          "name": "stdout",
          "text": [
            "Creating RawArray with float64 data, n_channels=3, n_times=303867\n",
            "    Range : 0 ... 303866 =      0.000 ...  1215.464 secs\n",
            "Ready.\n"
          ]
        },
        {
          "output_type": "stream",
          "name": "stderr",
          "text": [
            "/usr/local/lib/python3.7/dist-packages/braindecode/mne_ext/signalproc.py:67: DeprecationWarning: sfreq cannot be set directly. Please use method inst.resample() instead. This warning will turn into an error after 0.24\n",
            "  new_info[\"sfreq\"] = new_fs\n"
          ]
        },
        {
          "output_type": "stream",
          "name": "stdout",
          "text": [
            "Creating RawArray with float64 data, n_channels=3, n_times=608505\n",
            "    Range : 0 ... 608504 =      0.000 ...  1217.008 secs\n",
            "Ready.\n"
          ]
        },
        {
          "output_type": "stream",
          "name": "stderr",
          "text": [
            "/usr/local/lib/python3.7/dist-packages/braindecode/datasets/bbci.py:210: DeprecationWarning: events cannot be set directly. This warning will turn into an error after 0.24\n",
            "  cnt.info[\"events\"] = np.array(event_arr).T\n",
            "This is not causal, uses future data....\n"
          ]
        },
        {
          "output_type": "stream",
          "name": "stdout",
          "text": [
            "Creating RawArray with float64 data, n_channels=3, n_times=304252\n",
            "    Range : 0 ... 304251 =      0.000 ...  1217.004 secs\n",
            "Ready.\n"
          ]
        },
        {
          "output_type": "stream",
          "name": "stderr",
          "text": [
            "/usr/local/lib/python3.7/dist-packages/braindecode/mne_ext/signalproc.py:67: DeprecationWarning: sfreq cannot be set directly. Please use method inst.resample() instead. This warning will turn into an error after 0.24\n",
            "  new_info[\"sfreq\"] = new_fs\n"
          ]
        }
      ]
    },
    {
      "cell_type": "code",
      "metadata": {
        "colab": {
          "base_uri": "https://localhost:8080/"
        },
        "id": "bBxrb5ex1ouq",
        "outputId": "c4374139-aebc-408a-9175-7aba09ceed40"
      },
      "source": [
        "import numpy as np\n",
        "train_X, train_y = [], []\n",
        "for D in datasets:\n",
        "  train_X.append(np.transpose(np.asarray(D.X), [0, 2, 1]).reshape([-1, 25, 45, 3]))\n",
        "  train_y.append(np.asarray(D.y))\n",
        "train_X = np.concatenate(train_X, axis=0)\n",
        "train_y = np.concatenate(train_y, axis=0)\n",
        "train_X.shape"
      ],
      "execution_count": null,
      "outputs": [
        {
          "output_type": "execute_result",
          "data": {
            "text/plain": [
              "(13480, 25, 45, 3)"
            ]
          },
          "metadata": {},
          "execution_count": 4
        }
      ]
    },
    {
      "cell_type": "code",
      "metadata": {
        "id": "kRSybGqAEd0I"
      },
      "source": [
        "#split validation dataset\n",
        "sample_len = train_X.shape[0]\n",
        "splite_ratio = 0.1\n",
        "valid_num = int(sample_len*splite_ratio)\n",
        "valid_idx = np.random.randint(low=0, high=sample_len, size=valid_num) #生成随机数，validation的下标们\n",
        "train_idx = np.asarray(list(set(list(range(sample_len))) - set(list(valid_idx)))) #set集合可以来做减法，交并集\n",
        "\n",
        "valid_X = train_X[valid_idx, :, :, :]\n",
        "valid_y = train_y[valid_idx]\n",
        "train_X = train_X[train_idx, :, :, :]\n",
        "train_y = train_y[train_idx]"
      ],
      "execution_count": null,
      "outputs": []
    },
    {
      "cell_type": "code",
      "metadata": {
        "id": "BciGLaBM1tIm"
      },
      "source": [
        "## import tf and check gpu is_available\n",
        "import tensorflow as tf\n",
        "# assert tf.test.is_gpu_available()"
      ],
      "execution_count": null,
      "outputs": []
    },
    {
      "cell_type": "code",
      "metadata": {
        "colab": {
          "base_uri": "https://localhost:8080/"
        },
        "id": "dPFAbZFx1x_N",
        "outputId": "b84846a0-3eb8-4486-ffc2-5efb3052a220"
      },
      "source": [
        "## build model\n",
        "batch_size = 64\n",
        "views = 2\n",
        "assert views == 2\n",
        "\n",
        "def build_model(input_1, input_2):\n",
        "  inputs = tf.concat([input_1, input_2], axis=0)\n",
        "\n",
        "  # CONV_1\n",
        "  C_1 = tf.keras.layers.Conv2D(32, (3, 3), padding=\"SAME\", name=\"C_1\")(inputs)\n",
        "  L_1 = tf.keras.layers.LeakyReLU()(C_1)\n",
        "  D_1 = tf.keras.layers.Dropout(rate=0.5)(L_1)\n",
        "\n",
        "  # CONV_2\n",
        "  C_2 = tf.keras.layers.Conv2D(32, (3, 3), padding=\"SAME\", name=\"C_2\")(D_1)\n",
        "  B_2 = tf.keras.layers.BatchNormalization(name=\"B_2\")(C_2)\n",
        "  L_2 = tf.keras.layers.LeakyReLU()(B_2)\n",
        "\n",
        "  # CONV_3\n",
        "  C_3_IN = tf.concat((L_2, D_1), axis=3)\n",
        "  C_3 = tf.keras.layers.Conv2D(64, (3, 3), padding=\"SAME\", name=\"C_3\")(C_3_IN)\n",
        "  L_3 = tf.keras.layers.LeakyReLU()(C_3)\n",
        "  D_3 = tf.keras.layers.Dropout(rate=0.5)(L_3)\n",
        "\n",
        "  # MAX_POOLING_1\n",
        "  M_1 = tf.keras.layers.MaxPool2D(pool_size=(2, 2), strides=(2, 2), padding=\"SAME\")(D_3)\n",
        "\n",
        "  # CONV_4\n",
        "  C_4 = tf.keras.layers.Conv2D(64, (3, 3), padding=\"SAME\", name=\"C_4\")(M_1)\n",
        "  B_4 = tf.keras.layers.BatchNormalization(name=\"B_4\")(C_4)\n",
        "  L_4 = tf.keras.layers.LeakyReLU()(B_4)\n",
        "  D_4 = tf.keras.layers.Dropout(rate=0.5)(L_4)\n",
        "\n",
        "  # CONV_5\n",
        "  C_5 = tf.keras.layers.Conv2D(64, (3, 3), padding=\"SAME\", name=\"C_5\")(D_4)\n",
        "  B_5 = tf.keras.layers.BatchNormalization(name=\"B_5\")(C_5)\n",
        "  L_5 = tf.keras.layers.LeakyReLU()(B_5)\n",
        "\n",
        "  # CONV_6\n",
        "  C_6_IN = tf.concat((L_5, D_4), axis=3)\n",
        "  C_6 = tf.keras.layers.Conv2D(128, (3, 3), padding=\"SAME\", name=\"C_6\")(C_6_IN)\n",
        "  L_6 = tf.keras.layers.LeakyReLU()(C_6)\n",
        "  D_6 = tf.keras.layers.Dropout(rate=0.5)(L_6)\n",
        "\n",
        "  # MAX_POOLING_2\n",
        "  M_2 = tf.keras.layers.MaxPool2D(pool_size=(2, 2), strides=(2, 2), padding=\"SAME\")(D_6)\n",
        "  print(M_2.shape)\n",
        "  # FC\n",
        "  F_IN = tf.reshape(M_2, [-1, 7 * 12 * 128])\n",
        "  F_1 = tf.keras.layers.Dense(512, name=\"simCLR_F_1\")(F_IN)\n",
        "  F_1_L = tf.keras.layers.ReLU()(F_1)\n",
        "  F_2 = tf.keras.layers.Dense(256, name=\"simCLR_F_2\")(F_1_L)\n",
        "  F_2_L = tf.keras.layers.ReLU()(F_2)\n",
        "  features = tf.keras.layers.Dense(128, name=\"simCLR_F_3\")(F_2_L)\n",
        "\n",
        "  # reconstruct logits\n",
        "  labels = tf.cast(tf.linalg.eye(batch_size), dtype=tf.float32) #tf.cast进行数据类型转换\n",
        "\n",
        "  features = features / tf.math.reduce_euclidean_norm(features, axis=1, keepdims=True) #模为1\n",
        "  similarity_matrix = tf.matmul(features, tf.transpose(features, [1, 0])) #余弦相似度\n",
        "  mask = tf.linalg.eye(batch_size, dtype=tf.bool)\n",
        "  labels = tf.reshape(labels[~mask], [labels.shape[0], -1])\n",
        "  similarity_matrix = tf.reshape(similarity_matrix[~mask], [labels.shape[0], -1])\n",
        "  positives = tf.reshape(similarity_matrix[tf.cast(labels, dtype=tf.bool)], [labels.shape[0], -1])\n",
        "  negatives = tf.reshape(similarity_matrix[~tf.cast(labels, dtype=tf.bool)], [similarity_matrix.shape[0], -1])\n",
        "\n",
        "  logits = tf.concat([positives, negatives], axis=1)\n",
        "  return logits\n",
        "\n",
        "input_1 = tf.keras.Input(shape=[25, 45, 3])\n",
        "input_2 = tf.keras.Input(shape=[25, 45, 3])\n",
        "outputs = build_model(input_1, input_2)\n",
        "model = tf.keras.Model((input_1, input_2), outputs)\n",
        "model.compile(\n",
        "  optimizer=tf.keras.optimizers.Adam(learning_rate=0.001),\n",
        "  loss=tf.keras.losses.SparseCategoricalCrossentropy(),  #将数字编码转化成one-hot编码格式，然后对one-hot编码格式的数据（真实标签值）与预测出的标签值使用交叉熵损失函数\n",
        "  metrics=[tf.keras.metrics.SparseCategoricalAccuracy()] #检查y_true中的值（本身就是index）与y_pred中的最大值对应的index是否相等，针对稀疏情况的多分类\n",
        ")"
      ],
      "execution_count": null,
      "outputs": [
        {
          "output_type": "stream",
          "name": "stdout",
          "text": [
            "(None, 7, 12, 128)\n",
            "(64, None)\n"
          ]
        }
      ]
    },
    {
      "cell_type": "code",
      "metadata": {
        "id": "ED6W98QP11J2"
      },
      "source": [
        "ckpt = tf.keras.callbacks.ModelCheckpoint(\n",
        "    filepath=\"/content/drive/MyDrive/ckpt/high_gamma_pretrain_baseline/conv6net.h5\",\n",
        "    mointor=\"val_acc\",\n",
        "    save_best_only=True,\n",
        "    save_weights_only=True,\n",
        "    mode=\"max\"\n",
        ")\n",
        "model.fit(\n",
        "    x=train_X,\n",
        "    y=train_y, \n",
        "    batch_size=64, #4.8.16.32\n",
        "    epochs=200,  #20,30,,\n",
        "    verbose=\"auto\",\n",
        "    validation_data=(train_X, train_y),\n",
        "    callbacks=[ckpt],\n",
        "    shuffle=True \n",
        ")"
      ],
      "execution_count": null,
      "outputs": []
    }
  ]
}