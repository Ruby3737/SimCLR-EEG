{
  "nbformat": 4,
  "nbformat_minor": 0,
  "metadata": {
    "colab": {
      "name": "fully-supervised-pretrain.ipynb",
      "provenance": [],
      "collapsed_sections": []
    },
    "kernelspec": {
      "display_name": "Python 3",
      "name": "python3"
    },
    "language_info": {
      "name": "python"
    },
    "accelerator": "GPU"
  },
  "cells": [
    {
      "cell_type": "code",
      "metadata": {
        "colab": {
          "base_uri": "https://localhost:8080/"
        },
        "id": "a6Dtyiz127H2",
        "outputId": "d931332d-cb7e-488b-9c61-419a54ed7a1c"
      },
      "source": [
        "from google.colab import drive\n",
        "drive.mount('/content/drive')"
      ],
      "execution_count": 1,
      "outputs": [
        {
          "output_type": "stream",
          "name": "stdout",
          "text": [
            "Mounted at /content/drive\n"
          ]
        }
      ]
    },
    {
      "cell_type": "code",
      "metadata": {
        "id": "_uX4-RkZSV3O"
      },
      "source": [
        "# !pip uninstall braindecode"
      ],
      "execution_count": 1,
      "outputs": []
    },
    {
      "cell_type": "markdown",
      "metadata": {
        "id": "rhGnKSy7rWVL"
      },
      "source": [
        ""
      ]
    },
    {
      "cell_type": "code",
      "metadata": {
        "colab": {
          "base_uri": "https://localhost:8080/"
        },
        "id": "0jF7sv4j3mIi",
        "outputId": "c55ba6f8-16a2-4aa8-f895-9c27ccf314c0"
      },
      "source": [
        "!pip install braindecode==0.4.85\n",
        "!pip install eeglib"
      ],
      "execution_count": 2,
      "outputs": [
        {
          "output_type": "stream",
          "name": "stdout",
          "text": [
            "Collecting braindecode==0.4.85\n",
            "  Downloading Braindecode-0.4.85.tar.gz (324 kB)\n",
            "\u001b[K     |████████████████████████████████| 324 kB 3.9 MB/s \n",
            "\u001b[?25hCollecting mne\n",
            "  Downloading mne-0.24.0-py3-none-any.whl (7.4 MB)\n",
            "\u001b[K     |████████████████████████████████| 7.4 MB 18.4 MB/s \n",
            "\u001b[?25hRequirement already satisfied: numpy in /usr/local/lib/python3.7/dist-packages (from braindecode==0.4.85) (1.19.5)\n",
            "Requirement already satisfied: pandas in /usr/local/lib/python3.7/dist-packages (from braindecode==0.4.85) (1.1.5)\n",
            "Requirement already satisfied: scipy in /usr/local/lib/python3.7/dist-packages (from braindecode==0.4.85) (1.4.1)\n",
            "Requirement already satisfied: resampy in /usr/local/lib/python3.7/dist-packages (from braindecode==0.4.85) (0.2.2)\n",
            "Requirement already satisfied: matplotlib in /usr/local/lib/python3.7/dist-packages (from braindecode==0.4.85) (3.2.2)\n",
            "Requirement already satisfied: h5py in /usr/local/lib/python3.7/dist-packages (from braindecode==0.4.85) (3.1.0)\n",
            "Requirement already satisfied: cached-property in /usr/local/lib/python3.7/dist-packages (from h5py->braindecode==0.4.85) (1.5.2)\n",
            "Requirement already satisfied: pyparsing!=2.0.4,!=2.1.2,!=2.1.6,>=2.0.1 in /usr/local/lib/python3.7/dist-packages (from matplotlib->braindecode==0.4.85) (2.4.7)\n",
            "Requirement already satisfied: cycler>=0.10 in /usr/local/lib/python3.7/dist-packages (from matplotlib->braindecode==0.4.85) (0.11.0)\n",
            "Requirement already satisfied: python-dateutil>=2.1 in /usr/local/lib/python3.7/dist-packages (from matplotlib->braindecode==0.4.85) (2.8.2)\n",
            "Requirement already satisfied: kiwisolver>=1.0.1 in /usr/local/lib/python3.7/dist-packages (from matplotlib->braindecode==0.4.85) (1.3.2)\n",
            "Requirement already satisfied: six>=1.5 in /usr/local/lib/python3.7/dist-packages (from python-dateutil>=2.1->matplotlib->braindecode==0.4.85) (1.15.0)\n",
            "Requirement already satisfied: pytz>=2017.2 in /usr/local/lib/python3.7/dist-packages (from pandas->braindecode==0.4.85) (2018.9)\n",
            "Requirement already satisfied: numba>=0.32 in /usr/local/lib/python3.7/dist-packages (from resampy->braindecode==0.4.85) (0.51.2)\n",
            "Requirement already satisfied: llvmlite<0.35,>=0.34.0.dev0 in /usr/local/lib/python3.7/dist-packages (from numba>=0.32->resampy->braindecode==0.4.85) (0.34.0)\n",
            "Requirement already satisfied: setuptools in /usr/local/lib/python3.7/dist-packages (from numba>=0.32->resampy->braindecode==0.4.85) (57.4.0)\n",
            "Building wheels for collected packages: braindecode\n",
            "  Building wheel for braindecode (setup.py) ... \u001b[?25l\u001b[?25hdone\n",
            "  Created wheel for braindecode: filename=Braindecode-0.4.85-py3-none-any.whl size=71094 sha256=c127de62e68c03211f135126e1a6b0a84302e29462b456b24328f7527b80c125\n",
            "  Stored in directory: /root/.cache/pip/wheels/eb/67/4c/81ad85409f913dd7e3ebb4fb5896839680c5627c04d91e3b78\n",
            "Successfully built braindecode\n",
            "Installing collected packages: mne, braindecode\n",
            "Successfully installed braindecode-0.4.85 mne-0.24.0\n",
            "Collecting eeglib\n",
            "  Downloading eeglib-0.4.1-py3-none-any.whl (25 kB)\n",
            "Requirement already satisfied: sklearn in /usr/local/lib/python3.7/dist-packages (from eeglib) (0.0)\n",
            "Requirement already satisfied: numpy in /usr/local/lib/python3.7/dist-packages (from eeglib) (1.19.5)\n",
            "Requirement already satisfied: fastdtw in /usr/local/lib/python3.7/dist-packages (from eeglib) (0.3.4)\n",
            "Requirement already satisfied: pandas in /usr/local/lib/python3.7/dist-packages (from eeglib) (1.1.5)\n",
            "Requirement already satisfied: numba in /usr/local/lib/python3.7/dist-packages (from eeglib) (0.51.2)\n",
            "Requirement already satisfied: scipy in /usr/local/lib/python3.7/dist-packages (from eeglib) (1.4.1)\n",
            "Collecting pyedflib\n",
            "  Downloading pyEDFlib-0.1.23-cp37-cp37m-manylinux_2_5_x86_64.manylinux1_x86_64.manylinux_2_12_x86_64.manylinux2010_x86_64.whl (1.7 MB)\n",
            "\u001b[K     |████████████████████████████████| 1.7 MB 6.8 MB/s \n",
            "\u001b[?25hRequirement already satisfied: progressbar2 in /usr/local/lib/python3.7/dist-packages (from eeglib) (3.38.0)\n",
            "Requirement already satisfied: setuptools in /usr/local/lib/python3.7/dist-packages (from numba->eeglib) (57.4.0)\n",
            "Requirement already satisfied: llvmlite<0.35,>=0.34.0.dev0 in /usr/local/lib/python3.7/dist-packages (from numba->eeglib) (0.34.0)\n",
            "Requirement already satisfied: pytz>=2017.2 in /usr/local/lib/python3.7/dist-packages (from pandas->eeglib) (2018.9)\n",
            "Requirement already satisfied: python-dateutil>=2.7.3 in /usr/local/lib/python3.7/dist-packages (from pandas->eeglib) (2.8.2)\n",
            "Requirement already satisfied: six>=1.5 in /usr/local/lib/python3.7/dist-packages (from python-dateutil>=2.7.3->pandas->eeglib) (1.15.0)\n",
            "Requirement already satisfied: python-utils>=2.3.0 in /usr/local/lib/python3.7/dist-packages (from progressbar2->eeglib) (2.5.6)\n",
            "Requirement already satisfied: scikit-learn in /usr/local/lib/python3.7/dist-packages (from sklearn->eeglib) (1.0.1)\n",
            "Requirement already satisfied: joblib>=0.11 in /usr/local/lib/python3.7/dist-packages (from scikit-learn->sklearn->eeglib) (1.1.0)\n",
            "Requirement already satisfied: threadpoolctl>=2.0.0 in /usr/local/lib/python3.7/dist-packages (from scikit-learn->sklearn->eeglib) (3.0.0)\n",
            "Installing collected packages: pyedflib, eeglib\n",
            "Successfully installed eeglib-0.4.1 pyedflib-0.1.23\n"
          ]
        }
      ]
    },
    {
      "cell_type": "code",
      "metadata": {
        "id": "Rd-SyvGRkJc5"
      },
      "source": [
        "# #读取test1.mat文件用mne\n",
        "# import mne\n",
        "# from braindecode.datasets.bbci import  BBCIDataset\n",
        "# cnt1 = BBCIDataset(filename='/content/drive/MyDrive/EEG-dataset/high-gamma-dataset/a1.mat', load_sensor_names=None).load()\n",
        "# # cnt1.plot()"
      ],
      "execution_count": null,
      "outputs": []
    },
    {
      "cell_type": "code",
      "metadata": {
        "id": "ft--Yk6p2Fug"
      },
      "source": [
        "# cnt = BBCIDataset(filename='/content/drive/MyDrive/EEG-dataset/high-gamma-dataset/a1.mat', load_sensor_names=['C3', 'C4', 'Cz']).load()\n",
        "# print(cnt)\n",
        "# cnt.plot()"
      ],
      "execution_count": null,
      "outputs": []
    },
    {
      "cell_type": "code",
      "metadata": {
        "colab": {
          "base_uri": "https://localhost:8080/"
        },
        "id": "NCNz7pdXSrfQ",
        "outputId": "973d3254-344d-40ee-ded2-594a10f19524"
      },
      "source": [
        "import logging\n",
        "import sys\n",
        "import os.path\n",
        "from collections import OrderedDict\n",
        "import numpy as np\n",
        "\n",
        "from braindecode.datasets.bbci import  BBCIDataset\n",
        "from braindecode.datautil.signalproc import highpass_cnt\n",
        "from braindecode.datautil.trial_segment import create_signal_target_from_raw_mne\n",
        "from braindecode.mne_ext.signalproc import mne_apply, resample_cnt\n",
        "from braindecode.datautil.signalproc import exponential_running_standardize\n",
        "\n",
        "def load_bbci_data(filename, low_cut_hz):\n",
        "    load_sensor_names = ['C3', 'C4', 'Cz']\n",
        "    loader = BBCIDataset(filename, load_sensor_names=load_sensor_names)\n",
        "\n",
        "    cnt = loader.load()\n",
        "\n",
        "    # Cleaning: First find all trials that have absolute microvolt values\n",
        "    # larger than +- 800 inside them and remember them for removal later\n",
        "\n",
        "    marker_def = OrderedDict([('Right Hand', [1]), ('Left Hand', [2],),\n",
        "                              ('Rest', [3]), ('Feet', [4])])\n",
        "    clean_ival = [0, 4000]\n",
        "\n",
        "    set_for_cleaning = create_signal_target_from_raw_mne(cnt, marker_def,\n",
        "                                                  clean_ival)\n",
        "\n",
        "    clean_trial_mask = np.max(np.abs(set_for_cleaning.X), axis=(1, 2)) < 800\n",
        "\n",
        "    # now pick only sensors with C in their name\n",
        "    # as they cover motor cortex\n",
        "    C_sensors = load_sensor_names\n",
        "    cnt = cnt.pick_channels(C_sensors)\n",
        "\n",
        "    # Further preprocessings as descibed in paper\n",
        "    cnt = resample_cnt(cnt, 250.0)\n",
        "    cnt = mne_apply(\n",
        "        lambda a: highpass_cnt(\n",
        "            a, low_cut_hz, cnt.info['sfreq'], filt_order=3, axis=1),\n",
        "        cnt)\n",
        "    cnt = mne_apply(\n",
        "        lambda a: exponential_running_standardize(a.T, factor_new=1e-3,\n",
        "                                                  init_block_size=1000,\n",
        "                                                  eps=1e-4).T,\n",
        "        cnt)\n",
        "\n",
        "    # Trial interval, start at -500 already, since improved decoding for networks\n",
        "    ival = [0, 2000]\n",
        "\n",
        "    dataset = create_signal_target_from_raw_mne(cnt, marker_def, ival)\n",
        "    dataset.X = dataset.X[clean_trial_mask]\n",
        "    dataset.y = dataset.y[clean_trial_mask]\n",
        "    return dataset\n",
        "\n",
        "list_a = [] #存放所有.mat文件的路径\n",
        "dir_str = '/content/drive/MyDrive/EEG-dataset/high-gamma-dataset'\n",
        "for i in range(1, 29):\n",
        "  list_a.append(os.path.join(dir_str, \"a\"+str(i)+\".mat\"))\n",
        "\n",
        "datasets = []\n",
        "for mat_path in list_a:\n",
        "  datasets.append(load_bbci_data(mat_path, 0))\n",
        "\n"
      ],
      "execution_count": 3,
      "outputs": [
        {
          "output_type": "stream",
          "name": "stdout",
          "text": [
            "Creating RawArray with float64 data, n_channels=3, n_times=1225545\n",
            "    Range : 0 ... 1225544 =      0.000 ...  2451.088 secs\n",
            "Ready.\n"
          ]
        },
        {
          "output_type": "stream",
          "name": "stderr",
          "text": [
            "/usr/local/lib/python3.7/dist-packages/braindecode/datasets/bbci.py:210: DeprecationWarning: events cannot be set directly. This warning will turn into an error after 0.24\n",
            "  cnt.info[\"events\"] = np.array(event_arr).T\n",
            "This is not causal, uses future data....\n"
          ]
        },
        {
          "output_type": "stream",
          "name": "stdout",
          "text": [
            "Creating RawArray with float64 data, n_channels=3, n_times=612772\n",
            "    Range : 0 ... 612771 =      0.000 ...  2451.084 secs\n",
            "Ready.\n"
          ]
        },
        {
          "output_type": "stream",
          "name": "stderr",
          "text": [
            "/usr/local/lib/python3.7/dist-packages/braindecode/mne_ext/signalproc.py:67: DeprecationWarning: sfreq cannot be set directly. Please use method inst.resample() instead. This warning will turn into an error after 0.24\n",
            "  new_info[\"sfreq\"] = new_fs\n"
          ]
        },
        {
          "output_type": "stream",
          "name": "stdout",
          "text": [
            "Creating RawArray with float64 data, n_channels=3, n_times=3131420\n",
            "    Range : 0 ... 3131419 =      0.000 ...  6262.838 secs\n",
            "Ready.\n"
          ]
        },
        {
          "output_type": "stream",
          "name": "stderr",
          "text": [
            "/usr/local/lib/python3.7/dist-packages/braindecode/datasets/bbci.py:210: DeprecationWarning: events cannot be set directly. This warning will turn into an error after 0.24\n",
            "  cnt.info[\"events\"] = np.array(event_arr).T\n",
            "This is not causal, uses future data....\n"
          ]
        },
        {
          "output_type": "stream",
          "name": "stdout",
          "text": [
            "Creating RawArray with float64 data, n_channels=3, n_times=1565710\n",
            "    Range : 0 ... 1565709 =      0.000 ...  6262.836 secs\n",
            "Ready.\n"
          ]
        },
        {
          "output_type": "stream",
          "name": "stderr",
          "text": [
            "/usr/local/lib/python3.7/dist-packages/braindecode/mne_ext/signalproc.py:67: DeprecationWarning: sfreq cannot be set directly. Please use method inst.resample() instead. This warning will turn into an error after 0.24\n",
            "  new_info[\"sfreq\"] = new_fs\n"
          ]
        },
        {
          "output_type": "stream",
          "name": "stdout",
          "text": [
            "Creating RawArray with float64 data, n_channels=3, n_times=3347155\n",
            "    Range : 0 ... 3347154 =      0.000 ...  6694.308 secs\n",
            "Ready.\n"
          ]
        },
        {
          "output_type": "stream",
          "name": "stderr",
          "text": [
            "/usr/local/lib/python3.7/dist-packages/braindecode/datasets/bbci.py:210: DeprecationWarning: events cannot be set directly. This warning will turn into an error after 0.24\n",
            "  cnt.info[\"events\"] = np.array(event_arr).T\n",
            "This is not causal, uses future data....\n"
          ]
        },
        {
          "output_type": "stream",
          "name": "stdout",
          "text": [
            "Creating RawArray with float64 data, n_channels=3, n_times=1673577\n",
            "    Range : 0 ... 1673576 =      0.000 ...  6694.304 secs\n",
            "Ready.\n"
          ]
        },
        {
          "output_type": "stream",
          "name": "stderr",
          "text": [
            "/usr/local/lib/python3.7/dist-packages/braindecode/mne_ext/signalproc.py:67: DeprecationWarning: sfreq cannot be set directly. Please use method inst.resample() instead. This warning will turn into an error after 0.24\n",
            "  new_info[\"sfreq\"] = new_fs\n"
          ]
        },
        {
          "output_type": "stream",
          "name": "stdout",
          "text": [
            "Creating RawArray with float64 data, n_channels=3, n_times=3451320\n",
            "    Range : 0 ... 3451319 =      0.000 ...  6902.638 secs\n",
            "Ready.\n"
          ]
        },
        {
          "output_type": "stream",
          "name": "stderr",
          "text": [
            "/usr/local/lib/python3.7/dist-packages/braindecode/datasets/bbci.py:210: DeprecationWarning: events cannot be set directly. This warning will turn into an error after 0.24\n",
            "  cnt.info[\"events\"] = np.array(event_arr).T\n",
            "This is not causal, uses future data....\n"
          ]
        },
        {
          "output_type": "stream",
          "name": "stdout",
          "text": [
            "Creating RawArray with float64 data, n_channels=3, n_times=1725660\n",
            "    Range : 0 ... 1725659 =      0.000 ...  6902.636 secs\n",
            "Ready.\n"
          ]
        },
        {
          "output_type": "stream",
          "name": "stderr",
          "text": [
            "/usr/local/lib/python3.7/dist-packages/braindecode/mne_ext/signalproc.py:67: DeprecationWarning: sfreq cannot be set directly. Please use method inst.resample() instead. This warning will turn into an error after 0.24\n",
            "  new_info[\"sfreq\"] = new_fs\n"
          ]
        },
        {
          "output_type": "stream",
          "name": "stdout",
          "text": [
            "Creating RawArray with float64 data, n_channels=3, n_times=2736300\n",
            "    Range : 0 ... 2736299 =      0.000 ...  5472.598 secs\n",
            "Ready.\n"
          ]
        },
        {
          "output_type": "stream",
          "name": "stderr",
          "text": [
            "/usr/local/lib/python3.7/dist-packages/braindecode/datasets/bbci.py:210: DeprecationWarning: events cannot be set directly. This warning will turn into an error after 0.24\n",
            "  cnt.info[\"events\"] = np.array(event_arr).T\n",
            "This is not causal, uses future data....\n"
          ]
        },
        {
          "output_type": "stream",
          "name": "stdout",
          "text": [
            "Creating RawArray with float64 data, n_channels=3, n_times=1368150\n",
            "    Range : 0 ... 1368149 =      0.000 ...  5472.596 secs\n",
            "Ready.\n"
          ]
        },
        {
          "output_type": "stream",
          "name": "stderr",
          "text": [
            "/usr/local/lib/python3.7/dist-packages/braindecode/mne_ext/signalproc.py:67: DeprecationWarning: sfreq cannot be set directly. Please use method inst.resample() instead. This warning will turn into an error after 0.24\n",
            "  new_info[\"sfreq\"] = new_fs\n"
          ]
        },
        {
          "output_type": "stream",
          "name": "stdout",
          "text": [
            "Creating RawArray with float64 data, n_channels=3, n_times=3387290\n",
            "    Range : 0 ... 3387289 =      0.000 ...  6774.578 secs\n",
            "Ready.\n"
          ]
        },
        {
          "output_type": "stream",
          "name": "stderr",
          "text": [
            "/usr/local/lib/python3.7/dist-packages/braindecode/datasets/bbci.py:210: DeprecationWarning: events cannot be set directly. This warning will turn into an error after 0.24\n",
            "  cnt.info[\"events\"] = np.array(event_arr).T\n",
            "This is not causal, uses future data....\n"
          ]
        },
        {
          "output_type": "stream",
          "name": "stdout",
          "text": [
            "Creating RawArray with float64 data, n_channels=3, n_times=1693645\n",
            "    Range : 0 ... 1693644 =      0.000 ...  6774.576 secs\n",
            "Ready.\n"
          ]
        },
        {
          "output_type": "stream",
          "name": "stderr",
          "text": [
            "/usr/local/lib/python3.7/dist-packages/braindecode/mne_ext/signalproc.py:67: DeprecationWarning: sfreq cannot be set directly. Please use method inst.resample() instead. This warning will turn into an error after 0.24\n",
            "  new_info[\"sfreq\"] = new_fs\n"
          ]
        },
        {
          "output_type": "stream",
          "name": "stdout",
          "text": [
            "Creating RawArray with float64 data, n_channels=3, n_times=3354460\n",
            "    Range : 0 ... 3354459 =      0.000 ...  6708.918 secs\n",
            "Ready.\n"
          ]
        },
        {
          "output_type": "stream",
          "name": "stderr",
          "text": [
            "/usr/local/lib/python3.7/dist-packages/braindecode/datasets/bbci.py:210: DeprecationWarning: events cannot be set directly. This warning will turn into an error after 0.24\n",
            "  cnt.info[\"events\"] = np.array(event_arr).T\n",
            "This is not causal, uses future data....\n"
          ]
        },
        {
          "output_type": "stream",
          "name": "stdout",
          "text": [
            "Creating RawArray with float64 data, n_channels=3, n_times=1677230\n",
            "    Range : 0 ... 1677229 =      0.000 ...  6708.916 secs\n",
            "Ready.\n"
          ]
        },
        {
          "output_type": "stream",
          "name": "stderr",
          "text": [
            "/usr/local/lib/python3.7/dist-packages/braindecode/mne_ext/signalproc.py:67: DeprecationWarning: sfreq cannot be set directly. Please use method inst.resample() instead. This warning will turn into an error after 0.24\n",
            "  new_info[\"sfreq\"] = new_fs\n"
          ]
        },
        {
          "output_type": "stream",
          "name": "stdout",
          "text": [
            "Creating RawArray with float64 data, n_channels=3, n_times=2511860\n",
            "    Range : 0 ... 2511859 =      0.000 ...  5023.718 secs\n",
            "Ready.\n"
          ]
        },
        {
          "output_type": "stream",
          "name": "stderr",
          "text": [
            "/usr/local/lib/python3.7/dist-packages/braindecode/datasets/bbci.py:210: DeprecationWarning: events cannot be set directly. This warning will turn into an error after 0.24\n",
            "  cnt.info[\"events\"] = np.array(event_arr).T\n",
            "This is not causal, uses future data....\n"
          ]
        },
        {
          "output_type": "stream",
          "name": "stdout",
          "text": [
            "Creating RawArray with float64 data, n_channels=3, n_times=1255930\n",
            "    Range : 0 ... 1255929 =      0.000 ...  5023.716 secs\n",
            "Ready.\n"
          ]
        },
        {
          "output_type": "stream",
          "name": "stderr",
          "text": [
            "/usr/local/lib/python3.7/dist-packages/braindecode/mne_ext/signalproc.py:67: DeprecationWarning: sfreq cannot be set directly. Please use method inst.resample() instead. This warning will turn into an error after 0.24\n",
            "  new_info[\"sfreq\"] = new_fs\n"
          ]
        },
        {
          "output_type": "stream",
          "name": "stdout",
          "text": [
            "Creating RawArray with float64 data, n_channels=3, n_times=3383655\n",
            "    Range : 0 ... 3383654 =      0.000 ...  6767.308 secs\n",
            "Ready.\n"
          ]
        },
        {
          "output_type": "stream",
          "name": "stderr",
          "text": [
            "/usr/local/lib/python3.7/dist-packages/braindecode/datasets/bbci.py:210: DeprecationWarning: events cannot be set directly. This warning will turn into an error after 0.24\n",
            "  cnt.info[\"events\"] = np.array(event_arr).T\n",
            "This is not causal, uses future data....\n"
          ]
        },
        {
          "output_type": "stream",
          "name": "stdout",
          "text": [
            "Creating RawArray with float64 data, n_channels=3, n_times=1691827\n",
            "    Range : 0 ... 1691826 =      0.000 ...  6767.304 secs\n",
            "Ready.\n"
          ]
        },
        {
          "output_type": "stream",
          "name": "stderr",
          "text": [
            "/usr/local/lib/python3.7/dist-packages/braindecode/mne_ext/signalproc.py:67: DeprecationWarning: sfreq cannot be set directly. Please use method inst.resample() instead. This warning will turn into an error after 0.24\n",
            "  new_info[\"sfreq\"] = new_fs\n"
          ]
        },
        {
          "output_type": "stream",
          "name": "stdout",
          "text": [
            "Creating RawArray with float64 data, n_channels=3, n_times=3386150\n",
            "    Range : 0 ... 3386149 =      0.000 ...  6772.298 secs\n",
            "Ready.\n"
          ]
        },
        {
          "output_type": "stream",
          "name": "stderr",
          "text": [
            "/usr/local/lib/python3.7/dist-packages/braindecode/datasets/bbci.py:210: DeprecationWarning: events cannot be set directly. This warning will turn into an error after 0.24\n",
            "  cnt.info[\"events\"] = np.array(event_arr).T\n",
            "This is not causal, uses future data....\n"
          ]
        },
        {
          "output_type": "stream",
          "name": "stdout",
          "text": [
            "Creating RawArray with float64 data, n_channels=3, n_times=1693075\n",
            "    Range : 0 ... 1693074 =      0.000 ...  6772.296 secs\n",
            "Ready.\n"
          ]
        },
        {
          "output_type": "stream",
          "name": "stderr",
          "text": [
            "/usr/local/lib/python3.7/dist-packages/braindecode/mne_ext/signalproc.py:67: DeprecationWarning: sfreq cannot be set directly. Please use method inst.resample() instead. This warning will turn into an error after 0.24\n",
            "  new_info[\"sfreq\"] = new_fs\n"
          ]
        },
        {
          "output_type": "stream",
          "name": "stdout",
          "text": [
            "Creating RawArray with float64 data, n_channels=3, n_times=3386765\n",
            "    Range : 0 ... 3386764 =      0.000 ...  6773.528 secs\n",
            "Ready.\n"
          ]
        },
        {
          "output_type": "stream",
          "name": "stderr",
          "text": [
            "/usr/local/lib/python3.7/dist-packages/braindecode/datasets/bbci.py:210: DeprecationWarning: events cannot be set directly. This warning will turn into an error after 0.24\n",
            "  cnt.info[\"events\"] = np.array(event_arr).T\n",
            "This is not causal, uses future data....\n"
          ]
        },
        {
          "output_type": "stream",
          "name": "stdout",
          "text": [
            "Creating RawArray with float64 data, n_channels=3, n_times=1693382\n",
            "    Range : 0 ... 1693381 =      0.000 ...  6773.524 secs\n",
            "Ready.\n"
          ]
        },
        {
          "output_type": "stream",
          "name": "stderr",
          "text": [
            "/usr/local/lib/python3.7/dist-packages/braindecode/mne_ext/signalproc.py:67: DeprecationWarning: sfreq cannot be set directly. Please use method inst.resample() instead. This warning will turn into an error after 0.24\n",
            "  new_info[\"sfreq\"] = new_fs\n"
          ]
        },
        {
          "output_type": "stream",
          "name": "stdout",
          "text": [
            "Creating RawArray with float64 data, n_channels=3, n_times=3385750\n",
            "    Range : 0 ... 3385749 =      0.000 ...  6771.498 secs\n",
            "Ready.\n"
          ]
        },
        {
          "output_type": "stream",
          "name": "stderr",
          "text": [
            "/usr/local/lib/python3.7/dist-packages/braindecode/datasets/bbci.py:210: DeprecationWarning: events cannot be set directly. This warning will turn into an error after 0.24\n",
            "  cnt.info[\"events\"] = np.array(event_arr).T\n",
            "This is not causal, uses future data....\n"
          ]
        },
        {
          "output_type": "stream",
          "name": "stdout",
          "text": [
            "Creating RawArray with float64 data, n_channels=3, n_times=1692875\n",
            "    Range : 0 ... 1692874 =      0.000 ...  6771.496 secs\n",
            "Ready.\n"
          ]
        },
        {
          "output_type": "stream",
          "name": "stderr",
          "text": [
            "/usr/local/lib/python3.7/dist-packages/braindecode/mne_ext/signalproc.py:67: DeprecationWarning: sfreq cannot be set directly. Please use method inst.resample() instead. This warning will turn into an error after 0.24\n",
            "  new_info[\"sfreq\"] = new_fs\n"
          ]
        },
        {
          "output_type": "stream",
          "name": "stdout",
          "text": [
            "Creating RawArray with float64 data, n_channels=3, n_times=3032845\n",
            "    Range : 0 ... 3032844 =      0.000 ...  6065.688 secs\n",
            "Ready.\n"
          ]
        },
        {
          "output_type": "stream",
          "name": "stderr",
          "text": [
            "/usr/local/lib/python3.7/dist-packages/braindecode/datasets/bbci.py:210: DeprecationWarning: events cannot be set directly. This warning will turn into an error after 0.24\n",
            "  cnt.info[\"events\"] = np.array(event_arr).T\n",
            "This is not causal, uses future data....\n"
          ]
        },
        {
          "output_type": "stream",
          "name": "stdout",
          "text": [
            "Creating RawArray with float64 data, n_channels=3, n_times=1516422\n",
            "    Range : 0 ... 1516421 =      0.000 ...  6065.684 secs\n",
            "Ready.\n"
          ]
        },
        {
          "output_type": "stream",
          "name": "stderr",
          "text": [
            "/usr/local/lib/python3.7/dist-packages/braindecode/mne_ext/signalproc.py:67: DeprecationWarning: sfreq cannot be set directly. Please use method inst.resample() instead. This warning will turn into an error after 0.24\n",
            "  new_info[\"sfreq\"] = new_fs\n"
          ]
        },
        {
          "output_type": "stream",
          "name": "stdout",
          "text": [
            "Creating RawArray with float64 data, n_channels=3, n_times=3345425\n",
            "    Range : 0 ... 3345424 =      0.000 ...  6690.848 secs\n",
            "Ready.\n"
          ]
        },
        {
          "output_type": "stream",
          "name": "stderr",
          "text": [
            "/usr/local/lib/python3.7/dist-packages/braindecode/datasets/bbci.py:210: DeprecationWarning: events cannot be set directly. This warning will turn into an error after 0.24\n",
            "  cnt.info[\"events\"] = np.array(event_arr).T\n",
            "This is not causal, uses future data....\n"
          ]
        },
        {
          "output_type": "stream",
          "name": "stdout",
          "text": [
            "Creating RawArray with float64 data, n_channels=3, n_times=1672712\n",
            "    Range : 0 ... 1672711 =      0.000 ...  6690.844 secs\n",
            "Ready.\n"
          ]
        },
        {
          "output_type": "stream",
          "name": "stderr",
          "text": [
            "/usr/local/lib/python3.7/dist-packages/braindecode/mne_ext/signalproc.py:67: DeprecationWarning: sfreq cannot be set directly. Please use method inst.resample() instead. This warning will turn into an error after 0.24\n",
            "  new_info[\"sfreq\"] = new_fs\n"
          ]
        },
        {
          "output_type": "stream",
          "name": "stdout",
          "text": [
            "Creating RawArray with float64 data, n_channels=3, n_times=616535\n",
            "    Range : 0 ... 616534 =      0.000 ...  1233.068 secs\n",
            "Ready.\n"
          ]
        },
        {
          "output_type": "stream",
          "name": "stderr",
          "text": [
            "/usr/local/lib/python3.7/dist-packages/braindecode/datasets/bbci.py:210: DeprecationWarning: events cannot be set directly. This warning will turn into an error after 0.24\n",
            "  cnt.info[\"events\"] = np.array(event_arr).T\n",
            "This is not causal, uses future data....\n"
          ]
        },
        {
          "output_type": "stream",
          "name": "stdout",
          "text": [
            "Creating RawArray with float64 data, n_channels=3, n_times=308267\n",
            "    Range : 0 ... 308266 =      0.000 ...  1233.064 secs\n",
            "Ready.\n"
          ]
        },
        {
          "output_type": "stream",
          "name": "stderr",
          "text": [
            "/usr/local/lib/python3.7/dist-packages/braindecode/mne_ext/signalproc.py:67: DeprecationWarning: sfreq cannot be set directly. Please use method inst.resample() instead. This warning will turn into an error after 0.24\n",
            "  new_info[\"sfreq\"] = new_fs\n"
          ]
        },
        {
          "output_type": "stream",
          "name": "stdout",
          "text": [
            "Creating RawArray with float64 data, n_channels=3, n_times=617735\n",
            "    Range : 0 ... 617734 =      0.000 ...  1235.468 secs\n",
            "Ready.\n"
          ]
        },
        {
          "output_type": "stream",
          "name": "stderr",
          "text": [
            "/usr/local/lib/python3.7/dist-packages/braindecode/datasets/bbci.py:210: DeprecationWarning: events cannot be set directly. This warning will turn into an error after 0.24\n",
            "  cnt.info[\"events\"] = np.array(event_arr).T\n",
            "This is not causal, uses future data....\n"
          ]
        },
        {
          "output_type": "stream",
          "name": "stdout",
          "text": [
            "Creating RawArray with float64 data, n_channels=3, n_times=308867\n",
            "    Range : 0 ... 308866 =      0.000 ...  1235.464 secs\n",
            "Ready.\n"
          ]
        },
        {
          "output_type": "stream",
          "name": "stderr",
          "text": [
            "/usr/local/lib/python3.7/dist-packages/braindecode/mne_ext/signalproc.py:67: DeprecationWarning: sfreq cannot be set directly. Please use method inst.resample() instead. This warning will turn into an error after 0.24\n",
            "  new_info[\"sfreq\"] = new_fs\n"
          ]
        },
        {
          "output_type": "stream",
          "name": "stdout",
          "text": [
            "Creating RawArray with float64 data, n_channels=3, n_times=609030\n",
            "    Range : 0 ... 609029 =      0.000 ...  1218.058 secs\n",
            "Ready.\n"
          ]
        },
        {
          "output_type": "stream",
          "name": "stderr",
          "text": [
            "/usr/local/lib/python3.7/dist-packages/braindecode/datasets/bbci.py:210: DeprecationWarning: events cannot be set directly. This warning will turn into an error after 0.24\n",
            "  cnt.info[\"events\"] = np.array(event_arr).T\n",
            "This is not causal, uses future data....\n"
          ]
        },
        {
          "output_type": "stream",
          "name": "stdout",
          "text": [
            "Creating RawArray with float64 data, n_channels=3, n_times=304515\n",
            "    Range : 0 ... 304514 =      0.000 ...  1218.056 secs\n"
          ]
        },
        {
          "output_type": "stream",
          "name": "stderr",
          "text": [
            "/usr/local/lib/python3.7/dist-packages/braindecode/mne_ext/signalproc.py:67: DeprecationWarning: sfreq cannot be set directly. Please use method inst.resample() instead. This warning will turn into an error after 0.24\n",
            "  new_info[\"sfreq\"] = new_fs\n"
          ]
        },
        {
          "output_type": "stream",
          "name": "stdout",
          "text": [
            "Ready.\n",
            "Creating RawArray with float64 data, n_channels=3, n_times=617090\n",
            "    Range : 0 ... 617089 =      0.000 ...  1234.178 secs\n",
            "Ready.\n"
          ]
        },
        {
          "output_type": "stream",
          "name": "stderr",
          "text": [
            "/usr/local/lib/python3.7/dist-packages/braindecode/datasets/bbci.py:210: DeprecationWarning: events cannot be set directly. This warning will turn into an error after 0.24\n",
            "  cnt.info[\"events\"] = np.array(event_arr).T\n",
            "This is not causal, uses future data....\n"
          ]
        },
        {
          "output_type": "stream",
          "name": "stdout",
          "text": [
            "Creating RawArray with float64 data, n_channels=3, n_times=308545\n",
            "    Range : 0 ... 308544 =      0.000 ...  1234.176 secs\n",
            "Ready.\n"
          ]
        },
        {
          "output_type": "stream",
          "name": "stderr",
          "text": [
            "/usr/local/lib/python3.7/dist-packages/braindecode/mne_ext/signalproc.py:67: DeprecationWarning: sfreq cannot be set directly. Please use method inst.resample() instead. This warning will turn into an error after 0.24\n",
            "  new_info[\"sfreq\"] = new_fs\n"
          ]
        },
        {
          "output_type": "stream",
          "name": "stdout",
          "text": [
            "Creating RawArray with float64 data, n_channels=3, n_times=607250\n",
            "    Range : 0 ... 607249 =      0.000 ...  1214.498 secs\n",
            "Ready.\n"
          ]
        },
        {
          "output_type": "stream",
          "name": "stderr",
          "text": [
            "/usr/local/lib/python3.7/dist-packages/braindecode/datasets/bbci.py:210: DeprecationWarning: events cannot be set directly. This warning will turn into an error after 0.24\n",
            "  cnt.info[\"events\"] = np.array(event_arr).T\n",
            "This is not causal, uses future data....\n"
          ]
        },
        {
          "output_type": "stream",
          "name": "stdout",
          "text": [
            "Creating RawArray with float64 data, n_channels=3, n_times=303625\n",
            "    Range : 0 ... 303624 =      0.000 ...  1214.496 secs\n",
            "Ready.\n"
          ]
        },
        {
          "output_type": "stream",
          "name": "stderr",
          "text": [
            "/usr/local/lib/python3.7/dist-packages/braindecode/mne_ext/signalproc.py:67: DeprecationWarning: sfreq cannot be set directly. Please use method inst.resample() instead. This warning will turn into an error after 0.24\n",
            "  new_info[\"sfreq\"] = new_fs\n"
          ]
        },
        {
          "output_type": "stream",
          "name": "stdout",
          "text": [
            "Creating RawArray with float64 data, n_channels=3, n_times=615705\n",
            "    Range : 0 ... 615704 =      0.000 ...  1231.408 secs\n",
            "Ready.\n"
          ]
        },
        {
          "output_type": "stream",
          "name": "stderr",
          "text": [
            "/usr/local/lib/python3.7/dist-packages/braindecode/datasets/bbci.py:210: DeprecationWarning: events cannot be set directly. This warning will turn into an error after 0.24\n",
            "  cnt.info[\"events\"] = np.array(event_arr).T\n",
            "This is not causal, uses future data....\n"
          ]
        },
        {
          "output_type": "stream",
          "name": "stdout",
          "text": [
            "Creating RawArray with float64 data, n_channels=3, n_times=307852\n",
            "    Range : 0 ... 307851 =      0.000 ...  1231.404 secs\n",
            "Ready.\n"
          ]
        },
        {
          "output_type": "stream",
          "name": "stderr",
          "text": [
            "/usr/local/lib/python3.7/dist-packages/braindecode/mne_ext/signalproc.py:67: DeprecationWarning: sfreq cannot be set directly. Please use method inst.resample() instead. This warning will turn into an error after 0.24\n",
            "  new_info[\"sfreq\"] = new_fs\n"
          ]
        },
        {
          "output_type": "stream",
          "name": "stdout",
          "text": [
            "Creating RawArray with float64 data, n_channels=3, n_times=608850\n",
            "    Range : 0 ... 608849 =      0.000 ...  1217.698 secs\n",
            "Ready.\n"
          ]
        },
        {
          "output_type": "stream",
          "name": "stderr",
          "text": [
            "/usr/local/lib/python3.7/dist-packages/braindecode/datasets/bbci.py:210: DeprecationWarning: events cannot be set directly. This warning will turn into an error after 0.24\n",
            "  cnt.info[\"events\"] = np.array(event_arr).T\n",
            "This is not causal, uses future data....\n"
          ]
        },
        {
          "output_type": "stream",
          "name": "stdout",
          "text": [
            "Creating RawArray with float64 data, n_channels=3, n_times=304425\n",
            "    Range : 0 ... 304424 =      0.000 ...  1217.696 secs\n",
            "Ready.\n"
          ]
        },
        {
          "output_type": "stream",
          "name": "stderr",
          "text": [
            "/usr/local/lib/python3.7/dist-packages/braindecode/mne_ext/signalproc.py:67: DeprecationWarning: sfreq cannot be set directly. Please use method inst.resample() instead. This warning will turn into an error after 0.24\n",
            "  new_info[\"sfreq\"] = new_fs\n"
          ]
        },
        {
          "output_type": "stream",
          "name": "stdout",
          "text": [
            "Creating RawArray with float64 data, n_channels=3, n_times=616070\n",
            "    Range : 0 ... 616069 =      0.000 ...  1232.138 secs\n",
            "Ready.\n"
          ]
        },
        {
          "output_type": "stream",
          "name": "stderr",
          "text": [
            "/usr/local/lib/python3.7/dist-packages/braindecode/datasets/bbci.py:210: DeprecationWarning: events cannot be set directly. This warning will turn into an error after 0.24\n",
            "  cnt.info[\"events\"] = np.array(event_arr).T\n",
            "This is not causal, uses future data....\n"
          ]
        },
        {
          "output_type": "stream",
          "name": "stdout",
          "text": [
            "Creating RawArray with float64 data, n_channels=3, n_times=308035\n",
            "    Range : 0 ... 308034 =      0.000 ...  1232.136 secs\n",
            "Ready.\n"
          ]
        },
        {
          "output_type": "stream",
          "name": "stderr",
          "text": [
            "/usr/local/lib/python3.7/dist-packages/braindecode/mne_ext/signalproc.py:67: DeprecationWarning: sfreq cannot be set directly. Please use method inst.resample() instead. This warning will turn into an error after 0.24\n",
            "  new_info[\"sfreq\"] = new_fs\n"
          ]
        },
        {
          "output_type": "stream",
          "name": "stdout",
          "text": [
            "Creating RawArray with float64 data, n_channels=3, n_times=614600\n",
            "    Range : 0 ... 614599 =      0.000 ...  1229.198 secs\n",
            "Ready.\n"
          ]
        },
        {
          "output_type": "stream",
          "name": "stderr",
          "text": [
            "/usr/local/lib/python3.7/dist-packages/braindecode/datasets/bbci.py:210: DeprecationWarning: events cannot be set directly. This warning will turn into an error after 0.24\n",
            "  cnt.info[\"events\"] = np.array(event_arr).T\n",
            "This is not causal, uses future data....\n"
          ]
        },
        {
          "output_type": "stream",
          "name": "stdout",
          "text": [
            "Creating RawArray with float64 data, n_channels=3, n_times=307300\n",
            "    Range : 0 ... 307299 =      0.000 ...  1229.196 secs\n",
            "Ready.\n"
          ]
        },
        {
          "output_type": "stream",
          "name": "stderr",
          "text": [
            "/usr/local/lib/python3.7/dist-packages/braindecode/mne_ext/signalproc.py:67: DeprecationWarning: sfreq cannot be set directly. Please use method inst.resample() instead. This warning will turn into an error after 0.24\n",
            "  new_info[\"sfreq\"] = new_fs\n"
          ]
        },
        {
          "output_type": "stream",
          "name": "stdout",
          "text": [
            "Creating RawArray with float64 data, n_channels=3, n_times=614555\n",
            "    Range : 0 ... 614554 =      0.000 ...  1229.108 secs\n",
            "Ready.\n"
          ]
        },
        {
          "output_type": "stream",
          "name": "stderr",
          "text": [
            "/usr/local/lib/python3.7/dist-packages/braindecode/datasets/bbci.py:210: DeprecationWarning: events cannot be set directly. This warning will turn into an error after 0.24\n",
            "  cnt.info[\"events\"] = np.array(event_arr).T\n",
            "This is not causal, uses future data....\n"
          ]
        },
        {
          "output_type": "stream",
          "name": "stdout",
          "text": [
            "Creating RawArray with float64 data, n_channels=3, n_times=307277\n",
            "    Range : 0 ... 307276 =      0.000 ...  1229.104 secs\n",
            "Ready.\n"
          ]
        },
        {
          "output_type": "stream",
          "name": "stderr",
          "text": [
            "/usr/local/lib/python3.7/dist-packages/braindecode/mne_ext/signalproc.py:67: DeprecationWarning: sfreq cannot be set directly. Please use method inst.resample() instead. This warning will turn into an error after 0.24\n",
            "  new_info[\"sfreq\"] = new_fs\n"
          ]
        },
        {
          "output_type": "stream",
          "name": "stdout",
          "text": [
            "Creating RawArray with float64 data, n_channels=3, n_times=610820\n",
            "    Range : 0 ... 610819 =      0.000 ...  1221.638 secs\n",
            "Ready.\n"
          ]
        },
        {
          "output_type": "stream",
          "name": "stderr",
          "text": [
            "/usr/local/lib/python3.7/dist-packages/braindecode/datasets/bbci.py:210: DeprecationWarning: events cannot be set directly. This warning will turn into an error after 0.24\n",
            "  cnt.info[\"events\"] = np.array(event_arr).T\n",
            "This is not causal, uses future data....\n"
          ]
        },
        {
          "output_type": "stream",
          "name": "stdout",
          "text": [
            "Creating RawArray with float64 data, n_channels=3, n_times=305410\n",
            "    Range : 0 ... 305409 =      0.000 ...  1221.636 secs\n",
            "Ready.\n"
          ]
        },
        {
          "output_type": "stream",
          "name": "stderr",
          "text": [
            "/usr/local/lib/python3.7/dist-packages/braindecode/mne_ext/signalproc.py:67: DeprecationWarning: sfreq cannot be set directly. Please use method inst.resample() instead. This warning will turn into an error after 0.24\n",
            "  new_info[\"sfreq\"] = new_fs\n"
          ]
        },
        {
          "output_type": "stream",
          "name": "stdout",
          "text": [
            "Creating RawArray with float64 data, n_channels=3, n_times=614290\n",
            "    Range : 0 ... 614289 =      0.000 ...  1228.578 secs\n",
            "Ready.\n"
          ]
        },
        {
          "output_type": "stream",
          "name": "stderr",
          "text": [
            "/usr/local/lib/python3.7/dist-packages/braindecode/datasets/bbci.py:210: DeprecationWarning: events cannot be set directly. This warning will turn into an error after 0.24\n",
            "  cnt.info[\"events\"] = np.array(event_arr).T\n",
            "This is not causal, uses future data....\n"
          ]
        },
        {
          "output_type": "stream",
          "name": "stdout",
          "text": [
            "Creating RawArray with float64 data, n_channels=3, n_times=307145\n",
            "    Range : 0 ... 307144 =      0.000 ...  1228.576 secs\n",
            "Ready.\n"
          ]
        },
        {
          "output_type": "stream",
          "name": "stderr",
          "text": [
            "/usr/local/lib/python3.7/dist-packages/braindecode/mne_ext/signalproc.py:67: DeprecationWarning: sfreq cannot be set directly. Please use method inst.resample() instead. This warning will turn into an error after 0.24\n",
            "  new_info[\"sfreq\"] = new_fs\n"
          ]
        },
        {
          "output_type": "stream",
          "name": "stdout",
          "text": [
            "Creating RawArray with float64 data, n_channels=3, n_times=607735\n",
            "    Range : 0 ... 607734 =      0.000 ...  1215.468 secs\n",
            "Ready.\n"
          ]
        },
        {
          "output_type": "stream",
          "name": "stderr",
          "text": [
            "/usr/local/lib/python3.7/dist-packages/braindecode/datasets/bbci.py:210: DeprecationWarning: events cannot be set directly. This warning will turn into an error after 0.24\n",
            "  cnt.info[\"events\"] = np.array(event_arr).T\n",
            "This is not causal, uses future data....\n"
          ]
        },
        {
          "output_type": "stream",
          "name": "stdout",
          "text": [
            "Creating RawArray with float64 data, n_channels=3, n_times=303867\n",
            "    Range : 0 ... 303866 =      0.000 ...  1215.464 secs\n",
            "Ready.\n"
          ]
        },
        {
          "output_type": "stream",
          "name": "stderr",
          "text": [
            "/usr/local/lib/python3.7/dist-packages/braindecode/mne_ext/signalproc.py:67: DeprecationWarning: sfreq cannot be set directly. Please use method inst.resample() instead. This warning will turn into an error after 0.24\n",
            "  new_info[\"sfreq\"] = new_fs\n"
          ]
        },
        {
          "output_type": "stream",
          "name": "stdout",
          "text": [
            "Creating RawArray with float64 data, n_channels=3, n_times=608505\n",
            "    Range : 0 ... 608504 =      0.000 ...  1217.008 secs\n",
            "Ready.\n"
          ]
        },
        {
          "output_type": "stream",
          "name": "stderr",
          "text": [
            "/usr/local/lib/python3.7/dist-packages/braindecode/datasets/bbci.py:210: DeprecationWarning: events cannot be set directly. This warning will turn into an error after 0.24\n",
            "  cnt.info[\"events\"] = np.array(event_arr).T\n",
            "This is not causal, uses future data....\n"
          ]
        },
        {
          "output_type": "stream",
          "name": "stdout",
          "text": [
            "Creating RawArray with float64 data, n_channels=3, n_times=304252\n",
            "    Range : 0 ... 304251 =      0.000 ...  1217.004 secs\n",
            "Ready.\n"
          ]
        },
        {
          "output_type": "stream",
          "name": "stderr",
          "text": [
            "/usr/local/lib/python3.7/dist-packages/braindecode/mne_ext/signalproc.py:67: DeprecationWarning: sfreq cannot be set directly. Please use method inst.resample() instead. This warning will turn into an error after 0.24\n",
            "  new_info[\"sfreq\"] = new_fs\n"
          ]
        }
      ]
    },
    {
      "cell_type": "code",
      "metadata": {
        "colab": {
          "base_uri": "https://localhost:8080/"
        },
        "id": "mdTGNKeJ2vHc",
        "outputId": "a498c0f6-2ef9-4874-c602-a1e68e2a4e22"
      },
      "source": [
        "import numpy as np\n",
        "train_X, train_y = [], []\n",
        "for D in datasets:\n",
        "  train_X.append(np.transpose(np.asarray(D.X), [0, 2, 1]).reshape([-1, 25, 20, 3]))\n",
        "  train_y.append(np.asarray(D.y))\n",
        "train_X = np.concatenate(train_X, axis=0)\n",
        "train_y = np.concatenate(train_y, axis=0)\n",
        "train_X.shape"
      ],
      "execution_count": 4,
      "outputs": [
        {
          "output_type": "execute_result",
          "data": {
            "text/plain": [
              "(13480, 25, 20, 3)"
            ]
          },
          "metadata": {},
          "execution_count": 4
        }
      ]
    },
    {
      "cell_type": "code",
      "metadata": {
        "id": "OwC_h8eb85F1"
      },
      "source": [
        "sample_len = train_X.shape[0]\n",
        "splite_ratio = 0.1\n",
        "valid_num = int(sample_len*splite_ratio)\n",
        "valid_idx = np.random.randint(low=0, high=sample_len, size=valid_num) #生成随机数，validation的下标们\n",
        "train_idx = np.asarray(list(set(list(range(sample_len))) - set(list(valid_idx)))) #set集合可以来做减法，交并集\n",
        "\n",
        "valid_X = train_X[valid_idx, :, :, :]\n",
        "valid_y = train_y[valid_idx]\n",
        "train_X = train_X[train_idx, :, :, :]\n",
        "train_y = train_y[train_idx]"
      ],
      "execution_count": 5,
      "outputs": []
    },
    {
      "cell_type": "markdown",
      "metadata": {
        "id": "5vkHV4yboIWl"
      },
      "source": [
        "process data"
      ]
    },
    {
      "cell_type": "markdown",
      "metadata": {
        "id": "ympRzrwctcsb"
      },
      "source": [
        "baseline\n"
      ]
    },
    {
      "cell_type": "code",
      "metadata": {
        "id": "nEeWXYxntR6F",
        "colab": {
          "base_uri": "https://localhost:8080/"
        },
        "outputId": "998a2bac-2588-4573-98ae-35a4affab79d"
      },
      "source": [
        "## import tf and check gpu is_available\n",
        "import tensorflow as tf\n",
        "assert tf.test.is_gpu_available()"
      ],
      "execution_count": 6,
      "outputs": [
        {
          "output_type": "stream",
          "name": "stdout",
          "text": [
            "WARNING:tensorflow:From <ipython-input-6-e57ab6db00b4>:3: is_gpu_available (from tensorflow.python.framework.test_util) is deprecated and will be removed in a future version.\n",
            "Instructions for updating:\n",
            "Use `tf.config.list_physical_devices('GPU')` instead.\n"
          ]
        }
      ]
    },
    {
      "cell_type": "code",
      "metadata": {
        "colab": {
          "base_uri": "https://localhost:8080/"
        },
        "id": "qAsZ81FqywyP",
        "outputId": "4ff4c6df-c3ef-478f-cc50-794e3d838bcf"
      },
      "source": [
        "## build model\n",
        "def build_model(inputs):\n",
        "\n",
        "  # CONV_1\n",
        "  C_1 = tf.keras.layers.Conv2D(32, (3, 3), padding=\"SAME\", name=\"C_1\")(inputs) #卷积核3*3*3（3通道，最后这一维不用设，默认就是你输入的）， 着这一层有32个，经过padding=same后，经过这一层变成25*20*32\n",
        "  L_1 = tf.keras.layers.LeakyReLU()(C_1) #激活层\n",
        "  D_1 = tf.keras.layers.Dropout(rate=0.5)(L_1)#dropout会让每一层都的神经元都以一定的概率失活，不要记住冗余信息\n",
        "\n",
        "  # CONV_2\n",
        "  C_2 = tf.keras.layers.Conv2D(32, (3, 3), padding=\"SAME\", name=\"C_2\")(D_1)\n",
        "  B_2 = tf.keras.layers.BatchNormalization(name=\"B_2\")(C_2)#也不改变大小\n",
        "  L_2 = tf.keras.layers.LeakyReLU()(B_2)\n",
        "\n",
        "  # CONV_3\n",
        "  C_3_IN = tf.concat((L_2, D_1), axis=3)\n",
        "  C_3 = tf.keras.layers.Conv2D(64, (3, 3), padding=\"SAME\", name=\"C_3\")(C_3_IN)#经过这层变成25*20*64\n",
        "  L_3 = tf.keras.layers.LeakyReLU()(C_3)\n",
        "  D_3 = tf.keras.layers.Dropout(rate=0.5)(L_3)\n",
        "\n",
        "  # MAX_POOLING_1\n",
        "  M_1 = tf.keras.layers.MaxPool2D(pool_size=(2, 2), strides=(2, 2), padding=\"SAME\")(D_3) #2*2的区域内的四个数取最大值，步长为2，经过这层变为13*10*64\n",
        "\n",
        "  # CONV_4\n",
        "  C_4 = tf.keras.layers.Conv2D(64, (3, 3), padding=\"SAME\", name=\"C_4\")(M_1) #变为13*10*64\n",
        "  B_4 = tf.keras.layers.BatchNormalization(name=\"B_4\")(C_4)\n",
        "  L_4 = tf.keras.layers.LeakyReLU()(B_4)\n",
        "  D_4 = tf.keras.layers.Dropout(rate=0.5)(L_4)\n",
        "\n",
        "  # CONV_5\n",
        "  C_5 = tf.keras.layers.Conv2D(64, (3, 3), padding=\"SAME\", name=\"C_5\")(D_4) #13*10*64\n",
        "  B_5 = tf.keras.layers.BatchNormalization(name=\"B_5\")(C_5)\n",
        "  L_5 = tf.keras.layers.LeakyReLU()(B_5)\n",
        "\n",
        "  # CONV_6\n",
        "  C_6_IN = tf.concat((L_5, D_4), axis=3)\n",
        "  C_6 = tf.keras.layers.Conv2D(128, (3, 3), padding=\"SAME\", name=\"C_6\")(C_6_IN) #13*10*128\n",
        "  L_6 = tf.keras.layers.LeakyReLU()(C_6)\n",
        "  D_6 = tf.keras.layers.Dropout(rate=0.5)(L_6)\n",
        "\n",
        "  # MAX_POOLING_2\n",
        "  M_2 = tf.keras.layers.MaxPool2D(pool_size=(2, 2), strides=(2, 2), padding=\"SAME\")(D_6) #7*5*128\n",
        "  print(M_2.shape) #none是bach_size的大小\n",
        "  # FC\n",
        "  F_IN = tf.reshape(M_2, [-1, 7 * 5 * 128])\n",
        "  F_1 = tf.keras.layers.Dense(512, name=\"CNN_F_1\")(F_IN)\n",
        "  F_1_B = tf.keras.layers.BatchNormalization(name=\"CNN_F_1_B\")(F_1)\n",
        "  F_1_L = tf.keras.layers.LeakyReLU()(F_1_B) \n",
        "  F_1_D = tf.keras.layers.Dropout(rate=0.5)(F_1_L) \n",
        "\n",
        "  F_2 = tf.keras.layers.Dense(4, name=\"CNN_F_2\")(F_1_D)\n",
        "  logits = tf.nn.softmax(F_2) #激活函数\n",
        "  \n",
        "  return logits\n",
        "inputs = tf.keras.Input(shape=[25, 20, 3])\n",
        "outputs = build_model(inputs)\n",
        "model = tf.keras.Model(inputs, outputs)\n",
        "model.compile(\n",
        "  optimizer=tf.keras.optimizers.Adam(learning_rate=0.001),\n",
        "  loss=tf.keras.losses.SparseCategoricalCrossentropy(),  #将数字编码转化成one-hot编码格式，然后对one-hot编码格式的数据（真实标签值）与预测出的标签值使用交叉熵损失函数\n",
        "  metrics=[tf.keras.metrics.SparseCategoricalAccuracy()] #检查y_true中的值（本身就是index）与y_pred中的最大值对应的index是否相等，针对稀疏情况的多分类\n",
        ")"
      ],
      "execution_count": 7,
      "outputs": [
        {
          "output_type": "stream",
          "name": "stdout",
          "text": [
            "(None, 7, 5, 128)\n"
          ]
        }
      ]
    },
    {
      "cell_type": "code",
      "metadata": {
        "colab": {
          "base_uri": "https://localhost:8080/"
        },
        "id": "ZyL8_IjB56xk",
        "outputId": "3eeea48d-f015-45ad-d437-9aa8ea1a234c"
      },
      "source": [
        " ckpt = tf.keras.callbacks.ModelCheckpoint(\n",
        "    filepath=\"/content/drive/MyDrive/ckpt/high_gamma_pretrain_baseline/conv6net.h5\",\n",
        "    mointor=\"val_acc\",\n",
        "    save_best_only=True,\n",
        "    save_weights_only=True,\n",
        "    mode=\"max\"\n",
        ")\n",
        "model.fit(\n",
        "    x=train_X,\n",
        "    y=train_y, \n",
        "    batch_size=16, #4.8.16.32\n",
        "    epochs=100,  #20,30,,\n",
        "    verbose=\"auto\",\n",
        "    validation_data=(valid_X, valid_y),\n",
        "    callbacks=[ckpt],\n",
        "    shuffle=True \n",
        ")"
      ],
      "execution_count": 8,
      "outputs": [
        {
          "output_type": "stream",
          "name": "stdout",
          "text": [
            "Epoch 1/100\n",
            "763/763 [==============================] - 47s 21ms/step - loss: 1.2504 - sparse_categorical_accuracy: 0.4743 - val_loss: 1.5906 - val_sparse_categorical_accuracy: 0.3346\n",
            "Epoch 2/100\n",
            "763/763 [==============================] - 14s 19ms/step - loss: 1.0840 - sparse_categorical_accuracy: 0.5402 - val_loss: 1.4761 - val_sparse_categorical_accuracy: 0.3769\n",
            "Epoch 3/100\n",
            "763/763 [==============================] - 14s 19ms/step - loss: 1.0191 - sparse_categorical_accuracy: 0.5674 - val_loss: 1.3910 - val_sparse_categorical_accuracy: 0.3746\n",
            "Epoch 4/100\n",
            "763/763 [==============================] - 14s 18ms/step - loss: 0.9616 - sparse_categorical_accuracy: 0.5941 - val_loss: 1.5698 - val_sparse_categorical_accuracy: 0.2997\n",
            "Epoch 5/100\n",
            "763/763 [==============================] - 15s 19ms/step - loss: 0.9316 - sparse_categorical_accuracy: 0.6097 - val_loss: 1.6092 - val_sparse_categorical_accuracy: 0.4006\n",
            "Epoch 6/100\n",
            "763/763 [==============================] - 14s 18ms/step - loss: 0.9055 - sparse_categorical_accuracy: 0.6182 - val_loss: 1.3323 - val_sparse_categorical_accuracy: 0.4436\n",
            "Epoch 7/100\n",
            "763/763 [==============================] - 14s 18ms/step - loss: 0.8797 - sparse_categorical_accuracy: 0.6281 - val_loss: 1.3266 - val_sparse_categorical_accuracy: 0.4496\n",
            "Epoch 8/100\n",
            "763/763 [==============================] - 14s 18ms/step - loss: 0.8606 - sparse_categorical_accuracy: 0.6439 - val_loss: 1.1651 - val_sparse_categorical_accuracy: 0.4859\n",
            "Epoch 9/100\n",
            "763/763 [==============================] - 14s 18ms/step - loss: 0.8525 - sparse_categorical_accuracy: 0.6485 - val_loss: 1.3315 - val_sparse_categorical_accuracy: 0.4488\n",
            "Epoch 10/100\n",
            "763/763 [==============================] - 14s 18ms/step - loss: 0.8305 - sparse_categorical_accuracy: 0.6507 - val_loss: 1.1817 - val_sparse_categorical_accuracy: 0.5193\n",
            "Epoch 11/100\n",
            "763/763 [==============================] - 14s 18ms/step - loss: 0.8081 - sparse_categorical_accuracy: 0.6664 - val_loss: 1.1953 - val_sparse_categorical_accuracy: 0.4926\n",
            "Epoch 12/100\n",
            "763/763 [==============================] - 14s 18ms/step - loss: 0.7993 - sparse_categorical_accuracy: 0.6740 - val_loss: 1.1948 - val_sparse_categorical_accuracy: 0.5326\n",
            "Epoch 13/100\n",
            "763/763 [==============================] - 14s 18ms/step - loss: 0.7854 - sparse_categorical_accuracy: 0.6723 - val_loss: 1.2058 - val_sparse_categorical_accuracy: 0.5297\n",
            "Epoch 14/100\n",
            "763/763 [==============================] - 14s 18ms/step - loss: 0.7744 - sparse_categorical_accuracy: 0.6797 - val_loss: 1.1342 - val_sparse_categorical_accuracy: 0.5682\n",
            "Epoch 15/100\n",
            "763/763 [==============================] - 14s 18ms/step - loss: 0.7563 - sparse_categorical_accuracy: 0.6903 - val_loss: 1.2062 - val_sparse_categorical_accuracy: 0.5134\n",
            "Epoch 16/100\n",
            "763/763 [==============================] - 14s 18ms/step - loss: 0.7492 - sparse_categorical_accuracy: 0.6960 - val_loss: 1.2839 - val_sparse_categorical_accuracy: 0.5030\n",
            "Epoch 17/100\n",
            "763/763 [==============================] - 14s 18ms/step - loss: 0.7263 - sparse_categorical_accuracy: 0.7035 - val_loss: 1.1987 - val_sparse_categorical_accuracy: 0.5527\n",
            "Epoch 18/100\n",
            "763/763 [==============================] - 14s 18ms/step - loss: 0.7189 - sparse_categorical_accuracy: 0.7069 - val_loss: 1.5397 - val_sparse_categorical_accuracy: 0.4822\n",
            "Epoch 19/100\n",
            "763/763 [==============================] - 13s 18ms/step - loss: 0.7040 - sparse_categorical_accuracy: 0.7141 - val_loss: 1.2629 - val_sparse_categorical_accuracy: 0.5475\n",
            "Epoch 20/100\n",
            "763/763 [==============================] - 13s 17ms/step - loss: 0.6918 - sparse_categorical_accuracy: 0.7176 - val_loss: 1.2720 - val_sparse_categorical_accuracy: 0.5193\n",
            "Epoch 21/100\n",
            "763/763 [==============================] - 13s 17ms/step - loss: 0.6831 - sparse_categorical_accuracy: 0.7244 - val_loss: 1.3083 - val_sparse_categorical_accuracy: 0.5527\n",
            "Epoch 22/100\n",
            "763/763 [==============================] - 13s 17ms/step - loss: 0.6686 - sparse_categorical_accuracy: 0.7265 - val_loss: 1.1100 - val_sparse_categorical_accuracy: 0.6031\n",
            "Epoch 23/100\n",
            "763/763 [==============================] - 13s 18ms/step - loss: 0.6662 - sparse_categorical_accuracy: 0.7281 - val_loss: 1.1695 - val_sparse_categorical_accuracy: 0.5705\n",
            "Epoch 24/100\n",
            "763/763 [==============================] - 13s 17ms/step - loss: 0.6504 - sparse_categorical_accuracy: 0.7299 - val_loss: 1.4282 - val_sparse_categorical_accuracy: 0.5178\n",
            "Epoch 25/100\n",
            "763/763 [==============================] - 13s 17ms/step - loss: 0.6485 - sparse_categorical_accuracy: 0.7403 - val_loss: 1.2592 - val_sparse_categorical_accuracy: 0.5601\n",
            "Epoch 26/100\n",
            "763/763 [==============================] - 13s 17ms/step - loss: 0.6332 - sparse_categorical_accuracy: 0.7400 - val_loss: 1.3390 - val_sparse_categorical_accuracy: 0.5475\n",
            "Epoch 27/100\n",
            "763/763 [==============================] - 13s 17ms/step - loss: 0.6309 - sparse_categorical_accuracy: 0.7476 - val_loss: 1.3540 - val_sparse_categorical_accuracy: 0.5297\n",
            "Epoch 28/100\n",
            "763/763 [==============================] - 13s 17ms/step - loss: 0.6161 - sparse_categorical_accuracy: 0.7539 - val_loss: 1.2677 - val_sparse_categorical_accuracy: 0.5653\n",
            "Epoch 29/100\n",
            "763/763 [==============================] - 13s 17ms/step - loss: 0.5998 - sparse_categorical_accuracy: 0.7598 - val_loss: 1.2940 - val_sparse_categorical_accuracy: 0.5579\n",
            "Epoch 30/100\n",
            "763/763 [==============================] - 14s 18ms/step - loss: 0.6080 - sparse_categorical_accuracy: 0.7532 - val_loss: 1.6845 - val_sparse_categorical_accuracy: 0.4822\n",
            "Epoch 31/100\n",
            "763/763 [==============================] - 13s 18ms/step - loss: 0.5929 - sparse_categorical_accuracy: 0.7573 - val_loss: 1.4701 - val_sparse_categorical_accuracy: 0.5178\n",
            "Epoch 32/100\n",
            "763/763 [==============================] - 13s 17ms/step - loss: 0.5933 - sparse_categorical_accuracy: 0.7571 - val_loss: 1.3589 - val_sparse_categorical_accuracy: 0.5697\n",
            "Epoch 33/100\n",
            "763/763 [==============================] - 13s 17ms/step - loss: 0.5817 - sparse_categorical_accuracy: 0.7656 - val_loss: 1.4667 - val_sparse_categorical_accuracy: 0.5334\n",
            "Epoch 34/100\n",
            "763/763 [==============================] - 13s 17ms/step - loss: 0.5731 - sparse_categorical_accuracy: 0.7699 - val_loss: 1.2887 - val_sparse_categorical_accuracy: 0.5838\n",
            "Epoch 35/100\n",
            "763/763 [==============================] - 13s 17ms/step - loss: 0.5602 - sparse_categorical_accuracy: 0.7772 - val_loss: 1.2942 - val_sparse_categorical_accuracy: 0.5883\n",
            "Epoch 36/100\n",
            "763/763 [==============================] - 13s 17ms/step - loss: 0.5660 - sparse_categorical_accuracy: 0.7722 - val_loss: 1.2565 - val_sparse_categorical_accuracy: 0.5734\n",
            "Epoch 37/100\n",
            "763/763 [==============================] - 13s 17ms/step - loss: 0.5541 - sparse_categorical_accuracy: 0.7805 - val_loss: 1.2729 - val_sparse_categorical_accuracy: 0.5898\n",
            "Epoch 38/100\n",
            "763/763 [==============================] - 13s 17ms/step - loss: 0.5471 - sparse_categorical_accuracy: 0.7817 - val_loss: 1.1325 - val_sparse_categorical_accuracy: 0.6046\n",
            "Epoch 39/100\n",
            "763/763 [==============================] - 13s 17ms/step - loss: 0.5409 - sparse_categorical_accuracy: 0.7858 - val_loss: 1.3483 - val_sparse_categorical_accuracy: 0.5801\n",
            "Epoch 40/100\n",
            "763/763 [==============================] - 13s 17ms/step - loss: 0.5381 - sparse_categorical_accuracy: 0.7837 - val_loss: 1.3592 - val_sparse_categorical_accuracy: 0.5786\n",
            "Epoch 41/100\n",
            "763/763 [==============================] - 13s 18ms/step - loss: 0.5322 - sparse_categorical_accuracy: 0.7863 - val_loss: 1.3555 - val_sparse_categorical_accuracy: 0.5638\n",
            "Epoch 42/100\n",
            "763/763 [==============================] - 13s 18ms/step - loss: 0.5258 - sparse_categorical_accuracy: 0.7908 - val_loss: 1.2425 - val_sparse_categorical_accuracy: 0.5927\n",
            "Epoch 43/100\n",
            "763/763 [==============================] - 13s 17ms/step - loss: 0.5188 - sparse_categorical_accuracy: 0.7931 - val_loss: 1.4513 - val_sparse_categorical_accuracy: 0.5534\n",
            "Epoch 44/100\n",
            "763/763 [==============================] - 13s 17ms/step - loss: 0.5170 - sparse_categorical_accuracy: 0.7923 - val_loss: 1.4429 - val_sparse_categorical_accuracy: 0.5705\n",
            "Epoch 45/100\n",
            "763/763 [==============================] - 13s 17ms/step - loss: 0.5066 - sparse_categorical_accuracy: 0.7970 - val_loss: 1.4885 - val_sparse_categorical_accuracy: 0.5393\n",
            "Epoch 46/100\n",
            "763/763 [==============================] - 13s 17ms/step - loss: 0.5000 - sparse_categorical_accuracy: 0.8045 - val_loss: 1.2640 - val_sparse_categorical_accuracy: 0.5942\n",
            "Epoch 47/100\n",
            "763/763 [==============================] - 13s 17ms/step - loss: 0.5053 - sparse_categorical_accuracy: 0.8027 - val_loss: 1.3916 - val_sparse_categorical_accuracy: 0.5623\n",
            "Epoch 48/100\n",
            "763/763 [==============================] - 13s 17ms/step - loss: 0.4882 - sparse_categorical_accuracy: 0.8063 - val_loss: 1.5583 - val_sparse_categorical_accuracy: 0.5571\n",
            "Epoch 49/100\n",
            "763/763 [==============================] - 13s 17ms/step - loss: 0.4953 - sparse_categorical_accuracy: 0.8036 - val_loss: 1.2996 - val_sparse_categorical_accuracy: 0.5772\n",
            "Epoch 50/100\n",
            "763/763 [==============================] - 13s 17ms/step - loss: 0.4844 - sparse_categorical_accuracy: 0.8082 - val_loss: 1.6086 - val_sparse_categorical_accuracy: 0.5386\n",
            "Epoch 51/100\n",
            "763/763 [==============================] - 13s 17ms/step - loss: 0.4889 - sparse_categorical_accuracy: 0.8098 - val_loss: 1.2927 - val_sparse_categorical_accuracy: 0.5779\n",
            "Epoch 52/100\n",
            "763/763 [==============================] - 13s 17ms/step - loss: 0.4847 - sparse_categorical_accuracy: 0.8071 - val_loss: 1.4168 - val_sparse_categorical_accuracy: 0.5601\n",
            "Epoch 53/100\n",
            "763/763 [==============================] - 13s 17ms/step - loss: 0.4603 - sparse_categorical_accuracy: 0.8195 - val_loss: 1.5484 - val_sparse_categorical_accuracy: 0.5623\n",
            "Epoch 54/100\n",
            "763/763 [==============================] - 13s 17ms/step - loss: 0.4643 - sparse_categorical_accuracy: 0.8177 - val_loss: 1.6193 - val_sparse_categorical_accuracy: 0.5460\n",
            "Epoch 55/100\n",
            "763/763 [==============================] - 13s 17ms/step - loss: 0.4663 - sparse_categorical_accuracy: 0.8131 - val_loss: 1.1631 - val_sparse_categorical_accuracy: 0.6254\n",
            "Epoch 56/100\n",
            "763/763 [==============================] - 13s 17ms/step - loss: 0.4589 - sparse_categorical_accuracy: 0.8223 - val_loss: 1.3474 - val_sparse_categorical_accuracy: 0.5697\n",
            "Epoch 57/100\n",
            "763/763 [==============================] - 13s 17ms/step - loss: 0.4630 - sparse_categorical_accuracy: 0.8186 - val_loss: 1.3290 - val_sparse_categorical_accuracy: 0.5875\n",
            "Epoch 58/100\n",
            "763/763 [==============================] - 13s 16ms/step - loss: 0.4463 - sparse_categorical_accuracy: 0.8250 - val_loss: 1.1529 - val_sparse_categorical_accuracy: 0.6180\n",
            "Epoch 59/100\n",
            "763/763 [==============================] - 12s 16ms/step - loss: 0.4447 - sparse_categorical_accuracy: 0.8232 - val_loss: 1.3142 - val_sparse_categorical_accuracy: 0.5905\n",
            "Epoch 60/100\n",
            "763/763 [==============================] - 13s 17ms/step - loss: 0.4445 - sparse_categorical_accuracy: 0.8236 - val_loss: 1.6020 - val_sparse_categorical_accuracy: 0.5527\n",
            "Epoch 61/100\n",
            "763/763 [==============================] - 12s 16ms/step - loss: 0.4412 - sparse_categorical_accuracy: 0.8264 - val_loss: 1.4763 - val_sparse_categorical_accuracy: 0.5571\n",
            "Epoch 62/100\n",
            "763/763 [==============================] - 12s 16ms/step - loss: 0.4461 - sparse_categorical_accuracy: 0.8268 - val_loss: 1.5289 - val_sparse_categorical_accuracy: 0.5720\n",
            "Epoch 63/100\n",
            "763/763 [==============================] - 13s 16ms/step - loss: 0.4345 - sparse_categorical_accuracy: 0.8305 - val_loss: 1.3769 - val_sparse_categorical_accuracy: 0.5734\n",
            "Epoch 64/100\n",
            "763/763 [==============================] - 13s 17ms/step - loss: 0.4223 - sparse_categorical_accuracy: 0.8361 - val_loss: 1.4482 - val_sparse_categorical_accuracy: 0.5705\n",
            "Epoch 65/100\n",
            "763/763 [==============================] - 13s 17ms/step - loss: 0.4404 - sparse_categorical_accuracy: 0.8301 - val_loss: 1.4032 - val_sparse_categorical_accuracy: 0.5786\n",
            "Epoch 66/100\n",
            "763/763 [==============================] - 13s 17ms/step - loss: 0.4170 - sparse_categorical_accuracy: 0.8386 - val_loss: 1.4737 - val_sparse_categorical_accuracy: 0.5734\n",
            "Epoch 67/100\n",
            "763/763 [==============================] - 12s 16ms/step - loss: 0.4184 - sparse_categorical_accuracy: 0.8405 - val_loss: 1.6347 - val_sparse_categorical_accuracy: 0.5527\n",
            "Epoch 68/100\n",
            "763/763 [==============================] - 13s 17ms/step - loss: 0.4258 - sparse_categorical_accuracy: 0.8341 - val_loss: 1.3715 - val_sparse_categorical_accuracy: 0.5950\n",
            "Epoch 69/100\n",
            "763/763 [==============================] - 13s 17ms/step - loss: 0.4212 - sparse_categorical_accuracy: 0.8367 - val_loss: 1.4915 - val_sparse_categorical_accuracy: 0.5712\n",
            "Epoch 70/100\n",
            "763/763 [==============================] - 13s 17ms/step - loss: 0.4137 - sparse_categorical_accuracy: 0.8382 - val_loss: 1.4170 - val_sparse_categorical_accuracy: 0.5942\n",
            "Epoch 71/100\n",
            "763/763 [==============================] - 13s 17ms/step - loss: 0.4145 - sparse_categorical_accuracy: 0.8368 - val_loss: 1.5582 - val_sparse_categorical_accuracy: 0.5668\n",
            "Epoch 72/100\n",
            "763/763 [==============================] - 13s 17ms/step - loss: 0.4047 - sparse_categorical_accuracy: 0.8414 - val_loss: 1.5342 - val_sparse_categorical_accuracy: 0.5616\n",
            "Epoch 73/100\n",
            "763/763 [==============================] - 12s 16ms/step - loss: 0.4050 - sparse_categorical_accuracy: 0.8418 - val_loss: 1.3359 - val_sparse_categorical_accuracy: 0.5957\n",
            "Epoch 74/100\n",
            "763/763 [==============================] - 12s 16ms/step - loss: 0.4047 - sparse_categorical_accuracy: 0.8407 - val_loss: 1.3429 - val_sparse_categorical_accuracy: 0.5920\n",
            "Epoch 75/100\n",
            "763/763 [==============================] - 13s 17ms/step - loss: 0.3993 - sparse_categorical_accuracy: 0.8432 - val_loss: 1.4685 - val_sparse_categorical_accuracy: 0.5823\n",
            "Epoch 76/100\n",
            "763/763 [==============================] - 12s 16ms/step - loss: 0.3945 - sparse_categorical_accuracy: 0.8455 - val_loss: 1.5040 - val_sparse_categorical_accuracy: 0.5794\n",
            "Epoch 77/100\n",
            "763/763 [==============================] - 13s 17ms/step - loss: 0.4011 - sparse_categorical_accuracy: 0.8455 - val_loss: 1.4882 - val_sparse_categorical_accuracy: 0.5779\n",
            "Epoch 78/100\n",
            "763/763 [==============================] - 13s 17ms/step - loss: 0.3928 - sparse_categorical_accuracy: 0.8461 - val_loss: 1.5410 - val_sparse_categorical_accuracy: 0.5734\n",
            "Epoch 79/100\n",
            "763/763 [==============================] - 13s 17ms/step - loss: 0.3938 - sparse_categorical_accuracy: 0.8468 - val_loss: 1.5118 - val_sparse_categorical_accuracy: 0.5542\n",
            "Epoch 80/100\n",
            "763/763 [==============================] - 13s 16ms/step - loss: 0.4000 - sparse_categorical_accuracy: 0.8422 - val_loss: 1.3788 - val_sparse_categorical_accuracy: 0.5898\n",
            "Epoch 81/100\n",
            "763/763 [==============================] - 13s 16ms/step - loss: 0.3906 - sparse_categorical_accuracy: 0.8495 - val_loss: 1.6057 - val_sparse_categorical_accuracy: 0.5519\n",
            "Epoch 82/100\n",
            "763/763 [==============================] - 13s 17ms/step - loss: 0.3747 - sparse_categorical_accuracy: 0.8564 - val_loss: 1.4017 - val_sparse_categorical_accuracy: 0.5979\n",
            "Epoch 83/100\n",
            "763/763 [==============================] - 13s 18ms/step - loss: 0.3857 - sparse_categorical_accuracy: 0.8487 - val_loss: 1.7125 - val_sparse_categorical_accuracy: 0.5341\n",
            "Epoch 84/100\n",
            "763/763 [==============================] - 13s 17ms/step - loss: 0.3806 - sparse_categorical_accuracy: 0.8511 - val_loss: 1.5204 - val_sparse_categorical_accuracy: 0.5720\n",
            "Epoch 85/100\n",
            "763/763 [==============================] - 13s 17ms/step - loss: 0.3827 - sparse_categorical_accuracy: 0.8557 - val_loss: 1.7090 - val_sparse_categorical_accuracy: 0.5438\n",
            "Epoch 86/100\n",
            "763/763 [==============================] - 13s 17ms/step - loss: 0.3849 - sparse_categorical_accuracy: 0.8473 - val_loss: 1.5298 - val_sparse_categorical_accuracy: 0.5898\n",
            "Epoch 87/100\n",
            "763/763 [==============================] - 13s 16ms/step - loss: 0.3687 - sparse_categorical_accuracy: 0.8596 - val_loss: 1.4297 - val_sparse_categorical_accuracy: 0.5912\n",
            "Epoch 88/100\n",
            "763/763 [==============================] - 13s 17ms/step - loss: 0.3718 - sparse_categorical_accuracy: 0.8531 - val_loss: 1.6682 - val_sparse_categorical_accuracy: 0.5631\n",
            "Epoch 89/100\n",
            "763/763 [==============================] - 13s 17ms/step - loss: 0.3672 - sparse_categorical_accuracy: 0.8587 - val_loss: 1.6277 - val_sparse_categorical_accuracy: 0.5645\n",
            "Epoch 90/100\n",
            "763/763 [==============================] - 13s 17ms/step - loss: 0.3675 - sparse_categorical_accuracy: 0.8573 - val_loss: 1.4894 - val_sparse_categorical_accuracy: 0.5668\n",
            "Epoch 91/100\n",
            "763/763 [==============================] - 13s 16ms/step - loss: 0.3518 - sparse_categorical_accuracy: 0.8637 - val_loss: 1.5007 - val_sparse_categorical_accuracy: 0.5927\n",
            "Epoch 92/100\n",
            "763/763 [==============================] - 13s 17ms/step - loss: 0.3552 - sparse_categorical_accuracy: 0.8615 - val_loss: 1.6923 - val_sparse_categorical_accuracy: 0.5527\n",
            "Epoch 93/100\n",
            "763/763 [==============================] - 13s 16ms/step - loss: 0.3643 - sparse_categorical_accuracy: 0.8571 - val_loss: 1.5413 - val_sparse_categorical_accuracy: 0.5779\n",
            "Epoch 94/100\n",
            "763/763 [==============================] - 13s 17ms/step - loss: 0.3633 - sparse_categorical_accuracy: 0.8614 - val_loss: 1.4752 - val_sparse_categorical_accuracy: 0.5809\n",
            "Epoch 95/100\n",
            "763/763 [==============================] - 13s 17ms/step - loss: 0.3408 - sparse_categorical_accuracy: 0.8705 - val_loss: 1.3738 - val_sparse_categorical_accuracy: 0.5890\n",
            "Epoch 96/100\n",
            "763/763 [==============================] - 13s 17ms/step - loss: 0.3503 - sparse_categorical_accuracy: 0.8639 - val_loss: 1.6208 - val_sparse_categorical_accuracy: 0.5556\n",
            "Epoch 97/100\n",
            "763/763 [==============================] - 13s 17ms/step - loss: 0.3553 - sparse_categorical_accuracy: 0.8647 - val_loss: 1.5153 - val_sparse_categorical_accuracy: 0.5875\n",
            "Epoch 98/100\n",
            "763/763 [==============================] - 13s 16ms/step - loss: 0.3473 - sparse_categorical_accuracy: 0.8695 - val_loss: 1.4543 - val_sparse_categorical_accuracy: 0.5801\n",
            "Epoch 99/100\n",
            "763/763 [==============================] - 13s 17ms/step - loss: 0.3549 - sparse_categorical_accuracy: 0.8633 - val_loss: 1.4889 - val_sparse_categorical_accuracy: 0.5875\n",
            "Epoch 100/100\n",
            "763/763 [==============================] - 13s 16ms/step - loss: 0.3441 - sparse_categorical_accuracy: 0.8687 - val_loss: 1.3180 - val_sparse_categorical_accuracy: 0.6098\n"
          ]
        },
        {
          "output_type": "execute_result",
          "data": {
            "text/plain": [
              "<keras.callbacks.History at 0x7f6ef7ee9950>"
            ]
          },
          "metadata": {},
          "execution_count": 8
        }
      ]
    }
  ]
}