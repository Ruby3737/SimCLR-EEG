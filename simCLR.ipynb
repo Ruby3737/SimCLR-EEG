{
  "nbformat": 4,
  "nbformat_minor": 0,
  "metadata": {
    "colab": {
      "name": "simCLR.ipynb",
      "provenance": [],
      "collapsed_sections": []
    },
    "kernelspec": {
      "name": "python3",
      "display_name": "Python 3"
    },
    "language_info": {
      "name": "python"
    }
  },
  "cells": [
    {
      "cell_type": "code",
      "metadata": {
        "colab": {
          "base_uri": "https://localhost:8080/"
        },
        "id": "smFrq75Q1AQe",
        "outputId": "dc4ff9d2-953d-4465-af1f-987493d20b10"
      },
      "source": [
        "from google.colab import drive\n",
        "drive.mount('/content/drive')"
      ],
      "execution_count": 1,
      "outputs": [
        {
          "output_type": "stream",
          "name": "stdout",
          "text": [
            "Mounted at /content/drive\n"
          ]
        }
      ]
    },
    {
      "cell_type": "code",
      "metadata": {
        "colab": {
          "base_uri": "https://localhost:8080/"
        },
        "id": "2_Ysclsq1P34",
        "outputId": "a976562e-de9b-40c4-838b-a16b4a6c3039"
      },
      "source": [
        "!pip install braindecode==0.4.85\n",
        "!pip install eeglib"
      ],
      "execution_count": 2,
      "outputs": [
        {
          "output_type": "stream",
          "name": "stdout",
          "text": [
            "Collecting braindecode==0.4.85\n",
            "  Downloading Braindecode-0.4.85.tar.gz (324 kB)\n",
            "\u001b[K     |████████████████████████████████| 324 kB 4.3 MB/s \n",
            "\u001b[?25hCollecting mne\n",
            "  Downloading mne-0.24.0-py3-none-any.whl (7.4 MB)\n",
            "\u001b[K     |████████████████████████████████| 7.4 MB 34.5 MB/s \n",
            "\u001b[?25hRequirement already satisfied: numpy in /usr/local/lib/python3.7/dist-packages (from braindecode==0.4.85) (1.19.5)\n",
            "Requirement already satisfied: pandas in /usr/local/lib/python3.7/dist-packages (from braindecode==0.4.85) (1.1.5)\n",
            "Requirement already satisfied: scipy in /usr/local/lib/python3.7/dist-packages (from braindecode==0.4.85) (1.4.1)\n",
            "Requirement already satisfied: resampy in /usr/local/lib/python3.7/dist-packages (from braindecode==0.4.85) (0.2.2)\n",
            "Requirement already satisfied: matplotlib in /usr/local/lib/python3.7/dist-packages (from braindecode==0.4.85) (3.2.2)\n",
            "Requirement already satisfied: h5py in /usr/local/lib/python3.7/dist-packages (from braindecode==0.4.85) (3.1.0)\n",
            "Requirement already satisfied: cached-property in /usr/local/lib/python3.7/dist-packages (from h5py->braindecode==0.4.85) (1.5.2)\n",
            "Requirement already satisfied: pyparsing!=2.0.4,!=2.1.2,!=2.1.6,>=2.0.1 in /usr/local/lib/python3.7/dist-packages (from matplotlib->braindecode==0.4.85) (2.4.7)\n",
            "Requirement already satisfied: cycler>=0.10 in /usr/local/lib/python3.7/dist-packages (from matplotlib->braindecode==0.4.85) (0.11.0)\n",
            "Requirement already satisfied: kiwisolver>=1.0.1 in /usr/local/lib/python3.7/dist-packages (from matplotlib->braindecode==0.4.85) (1.3.2)\n",
            "Requirement already satisfied: python-dateutil>=2.1 in /usr/local/lib/python3.7/dist-packages (from matplotlib->braindecode==0.4.85) (2.8.2)\n",
            "Requirement already satisfied: six>=1.5 in /usr/local/lib/python3.7/dist-packages (from python-dateutil>=2.1->matplotlib->braindecode==0.4.85) (1.15.0)\n",
            "Requirement already satisfied: pytz>=2017.2 in /usr/local/lib/python3.7/dist-packages (from pandas->braindecode==0.4.85) (2018.9)\n",
            "Requirement already satisfied: numba>=0.32 in /usr/local/lib/python3.7/dist-packages (from resampy->braindecode==0.4.85) (0.51.2)\n",
            "Requirement already satisfied: setuptools in /usr/local/lib/python3.7/dist-packages (from numba>=0.32->resampy->braindecode==0.4.85) (57.4.0)\n",
            "Requirement already satisfied: llvmlite<0.35,>=0.34.0.dev0 in /usr/local/lib/python3.7/dist-packages (from numba>=0.32->resampy->braindecode==0.4.85) (0.34.0)\n",
            "Building wheels for collected packages: braindecode\n",
            "  Building wheel for braindecode (setup.py) ... \u001b[?25l\u001b[?25hdone\n",
            "  Created wheel for braindecode: filename=Braindecode-0.4.85-py3-none-any.whl size=71094 sha256=f0544cc4eac1570d1cb85f1045e722244c11abecf77684903c74e1ac080a7eb6\n",
            "  Stored in directory: /root/.cache/pip/wheels/eb/67/4c/81ad85409f913dd7e3ebb4fb5896839680c5627c04d91e3b78\n",
            "Successfully built braindecode\n",
            "Installing collected packages: mne, braindecode\n",
            "Successfully installed braindecode-0.4.85 mne-0.24.0\n",
            "Collecting eeglib\n",
            "  Downloading eeglib-0.4.1-py3-none-any.whl (25 kB)\n",
            "Requirement already satisfied: fastdtw in /usr/local/lib/python3.7/dist-packages (from eeglib) (0.3.4)\n",
            "Collecting pyedflib\n",
            "  Downloading pyEDFlib-0.1.23-cp37-cp37m-manylinux_2_5_x86_64.manylinux1_x86_64.manylinux_2_12_x86_64.manylinux2010_x86_64.whl (1.7 MB)\n",
            "\u001b[K     |████████████████████████████████| 1.7 MB 5.2 MB/s \n",
            "\u001b[?25hRequirement already satisfied: progressbar2 in /usr/local/lib/python3.7/dist-packages (from eeglib) (3.38.0)\n",
            "Requirement already satisfied: scipy in /usr/local/lib/python3.7/dist-packages (from eeglib) (1.4.1)\n",
            "Requirement already satisfied: numba in /usr/local/lib/python3.7/dist-packages (from eeglib) (0.51.2)\n",
            "Requirement already satisfied: numpy in /usr/local/lib/python3.7/dist-packages (from eeglib) (1.19.5)\n",
            "Requirement already satisfied: pandas in /usr/local/lib/python3.7/dist-packages (from eeglib) (1.1.5)\n",
            "Requirement already satisfied: sklearn in /usr/local/lib/python3.7/dist-packages (from eeglib) (0.0)\n",
            "Requirement already satisfied: llvmlite<0.35,>=0.34.0.dev0 in /usr/local/lib/python3.7/dist-packages (from numba->eeglib) (0.34.0)\n",
            "Requirement already satisfied: setuptools in /usr/local/lib/python3.7/dist-packages (from numba->eeglib) (57.4.0)\n",
            "Requirement already satisfied: python-dateutil>=2.7.3 in /usr/local/lib/python3.7/dist-packages (from pandas->eeglib) (2.8.2)\n",
            "Requirement already satisfied: pytz>=2017.2 in /usr/local/lib/python3.7/dist-packages (from pandas->eeglib) (2018.9)\n",
            "Requirement already satisfied: six>=1.5 in /usr/local/lib/python3.7/dist-packages (from python-dateutil>=2.7.3->pandas->eeglib) (1.15.0)\n",
            "Requirement already satisfied: python-utils>=2.3.0 in /usr/local/lib/python3.7/dist-packages (from progressbar2->eeglib) (2.5.6)\n",
            "Requirement already satisfied: scikit-learn in /usr/local/lib/python3.7/dist-packages (from sklearn->eeglib) (0.22.2.post1)\n",
            "Requirement already satisfied: joblib>=0.11 in /usr/local/lib/python3.7/dist-packages (from scikit-learn->sklearn->eeglib) (1.1.0)\n",
            "Installing collected packages: pyedflib, eeglib\n",
            "Successfully installed eeglib-0.4.1 pyedflib-0.1.23\n"
          ]
        }
      ]
    },
    {
      "cell_type": "code",
      "metadata": {
        "colab": {
          "base_uri": "https://localhost:8080/"
        },
        "id": "mOl_g40j1dlk",
        "outputId": "cf4bdd76-02d5-476c-90d4-bdabd32ae802"
      },
      "source": [
        "import mne\n",
        "from braindecode.datasets.bbci import  BBCIDataset\n",
        "import logging\n",
        "import sys\n",
        "import os.path\n",
        "from collections import OrderedDict\n",
        "import numpy as np\n",
        "\n",
        "from braindecode.datasets.bbci import  BBCIDataset\n",
        "from braindecode.datautil.signalproc import highpass_cnt\n",
        "from braindecode.datautil.trial_segment import create_signal_target_from_raw_mne\n",
        "from braindecode.mne_ext.signalproc import mne_apply, resample_cnt\n",
        "from braindecode.datautil.signalproc import exponential_running_standardize\n",
        "\n",
        "def load_bbci_data(filename, low_cut_hz):\n",
        "    load_sensor_names = ['C3', 'C4', 'Cz']\n",
        "    loader = BBCIDataset(filename, load_sensor_names=load_sensor_names)\n",
        "\n",
        "    cnt = loader.load()\n",
        "\n",
        "    # Cleaning: First find all trials that have absolute microvolt values\n",
        "    # larger than +- 800 inside them and remember them for removal later\n",
        "\n",
        "    marker_def = OrderedDict([('Right Hand', [1]), ('Left Hand', [2],),\n",
        "                              ('Rest', [3]), ('Feet', [4])])\n",
        "    clean_ival = [0, 4000]\n",
        "\n",
        "    set_for_cleaning = create_signal_target_from_raw_mne(cnt, marker_def,\n",
        "                                                  clean_ival)\n",
        "\n",
        "    clean_trial_mask = np.max(np.abs(set_for_cleaning.X), axis=(1, 2)) < 800\n",
        "\n",
        "    # now pick only sensors with C in their name\n",
        "    # as they cover motor cortex\n",
        "    C_sensors = load_sensor_names\n",
        "    cnt = cnt.pick_channels(C_sensors)\n",
        "\n",
        "    # Further preprocessings as descibed in paper\n",
        "    cnt = resample_cnt(cnt, 250.0)\n",
        "    cnt = mne_apply(\n",
        "        lambda a: highpass_cnt(\n",
        "            a, low_cut_hz, cnt.info['sfreq'], filt_order=3, axis=1),\n",
        "        cnt)\n",
        "    cnt = mne_apply(\n",
        "        lambda a: exponential_running_standardize(a.T, factor_new=1e-3,\n",
        "                                                  init_block_size=1000,\n",
        "                                                  eps=1e-4).T,\n",
        "        cnt)\n",
        "\n",
        "    # Trial interval, start at -500 already, since improved decoding for networks\n",
        "    ival = [0, 2000]\n",
        "\n",
        "    dataset = create_signal_target_from_raw_mne(cnt, marker_def, ival)\n",
        "    dataset.X = dataset.X[clean_trial_mask]\n",
        "    dataset.y = dataset.y[clean_trial_mask]\n",
        "    return dataset\n",
        "\n",
        "list_a = [] #存放所有.mat文件的路径\n",
        "dir_str = '/content/drive/MyDrive/EEG-dataset/high-gamma-dataset'\n",
        "for i in range(1, 29):\n",
        "  list_a.append(os.path.join(dir_str, \"a\"+str(i)+\".mat\"))\n",
        "\n",
        "datasets = []\n",
        "for mat_path in list_a:\n",
        "  datasets.append(load_bbci_data(mat_path, 0))"
      ],
      "execution_count": 3,
      "outputs": [
        {
          "output_type": "stream",
          "name": "stdout",
          "text": [
            "Creating RawArray with float64 data, n_channels=3, n_times=1225545\n",
            "    Range : 0 ... 1225544 =      0.000 ...  2451.088 secs\n",
            "Ready.\n"
          ]
        },
        {
          "output_type": "stream",
          "name": "stderr",
          "text": [
            "/usr/local/lib/python3.7/dist-packages/braindecode/datasets/bbci.py:210: DeprecationWarning: events cannot be set directly. This warning will turn into an error after 0.24\n",
            "  cnt.info[\"events\"] = np.array(event_arr).T\n",
            "This is not causal, uses future data....\n"
          ]
        },
        {
          "output_type": "stream",
          "name": "stdout",
          "text": [
            "Creating RawArray with float64 data, n_channels=3, n_times=612772\n",
            "    Range : 0 ... 612771 =      0.000 ...  2451.084 secs\n",
            "Ready.\n"
          ]
        },
        {
          "output_type": "stream",
          "name": "stderr",
          "text": [
            "/usr/local/lib/python3.7/dist-packages/braindecode/mne_ext/signalproc.py:67: DeprecationWarning: sfreq cannot be set directly. Please use method inst.resample() instead. This warning will turn into an error after 0.24\n",
            "  new_info[\"sfreq\"] = new_fs\n"
          ]
        },
        {
          "output_type": "stream",
          "name": "stdout",
          "text": [
            "Creating RawArray with float64 data, n_channels=3, n_times=3131420\n",
            "    Range : 0 ... 3131419 =      0.000 ...  6262.838 secs\n",
            "Ready.\n"
          ]
        },
        {
          "output_type": "stream",
          "name": "stderr",
          "text": [
            "/usr/local/lib/python3.7/dist-packages/braindecode/datasets/bbci.py:210: DeprecationWarning: events cannot be set directly. This warning will turn into an error after 0.24\n",
            "  cnt.info[\"events\"] = np.array(event_arr).T\n",
            "This is not causal, uses future data....\n"
          ]
        },
        {
          "output_type": "stream",
          "name": "stdout",
          "text": [
            "Creating RawArray with float64 data, n_channels=3, n_times=1565710\n",
            "    Range : 0 ... 1565709 =      0.000 ...  6262.836 secs\n",
            "Ready.\n"
          ]
        },
        {
          "output_type": "stream",
          "name": "stderr",
          "text": [
            "/usr/local/lib/python3.7/dist-packages/braindecode/mne_ext/signalproc.py:67: DeprecationWarning: sfreq cannot be set directly. Please use method inst.resample() instead. This warning will turn into an error after 0.24\n",
            "  new_info[\"sfreq\"] = new_fs\n"
          ]
        },
        {
          "output_type": "stream",
          "name": "stdout",
          "text": [
            "Creating RawArray with float64 data, n_channels=3, n_times=3347155\n",
            "    Range : 0 ... 3347154 =      0.000 ...  6694.308 secs\n",
            "Ready.\n"
          ]
        },
        {
          "output_type": "stream",
          "name": "stderr",
          "text": [
            "/usr/local/lib/python3.7/dist-packages/braindecode/datasets/bbci.py:210: DeprecationWarning: events cannot be set directly. This warning will turn into an error after 0.24\n",
            "  cnt.info[\"events\"] = np.array(event_arr).T\n",
            "This is not causal, uses future data....\n"
          ]
        },
        {
          "output_type": "stream",
          "name": "stdout",
          "text": [
            "Creating RawArray with float64 data, n_channels=3, n_times=1673577\n",
            "    Range : 0 ... 1673576 =      0.000 ...  6694.304 secs\n",
            "Ready.\n"
          ]
        },
        {
          "output_type": "stream",
          "name": "stderr",
          "text": [
            "/usr/local/lib/python3.7/dist-packages/braindecode/mne_ext/signalproc.py:67: DeprecationWarning: sfreq cannot be set directly. Please use method inst.resample() instead. This warning will turn into an error after 0.24\n",
            "  new_info[\"sfreq\"] = new_fs\n"
          ]
        },
        {
          "output_type": "stream",
          "name": "stdout",
          "text": [
            "Creating RawArray with float64 data, n_channels=3, n_times=3451320\n",
            "    Range : 0 ... 3451319 =      0.000 ...  6902.638 secs\n",
            "Ready.\n"
          ]
        },
        {
          "output_type": "stream",
          "name": "stderr",
          "text": [
            "/usr/local/lib/python3.7/dist-packages/braindecode/datasets/bbci.py:210: DeprecationWarning: events cannot be set directly. This warning will turn into an error after 0.24\n",
            "  cnt.info[\"events\"] = np.array(event_arr).T\n",
            "This is not causal, uses future data....\n"
          ]
        },
        {
          "output_type": "stream",
          "name": "stdout",
          "text": [
            "Creating RawArray with float64 data, n_channels=3, n_times=1725660\n",
            "    Range : 0 ... 1725659 =      0.000 ...  6902.636 secs\n",
            "Ready.\n"
          ]
        },
        {
          "output_type": "stream",
          "name": "stderr",
          "text": [
            "/usr/local/lib/python3.7/dist-packages/braindecode/mne_ext/signalproc.py:67: DeprecationWarning: sfreq cannot be set directly. Please use method inst.resample() instead. This warning will turn into an error after 0.24\n",
            "  new_info[\"sfreq\"] = new_fs\n"
          ]
        },
        {
          "output_type": "stream",
          "name": "stdout",
          "text": [
            "Creating RawArray with float64 data, n_channels=3, n_times=2736300\n",
            "    Range : 0 ... 2736299 =      0.000 ...  5472.598 secs\n",
            "Ready.\n"
          ]
        },
        {
          "output_type": "stream",
          "name": "stderr",
          "text": [
            "/usr/local/lib/python3.7/dist-packages/braindecode/datasets/bbci.py:210: DeprecationWarning: events cannot be set directly. This warning will turn into an error after 0.24\n",
            "  cnt.info[\"events\"] = np.array(event_arr).T\n",
            "This is not causal, uses future data....\n"
          ]
        },
        {
          "output_type": "stream",
          "name": "stdout",
          "text": [
            "Creating RawArray with float64 data, n_channels=3, n_times=1368150\n",
            "    Range : 0 ... 1368149 =      0.000 ...  5472.596 secs\n",
            "Ready.\n"
          ]
        },
        {
          "output_type": "stream",
          "name": "stderr",
          "text": [
            "/usr/local/lib/python3.7/dist-packages/braindecode/mne_ext/signalproc.py:67: DeprecationWarning: sfreq cannot be set directly. Please use method inst.resample() instead. This warning will turn into an error after 0.24\n",
            "  new_info[\"sfreq\"] = new_fs\n"
          ]
        },
        {
          "output_type": "stream",
          "name": "stdout",
          "text": [
            "Creating RawArray with float64 data, n_channels=3, n_times=3387290\n",
            "    Range : 0 ... 3387289 =      0.000 ...  6774.578 secs\n",
            "Ready.\n"
          ]
        },
        {
          "output_type": "stream",
          "name": "stderr",
          "text": [
            "/usr/local/lib/python3.7/dist-packages/braindecode/datasets/bbci.py:210: DeprecationWarning: events cannot be set directly. This warning will turn into an error after 0.24\n",
            "  cnt.info[\"events\"] = np.array(event_arr).T\n",
            "This is not causal, uses future data....\n"
          ]
        },
        {
          "output_type": "stream",
          "name": "stdout",
          "text": [
            "Creating RawArray with float64 data, n_channels=3, n_times=1693645\n",
            "    Range : 0 ... 1693644 =      0.000 ...  6774.576 secs\n",
            "Ready.\n"
          ]
        },
        {
          "output_type": "stream",
          "name": "stderr",
          "text": [
            "/usr/local/lib/python3.7/dist-packages/braindecode/mne_ext/signalproc.py:67: DeprecationWarning: sfreq cannot be set directly. Please use method inst.resample() instead. This warning will turn into an error after 0.24\n",
            "  new_info[\"sfreq\"] = new_fs\n"
          ]
        },
        {
          "output_type": "stream",
          "name": "stdout",
          "text": [
            "Creating RawArray with float64 data, n_channels=3, n_times=3354460\n",
            "    Range : 0 ... 3354459 =      0.000 ...  6708.918 secs\n",
            "Ready.\n"
          ]
        },
        {
          "output_type": "stream",
          "name": "stderr",
          "text": [
            "/usr/local/lib/python3.7/dist-packages/braindecode/datasets/bbci.py:210: DeprecationWarning: events cannot be set directly. This warning will turn into an error after 0.24\n",
            "  cnt.info[\"events\"] = np.array(event_arr).T\n",
            "This is not causal, uses future data....\n"
          ]
        },
        {
          "output_type": "stream",
          "name": "stdout",
          "text": [
            "Creating RawArray with float64 data, n_channels=3, n_times=1677230\n",
            "    Range : 0 ... 1677229 =      0.000 ...  6708.916 secs\n",
            "Ready.\n"
          ]
        },
        {
          "output_type": "stream",
          "name": "stderr",
          "text": [
            "/usr/local/lib/python3.7/dist-packages/braindecode/mne_ext/signalproc.py:67: DeprecationWarning: sfreq cannot be set directly. Please use method inst.resample() instead. This warning will turn into an error after 0.24\n",
            "  new_info[\"sfreq\"] = new_fs\n"
          ]
        },
        {
          "output_type": "stream",
          "name": "stdout",
          "text": [
            "Creating RawArray with float64 data, n_channels=3, n_times=2511860\n",
            "    Range : 0 ... 2511859 =      0.000 ...  5023.718 secs\n",
            "Ready.\n"
          ]
        },
        {
          "output_type": "stream",
          "name": "stderr",
          "text": [
            "/usr/local/lib/python3.7/dist-packages/braindecode/datasets/bbci.py:210: DeprecationWarning: events cannot be set directly. This warning will turn into an error after 0.24\n",
            "  cnt.info[\"events\"] = np.array(event_arr).T\n",
            "This is not causal, uses future data....\n"
          ]
        },
        {
          "output_type": "stream",
          "name": "stdout",
          "text": [
            "Creating RawArray with float64 data, n_channels=3, n_times=1255930\n",
            "    Range : 0 ... 1255929 =      0.000 ...  5023.716 secs\n",
            "Ready.\n"
          ]
        },
        {
          "output_type": "stream",
          "name": "stderr",
          "text": [
            "/usr/local/lib/python3.7/dist-packages/braindecode/mne_ext/signalproc.py:67: DeprecationWarning: sfreq cannot be set directly. Please use method inst.resample() instead. This warning will turn into an error after 0.24\n",
            "  new_info[\"sfreq\"] = new_fs\n"
          ]
        },
        {
          "output_type": "stream",
          "name": "stdout",
          "text": [
            "Creating RawArray with float64 data, n_channels=3, n_times=3383655\n",
            "    Range : 0 ... 3383654 =      0.000 ...  6767.308 secs\n",
            "Ready.\n"
          ]
        },
        {
          "output_type": "stream",
          "name": "stderr",
          "text": [
            "/usr/local/lib/python3.7/dist-packages/braindecode/datasets/bbci.py:210: DeprecationWarning: events cannot be set directly. This warning will turn into an error after 0.24\n",
            "  cnt.info[\"events\"] = np.array(event_arr).T\n",
            "This is not causal, uses future data....\n"
          ]
        },
        {
          "output_type": "stream",
          "name": "stdout",
          "text": [
            "Creating RawArray with float64 data, n_channels=3, n_times=1691827\n",
            "    Range : 0 ... 1691826 =      0.000 ...  6767.304 secs\n",
            "Ready.\n"
          ]
        },
        {
          "output_type": "stream",
          "name": "stderr",
          "text": [
            "/usr/local/lib/python3.7/dist-packages/braindecode/mne_ext/signalproc.py:67: DeprecationWarning: sfreq cannot be set directly. Please use method inst.resample() instead. This warning will turn into an error after 0.24\n",
            "  new_info[\"sfreq\"] = new_fs\n"
          ]
        },
        {
          "output_type": "stream",
          "name": "stdout",
          "text": [
            "Creating RawArray with float64 data, n_channels=3, n_times=3386150\n",
            "    Range : 0 ... 3386149 =      0.000 ...  6772.298 secs\n",
            "Ready.\n"
          ]
        },
        {
          "output_type": "stream",
          "name": "stderr",
          "text": [
            "/usr/local/lib/python3.7/dist-packages/braindecode/datasets/bbci.py:210: DeprecationWarning: events cannot be set directly. This warning will turn into an error after 0.24\n",
            "  cnt.info[\"events\"] = np.array(event_arr).T\n",
            "This is not causal, uses future data....\n"
          ]
        },
        {
          "output_type": "stream",
          "name": "stdout",
          "text": [
            "Creating RawArray with float64 data, n_channels=3, n_times=1693075\n",
            "    Range : 0 ... 1693074 =      0.000 ...  6772.296 secs\n",
            "Ready.\n"
          ]
        },
        {
          "output_type": "stream",
          "name": "stderr",
          "text": [
            "/usr/local/lib/python3.7/dist-packages/braindecode/mne_ext/signalproc.py:67: DeprecationWarning: sfreq cannot be set directly. Please use method inst.resample() instead. This warning will turn into an error after 0.24\n",
            "  new_info[\"sfreq\"] = new_fs\n"
          ]
        },
        {
          "output_type": "stream",
          "name": "stdout",
          "text": [
            "Creating RawArray with float64 data, n_channels=3, n_times=3386765\n",
            "    Range : 0 ... 3386764 =      0.000 ...  6773.528 secs\n",
            "Ready.\n"
          ]
        },
        {
          "output_type": "stream",
          "name": "stderr",
          "text": [
            "/usr/local/lib/python3.7/dist-packages/braindecode/datasets/bbci.py:210: DeprecationWarning: events cannot be set directly. This warning will turn into an error after 0.24\n",
            "  cnt.info[\"events\"] = np.array(event_arr).T\n",
            "This is not causal, uses future data....\n"
          ]
        },
        {
          "output_type": "stream",
          "name": "stdout",
          "text": [
            "Creating RawArray with float64 data, n_channels=3, n_times=1693382\n",
            "    Range : 0 ... 1693381 =      0.000 ...  6773.524 secs\n",
            "Ready.\n"
          ]
        },
        {
          "output_type": "stream",
          "name": "stderr",
          "text": [
            "/usr/local/lib/python3.7/dist-packages/braindecode/mne_ext/signalproc.py:67: DeprecationWarning: sfreq cannot be set directly. Please use method inst.resample() instead. This warning will turn into an error after 0.24\n",
            "  new_info[\"sfreq\"] = new_fs\n"
          ]
        },
        {
          "output_type": "stream",
          "name": "stdout",
          "text": [
            "Creating RawArray with float64 data, n_channels=3, n_times=3385750\n",
            "    Range : 0 ... 3385749 =      0.000 ...  6771.498 secs\n",
            "Ready.\n"
          ]
        },
        {
          "output_type": "stream",
          "name": "stderr",
          "text": [
            "/usr/local/lib/python3.7/dist-packages/braindecode/datasets/bbci.py:210: DeprecationWarning: events cannot be set directly. This warning will turn into an error after 0.24\n",
            "  cnt.info[\"events\"] = np.array(event_arr).T\n",
            "This is not causal, uses future data....\n"
          ]
        },
        {
          "output_type": "stream",
          "name": "stdout",
          "text": [
            "Creating RawArray with float64 data, n_channels=3, n_times=1692875\n",
            "    Range : 0 ... 1692874 =      0.000 ...  6771.496 secs\n",
            "Ready.\n"
          ]
        },
        {
          "output_type": "stream",
          "name": "stderr",
          "text": [
            "/usr/local/lib/python3.7/dist-packages/braindecode/mne_ext/signalproc.py:67: DeprecationWarning: sfreq cannot be set directly. Please use method inst.resample() instead. This warning will turn into an error after 0.24\n",
            "  new_info[\"sfreq\"] = new_fs\n"
          ]
        },
        {
          "output_type": "stream",
          "name": "stdout",
          "text": [
            "Creating RawArray with float64 data, n_channels=3, n_times=3032845\n",
            "    Range : 0 ... 3032844 =      0.000 ...  6065.688 secs\n",
            "Ready.\n"
          ]
        },
        {
          "output_type": "stream",
          "name": "stderr",
          "text": [
            "/usr/local/lib/python3.7/dist-packages/braindecode/datasets/bbci.py:210: DeprecationWarning: events cannot be set directly. This warning will turn into an error after 0.24\n",
            "  cnt.info[\"events\"] = np.array(event_arr).T\n",
            "This is not causal, uses future data....\n"
          ]
        },
        {
          "output_type": "stream",
          "name": "stdout",
          "text": [
            "Creating RawArray with float64 data, n_channels=3, n_times=1516422\n",
            "    Range : 0 ... 1516421 =      0.000 ...  6065.684 secs\n",
            "Ready.\n"
          ]
        },
        {
          "output_type": "stream",
          "name": "stderr",
          "text": [
            "/usr/local/lib/python3.7/dist-packages/braindecode/mne_ext/signalproc.py:67: DeprecationWarning: sfreq cannot be set directly. Please use method inst.resample() instead. This warning will turn into an error after 0.24\n",
            "  new_info[\"sfreq\"] = new_fs\n"
          ]
        },
        {
          "output_type": "stream",
          "name": "stdout",
          "text": [
            "Creating RawArray with float64 data, n_channels=3, n_times=3345425\n",
            "    Range : 0 ... 3345424 =      0.000 ...  6690.848 secs\n",
            "Ready.\n"
          ]
        },
        {
          "output_type": "stream",
          "name": "stderr",
          "text": [
            "/usr/local/lib/python3.7/dist-packages/braindecode/datasets/bbci.py:210: DeprecationWarning: events cannot be set directly. This warning will turn into an error after 0.24\n",
            "  cnt.info[\"events\"] = np.array(event_arr).T\n",
            "This is not causal, uses future data....\n"
          ]
        },
        {
          "output_type": "stream",
          "name": "stdout",
          "text": [
            "Creating RawArray with float64 data, n_channels=3, n_times=1672712\n",
            "    Range : 0 ... 1672711 =      0.000 ...  6690.844 secs\n",
            "Ready.\n"
          ]
        },
        {
          "output_type": "stream",
          "name": "stderr",
          "text": [
            "/usr/local/lib/python3.7/dist-packages/braindecode/mne_ext/signalproc.py:67: DeprecationWarning: sfreq cannot be set directly. Please use method inst.resample() instead. This warning will turn into an error after 0.24\n",
            "  new_info[\"sfreq\"] = new_fs\n"
          ]
        },
        {
          "output_type": "stream",
          "name": "stdout",
          "text": [
            "Creating RawArray with float64 data, n_channels=3, n_times=616535\n",
            "    Range : 0 ... 616534 =      0.000 ...  1233.068 secs\n",
            "Ready.\n"
          ]
        },
        {
          "output_type": "stream",
          "name": "stderr",
          "text": [
            "/usr/local/lib/python3.7/dist-packages/braindecode/datasets/bbci.py:210: DeprecationWarning: events cannot be set directly. This warning will turn into an error after 0.24\n",
            "  cnt.info[\"events\"] = np.array(event_arr).T\n",
            "This is not causal, uses future data....\n"
          ]
        },
        {
          "output_type": "stream",
          "name": "stdout",
          "text": [
            "Creating RawArray with float64 data, n_channels=3, n_times=308267\n",
            "    Range : 0 ... 308266 =      0.000 ...  1233.064 secs\n",
            "Ready.\n"
          ]
        },
        {
          "output_type": "stream",
          "name": "stderr",
          "text": [
            "/usr/local/lib/python3.7/dist-packages/braindecode/mne_ext/signalproc.py:67: DeprecationWarning: sfreq cannot be set directly. Please use method inst.resample() instead. This warning will turn into an error after 0.24\n",
            "  new_info[\"sfreq\"] = new_fs\n"
          ]
        },
        {
          "output_type": "stream",
          "name": "stdout",
          "text": [
            "Creating RawArray with float64 data, n_channels=3, n_times=617735\n",
            "    Range : 0 ... 617734 =      0.000 ...  1235.468 secs\n",
            "Ready.\n"
          ]
        },
        {
          "output_type": "stream",
          "name": "stderr",
          "text": [
            "/usr/local/lib/python3.7/dist-packages/braindecode/datasets/bbci.py:210: DeprecationWarning: events cannot be set directly. This warning will turn into an error after 0.24\n",
            "  cnt.info[\"events\"] = np.array(event_arr).T\n",
            "This is not causal, uses future data....\n"
          ]
        },
        {
          "output_type": "stream",
          "name": "stdout",
          "text": [
            "Creating RawArray with float64 data, n_channels=3, n_times=308867\n",
            "    Range : 0 ... 308866 =      0.000 ...  1235.464 secs\n",
            "Ready.\n"
          ]
        },
        {
          "output_type": "stream",
          "name": "stderr",
          "text": [
            "/usr/local/lib/python3.7/dist-packages/braindecode/mne_ext/signalproc.py:67: DeprecationWarning: sfreq cannot be set directly. Please use method inst.resample() instead. This warning will turn into an error after 0.24\n",
            "  new_info[\"sfreq\"] = new_fs\n"
          ]
        },
        {
          "output_type": "stream",
          "name": "stdout",
          "text": [
            "Creating RawArray with float64 data, n_channels=3, n_times=609030\n",
            "    Range : 0 ... 609029 =      0.000 ...  1218.058 secs\n",
            "Ready.\n"
          ]
        },
        {
          "output_type": "stream",
          "name": "stderr",
          "text": [
            "/usr/local/lib/python3.7/dist-packages/braindecode/datasets/bbci.py:210: DeprecationWarning: events cannot be set directly. This warning will turn into an error after 0.24\n",
            "  cnt.info[\"events\"] = np.array(event_arr).T\n",
            "This is not causal, uses future data....\n"
          ]
        },
        {
          "output_type": "stream",
          "name": "stdout",
          "text": [
            "Creating RawArray with float64 data, n_channels=3, n_times=304515\n",
            "    Range : 0 ... 304514 =      0.000 ...  1218.056 secs\n",
            "Ready.\n"
          ]
        },
        {
          "output_type": "stream",
          "name": "stderr",
          "text": [
            "/usr/local/lib/python3.7/dist-packages/braindecode/mne_ext/signalproc.py:67: DeprecationWarning: sfreq cannot be set directly. Please use method inst.resample() instead. This warning will turn into an error after 0.24\n",
            "  new_info[\"sfreq\"] = new_fs\n"
          ]
        },
        {
          "output_type": "stream",
          "name": "stdout",
          "text": [
            "Creating RawArray with float64 data, n_channels=3, n_times=617090\n",
            "    Range : 0 ... 617089 =      0.000 ...  1234.178 secs\n",
            "Ready.\n"
          ]
        },
        {
          "output_type": "stream",
          "name": "stderr",
          "text": [
            "/usr/local/lib/python3.7/dist-packages/braindecode/datasets/bbci.py:210: DeprecationWarning: events cannot be set directly. This warning will turn into an error after 0.24\n",
            "  cnt.info[\"events\"] = np.array(event_arr).T\n",
            "This is not causal, uses future data....\n"
          ]
        },
        {
          "output_type": "stream",
          "name": "stdout",
          "text": [
            "Creating RawArray with float64 data, n_channels=3, n_times=308545\n",
            "    Range : 0 ... 308544 =      0.000 ...  1234.176 secs\n",
            "Ready.\n"
          ]
        },
        {
          "output_type": "stream",
          "name": "stderr",
          "text": [
            "/usr/local/lib/python3.7/dist-packages/braindecode/mne_ext/signalproc.py:67: DeprecationWarning: sfreq cannot be set directly. Please use method inst.resample() instead. This warning will turn into an error after 0.24\n",
            "  new_info[\"sfreq\"] = new_fs\n"
          ]
        },
        {
          "output_type": "stream",
          "name": "stdout",
          "text": [
            "Creating RawArray with float64 data, n_channels=3, n_times=607250\n",
            "    Range : 0 ... 607249 =      0.000 ...  1214.498 secs\n",
            "Ready.\n"
          ]
        },
        {
          "output_type": "stream",
          "name": "stderr",
          "text": [
            "/usr/local/lib/python3.7/dist-packages/braindecode/datasets/bbci.py:210: DeprecationWarning: events cannot be set directly. This warning will turn into an error after 0.24\n",
            "  cnt.info[\"events\"] = np.array(event_arr).T\n",
            "This is not causal, uses future data....\n"
          ]
        },
        {
          "output_type": "stream",
          "name": "stdout",
          "text": [
            "Creating RawArray with float64 data, n_channels=3, n_times=303625\n",
            "    Range : 0 ... 303624 =      0.000 ...  1214.496 secs\n",
            "Ready.\n"
          ]
        },
        {
          "output_type": "stream",
          "name": "stderr",
          "text": [
            "/usr/local/lib/python3.7/dist-packages/braindecode/mne_ext/signalproc.py:67: DeprecationWarning: sfreq cannot be set directly. Please use method inst.resample() instead. This warning will turn into an error after 0.24\n",
            "  new_info[\"sfreq\"] = new_fs\n"
          ]
        },
        {
          "output_type": "stream",
          "name": "stdout",
          "text": [
            "Creating RawArray with float64 data, n_channels=3, n_times=615705\n",
            "    Range : 0 ... 615704 =      0.000 ...  1231.408 secs\n",
            "Ready.\n"
          ]
        },
        {
          "output_type": "stream",
          "name": "stderr",
          "text": [
            "/usr/local/lib/python3.7/dist-packages/braindecode/datasets/bbci.py:210: DeprecationWarning: events cannot be set directly. This warning will turn into an error after 0.24\n",
            "  cnt.info[\"events\"] = np.array(event_arr).T\n",
            "This is not causal, uses future data....\n"
          ]
        },
        {
          "output_type": "stream",
          "name": "stdout",
          "text": [
            "Creating RawArray with float64 data, n_channels=3, n_times=307852\n",
            "    Range : 0 ... 307851 =      0.000 ...  1231.404 secs\n",
            "Ready.\n"
          ]
        },
        {
          "output_type": "stream",
          "name": "stderr",
          "text": [
            "/usr/local/lib/python3.7/dist-packages/braindecode/mne_ext/signalproc.py:67: DeprecationWarning: sfreq cannot be set directly. Please use method inst.resample() instead. This warning will turn into an error after 0.24\n",
            "  new_info[\"sfreq\"] = new_fs\n"
          ]
        },
        {
          "output_type": "stream",
          "name": "stdout",
          "text": [
            "Creating RawArray with float64 data, n_channels=3, n_times=608850\n",
            "    Range : 0 ... 608849 =      0.000 ...  1217.698 secs\n",
            "Ready.\n"
          ]
        },
        {
          "output_type": "stream",
          "name": "stderr",
          "text": [
            "/usr/local/lib/python3.7/dist-packages/braindecode/datasets/bbci.py:210: DeprecationWarning: events cannot be set directly. This warning will turn into an error after 0.24\n",
            "  cnt.info[\"events\"] = np.array(event_arr).T\n",
            "This is not causal, uses future data....\n"
          ]
        },
        {
          "output_type": "stream",
          "name": "stdout",
          "text": [
            "Creating RawArray with float64 data, n_channels=3, n_times=304425\n",
            "    Range : 0 ... 304424 =      0.000 ...  1217.696 secs\n",
            "Ready.\n"
          ]
        },
        {
          "output_type": "stream",
          "name": "stderr",
          "text": [
            "/usr/local/lib/python3.7/dist-packages/braindecode/mne_ext/signalproc.py:67: DeprecationWarning: sfreq cannot be set directly. Please use method inst.resample() instead. This warning will turn into an error after 0.24\n",
            "  new_info[\"sfreq\"] = new_fs\n"
          ]
        },
        {
          "output_type": "stream",
          "name": "stdout",
          "text": [
            "Creating RawArray with float64 data, n_channels=3, n_times=616070\n",
            "    Range : 0 ... 616069 =      0.000 ...  1232.138 secs\n",
            "Ready.\n"
          ]
        },
        {
          "output_type": "stream",
          "name": "stderr",
          "text": [
            "/usr/local/lib/python3.7/dist-packages/braindecode/datasets/bbci.py:210: DeprecationWarning: events cannot be set directly. This warning will turn into an error after 0.24\n",
            "  cnt.info[\"events\"] = np.array(event_arr).T\n",
            "This is not causal, uses future data....\n"
          ]
        },
        {
          "output_type": "stream",
          "name": "stdout",
          "text": [
            "Creating RawArray with float64 data, n_channels=3, n_times=308035\n",
            "    Range : 0 ... 308034 =      0.000 ...  1232.136 secs\n",
            "Ready.\n"
          ]
        },
        {
          "output_type": "stream",
          "name": "stderr",
          "text": [
            "/usr/local/lib/python3.7/dist-packages/braindecode/mne_ext/signalproc.py:67: DeprecationWarning: sfreq cannot be set directly. Please use method inst.resample() instead. This warning will turn into an error after 0.24\n",
            "  new_info[\"sfreq\"] = new_fs\n"
          ]
        },
        {
          "output_type": "stream",
          "name": "stdout",
          "text": [
            "Creating RawArray with float64 data, n_channels=3, n_times=614600\n",
            "    Range : 0 ... 614599 =      0.000 ...  1229.198 secs\n",
            "Ready.\n"
          ]
        },
        {
          "output_type": "stream",
          "name": "stderr",
          "text": [
            "/usr/local/lib/python3.7/dist-packages/braindecode/datasets/bbci.py:210: DeprecationWarning: events cannot be set directly. This warning will turn into an error after 0.24\n",
            "  cnt.info[\"events\"] = np.array(event_arr).T\n",
            "This is not causal, uses future data....\n"
          ]
        },
        {
          "output_type": "stream",
          "name": "stdout",
          "text": [
            "Creating RawArray with float64 data, n_channels=3, n_times=307300\n",
            "    Range : 0 ... 307299 =      0.000 ...  1229.196 secs\n",
            "Ready.\n"
          ]
        },
        {
          "output_type": "stream",
          "name": "stderr",
          "text": [
            "/usr/local/lib/python3.7/dist-packages/braindecode/mne_ext/signalproc.py:67: DeprecationWarning: sfreq cannot be set directly. Please use method inst.resample() instead. This warning will turn into an error after 0.24\n",
            "  new_info[\"sfreq\"] = new_fs\n"
          ]
        },
        {
          "output_type": "stream",
          "name": "stdout",
          "text": [
            "Creating RawArray with float64 data, n_channels=3, n_times=614555\n",
            "    Range : 0 ... 614554 =      0.000 ...  1229.108 secs\n",
            "Ready.\n"
          ]
        },
        {
          "output_type": "stream",
          "name": "stderr",
          "text": [
            "/usr/local/lib/python3.7/dist-packages/braindecode/datasets/bbci.py:210: DeprecationWarning: events cannot be set directly. This warning will turn into an error after 0.24\n",
            "  cnt.info[\"events\"] = np.array(event_arr).T\n",
            "This is not causal, uses future data....\n"
          ]
        },
        {
          "output_type": "stream",
          "name": "stdout",
          "text": [
            "Creating RawArray with float64 data, n_channels=3, n_times=307277\n",
            "    Range : 0 ... 307276 =      0.000 ...  1229.104 secs\n",
            "Ready.\n"
          ]
        },
        {
          "output_type": "stream",
          "name": "stderr",
          "text": [
            "/usr/local/lib/python3.7/dist-packages/braindecode/mne_ext/signalproc.py:67: DeprecationWarning: sfreq cannot be set directly. Please use method inst.resample() instead. This warning will turn into an error after 0.24\n",
            "  new_info[\"sfreq\"] = new_fs\n"
          ]
        },
        {
          "output_type": "stream",
          "name": "stdout",
          "text": [
            "Creating RawArray with float64 data, n_channels=3, n_times=610820\n",
            "    Range : 0 ... 610819 =      0.000 ...  1221.638 secs\n",
            "Ready.\n"
          ]
        },
        {
          "output_type": "stream",
          "name": "stderr",
          "text": [
            "/usr/local/lib/python3.7/dist-packages/braindecode/datasets/bbci.py:210: DeprecationWarning: events cannot be set directly. This warning will turn into an error after 0.24\n",
            "  cnt.info[\"events\"] = np.array(event_arr).T\n",
            "This is not causal, uses future data....\n"
          ]
        },
        {
          "output_type": "stream",
          "name": "stdout",
          "text": [
            "Creating RawArray with float64 data, n_channels=3, n_times=305410\n",
            "    Range : 0 ... 305409 =      0.000 ...  1221.636 secs\n",
            "Ready.\n"
          ]
        },
        {
          "output_type": "stream",
          "name": "stderr",
          "text": [
            "/usr/local/lib/python3.7/dist-packages/braindecode/mne_ext/signalproc.py:67: DeprecationWarning: sfreq cannot be set directly. Please use method inst.resample() instead. This warning will turn into an error after 0.24\n",
            "  new_info[\"sfreq\"] = new_fs\n"
          ]
        },
        {
          "output_type": "stream",
          "name": "stdout",
          "text": [
            "Creating RawArray with float64 data, n_channels=3, n_times=614290\n",
            "    Range : 0 ... 614289 =      0.000 ...  1228.578 secs\n",
            "Ready.\n"
          ]
        },
        {
          "output_type": "stream",
          "name": "stderr",
          "text": [
            "/usr/local/lib/python3.7/dist-packages/braindecode/datasets/bbci.py:210: DeprecationWarning: events cannot be set directly. This warning will turn into an error after 0.24\n",
            "  cnt.info[\"events\"] = np.array(event_arr).T\n",
            "This is not causal, uses future data....\n"
          ]
        },
        {
          "output_type": "stream",
          "name": "stdout",
          "text": [
            "Creating RawArray with float64 data, n_channels=3, n_times=307145\n",
            "    Range : 0 ... 307144 =      0.000 ...  1228.576 secs\n",
            "Ready.\n"
          ]
        },
        {
          "output_type": "stream",
          "name": "stderr",
          "text": [
            "/usr/local/lib/python3.7/dist-packages/braindecode/mne_ext/signalproc.py:67: DeprecationWarning: sfreq cannot be set directly. Please use method inst.resample() instead. This warning will turn into an error after 0.24\n",
            "  new_info[\"sfreq\"] = new_fs\n"
          ]
        },
        {
          "output_type": "stream",
          "name": "stdout",
          "text": [
            "Creating RawArray with float64 data, n_channels=3, n_times=607735\n",
            "    Range : 0 ... 607734 =      0.000 ...  1215.468 secs\n",
            "Ready.\n"
          ]
        },
        {
          "output_type": "stream",
          "name": "stderr",
          "text": [
            "/usr/local/lib/python3.7/dist-packages/braindecode/datasets/bbci.py:210: DeprecationWarning: events cannot be set directly. This warning will turn into an error after 0.24\n",
            "  cnt.info[\"events\"] = np.array(event_arr).T\n",
            "This is not causal, uses future data....\n"
          ]
        },
        {
          "output_type": "stream",
          "name": "stdout",
          "text": [
            "Creating RawArray with float64 data, n_channels=3, n_times=303867\n",
            "    Range : 0 ... 303866 =      0.000 ...  1215.464 secs\n",
            "Ready.\n"
          ]
        },
        {
          "output_type": "stream",
          "name": "stderr",
          "text": [
            "/usr/local/lib/python3.7/dist-packages/braindecode/mne_ext/signalproc.py:67: DeprecationWarning: sfreq cannot be set directly. Please use method inst.resample() instead. This warning will turn into an error after 0.24\n",
            "  new_info[\"sfreq\"] = new_fs\n"
          ]
        },
        {
          "output_type": "stream",
          "name": "stdout",
          "text": [
            "Creating RawArray with float64 data, n_channels=3, n_times=608505\n",
            "    Range : 0 ... 608504 =      0.000 ...  1217.008 secs\n",
            "Ready.\n"
          ]
        },
        {
          "output_type": "stream",
          "name": "stderr",
          "text": [
            "/usr/local/lib/python3.7/dist-packages/braindecode/datasets/bbci.py:210: DeprecationWarning: events cannot be set directly. This warning will turn into an error after 0.24\n",
            "  cnt.info[\"events\"] = np.array(event_arr).T\n",
            "This is not causal, uses future data....\n"
          ]
        },
        {
          "output_type": "stream",
          "name": "stdout",
          "text": [
            "Creating RawArray with float64 data, n_channels=3, n_times=304252\n",
            "    Range : 0 ... 304251 =      0.000 ...  1217.004 secs\n",
            "Ready.\n"
          ]
        },
        {
          "output_type": "stream",
          "name": "stderr",
          "text": [
            "/usr/local/lib/python3.7/dist-packages/braindecode/mne_ext/signalproc.py:67: DeprecationWarning: sfreq cannot be set directly. Please use method inst.resample() instead. This warning will turn into an error after 0.24\n",
            "  new_info[\"sfreq\"] = new_fs\n"
          ]
        }
      ]
    },
    {
      "cell_type": "code",
      "metadata": {
        "colab": {
          "base_uri": "https://localhost:8080/"
        },
        "id": "bBxrb5ex1ouq",
        "outputId": "b7750a9c-9cca-487f-a2a6-e4f6a87a2bf4"
      },
      "source": [
        "import numpy as np\n",
        "train_X, train_y = [], []\n",
        "for D in datasets:\n",
        "  train_X.append(np.transpose(np.asarray(D.X), [0, 2, 1]).reshape([-1, 25, 20, 3]))\n",
        "  train_y.append(np.asarray(D.y))\n",
        "train_X = np.concatenate(train_X, axis=0)\n",
        "train_y = np.concatenate(train_y, axis=0)\n",
        "train_X.shape"
      ],
      "execution_count": 4,
      "outputs": [
        {
          "output_type": "execute_result",
          "data": {
            "text/plain": [
              "(13480, 25, 20, 3)"
            ]
          },
          "metadata": {},
          "execution_count": 4
        }
      ]
    },
    {
      "cell_type": "markdown",
      "metadata": {
        "id": "XOGQv5OgN02w"
      },
      "source": [
        "data augmentation"
      ]
    },
    {
      "cell_type": "code",
      "metadata": {
        "id": "FzqnEmEhN3As"
      },
      "source": [
        "import cv2\n",
        "aug_X_1, aug_X_2 = [], []\n",
        "sigma, mean = 1, 0\n",
        "for _ in range(train_X.shape[0]):\n",
        "  aug_X_1.append(cv2.GaussianBlur(train_X[_], (3, 3), 0))\n",
        "  aug_X_2.append(np.random.randn(train_X[_].shape[0], train_X[_].shape[1], train_X[_].shape[2])*sigma + mean)\n",
        "aug_X_1 = np.asarray(aug_X_1)\n",
        "aug_X_2 = np.asarray(aug_X_2)"
      ],
      "execution_count": 5,
      "outputs": []
    },
    {
      "cell_type": "code",
      "metadata": {
        "id": "kRSybGqAEd0I"
      },
      "source": [
        "#split validation dataset\n",
        "sample_len = train_X.shape[0]\n",
        "splite_ratio = 0.1\n",
        "valid_num = int(sample_len*splite_ratio)\n",
        "valid_idx = np.random.randint(low=0, high=sample_len, size=valid_num) #生成随机数，validation的下标们\n",
        "train_idx = np.asarray(list(set(list(range(sample_len))) - set(list(valid_idx)))) #set集合可以来做减法，交并集\n",
        "\n",
        "valid_X = train_X[valid_idx, :, :, :]\n",
        "valid_y = train_y[valid_idx]\n",
        "train_X = train_X[train_idx, :, :, :]\n",
        "train_y = train_y[train_idx]\n",
        "\n",
        "aug_valid_X1 = aug_X_1[valid_idx, :, :, :]\n",
        "aug_valid_X2 = aug_X_2[valid_idx, :, :, :]\n",
        "aug_train_X1 = aug_X_1[train_idx, :, :, :]\n",
        "aug_train_X2 = aug_X_2[train_idx, :, :, :]"
      ],
      "execution_count": 6,
      "outputs": []
    },
    {
      "cell_type": "code",
      "metadata": {
        "id": "BciGLaBM1tIm",
        "colab": {
          "base_uri": "https://localhost:8080/"
        },
        "outputId": "53099d18-2ec4-4367-f830-db0722e543b8"
      },
      "source": [
        "## import tf and check gpu is_available\n",
        "import tensorflow as tf\n",
        "assert tf.test.is_gpu_available()"
      ],
      "execution_count": 7,
      "outputs": [
        {
          "output_type": "stream",
          "name": "stdout",
          "text": [
            "WARNING:tensorflow:From <ipython-input-7-e57ab6db00b4>:3: is_gpu_available (from tensorflow.python.framework.test_util) is deprecated and will be removed in a future version.\n",
            "Instructions for updating:\n",
            "Use `tf.config.list_physical_devices('GPU')` instead.\n"
          ]
        }
      ]
    },
    {
      "cell_type": "code",
      "metadata": {
        "colab": {
          "base_uri": "https://localhost:8080/"
        },
        "id": "dPFAbZFx1x_N",
        "outputId": "0e6d589d-9da2-456a-d0e2-90c57de9b78e"
      },
      "source": [
        "## build model\n",
        "batch_size = 64\n",
        "views = 2\n",
        "assert views == 2\n",
        "temperature = 2\n",
        "\n",
        "def build_model(input_1, input_2):\n",
        "  inputs = tf.concat([input_1, input_2], axis=0)\n",
        "\n",
        "  # CONV_1\n",
        "  C_1 = tf.keras.layers.Conv2D(32, (3, 3), padding=\"SAME\", name=\"C_1\")(inputs)\n",
        "  L_1 = tf.keras.layers.LeakyReLU()(C_1)\n",
        "  D_1 = tf.keras.layers.Dropout(rate=0.5)(L_1)\n",
        "\n",
        "  # CONV_2\n",
        "  C_2 = tf.keras.layers.Conv2D(32, (3, 3), padding=\"SAME\", name=\"C_2\")(D_1)\n",
        "  B_2 = tf.keras.layers.BatchNormalization(name=\"B_2\")(C_2)\n",
        "  L_2 = tf.keras.layers.LeakyReLU()(B_2)\n",
        "\n",
        "  # CONV_3\n",
        "  C_3_IN = tf.concat((L_2, D_1), axis=3)\n",
        "  C_3 = tf.keras.layers.Conv2D(64, (3, 3), padding=\"SAME\", name=\"C_3\")(C_3_IN)\n",
        "  L_3 = tf.keras.layers.LeakyReLU()(C_3)\n",
        "  D_3 = tf.keras.layers.Dropout(rate=0.5)(L_3)\n",
        "\n",
        "  # MAX_POOLING_1\n",
        "  M_1 = tf.keras.layers.MaxPool2D(pool_size=(2, 2), strides=(2, 2), padding=\"SAME\")(D_3)\n",
        "\n",
        "  # CONV_4\n",
        "  C_4 = tf.keras.layers.Conv2D(64, (3, 3), padding=\"SAME\", name=\"C_4\")(M_1)\n",
        "  B_4 = tf.keras.layers.BatchNormalization(name=\"B_4\")(C_4)\n",
        "  L_4 = tf.keras.layers.LeakyReLU()(B_4)\n",
        "  D_4 = tf.keras.layers.Dropout(rate=0.5)(L_4)\n",
        "\n",
        "  # CONV_5\n",
        "  C_5 = tf.keras.layers.Conv2D(64, (3, 3), padding=\"SAME\", name=\"C_5\")(D_4)\n",
        "  B_5 = tf.keras.layers.BatchNormalization(name=\"B_5\")(C_5)\n",
        "  L_5 = tf.keras.layers.LeakyReLU()(B_5)\n",
        "\n",
        "  # CONV_6\n",
        "  C_6_IN = tf.concat((L_5, D_4), axis=3)\n",
        "  C_6 = tf.keras.layers.Conv2D(128, (3, 3), padding=\"SAME\", name=\"C_6\")(C_6_IN)\n",
        "  L_6 = tf.keras.layers.LeakyReLU()(C_6)\n",
        "  D_6 = tf.keras.layers.Dropout(rate=0.5)(L_6)\n",
        "\n",
        "  # MAX_POOLING_2\n",
        "  M_2 = tf.keras.layers.MaxPool2D(pool_size=(2, 2), strides=(2, 2), padding=\"SAME\")(D_6)\n",
        "  print(M_2.shape)\n",
        "  # FC\n",
        "  F_IN = tf.reshape(M_2, [-1, 7 * 5 * 128])\n",
        "  F_1 = tf.keras.layers.Dense(512, name=\"simCLR_F_1\")(F_IN)#非线性分类器\n",
        "  F_1_L = tf.keras.layers.ReLU()(F_1)\n",
        "  F_2 = tf.keras.layers.Dense(256, name=\"simCLR_F_2\")(F_1_L)\n",
        "  F_2_L = tf.keras.layers.ReLU()(F_2)\n",
        "  features = tf.keras.layers.Dense(128, name=\"simCLR_F_3\")(F_2_L)\n",
        "\n",
        "  # reconstruct logits\n",
        "  labels = tf.concat([tf.range(start=0, limit=batch_size) for _ in range(views)], axis=0) #连接在一个维度的张量，range是创造一系列数字，labels现在的维度 128\n",
        "  labels = tf.cast(tf.expand_dims(labels, axis=0) == tf.expand_dims(labels, axis=1), dtype=tf.float32) #更改维度，行维度变成和列维度一样，变换类型,128*128\n",
        "\n",
        "\n",
        "  features = features / tf.math.reduce_euclidean_norm(features, axis=1, keepdims=True) #模为1\n",
        "  similarity_matrix = tf.matmul(features, tf.transpose(features, [1, 0])) #余弦相似度\n",
        "\n",
        "  mask = tf.linalg.eye(labels.shape[0], dtype=tf.bool)\n",
        "  labels = tf.reshape(labels[~mask], [labels.shape[0], -1])\n",
        "  similarity_matrix = tf.reshape(similarity_matrix[~mask], [labels.shape[0], -1])#？\n",
        "  positives = tf.reshape(similarity_matrix[tf.cast(labels, dtype=tf.bool)], [labels.shape[0], -1])#？\n",
        "  negatives = tf.reshape(similarity_matrix[~tf.cast(labels, dtype=tf.bool)], [similarity_matrix.shape[0], -1])#？\n",
        "\n",
        "  logits = tf.concat([positives, negatives], axis=1)#？\n",
        "  logits = logits / temperature\n",
        "  # print(logits.shape[0])\n",
        "  # labels = tf.zeros(logits.shape[0], dtype=tf.float32)\n",
        "  return logits\n",
        "\n",
        "input_1 = tf.keras.Input(shape=[25, 20, 3])\n",
        "input_2 = tf.keras.Input(shape=[25, 20, 3])\n",
        "outputs = build_model(input_1, input_2)\n",
        "model = tf.keras.Model((input_1, input_2), outputs)\n",
        "model.compile(\n",
        "  optimizer=tf.keras.optimizers.Adam(learning_rate=0.001),\n",
        "  loss=tf.keras.losses.SparseCategoricalCrossentropy(reduction='sum_over_batch_size'),  #将数字编码转化成one-hot编码格式，然后对one-hot编码格式的数据（真实标签值）与预测出的标签值使用交叉熵损失函数\n",
        "  metrics=[tf.keras.metrics.SparseCategoricalAccuracy()] #检查y_true中的值（本身就是index）与y_pred中的最大值对应的index是否相等，针对稀疏情况的多分类\n",
        ")"
      ],
      "execution_count": 8,
      "outputs": [
        {
          "output_type": "stream",
          "name": "stdout",
          "text": [
            "(None, 7, 5, 128)\n"
          ]
        }
      ]
    },
    {
      "cell_type": "code",
      "metadata": {
        "id": "ED6W98QP11J2",
        "colab": {
          "base_uri": "https://localhost:8080/"
        },
        "outputId": "5eb0a021-9584-4c2a-b6ac-b2d7e95bc45f"
      },
      "source": [
        "def data_generator(X_t, X_t_a):\n",
        "  while True:\n",
        "    random_idx = np.random.randint(0, high=X_t.shape[0], size=batch_size)\n",
        "    input_1 = X_t[random_idx]\n",
        "    input_2 = X_t_a[random_idx]\n",
        "    target = np.zeros(batch_size*views, dtype=int)#？\n",
        "    yield ((input_1, input_2), target)\n",
        "\n",
        "\n",
        "\n",
        "ckpt = tf.keras.callbacks.ModelCheckpoint(\n",
        "    filepath=\"/content/drive/MyDrive/ckpt/high_gamma_pretrain_simclr/conv6net.h5\",\n",
        "    mointor=\"val_acc\",\n",
        "    save_best_only=True,\n",
        "    save_weights_only=True,\n",
        "    mode=\"max\"  #val_acc最大的\n",
        ")\n",
        "\n",
        "model.fit(\n",
        "    x=data_generator(aug_train_X1, train_X), \n",
        "    epochs=100,  #20,30,\n",
        "    steps_per_epoch=int(train_X.shape[0]//batch_size*2), #？\n",
        "    verbose=\"auto\",\n",
        "    validation_data=data_generator(aug_valid_X1, valid_X),\n",
        "    validation_steps=int(valid_X.shape[0]//batch_size*2), #？\n",
        "    callbacks=[ckpt],\n",
        "    shuffle=True \n",
        ")"
      ],
      "execution_count": 9,
      "outputs": [
        {
          "output_type": "stream",
          "name": "stdout",
          "text": [
            "Epoch 1/100\n",
            "380/380 [==============================] - 51s 51ms/step - loss: 2.9222 - sparse_categorical_accuracy: 0.8352 - val_loss: 3.5427 - val_sparse_categorical_accuracy: 0.7057\n",
            "Epoch 2/100\n",
            "380/380 [==============================] - 17s 45ms/step - loss: 2.9996 - sparse_categorical_accuracy: 0.7359 - val_loss: 2.8430 - val_sparse_categorical_accuracy: 0.9154\n",
            "Epoch 3/100\n",
            "380/380 [==============================] - 17s 45ms/step - loss: 2.9813 - sparse_categorical_accuracy: 0.8313 - val_loss: 3.2496 - val_sparse_categorical_accuracy: 0.9180\n",
            "Epoch 4/100\n",
            "380/380 [==============================] - 17s 45ms/step - loss: 2.6414 - sparse_categorical_accuracy: 0.7758 - val_loss: 3.1520 - val_sparse_categorical_accuracy: 0.9427\n",
            "Epoch 5/100\n",
            "380/380 [==============================] - 17s 45ms/step - loss: 2.4977 - sparse_categorical_accuracy: 0.7321 - val_loss: 2.7927 - val_sparse_categorical_accuracy: 0.9191\n",
            "Epoch 6/100\n",
            "380/380 [==============================] - 17s 45ms/step - loss: 2.4695 - sparse_categorical_accuracy: 0.7357 - val_loss: 2.6166 - val_sparse_categorical_accuracy: 0.9027\n",
            "Epoch 7/100\n",
            "380/380 [==============================] - 17s 45ms/step - loss: 2.7696 - sparse_categorical_accuracy: 0.7947 - val_loss: 3.0276 - val_sparse_categorical_accuracy: 0.9262\n",
            "Epoch 8/100\n",
            "380/380 [==============================] - 18s 47ms/step - loss: 2.6691 - sparse_categorical_accuracy: 0.7687 - val_loss: 2.5103 - val_sparse_categorical_accuracy: 0.8475\n",
            "Epoch 9/100\n",
            "380/380 [==============================] - 17s 45ms/step - loss: 3.1221 - sparse_categorical_accuracy: 0.6796 - val_loss: 3.3289 - val_sparse_categorical_accuracy: 0.8876\n",
            "Epoch 10/100\n",
            "380/380 [==============================] - 17s 45ms/step - loss: 3.3007 - sparse_categorical_accuracy: 0.6707 - val_loss: 3.3854 - val_sparse_categorical_accuracy: 0.8988\n",
            "Epoch 11/100\n",
            "380/380 [==============================] - 18s 47ms/step - loss: 3.3410 - sparse_categorical_accuracy: 0.6688 - val_loss: 3.9482 - val_sparse_categorical_accuracy: 0.8490\n",
            "Epoch 12/100\n",
            "380/380 [==============================] - 17s 45ms/step - loss: 3.2318 - sparse_categorical_accuracy: 0.6661 - val_loss: 3.2909 - val_sparse_categorical_accuracy: 0.8772\n",
            "Epoch 13/100\n",
            "380/380 [==============================] - 17s 45ms/step - loss: 3.0318 - sparse_categorical_accuracy: 0.5580 - val_loss: 3.4986 - val_sparse_categorical_accuracy: 0.7920\n",
            "Epoch 14/100\n",
            "380/380 [==============================] - 17s 45ms/step - loss: 3.0371 - sparse_categorical_accuracy: 0.6052 - val_loss: 3.2219 - val_sparse_categorical_accuracy: 0.8358\n",
            "Epoch 15/100\n",
            "380/380 [==============================] - 17s 45ms/step - loss: 2.8965 - sparse_categorical_accuracy: 0.6195 - val_loss: 3.1790 - val_sparse_categorical_accuracy: 0.8603\n",
            "Epoch 16/100\n",
            "380/380 [==============================] - 17s 45ms/step - loss: 2.7639 - sparse_categorical_accuracy: 0.6415 - val_loss: 3.0110 - val_sparse_categorical_accuracy: 0.8400\n",
            "Epoch 17/100\n",
            "380/380 [==============================] - 17s 45ms/step - loss: 2.7677 - sparse_categorical_accuracy: 0.6298 - val_loss: 3.0973 - val_sparse_categorical_accuracy: 0.8441\n",
            "Epoch 18/100\n",
            "380/380 [==============================] - 17s 45ms/step - loss: 2.7291 - sparse_categorical_accuracy: 0.5739 - val_loss: 3.1144 - val_sparse_categorical_accuracy: 0.8106\n",
            "Epoch 19/100\n",
            "380/380 [==============================] - 17s 45ms/step - loss: 2.7745 - sparse_categorical_accuracy: 0.5734 - val_loss: 2.8191 - val_sparse_categorical_accuracy: 0.7524\n",
            "Epoch 20/100\n",
            "380/380 [==============================] - 17s 45ms/step - loss: 2.7225 - sparse_categorical_accuracy: 0.5853 - val_loss: 3.1087 - val_sparse_categorical_accuracy: 0.8235\n",
            "Epoch 21/100\n",
            "380/380 [==============================] - 17s 45ms/step - loss: 2.7104 - sparse_categorical_accuracy: 0.5628 - val_loss: 3.3189 - val_sparse_categorical_accuracy: 0.8123\n",
            "Epoch 22/100\n",
            "380/380 [==============================] - 17s 46ms/step - loss: 2.6955 - sparse_categorical_accuracy: 0.5823 - val_loss: 3.6232 - val_sparse_categorical_accuracy: 0.8897\n",
            "Epoch 23/100\n",
            "380/380 [==============================] - 17s 45ms/step - loss: 2.7204 - sparse_categorical_accuracy: 0.6127 - val_loss: 3.3624 - val_sparse_categorical_accuracy: 0.8808\n",
            "Epoch 24/100\n",
            "380/380 [==============================] - 17s 45ms/step - loss: 2.6827 - sparse_categorical_accuracy: 0.5997 - val_loss: 3.3634 - val_sparse_categorical_accuracy: 0.8540\n",
            "Epoch 25/100\n",
            "380/380 [==============================] - 17s 45ms/step - loss: 2.6727 - sparse_categorical_accuracy: 0.5944 - val_loss: 2.7888 - val_sparse_categorical_accuracy: 0.8374\n",
            "Epoch 26/100\n",
            "380/380 [==============================] - 17s 45ms/step - loss: 2.6105 - sparse_categorical_accuracy: 0.6811 - val_loss: 2.9794 - val_sparse_categorical_accuracy: 0.8588\n",
            "Epoch 27/100\n",
            "380/380 [==============================] - 17s 45ms/step - loss: 2.6999 - sparse_categorical_accuracy: 0.6618 - val_loss: 2.8337 - val_sparse_categorical_accuracy: 0.8761\n",
            "Epoch 28/100\n",
            "380/380 [==============================] - 17s 46ms/step - loss: 2.6381 - sparse_categorical_accuracy: 0.6349 - val_loss: 2.7930 - val_sparse_categorical_accuracy: 0.9133\n",
            "Epoch 29/100\n",
            "380/380 [==============================] - 17s 45ms/step - loss: 2.5968 - sparse_categorical_accuracy: 0.6330 - val_loss: 2.8952 - val_sparse_categorical_accuracy: 0.9105\n",
            "Epoch 30/100\n",
            "380/380 [==============================] - 17s 45ms/step - loss: 2.5724 - sparse_categorical_accuracy: 0.7191 - val_loss: 2.9015 - val_sparse_categorical_accuracy: 0.8449\n",
            "Epoch 31/100\n",
            "380/380 [==============================] - 17s 45ms/step - loss: 2.5398 - sparse_categorical_accuracy: 0.7154 - val_loss: 2.6777 - val_sparse_categorical_accuracy: 0.8938\n",
            "Epoch 32/100\n",
            "380/380 [==============================] - 17s 45ms/step - loss: 2.5660 - sparse_categorical_accuracy: 0.6961 - val_loss: 2.7662 - val_sparse_categorical_accuracy: 0.8763\n",
            "Epoch 33/100\n",
            "380/380 [==============================] - 17s 45ms/step - loss: 2.5056 - sparse_categorical_accuracy: 0.6913 - val_loss: 2.8940 - val_sparse_categorical_accuracy: 0.8837\n",
            "Epoch 34/100\n",
            "380/380 [==============================] - 17s 45ms/step - loss: 2.4847 - sparse_categorical_accuracy: 0.6533 - val_loss: 2.6312 - val_sparse_categorical_accuracy: 0.8274\n",
            "Epoch 35/100\n",
            "380/380 [==============================] - 17s 45ms/step - loss: 2.8609 - sparse_categorical_accuracy: 0.6388 - val_loss: 3.1621 - val_sparse_categorical_accuracy: 0.8640\n",
            "Epoch 36/100\n",
            "380/380 [==============================] - 17s 45ms/step - loss: 2.7012 - sparse_categorical_accuracy: 0.5771 - val_loss: 2.9418 - val_sparse_categorical_accuracy: 0.8092\n",
            "Epoch 37/100\n",
            "380/380 [==============================] - 17s 45ms/step - loss: 3.0106 - sparse_categorical_accuracy: 0.5632 - val_loss: 3.4422 - val_sparse_categorical_accuracy: 0.8389\n",
            "Epoch 38/100\n",
            "380/380 [==============================] - 17s 45ms/step - loss: 2.9246 - sparse_categorical_accuracy: 0.5892 - val_loss: 3.5246 - val_sparse_categorical_accuracy: 0.8791\n",
            "Epoch 39/100\n",
            "380/380 [==============================] - 17s 45ms/step - loss: 2.6903 - sparse_categorical_accuracy: 0.6661 - val_loss: 3.2781 - val_sparse_categorical_accuracy: 0.8385\n",
            "Epoch 40/100\n",
            "380/380 [==============================] - 17s 46ms/step - loss: 2.7822 - sparse_categorical_accuracy: 0.6124 - val_loss: 3.3666 - val_sparse_categorical_accuracy: 0.6946\n",
            "Epoch 41/100\n",
            "380/380 [==============================] - 17s 45ms/step - loss: 2.7550 - sparse_categorical_accuracy: 0.6125 - val_loss: 3.2194 - val_sparse_categorical_accuracy: 0.7476\n",
            "Epoch 42/100\n",
            "380/380 [==============================] - 17s 45ms/step - loss: 2.7035 - sparse_categorical_accuracy: 0.6858 - val_loss: 3.2361 - val_sparse_categorical_accuracy: 0.7738\n",
            "Epoch 43/100\n",
            "380/380 [==============================] - 17s 45ms/step - loss: 2.7023 - sparse_categorical_accuracy: 0.6388 - val_loss: 3.2387 - val_sparse_categorical_accuracy: 0.7989\n",
            "Epoch 44/100\n",
            "380/380 [==============================] - 17s 45ms/step - loss: 2.7579 - sparse_categorical_accuracy: 0.6265 - val_loss: 3.0499 - val_sparse_categorical_accuracy: 0.7701\n",
            "Epoch 45/100\n",
            "380/380 [==============================] - 17s 46ms/step - loss: 2.8983 - sparse_categorical_accuracy: 0.5633 - val_loss: 2.8835 - val_sparse_categorical_accuracy: 0.7357\n",
            "Epoch 46/100\n",
            "380/380 [==============================] - 17s 45ms/step - loss: 3.2447 - sparse_categorical_accuracy: 0.5429 - val_loss: 3.0877 - val_sparse_categorical_accuracy: 0.7383\n",
            "Epoch 47/100\n",
            "380/380 [==============================] - 17s 45ms/step - loss: 3.2276 - sparse_categorical_accuracy: 0.5196 - val_loss: 3.2711 - val_sparse_categorical_accuracy: 0.6133\n",
            "Epoch 48/100\n",
            "380/380 [==============================] - 17s 45ms/step - loss: 3.6643 - sparse_categorical_accuracy: 0.7035 - val_loss: 3.5288 - val_sparse_categorical_accuracy: 0.7104\n",
            "Epoch 49/100\n",
            "380/380 [==============================] - 17s 46ms/step - loss: 3.8164 - sparse_categorical_accuracy: 0.6968 - val_loss: 3.4706 - val_sparse_categorical_accuracy: 0.7476\n",
            "Epoch 50/100\n",
            "380/380 [==============================] - 17s 45ms/step - loss: 3.9522 - sparse_categorical_accuracy: 0.6856 - val_loss: 3.6760 - val_sparse_categorical_accuracy: 0.8088\n",
            "Epoch 51/100\n",
            "380/380 [==============================] - 17s 45ms/step - loss: 4.0639 - sparse_categorical_accuracy: 0.6906 - val_loss: 3.4707 - val_sparse_categorical_accuracy: 0.7281\n",
            "Epoch 52/100\n",
            "380/380 [==============================] - 17s 45ms/step - loss: 3.8559 - sparse_categorical_accuracy: 0.6741 - val_loss: 3.4165 - val_sparse_categorical_accuracy: 0.7818\n",
            "Epoch 53/100\n",
            "380/380 [==============================] - 17s 45ms/step - loss: 3.6259 - sparse_categorical_accuracy: 0.5839 - val_loss: 3.1413 - val_sparse_categorical_accuracy: 0.6672\n",
            "Epoch 54/100\n",
            "380/380 [==============================] - 17s 45ms/step - loss: 3.6449 - sparse_categorical_accuracy: 0.6363 - val_loss: 3.4524 - val_sparse_categorical_accuracy: 0.7731\n",
            "Epoch 55/100\n",
            "380/380 [==============================] - 17s 45ms/step - loss: 3.7048 - sparse_categorical_accuracy: 0.6158 - val_loss: 3.7090 - val_sparse_categorical_accuracy: 0.5402\n",
            "Epoch 56/100\n",
            "380/380 [==============================] - 17s 45ms/step - loss: 3.6647 - sparse_categorical_accuracy: 0.4436 - val_loss: 3.5420 - val_sparse_categorical_accuracy: 0.5718\n",
            "Epoch 57/100\n",
            "380/380 [==============================] - 17s 45ms/step - loss: 3.6352 - sparse_categorical_accuracy: 0.4360 - val_loss: 3.5077 - val_sparse_categorical_accuracy: 0.5515\n",
            "Epoch 58/100\n",
            "380/380 [==============================] - 17s 45ms/step - loss: 3.5724 - sparse_categorical_accuracy: 0.4391 - val_loss: 3.3919 - val_sparse_categorical_accuracy: 0.5852\n",
            "Epoch 59/100\n",
            "380/380 [==============================] - 17s 45ms/step - loss: 3.6165 - sparse_categorical_accuracy: 0.4616 - val_loss: 3.4427 - val_sparse_categorical_accuracy: 0.5919\n",
            "Epoch 60/100\n",
            "380/380 [==============================] - 17s 45ms/step - loss: 3.7053 - sparse_categorical_accuracy: 0.4969 - val_loss: 3.4740 - val_sparse_categorical_accuracy: 0.6469\n",
            "Epoch 61/100\n",
            "380/380 [==============================] - 17s 45ms/step - loss: 3.5161 - sparse_categorical_accuracy: 0.5405 - val_loss: 3.1824 - val_sparse_categorical_accuracy: 0.6566\n",
            "Epoch 62/100\n",
            "380/380 [==============================] - 17s 45ms/step - loss: 3.4763 - sparse_categorical_accuracy: 0.5530 - val_loss: 3.1017 - val_sparse_categorical_accuracy: 0.6135\n",
            "Epoch 63/100\n",
            "380/380 [==============================] - 17s 46ms/step - loss: 3.5292 - sparse_categorical_accuracy: 0.5883 - val_loss: 3.4215 - val_sparse_categorical_accuracy: 0.6003\n",
            "Epoch 64/100\n",
            "380/380 [==============================] - 17s 45ms/step - loss: 3.3862 - sparse_categorical_accuracy: 0.5914 - val_loss: 3.1589 - val_sparse_categorical_accuracy: 0.7266\n",
            "Epoch 65/100\n",
            "380/380 [==============================] - 17s 45ms/step - loss: 3.3410 - sparse_categorical_accuracy: 0.5980 - val_loss: 3.0291 - val_sparse_categorical_accuracy: 0.7429\n",
            "Epoch 66/100\n",
            "380/380 [==============================] - 17s 46ms/step - loss: 3.2324 - sparse_categorical_accuracy: 0.6015 - val_loss: 3.0322 - val_sparse_categorical_accuracy: 0.7561\n",
            "Epoch 67/100\n",
            "380/380 [==============================] - 17s 46ms/step - loss: 3.2416 - sparse_categorical_accuracy: 0.6074 - val_loss: 3.0357 - val_sparse_categorical_accuracy: 0.6901\n",
            "Epoch 68/100\n",
            "380/380 [==============================] - 17s 45ms/step - loss: 3.8809 - sparse_categorical_accuracy: 0.7074 - val_loss: 3.5833 - val_sparse_categorical_accuracy: 0.7742\n",
            "Epoch 69/100\n",
            "380/380 [==============================] - 17s 45ms/step - loss: 4.0707 - sparse_categorical_accuracy: 0.7964 - val_loss: 3.6436 - val_sparse_categorical_accuracy: 0.7881\n",
            "Epoch 70/100\n",
            "380/380 [==============================] - 18s 48ms/step - loss: 4.3346 - sparse_categorical_accuracy: 0.8288 - val_loss: 4.0627 - val_sparse_categorical_accuracy: 0.8231\n",
            "Epoch 71/100\n",
            "380/380 [==============================] - 17s 46ms/step - loss: 4.2825 - sparse_categorical_accuracy: 0.8023 - val_loss: 3.7412 - val_sparse_categorical_accuracy: 0.7924\n",
            "Epoch 72/100\n",
            "380/380 [==============================] - 17s 45ms/step - loss: 3.9508 - sparse_categorical_accuracy: 0.6763 - val_loss: 3.6699 - val_sparse_categorical_accuracy: 0.7677\n",
            "Epoch 73/100\n",
            "380/380 [==============================] - 17s 45ms/step - loss: 3.6567 - sparse_categorical_accuracy: 0.5686 - val_loss: 3.6048 - val_sparse_categorical_accuracy: 0.4090\n",
            "Epoch 74/100\n",
            "380/380 [==============================] - 17s 45ms/step - loss: 3.5811 - sparse_categorical_accuracy: 0.5214 - val_loss: 3.6282 - val_sparse_categorical_accuracy: 0.8287\n",
            "Epoch 75/100\n",
            "380/380 [==============================] - 17s 45ms/step - loss: 3.6772 - sparse_categorical_accuracy: 0.7109 - val_loss: 3.7136 - val_sparse_categorical_accuracy: 0.8776\n",
            "Epoch 76/100\n",
            "380/380 [==============================] - 17s 46ms/step - loss: 3.6952 - sparse_categorical_accuracy: 0.7355 - val_loss: 3.8250 - val_sparse_categorical_accuracy: 0.9159\n",
            "Epoch 77/100\n",
            "380/380 [==============================] - 18s 47ms/step - loss: 3.7917 - sparse_categorical_accuracy: 0.7741 - val_loss: 4.3572 - val_sparse_categorical_accuracy: 0.9513\n",
            "Epoch 78/100\n",
            "380/380 [==============================] - 18s 47ms/step - loss: 4.4023 - sparse_categorical_accuracy: 0.8995 - val_loss: 4.3694 - val_sparse_categorical_accuracy: 0.9570\n",
            "Epoch 79/100\n",
            "380/380 [==============================] - 18s 49ms/step - loss: 4.4372 - sparse_categorical_accuracy: 0.9054 - val_loss: 4.4334 - val_sparse_categorical_accuracy: 0.9870\n",
            "Epoch 80/100\n",
            "380/380 [==============================] - 18s 47ms/step - loss: 4.5659 - sparse_categorical_accuracy: 0.9649 - val_loss: 4.6280 - val_sparse_categorical_accuracy: 0.9834\n",
            "Epoch 81/100\n",
            "380/380 [==============================] - 17s 46ms/step - loss: 4.6571 - sparse_categorical_accuracy: 0.8998 - val_loss: 4.2275 - val_sparse_categorical_accuracy: 0.4864\n",
            "Epoch 82/100\n",
            "380/380 [==============================] - 17s 45ms/step - loss: 4.5384 - sparse_categorical_accuracy: 0.8143 - val_loss: 4.5964 - val_sparse_categorical_accuracy: 0.9879\n",
            "Epoch 83/100\n",
            "380/380 [==============================] - 18s 47ms/step - loss: 4.6395 - sparse_categorical_accuracy: 0.9675 - val_loss: 4.7340 - val_sparse_categorical_accuracy: 0.9953\n",
            "Epoch 84/100\n",
            "380/380 [==============================] - 18s 48ms/step - loss: 4.7235 - sparse_categorical_accuracy: 0.9869 - val_loss: 4.7572 - val_sparse_categorical_accuracy: 0.9965\n",
            "Epoch 85/100\n",
            "380/380 [==============================] - 18s 47ms/step - loss: 4.7338 - sparse_categorical_accuracy: 0.9866 - val_loss: 4.7572 - val_sparse_categorical_accuracy: 0.9974\n",
            "Epoch 86/100\n",
            "380/380 [==============================] - 17s 46ms/step - loss: 4.7162 - sparse_categorical_accuracy: 0.9857 - val_loss: 4.7191 - val_sparse_categorical_accuracy: 0.9946\n",
            "Epoch 87/100\n",
            "380/380 [==============================] - 18s 48ms/step - loss: 4.8206 - sparse_categorical_accuracy: 0.9968 - val_loss: 4.8183 - val_sparse_categorical_accuracy: 0.9985\n",
            "Epoch 88/100\n",
            "380/380 [==============================] - 18s 47ms/step - loss: 4.8437 - sparse_categorical_accuracy: 0.9994 - val_loss: 4.8442 - val_sparse_categorical_accuracy: 1.0000\n",
            "Epoch 89/100\n",
            "380/380 [==============================] - 17s 46ms/step - loss: 4.8399 - sparse_categorical_accuracy: 0.9997 - val_loss: 4.8442 - val_sparse_categorical_accuracy: 1.0000\n",
            "Epoch 90/100\n",
            "380/380 [==============================] - 17s 46ms/step - loss: 4.8396 - sparse_categorical_accuracy: 0.9998 - val_loss: 4.8442 - val_sparse_categorical_accuracy: 1.0000\n",
            "Epoch 91/100\n",
            "380/380 [==============================] - 17s 46ms/step - loss: 4.8406 - sparse_categorical_accuracy: 0.9999 - val_loss: 4.8442 - val_sparse_categorical_accuracy: 1.0000\n",
            "Epoch 92/100\n",
            "380/380 [==============================] - 18s 47ms/step - loss: 4.8391 - sparse_categorical_accuracy: 0.9998 - val_loss: 4.8442 - val_sparse_categorical_accuracy: 1.0000\n",
            "Epoch 93/100\n",
            "380/380 [==============================] - 17s 46ms/step - loss: 4.8410 - sparse_categorical_accuracy: 0.9996 - val_loss: 4.8442 - val_sparse_categorical_accuracy: 1.0000\n",
            "Epoch 94/100\n",
            "380/380 [==============================] - 17s 46ms/step - loss: 4.8454 - sparse_categorical_accuracy: 0.9994 - val_loss: 4.8442 - val_sparse_categorical_accuracy: 1.0000\n",
            "Epoch 95/100\n",
            "380/380 [==============================] - 17s 46ms/step - loss: 4.8385 - sparse_categorical_accuracy: 0.9998 - val_loss: 4.8442 - val_sparse_categorical_accuracy: 1.0000\n",
            "Epoch 96/100\n",
            "380/380 [==============================] - 17s 45ms/step - loss: 4.8389 - sparse_categorical_accuracy: 0.9998 - val_loss: 4.8442 - val_sparse_categorical_accuracy: 1.0000\n",
            "Epoch 97/100\n",
            "380/380 [==============================] - 17s 45ms/step - loss: 4.8412 - sparse_categorical_accuracy: 0.9998 - val_loss: 4.8442 - val_sparse_categorical_accuracy: 1.0000\n",
            "Epoch 98/100\n",
            "380/380 [==============================] - 17s 46ms/step - loss: 4.8406 - sparse_categorical_accuracy: 0.9998 - val_loss: 4.8442 - val_sparse_categorical_accuracy: 1.0000\n",
            "Epoch 99/100\n",
            "380/380 [==============================] - 17s 45ms/step - loss: 4.8406 - sparse_categorical_accuracy: 0.9998 - val_loss: 4.8442 - val_sparse_categorical_accuracy: 1.0000\n",
            "Epoch 100/100\n",
            "380/380 [==============================] - 17s 45ms/step - loss: 4.8408 - sparse_categorical_accuracy: 0.9997 - val_loss: 4.8442 - val_sparse_categorical_accuracy: 1.0000\n"
          ]
        },
        {
          "output_type": "execute_result",
          "data": {
            "text/plain": [
              "<keras.callbacks.History at 0x7fc610324650>"
            ]
          },
          "metadata": {},
          "execution_count": 9
        }
      ]
    }
  ]
}